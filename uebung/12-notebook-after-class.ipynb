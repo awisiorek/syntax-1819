{
 "cells": [
  {
   "cell_type": "markdown",
   "metadata": {},
   "source": [
    "***Vorlesung 'Syntax natürlicher Sprachen', WS 2018/19***\n",
    "\n",
    "---\n",
    "# Übung 12"
   ]
  },
  {
   "cell_type": "code",
   "execution_count": 1,
   "metadata": {},
   "outputs": [],
   "source": [
    "from exercises_12 import *\n",
    "from questions import aufgabe\n",
    "import nltk\n",
    "from nltk.corpus import treebank\n",
    "from nltk.grammar import ProbabilisticProduction, PCFG\n",
    "from collections import defaultdict"
   ]
  },
  {
   "cell_type": "markdown",
   "metadata": {},
   "source": [
    "---\n",
    "## Aufgabe 1: Grammatikinduktion\n",
    "\n",
    "#### In dieser Aufgabe soll vollautomatisch aus Daten (Syntaxbäumen) eine probabilistische, kontextfreie Grammatik erzeugt werden.\n",
    "\n",
    "#### Füllen Sie die Lücken und versuchen Sie mithilfe Ihrer automatisch erstellten Grammatik die folgenden Sätze zu parsen:"
   ]
  },
  {
   "cell_type": "code",
   "execution_count": 2,
   "metadata": {},
   "outputs": [],
   "source": [
    "test_sentences = [\n",
    "    \"the men saw a car .\",\n",
    "    \"the woman gave the man a book .\",\n",
    "    \"she gave a book to the man .\",\n",
    "    \"yesterday , all my trouble seemed so far away .\"\n",
    "]"
   ]
  },
  {
   "cell_type": "code",
   "execution_count": 3,
   "metadata": {},
   "outputs": [],
   "source": [
    "# Production count: the number of times a given production occurs\n",
    "pcount = defaultdict(int)\n",
    "\n",
    "# LHS-count: counts the number of times a given lhs occurs\n",
    "lcount = defaultdict(int)\n",
    "\n",
    "for tree in treebank.parsed_sents():\n",
    "    for prod in tree.productions():\n",
    "        pcount[prod] += 1\n",
    "        lcount[prod.lhs()] += 1\n",
    "        \n",
    "productions = [\n",
    "    ProbabilisticProduction(\n",
    "        p.lhs(), p.rhs(),\n",
    "        prob=pcount[p] / lcount[p.lhs()]\n",
    "    )\n",
    "    for p in pcount\n",
    "]\n",
    "\n",
    "start = nltk.Nonterminal('S')\n",
    "grammar = PCFG(start, productions)\n",
    "parser = nltk.ViterbiParser(grammar)"
   ]
  },
  {
   "cell_type": "code",
   "execution_count": 4,
   "metadata": {},
   "outputs": [
    {
     "name": "stdout",
     "output_type": "stream",
     "text": [
      "2.269940263066198e-15\n",
      "                S                 \n",
      "       _________|_______________   \n",
      "      |             VP          | \n",
      "      |          ___|___        |  \n",
      "    NP-SBJ      |       NP      | \n",
      "  ____|_____    |    ___|___    |  \n",
      " DT        NNS VBD  DT      NN  . \n",
      " |          |   |   |       |   |  \n",
      "the        men saw  a      car  . \n",
      "\n",
      "8.44395440336237e-21\n",
      "                       S                             \n",
      "       ________________|___________________________   \n",
      "      |                        VP                  | \n",
      "      |            ____________|________           |  \n",
      "    NP-SBJ        |        NP         NP-TMP       | \n",
      "  ____|______     |     ___|___     ____|_____     |  \n",
      " DT          NN  VBD   DT      NN  DT         NN   . \n",
      " |           |    |    |       |   |          |    |  \n",
      "the        woman gave the     man  a         book  . \n",
      "\n",
      "1.3157826588159793e-18\n",
      "                     S                         \n",
      "   __________________|_______________________   \n",
      "  |                  VP                      | \n",
      "  |      ____________|_________              |  \n",
      "  |     |        |           PP-CLR          | \n",
      "  |     |        |         ____|_____        |  \n",
      "NP-SBJ  |        NP       |          NP      | \n",
      "  |     |     ___|___     |     _____|___    |  \n",
      " PRP   VBD   DT      NN   TO   DT        NN  . \n",
      "  |     |    |       |    |    |         |   |  \n",
      " she   gave  a      book  to  the       man  . \n",
      "\n",
      "1.7860754913154666e-34\n",
      "                                 S                                    \n",
      "                 ________________|__________________________________   \n",
      "              NP-SBJ                          |                     | \n",
      "     ___________|_____                        |                     |  \n",
      "    |      |          NP                      VP                    | \n",
      "    |      |     _____|____              _____|________________     |  \n",
      "    NP     |    |          NP           |        ADVP-MNR     ADVP  | \n",
      "    |      |    |      ____|_____       |      _____|______    |    |  \n",
      "    NN     ,    DT   PRP$        NN    VBD    RB           RB  RB   . \n",
      "    |      |    |     |          |      |     |            |   |    |  \n",
      "yesterday  ,   all    my      trouble seemed  so          far away  . \n",
      "\n"
     ]
    }
   ],
   "source": [
    "for s in test_sentences:\n",
    "    for t in parser.parse(nltk.word_tokenize(s)):\n",
    "        print(t.prob())\n",
    "        t.pretty_print()"
   ]
  },
  {
   "cell_type": "markdown",
   "metadata": {},
   "source": [
    "---\n",
    "## Aufgabe 2: Informationsextraktion per Syntaxanalyse\n",
    "\n",
    "#### Gegenstand dieser Aufgabe ist eine anwendungsnahe Möglichkeit, Ergebnisse einer Syntaxanalyse weiterzuverarbeiten. Aus den syntaktischen Abhängigkeiten eines Textes soll (unter Zuhilfenahme einiger Normalisierungsschritte) eine semantische Repräsentation der im Text enthaltenen Informationen gewonnen werden.\n",
    "\n",
    "#### Für die syntaktische Analyse soll der `DependencyParser` der Stanford CoreNLP Suite verwendet werden. Die semantische Repräsentation eines Satzes sei ein zweistelliges, logisches Prädikat, dessen Argumente durch Subjekt und Objekt gefüllt sind. (Bei Fehlen eines der beiden Elemente soll `None` geschrieben werden.)\n",
    "\n",
    "#### Folgendes Beispiel illustriert das gewünschte Ergebnis:\n",
    "\n",
    "#### Eingabe:\n",
    "\n",
    "    I shot an elephant in my pajamas.\n",
    "    The elephant was seen by a giraffe in the desert.\n",
    "    The bird I need is a raven.\n",
    "    The man who saw the raven laughed out loud.\n",
    "\n",
    "#### Ausgabe:\n",
    "\n",
    "    shot(I, elephant)\n",
    "    seen(giraffe, elephant)\n",
    "    need(I, bird)\n",
    "    raven(bird, None)\n",
    "    saw(man, raven)\n",
    "    laughed(man, None)"
   ]
  },
  {
   "cell_type": "markdown",
   "metadata": {},
   "source": [
    "#### Beachten Sie, dass `PATH_TO_CORE` in folgender Code-Zelle Ihrem System entsprechend angepasst werden muss!"
   ]
  },
  {
   "cell_type": "code",
   "execution_count": 5,
   "metadata": {},
   "outputs": [],
   "source": [
    "import warnings\n",
    "warnings.filterwarnings('ignore')"
   ]
  },
  {
   "cell_type": "code",
   "execution_count": 6,
   "metadata": {},
   "outputs": [],
   "source": [
    "from nltk.parse.stanford import StanfordDependencyParser\n",
    "import os\n",
    "\n",
    "PATH_TO_CORE = os.path.join(os.getenv(\"HOME\"), \"nltk_data\", \"stanford-corenlp-full-2018-10-05\")\n",
    "jar = os.path.join(PATH_TO_CORE, \"stanford-corenlp-3.9.2.jar\")\n",
    "model = os.path.join(PATH_TO_CORE,\"stanford-corenlp-3.9.2-models.jar\")\n",
    "\n",
    "dep_parser = StanfordDependencyParser(\n",
    "    jar, model,\n",
    "    model_path=\"edu/stanford/nlp/models/lexparser/englishPCFG.ser.gz\"\n",
    ")"
   ]
  },
  {
   "cell_type": "code",
   "execution_count": 7,
   "metadata": {},
   "outputs": [],
   "source": [
    "def generate_predicates_for_sentence(sentence):\n",
    "    predicates = defaultdict(lambda: [None, None])\n",
    "    case_information = {}\n",
    "    nmods = defaultdict(list)\n",
    "    relcl_candidates = {}\n",
    "    # prädikate -> [0, 1] -> wort\n",
    "    for result in dep_parser.raw_parse(sentence):\n",
    "        for triple in result.triples():\n",
    "            if triple[1] == \"nsubj\" and not triple[2][1].startswith(\"W\"):\n",
    "                predicates[triple[0][0]][0] = triple[2][0]\n",
    "                # triple[0][0]  # verb\n",
    "                # triple[2][0]  # subjekt\n",
    "            elif triple[1] == \"dobj\":\n",
    "                predicates[triple[0][0]][1] = triple[2][0]\n",
    "                # triple[0][0]  # verb\n",
    "                # triple[2][0]  # dir. objekt\n",
    "            elif triple[1] == \"nsubjpass\":\n",
    "                predicates[triple[0][0]][1] = triple[2][0]\n",
    "                # triple[0][0]  # verb\n",
    "                # triple[2][0]  # subjekt\n",
    "            elif triple[1] == \"case\":\n",
    "                case_information[triple[0][0]] = triple[2][0]\n",
    "            elif triple[1] == \"nmod\" and triple[0][1].startswith(\"V\"):\n",
    "                nmods[triple[0][0]].append(triple[2][0])\n",
    "            elif triple[1] == \"acl:relcl\":\n",
    "                # triple[0][0]  # z.B. ein Nomen\n",
    "                # triple[2][0]  # verb\n",
    "                relcl_candidates[triple[2][0]] = triple[0][0]\n",
    "    \n",
    "    # nominal modifiers that could be agents\n",
    "    for pred, elements in predicates.items():\n",
    "        if pred not in nmods:\n",
    "            continue\n",
    "        for nmod in nmods[pred]:\n",
    "            if case_information[nmod] == \"by\" and elements[0] is None:\n",
    "                elements[0] = nmod\n",
    "    \n",
    "    # relative clauses\n",
    "    for pred, elements in predicates.items():\n",
    "        if pred not in relcl_candidates:\n",
    "            continue\n",
    "        if elements[0] is None:\n",
    "            elements[0] = relcl_candidates[pred]\n",
    "        elif elements[1] is None:\n",
    "            elements[1] = relcl_candidates[pred]\n",
    "\n",
    "    return [\n",
    "        \"{}({}, {})\".format(pred, elements[0], elements[1])\n",
    "        for pred, elements in predicates.items()\n",
    "    ]"
   ]
  },
  {
   "cell_type": "code",
   "execution_count": 8,
   "metadata": {},
   "outputs": [
    {
     "name": "stdout",
     "output_type": "stream",
     "text": [
      "laughed(man, None)\n",
      "saw(man, raven)\n"
     ]
    }
   ],
   "source": [
    "for pred in generate_predicates_for_sentence(\n",
    "    \"The man who saw the raven laughed out loud.\"\n",
    "):\n",
    "    print(pred)"
   ]
  },
  {
   "cell_type": "code",
   "execution_count": 9,
   "metadata": {},
   "outputs": [],
   "source": [
    "def generate_predicates_for_text(text):\n",
    "    predicates = []\n",
    "    for sent in nltk.tokenize.sent_tokenize(text):\n",
    "        predicates.extend(generate_predicates_for_sentence(sent))\n",
    "    return predicates"
   ]
  },
  {
   "cell_type": "code",
   "execution_count": 10,
   "metadata": {},
   "outputs": [
    {
     "name": "stdout",
     "output_type": "stream",
     "text": [
      "shot(I, elephant)\n",
      "seen(giraffe, elephant)\n",
      "raven(bird, None)\n",
      "need(I, bird)\n",
      "laughed(man, None)\n",
      "saw(man, raven)\n"
     ]
    }
   ],
   "source": [
    "text = \"\"\"\n",
    "I shot an elephant in my pajamas.\n",
    "The elephant was seen by a giraffe.\n",
    "The bird I need is a raven.\n",
    "The man who saw the raven laughed out loud.\n",
    "\"\"\"\n",
    "\n",
    "for pred in generate_predicates_for_text(text):\n",
    "    print(pred)"
   ]
  },
  {
   "cell_type": "markdown",
   "metadata": {},
   "source": [
    "--- \n",
    "# Hausaufgaben"
   ]
  },
  {
   "cell_type": "markdown",
   "metadata": {},
   "source": [
    "---\n",
    "## Aufgabe 3: Parent Annotation\n",
    "\n",
    "#### *Parent Annotation* kann die Performanz einer CFG wesentlich verbessern. Schreiben Sie eine Funktion, die einen gegebenen Syntaxbaum dieser Optimierung unterzieht. Auf diese Art und Weise transformierte Bäume können dann wiederum zur Grammatikinduktion verwendet werden.\n",
    "\n",
    "#### `parentHistory` soll dabei die Anzahl der Vorgänger sein, die zusätzlich zum direkten Elternknoten berücksichtigt werden. (Die Berücksichtigung dieses Parameters ist optional.)\n",
    "\n",
    "#### `parentChar` soll ein Trennzeichen sein, das bei den neuen Knotenlabels zwischen dem ursprünglichen Knotenlabel und der Liste von Vorgängern eingefügt wird."
   ]
  },
  {
   "cell_type": "code",
   "execution_count": 11,
   "metadata": {},
   "outputs": [],
   "source": [
    "def parent_annotation(tree, parentHistory=0, parentChar=\"^\"):\n",
    "    pass"
   ]
  },
  {
   "cell_type": "code",
   "execution_count": 12,
   "metadata": {},
   "outputs": [],
   "source": [
    "test_tree = nltk.Tree(\n",
    "    \"S\",\n",
    "    [\n",
    "        nltk.Tree(\"NP\", [\n",
    "            nltk.Tree(\"DET\", []),\n",
    "            nltk.Tree(\"N\", [])\n",
    "        ]),\n",
    "        nltk.Tree(\"VP\", [\n",
    "            nltk.Tree(\"V\", []),\n",
    "            nltk.Tree(\"NP\", [\n",
    "                nltk.Tree(\"DET\", []),\n",
    "                nltk.Tree(\"N\", [])\n",
    "            ])\n",
    "        ])\n",
    "    ]\n",
    ")\n",
    "\n",
    "parent_annotation(\n",
    "   test_tree\n",
    ")"
   ]
  },
  {
   "cell_type": "markdown",
   "metadata": {},
   "source": [
    "---\n",
    "## Aufgabe 4: Mehr Semantik für IE\n",
    "\n",
    "#### Zusätzlich zu den in Aufgabe 2 behandelten Konstruktionen sollen jetzt auch negierte und komplexe Sätze mit Konjunktionen sinnvoll verarbeitet werden.\n",
    "\n",
    "#### Eingabe:\n",
    "\n",
    "    I see an elephant.\n",
    "    You didn't see the elephant.\n",
    "    Peter saw the elephant and drank wine.\n",
    "    \n",
    "#### Gewünschte Ausgabe:\n",
    "\n",
    "    see(I, elephant)\n",
    "    not_see(You, elephant)\n",
    "    saw(Peter, elephant)\n",
    "    drank(Peter, wine)\n",
    "    \n",
    "#### Kopieren Sie am besten Ihren aktuellen Stand von oben herunter und fügen Sie Ihre Erweiterungen dann hier ein.    "
   ]
  },
  {
   "cell_type": "code",
   "execution_count": 13,
   "metadata": {},
   "outputs": [],
   "source": [
    "def generate_predicates_for_sentence(sentence):\n",
    "    pass\n",
    "def generate_predicates_for_text(text):\n",
    "    pass"
   ]
  },
  {
   "cell_type": "code",
   "execution_count": 14,
   "metadata": {},
   "outputs": [],
   "source": [
    "text = \"\"\"\n",
    "I see an elephant.\n",
    "You didn't see the elephant.\n",
    "Peter saw the elephant and drank wine.\n",
    "\"\"\""
   ]
  },
  {
   "cell_type": "markdown",
   "metadata": {},
   "source": [
    "---\n",
    "## Aufgabe 5: NLTK-Kapitel zu PCFGs\n",
    "\n",
    "#### In folgenden NLTK-Kapiteln wird das Parsing mit Probabilistischen kontextfreien Grammatiken behandelt:\n",
    "- Teilkapitel 8.6 (’Grammar Development’): http://www.nltk.org/book/ch08.html\n",
    "- Teilkapitel 2.12 und 2.13 (’Grammar Induction’ und ’Normal Forms’) des Zusatzkapitels zu Kapitel 8: http://www.nltk.org/book/ch08-extras.html\n",
    "- (Teilkapitel 2.9-2.11 des Zusatzkapitels zu Kapitel 8 behandelt Probabilistische ’Chart Parsing’-Algorithmen: http://www.nltk.org/book/ch08-extras.html)\n",
    "\n",
    "#### Beantworten Sie folgende Fragen zu Teilkapitel 8.6.2 (’Pernicious Ambiguity’):"
   ]
  },
  {
   "cell_type": "markdown",
   "metadata": {},
   "source": [
    "---\n",
    "### Aufgabe 5 a:\n",
    "\n",
    "#### Welche zwei Faktoren führen bei der syntaktischen Analyse natürlicher Sprache mittels formaler Grammatiken zu mehr Ambiguität (Anzahl an Ableitungen)?"
   ]
  },
  {
   "cell_type": "code",
   "execution_count": 15,
   "metadata": {},
   "outputs": [
    {
     "data": {
      "application/vnd.jupyter.widget-view+json": {
       "model_id": "2eab6e82609340c58fdccd8d333873a9",
       "version_major": 2,
       "version_minor": 0
      },
      "text/plain": [
       "MultipleChoice(children=(HTML(value='<h4 style=\"font-size:14px;\">Welche zwei Faktoren führen bei der syntaktis…"
      ]
     },
     "metadata": {},
     "output_type": "display_data"
    }
   ],
   "source": [
    "aufgabe(blatt12_5a)"
   ]
  },
  {
   "cell_type": "markdown",
   "metadata": {},
   "source": [
    "---\n",
    "### Aufgabe 5 b:\n"
   ]
  },
  {
   "cell_type": "code",
   "execution_count": 16,
   "metadata": {},
   "outputs": [
    {
     "data": {
      "application/vnd.jupyter.widget-view+json": {
       "model_id": "9657531caa9645e4b4fbc33ac1ee22a5",
       "version_major": 2,
       "version_minor": 0
      },
      "text/plain": [
       "MultipleChoice(children=(HTML(value='<h4 style=\"font-size:14px;\">Welche zwei Arten von Ambiguität unterscheide…"
      ]
     },
     "metadata": {},
     "output_type": "display_data"
    }
   ],
   "source": [
    "aufgabe(blatt12_5b)"
   ]
  }
 ],
 "metadata": {
  "kernelspec": {
   "display_name": "Python 3",
   "language": "python",
   "name": "python3"
  },
  "language_info": {
   "codemirror_mode": {
    "name": "ipython",
    "version": 3
   },
   "file_extension": ".py",
   "mimetype": "text/x-python",
   "name": "python",
   "nbconvert_exporter": "python",
   "pygments_lexer": "ipython3",
   "version": "3.6.6"
  },
  "widgets": {
   "application/vnd.jupyter.widget-state+json": {
    "state": {
     "00cb2163680046ef821950cf2e0acd1f": {
      "model_module": "@jupyter-widgets/controls",
      "model_module_version": "1.4.0",
      "model_name": "DescriptionStyleModel",
      "state": {
       "description_width": "initial"
      }
     },
     "00d6b2ac958b49dcbec6189810b7260c": {
      "model_module": "@jupyter-widgets/controls",
      "model_module_version": "1.4.0",
      "model_name": "DescriptionStyleModel",
      "state": {
       "description_width": "initial"
      }
     },
     "02e6414365614eb2a4497f9d79114542": {
      "model_module": "@jupyter-widgets/controls",
      "model_module_version": "1.4.0",
      "model_name": "DescriptionStyleModel",
      "state": {
       "description_width": "initial"
      }
     },
     "03381ab1f8db44e3948d8a515a36bcef": {
      "model_module": "@jupyter-widgets/controls",
      "model_module_version": "1.4.0",
      "model_name": "ButtonStyleModel",
      "state": {}
     },
     "038fee618f63444ebc9f854f8680b430": {
      "model_module": "@jupyter-widgets/controls",
      "model_module_version": "1.4.0",
      "model_name": "DescriptionStyleModel",
      "state": {
       "description_width": "initial"
      }
     },
     "057810c22d9c4f9a8e9183751b917f22": {
      "model_module": "@jupyter-widgets/base",
      "model_module_version": "1.1.0",
      "model_name": "LayoutModel",
      "state": {
       "width": "600px"
      }
     },
     "06bb63a69185447aa3a88a5021746289": {
      "model_module": "@jupyter-widgets/base",
      "model_module_version": "1.1.0",
      "model_name": "LayoutModel",
      "state": {}
     },
     "0756024f91a84bada94db03367e71a5e": {
      "model_module": "@jupyter-widgets/controls",
      "model_module_version": "1.4.0",
      "model_name": "CheckboxModel",
      "state": {
       "description": "lexikalische Ambiguität",
       "disabled": false,
       "layout": "IPY_MODEL_4f9a30a4dea2481a81ea9a0059eb2dac",
       "style": "IPY_MODEL_450f6b888cc341249270d1a3c05b8739",
       "value": false
      }
     },
     "0869f88f16104247b389c3bf75a26d24": {
      "model_module": "@jupyter-widgets/controls",
      "model_module_version": "1.4.0",
      "model_name": "CheckboxModel",
      "state": {
       "description": "kürzere Sätze",
       "disabled": false,
       "layout": "IPY_MODEL_ac3c369022544c02a4b6742915872418",
       "style": "IPY_MODEL_4254c589410846c383b766d5ca01c259",
       "value": false
      }
     },
     "0875126280084fb3b7031d7463be98f2": {
      "model_module": "@jupyter-widgets/controls",
      "model_module_version": "1.4.0",
      "model_name": "DescriptionStyleModel",
      "state": {
       "description_width": "initial"
      }
     },
     "09de55b5f21b446887edadfc319b6a35": {
      "model_module": "@jupyter-widgets/base",
      "model_module_version": "1.1.0",
      "model_name": "LayoutModel",
      "state": {
       "justify_content": "center"
      }
     },
     "0a67cdb9f02549cba18d86c4f1991de0": {
      "model_module": "@jupyter-widgets/controls",
      "model_module_version": "1.4.0",
      "model_name": "ButtonModel",
      "state": {
       "description": "Korrekt?",
       "layout": "IPY_MODEL_c731a99164604203965e52078d71333d",
       "style": "IPY_MODEL_369ac3254ac949819eaf4c2e3eb60649"
      }
     },
     "0adc07243c0044bf8c73d33a1ec3bfb5": {
      "model_module": "@jupyter-widgets/base",
      "model_module_version": "1.1.0",
      "model_name": "LayoutModel",
      "state": {
       "width": "600px"
      }
     },
     "0b3dbff01658477fa078efcd87be9908": {
      "model_module": "@jupyter-widgets/controls",
      "model_module_version": "1.4.0",
      "model_name": "CheckboxModel",
      "state": {
       "description": "Attachment-Ambiguität",
       "disabled": false,
       "layout": "IPY_MODEL_bb64df5c0b704d7899501a8839331ed9",
       "style": "IPY_MODEL_0cd9b99d52c048c380c6e2a5a963d5f3",
       "value": false
      }
     },
     "0bb9c51ded6b404e9b6a37059d0e6568": {
      "model_module": "@jupyter-widgets/base",
      "model_module_version": "1.1.0",
      "model_name": "LayoutModel",
      "state": {
       "width": "600px"
      }
     },
     "0cd9b99d52c048c380c6e2a5a963d5f3": {
      "model_module": "@jupyter-widgets/controls",
      "model_module_version": "1.4.0",
      "model_name": "DescriptionStyleModel",
      "state": {
       "description_width": "initial"
      }
     },
     "0ffe8980be244e34a00d59eef29b5f62": {
      "model_module": "@jupyter-widgets/base",
      "model_module_version": "1.1.0",
      "model_name": "LayoutModel",
      "state": {}
     },
     "10683d0b19b147cdb0d92c22d6652f13": {
      "model_module": "@jupyter-widgets/base",
      "model_module_version": "1.1.0",
      "model_name": "LayoutModel",
      "state": {
       "width": "250px"
      }
     },
     "11206b3bc4f54b418a0c36a3a19a9fee": {
      "model_module": "@jupyter-widgets/controls",
      "model_module_version": "1.4.0",
      "model_name": "CheckboxModel",
      "state": {
       "description": "lexikalische Ambiguität",
       "disabled": false,
       "layout": "IPY_MODEL_6a497985dc4e43c8b156538bbbf896b3",
       "style": "IPY_MODEL_038fee618f63444ebc9f854f8680b430",
       "value": false
      }
     },
     "11b52e0e0eb84f37a8c849e4faec3fe3": {
      "model_module": "@jupyter-widgets/base",
      "model_module_version": "1.1.0",
      "model_name": "LayoutModel",
      "state": {}
     },
     "126623e2404042a988bbacbde691ff8f": {
      "model_module": "@jupyter-widgets/controls",
      "model_module_version": "1.4.0",
      "model_name": "ButtonModel",
      "state": {
       "description": "Korrekt?",
       "layout": "IPY_MODEL_6d22f169f2ef4378800dbec6418e8aa7",
       "style": "IPY_MODEL_6fdf830616394deea2f451132d4689a5"
      }
     },
     "12a71890b4dc454d94875d4a4587d1a6": {
      "model_module": "@jupyter-widgets/controls",
      "model_module_version": "1.4.0",
      "model_name": "VBoxModel",
      "state": {
       "children": [
        "IPY_MODEL_faeb029082644b8d848ab6f001c78b02",
        "IPY_MODEL_e46ce42583624823b9d012ff61c23ca1",
        "IPY_MODEL_999c4d73918d4bf698a4d1a205f74c62",
        "IPY_MODEL_470de447147d4dc59d197507678a4a77"
       ],
       "layout": "IPY_MODEL_2fb3ffea615d43209b94a3fdbdf1e976"
      }
     },
     "12f6ea141a0c4388b80778aea5ea8fcc": {
      "model_module": "@jupyter-widgets/base",
      "model_module_version": "1.1.0",
      "model_name": "LayoutModel",
      "state": {
       "justify_content": "center"
      }
     },
     "13661fca8e574f54828d1f4071c97407": {
      "model_module": "@jupyter-widgets/controls",
      "model_module_version": "1.4.0",
      "model_name": "VBoxModel",
      "state": {
       "children": [
        "IPY_MODEL_d343830da98249c7bcf0ba09fbcf5518",
        "IPY_MODEL_eea5ad4a31884d22b4429e716428e063",
        "IPY_MODEL_199525d918764223ae330020224152b0",
        "IPY_MODEL_eb207a0302c8442481d4d38ef98c8fad"
       ],
       "layout": "IPY_MODEL_e89537df9c074cbbab324561d23738da"
      }
     },
     "1411c2de37c34192a78ba428ec04c82d": {
      "model_module": "@jupyter-widgets/base",
      "model_module_version": "1.1.0",
      "model_name": "LayoutModel",
      "state": {}
     },
     "1448ee3ebde941c4a4ddf48a38659ab0": {
      "model_module": "@jupyter-widgets/controls",
      "model_module_version": "1.4.0",
      "model_name": "DescriptionStyleModel",
      "state": {
       "description_width": "initial"
      }
     },
     "15d20b59697e46a085bc32c62ed5ad83": {
      "model_module": "@jupyter-widgets/base",
      "model_module_version": "1.1.0",
      "model_name": "LayoutModel",
      "state": {
       "width": "600px"
      }
     },
     "1690ce5c6086478c9c867ad616cb0771": {
      "model_module": "@jupyter-widgets/controls",
      "model_module_version": "1.4.0",
      "model_name": "CheckboxModel",
      "state": {
       "description": "Zunahme der Anzahl von Regeln",
       "disabled": false,
       "layout": "IPY_MODEL_dd0cb8ebdb454fe59ccb83aff51f31fd",
       "style": "IPY_MODEL_e61e9ba33d52493882007c6072dc809c",
       "value": true
      }
     },
     "1853854196df44718546ae74e0cd2913": {
      "model_module": "@jupyter-widgets/controls",
      "model_module_version": "1.4.0",
      "model_name": "CheckboxModel",
      "state": {
       "description": "strukturelle Ambiguität",
       "disabled": false,
       "layout": "IPY_MODEL_e1662bff2fc24e568b23f486ae73d881",
       "style": "IPY_MODEL_f2c316ee4e7145a1a430a2e3725c61f1",
       "value": false
      }
     },
     "199525d918764223ae330020224152b0": {
      "model_module": "@jupyter-widgets/controls",
      "model_module_version": "1.4.0",
      "model_name": "CheckboxModel",
      "state": {
       "description": "kürzere Sätze",
       "disabled": false,
       "layout": "IPY_MODEL_e12224320d9c447580541938167ea001",
       "style": "IPY_MODEL_00d6b2ac958b49dcbec6189810b7260c",
       "value": false
      }
     },
     "1d3c3221345e483caffd3d87b0efcc86": {
      "model_module": "@jupyter-widgets/base",
      "model_module_version": "1.1.0",
      "model_name": "LayoutModel",
      "state": {}
     },
     "1f6c15d57df14e33a44baa173e9b1787": {
      "model_module": "@jupyter-widgets/base",
      "model_module_version": "1.1.0",
      "model_name": "LayoutModel",
      "state": {
       "width": "600px"
      }
     },
     "1fce46871e59403a91a5611663f22fe3": {
      "model_module": "@jupyter-widgets/base",
      "model_module_version": "1.1.0",
      "model_name": "LayoutModel",
      "state": {
       "justify_content": "center"
      }
     },
     "205530abb7a94371b8e7753277792b60": {
      "model_module": "@jupyter-widgets/base",
      "model_module_version": "1.1.0",
      "model_name": "LayoutModel",
      "state": {}
     },
     "21912a69c3574706865e68f570d98043": {
      "model_module": "@jupyter-widgets/controls",
      "model_module_version": "1.4.0",
      "model_name": "HTMLModel",
      "state": {
       "layout": "IPY_MODEL_3a4820a0d53046ab830deabf9f2f4725",
       "style": "IPY_MODEL_fd7c3256c5f448c488802ca9fc447641",
       "value": "<h4 style=\"font-size:14px;\">Welche zwei Arten von Ambiguität unterscheidet man hier?</h4>"
      }
     },
     "23dc3fe7b534478f9bcb7f0a79cfde2f": {
      "model_module": "@jupyter-widgets/controls",
      "model_module_version": "1.4.0",
      "model_name": "CheckboxModel",
      "state": {
       "description": "strukturelle Ambiguität",
       "disabled": false,
       "layout": "IPY_MODEL_f5b1067394ae4e8b8bad9c85b2a501f7",
       "style": "IPY_MODEL_6c7d6cb414774219b5ddf5160de86855",
       "value": false
      }
     },
     "2635012e7ace40f98bdb3fd97fd31690": {
      "model_module": "@jupyter-widgets/controls",
      "model_module_version": "1.4.0",
      "model_name": "ButtonModel",
      "state": {
       "description": "Korrekt?",
       "layout": "IPY_MODEL_f3987e7044354260b2f036a6916c9122",
       "style": "IPY_MODEL_7ca1eecd524e4ac08caa53de8a0fbc12"
      }
     },
     "2a487082c72740fdb07486eccea6bb86": {
      "model_module": "@jupyter-widgets/controls",
      "model_module_version": "1.4.0",
      "model_name": "DescriptionStyleModel",
      "state": {
       "description_width": ""
      }
     },
     "2ac30cf686154b8ea106bd921e8b70e0": {
      "model_module": "@jupyter-widgets/controls",
      "model_module_version": "1.4.0",
      "model_name": "HTMLModel",
      "state": {
       "layout": "IPY_MODEL_3e116e8256324a7c92bc1d6078c1a15f",
       "style": "IPY_MODEL_b656789d6a9741f9842fd6ceda9d37dc",
       "value": "<h4 style=\"font-size:14px;\">Welche zwei Arten von Ambiguität unterscheidet man hier?</h4>"
      }
     },
     "2d15c17b924b4399bda81db5666cb215": {
      "model_module": "@jupyter-widgets/controls",
      "model_module_version": "1.4.0",
      "model_name": "DescriptionStyleModel",
      "state": {
       "description_width": "initial"
      }
     },
     "2d775716052e4b38a1ebbc9e8569e87d": {
      "model_module": "@jupyter-widgets/base",
      "model_module_version": "1.1.0",
      "model_name": "LayoutModel",
      "state": {}
     },
     "2e5e42b1fe5a4ff6acecc6bd9756767b": {
      "model_module": "@jupyter-widgets/controls",
      "model_module_version": "1.4.0",
      "model_name": "VBoxModel",
      "state": {
       "children": [
        "IPY_MODEL_4fa4f6b3c0414f8c9c924399fccbe51f",
        "IPY_MODEL_d6d4d6dec3064111bd24a56bde5c038f",
        "IPY_MODEL_0756024f91a84bada94db03367e71a5e",
        "IPY_MODEL_1853854196df44718546ae74e0cd2913"
       ],
       "layout": "IPY_MODEL_cc88ad63040b42a3a89c22af5364889c"
      }
     },
     "2eab6e82609340c58fdccd8d333873a9": {
      "model_module": "@jupyter-widgets/controls",
      "model_module_version": "1.4.0",
      "model_name": "VBoxModel",
      "state": {
       "children": [
        "IPY_MODEL_5d2eeb49ef234cd58b8001336af46877",
        "IPY_MODEL_ce23e0d350d94adb929e3e4eef455d7e",
        "IPY_MODEL_13661fca8e574f54828d1f4071c97407",
        "IPY_MODEL_126623e2404042a988bbacbde691ff8f"
       ],
       "layout": "IPY_MODEL_d563a75564d8410ca82b81cce6d736a3"
      }
     },
     "2f88ce5c2eff4dbea4cb2434cd5c900c": {
      "model_module": "@jupyter-widgets/base",
      "model_module_version": "1.1.0",
      "model_name": "LayoutModel",
      "state": {
       "width": "600px"
      }
     },
     "2fb3ffea615d43209b94a3fdbdf1e976": {
      "model_module": "@jupyter-widgets/base",
      "model_module_version": "1.1.0",
      "model_name": "LayoutModel",
      "state": {}
     },
     "32b144bd8e364f07914a77b285fdc822": {
      "model_module": "@jupyter-widgets/controls",
      "model_module_version": "1.4.0",
      "model_name": "CheckboxModel",
      "state": {
       "description": "Zunahme der Anzahl von Regeln",
       "disabled": false,
       "layout": "IPY_MODEL_76b92abfd24d4423b38bd592dad7f51b",
       "style": "IPY_MODEL_649eb8b5cb6e47c3a0c125851ec40b6a",
       "value": false
      }
     },
     "3386784a6d314bdfb27cfe039ac539ab": {
      "model_module": "@jupyter-widgets/controls",
      "model_module_version": "1.4.0",
      "model_name": "HTMLModel",
      "state": {
       "layout": "IPY_MODEL_dbc38619cd714a5dbb9fce42ca497a32",
       "style": "IPY_MODEL_5491e0cb08524873b24eb2e85d188b61",
       "value": "<h4 style=\"font-size:14px;\">Welche zwei Arten von Ambiguität unterscheidet man hier?</h4>"
      }
     },
     "353776230168400489a25e1cd87f8c7b": {
      "model_module": "@jupyter-widgets/controls",
      "model_module_version": "1.4.0",
      "model_name": "ButtonModel",
      "state": {
       "description": "Korrekt?",
       "layout": "IPY_MODEL_e0d95579bcfa49e38e9ef2bdd44900f6",
       "style": "IPY_MODEL_44f3ee1b10dc44438e48cf422f8efac0"
      }
     },
     "35f0656047ad421d9e52be62d4a56900": {
      "model_module": "@jupyter-widgets/controls",
      "model_module_version": "1.4.0",
      "model_name": "CheckboxModel",
      "state": {
       "description": "Koordinierungsambigutiät",
       "disabled": false,
       "layout": "IPY_MODEL_b3bd55206c164ff3b719db05f8b40ba5",
       "style": "IPY_MODEL_9e9641d3154444c195d9c0a7adb619e2",
       "value": false
      }
     },
     "367b290daaec4672b6f88f3426cca66c": {
      "model_module": "@jupyter-widgets/controls",
      "model_module_version": "1.4.0",
      "model_name": "VBoxModel",
      "state": {
       "children": [
        "IPY_MODEL_3d7b018339d84c6697bcf5d5731b881c",
        "IPY_MODEL_bf82392acc5142f29fda9ffa4a88698a",
        "IPY_MODEL_11206b3bc4f54b418a0c36a3a19a9fee",
        "IPY_MODEL_23dc3fe7b534478f9bcb7f0a79cfde2f"
       ],
       "layout": "IPY_MODEL_e997bbf0b5f340848e3feeef420e00cb"
      }
     },
     "369ac3254ac949819eaf4c2e3eb60649": {
      "model_module": "@jupyter-widgets/controls",
      "model_module_version": "1.4.0",
      "model_name": "ButtonStyleModel",
      "state": {}
     },
     "376f56f6831d4f3b8608b7ec34dc96a0": {
      "model_module": "@jupyter-widgets/base",
      "model_module_version": "1.1.0",
      "model_name": "LayoutModel",
      "state": {
       "width": "600px"
      }
     },
     "3912113ffa214644805a7c1aeb7899ca": {
      "model_module": "@jupyter-widgets/controls",
      "model_module_version": "1.4.0",
      "model_name": "CheckboxModel",
      "state": {
       "description": "längere Sätze",
       "disabled": false,
       "layout": "IPY_MODEL_a2a466a15ffd4b399ebb3f7c7d468381",
       "style": "IPY_MODEL_b44cb0b9bc8a42d98aeadfae88de14aa",
       "value": true
      }
     },
     "395613da49224c3e90fcbaf8b8ca7da1": {
      "model_module": "@jupyter-widgets/base",
      "model_module_version": "1.1.0",
      "model_name": "LayoutModel",
      "state": {}
     },
     "3a4820a0d53046ab830deabf9f2f4725": {
      "model_module": "@jupyter-widgets/base",
      "model_module_version": "1.1.0",
      "model_name": "LayoutModel",
      "state": {}
     },
     "3afcc9d564d141f2bbac1f780e0da2d3": {
      "model_module": "@jupyter-widgets/controls",
      "model_module_version": "1.4.0",
      "model_name": "CheckboxModel",
      "state": {
       "description": "Abnahme der Anzahl von Regeln",
       "disabled": false,
       "layout": "IPY_MODEL_e634e5e08a53421f88f66962befc5ba2",
       "style": "IPY_MODEL_c5be6e760d81456fb6d46b26e7014f32",
       "value": false
      }
     },
     "3d7b018339d84c6697bcf5d5731b881c": {
      "model_module": "@jupyter-widgets/controls",
      "model_module_version": "1.4.0",
      "model_name": "CheckboxModel",
      "state": {
       "description": "Attachment-Ambiguität",
       "disabled": false,
       "layout": "IPY_MODEL_2f88ce5c2eff4dbea4cb2434cd5c900c",
       "style": "IPY_MODEL_4c36f5b4339b4fbb80d050867e22f510",
       "value": false
      }
     },
     "3e116e8256324a7c92bc1d6078c1a15f": {
      "model_module": "@jupyter-widgets/base",
      "model_module_version": "1.1.0",
      "model_name": "LayoutModel",
      "state": {}
     },
     "3f67cd88127643b6bd5ef9f8e5e9a0ea": {
      "model_module": "@jupyter-widgets/controls",
      "model_module_version": "1.4.0",
      "model_name": "HTMLModel",
      "state": {
       "layout": "IPY_MODEL_09de55b5f21b446887edadfc319b6a35",
       "style": "IPY_MODEL_40be9198d6fc482b8b87378b688f3e18",
       "value": "<i>Wählen Sie die zwei korrekten Antworten aus.</i>"
      }
     },
     "3fa71feac10f44fab50a70d6ced74aa5": {
      "model_module": "@jupyter-widgets/base",
      "model_module_version": "1.1.0",
      "model_name": "LayoutModel",
      "state": {
       "justify_content": "center"
      }
     },
     "40be9198d6fc482b8b87378b688f3e18": {
      "model_module": "@jupyter-widgets/controls",
      "model_module_version": "1.4.0",
      "model_name": "DescriptionStyleModel",
      "state": {
       "description_width": ""
      }
     },
     "4156b80fc8eb4766be3b0df228ca9051": {
      "model_module": "@jupyter-widgets/base",
      "model_module_version": "1.1.0",
      "model_name": "LayoutModel",
      "state": {
       "width": "600px"
      }
     },
     "4254c589410846c383b766d5ca01c259": {
      "model_module": "@jupyter-widgets/controls",
      "model_module_version": "1.4.0",
      "model_name": "DescriptionStyleModel",
      "state": {
       "description_width": "initial"
      }
     },
     "4455f5ae320e4258a2f64317fe3063af": {
      "model_module": "@jupyter-widgets/base",
      "model_module_version": "1.1.0",
      "model_name": "LayoutModel",
      "state": {
       "width": "600px"
      }
     },
     "44f3ee1b10dc44438e48cf422f8efac0": {
      "model_module": "@jupyter-widgets/controls",
      "model_module_version": "1.4.0",
      "model_name": "ButtonStyleModel",
      "state": {}
     },
     "450f6b888cc341249270d1a3c05b8739": {
      "model_module": "@jupyter-widgets/controls",
      "model_module_version": "1.4.0",
      "model_name": "DescriptionStyleModel",
      "state": {
       "description_width": "initial"
      }
     },
     "46cad5db308d4cbdae65a87e47a127ff": {
      "model_module": "@jupyter-widgets/base",
      "model_module_version": "1.1.0",
      "model_name": "LayoutModel",
      "state": {}
     },
     "46fd846ad5dc488b98042841f9076ca5": {
      "model_module": "@jupyter-widgets/base",
      "model_module_version": "1.1.0",
      "model_name": "LayoutModel",
      "state": {
       "justify_content": "center"
      }
     },
     "470de447147d4dc59d197507678a4a77": {
      "model_module": "@jupyter-widgets/controls",
      "model_module_version": "1.4.0",
      "model_name": "ButtonModel",
      "state": {
       "description": "Korrekt?",
       "layout": "IPY_MODEL_10683d0b19b147cdb0d92c22d6652f13",
       "style": "IPY_MODEL_9ae762ba3d314258a752a87bbd3e5c1d"
      }
     },
     "47289f7ecd514a628cc5633a37fc6c6c": {
      "model_module": "@jupyter-widgets/controls",
      "model_module_version": "1.4.0",
      "model_name": "CheckboxModel",
      "state": {
       "description": "lexikalische Ambiguität",
       "disabled": false,
       "layout": "IPY_MODEL_c74c246d0bc24c0bb4e337e76e2cfa3d",
       "style": "IPY_MODEL_a41fa472c8b949ddb9dd404dae436fca",
       "value": false
      }
     },
     "47aec24423ac44f0b1f529363c23d469": {
      "model_module": "@jupyter-widgets/controls",
      "model_module_version": "1.4.0",
      "model_name": "DescriptionStyleModel",
      "state": {
       "description_width": ""
      }
     },
     "484b4fdf27014d37b01db7e61280df0b": {
      "model_module": "@jupyter-widgets/base",
      "model_module_version": "1.1.0",
      "model_name": "LayoutModel",
      "state": {
       "justify_content": "center"
      }
     },
     "487c1cb0e1c548caa97e29e3488b51af": {
      "model_module": "@jupyter-widgets/base",
      "model_module_version": "1.1.0",
      "model_name": "LayoutModel",
      "state": {}
     },
     "492b8eff50424966a811cbb2b20621f6": {
      "model_module": "@jupyter-widgets/controls",
      "model_module_version": "1.4.0",
      "model_name": "HTMLModel",
      "state": {
       "layout": "IPY_MODEL_eb4118aa0ddd45118cfec72d87927282",
       "style": "IPY_MODEL_9de4d861178b413bbbff4710b70037d3",
       "value": "<i>Wählen Sie die zwei korrekten Antworten aus.</i>"
      }
     },
     "49b048f070f64b3488c93202a05dcba5": {
      "model_module": "@jupyter-widgets/controls",
      "model_module_version": "1.4.0",
      "model_name": "DescriptionStyleModel",
      "state": {
       "description_width": ""
      }
     },
     "49eb183a31224a7aaae266d9c2c5484f": {
      "model_module": "@jupyter-widgets/controls",
      "model_module_version": "1.4.0",
      "model_name": "ButtonModel",
      "state": {
       "description": "Korrekt?",
       "layout": "IPY_MODEL_f0a95d41f75e452ca5d1e90d747efc44",
       "style": "IPY_MODEL_9abd7810cffd42b38f111fef7c50b88e"
      }
     },
     "4c07d1c6776347a6b2b68cc02d3420eb": {
      "model_module": "@jupyter-widgets/base",
      "model_module_version": "1.1.0",
      "model_name": "LayoutModel",
      "state": {
       "width": "250px"
      }
     },
     "4c36f5b4339b4fbb80d050867e22f510": {
      "model_module": "@jupyter-widgets/controls",
      "model_module_version": "1.4.0",
      "model_name": "DescriptionStyleModel",
      "state": {
       "description_width": "initial"
      }
     },
     "4d13607169a84f41b839521a38635bae": {
      "model_module": "@jupyter-widgets/controls",
      "model_module_version": "1.4.0",
      "model_name": "DescriptionStyleModel",
      "state": {
       "description_width": ""
      }
     },
     "4dc9fdadadd94c03b5cad6191ee0c439": {
      "model_module": "@jupyter-widgets/controls",
      "model_module_version": "1.4.0",
      "model_name": "HTMLModel",
      "state": {
       "layout": "IPY_MODEL_1411c2de37c34192a78ba428ec04c82d",
       "style": "IPY_MODEL_752ed3e886ba43a7941cfc8728395aa5",
       "value": "<h4 style=\"font-size:14px;\">Welche zwei Faktoren führen bei der syntaktischen Analyse natürlicher Sprache mittels formaler Grammatiken zu mehr Ambiguität (Anzahl an Ableitungen)?</h4>"
      }
     },
     "4e8821221c954ec69ee3757ee2cd3d38": {
      "model_module": "@jupyter-widgets/controls",
      "model_module_version": "1.4.0",
      "model_name": "HTMLModel",
      "state": {
       "layout": "IPY_MODEL_46cad5db308d4cbdae65a87e47a127ff",
       "style": "IPY_MODEL_8210d6448c1848409b2a3679ad805139",
       "value": "<h4 style=\"font-size:14px;\">Welche zwei Faktoren führen bei der syntaktischen Analyse natürlicher Sprache mittels formaler Grammatiken zu mehr Ambiguität (Anzahl an Ableitungen)?</h4>"
      }
     },
     "4f9a30a4dea2481a81ea9a0059eb2dac": {
      "model_module": "@jupyter-widgets/base",
      "model_module_version": "1.1.0",
      "model_name": "LayoutModel",
      "state": {
       "width": "600px"
      }
     },
     "4fa4f6b3c0414f8c9c924399fccbe51f": {
      "model_module": "@jupyter-widgets/controls",
      "model_module_version": "1.4.0",
      "model_name": "CheckboxModel",
      "state": {
       "description": "Attachment-Ambiguität",
       "disabled": false,
       "layout": "IPY_MODEL_15d20b59697e46a085bc32c62ed5ad83",
       "style": "IPY_MODEL_b046e55483764c908c33d24b238821aa",
       "value": false
      }
     },
     "5033e471590c4609be208b6167b700ce": {
      "model_module": "@jupyter-widgets/base",
      "model_module_version": "1.1.0",
      "model_name": "LayoutModel",
      "state": {
       "justify_content": "center"
      }
     },
     "5491e0cb08524873b24eb2e85d188b61": {
      "model_module": "@jupyter-widgets/controls",
      "model_module_version": "1.4.0",
      "model_name": "DescriptionStyleModel",
      "state": {
       "description_width": ""
      }
     },
     "54989be193bc43e4ad24af8d68ee71eb": {
      "model_module": "@jupyter-widgets/controls",
      "model_module_version": "1.4.0",
      "model_name": "ButtonStyleModel",
      "state": {
       "button_color": "lightgreen"
      }
     },
     "5538cf0f86ac45a29fc36f17b706048a": {
      "model_module": "@jupyter-widgets/controls",
      "model_module_version": "1.4.0",
      "model_name": "DescriptionStyleModel",
      "state": {
       "description_width": "initial"
      }
     },
     "565a5d8bd722401ca972e5de7146d671": {
      "model_module": "@jupyter-widgets/controls",
      "model_module_version": "1.4.0",
      "model_name": "DescriptionStyleModel",
      "state": {
       "description_width": "initial"
      }
     },
     "569b8534d5ee4bd383ce2fa15b0e00c2": {
      "model_module": "@jupyter-widgets/controls",
      "model_module_version": "1.4.0",
      "model_name": "DescriptionStyleModel",
      "state": {
       "description_width": ""
      }
     },
     "5823b3845ee04733a06c3961d0748cbb": {
      "model_module": "@jupyter-widgets/controls",
      "model_module_version": "1.4.0",
      "model_name": "VBoxModel",
      "state": {
       "children": [
        "IPY_MODEL_8ed3e1c0bd584cd5896b3a5e099f76b9",
        "IPY_MODEL_6a3ead2090bb4f76987cec9bd77b4f8a",
        "IPY_MODEL_b7ce43eaff7c4f07b28c24fe903c19e8",
        "IPY_MODEL_5f130f7405554dc7b1408192fff167c1"
       ],
       "layout": "IPY_MODEL_5d185511f2f64d3cab770c545d79bd81"
      }
     },
     "5adf3963b53b4ddfb1a780a411754384": {
      "model_module": "@jupyter-widgets/controls",
      "model_module_version": "1.4.0",
      "model_name": "DescriptionStyleModel",
      "state": {
       "description_width": ""
      }
     },
     "5b9ac8c808884f77800738fee074d2ce": {
      "model_module": "@jupyter-widgets/controls",
      "model_module_version": "1.4.0",
      "model_name": "CheckboxModel",
      "state": {
       "description": "kürzere Sätze",
       "disabled": false,
       "layout": "IPY_MODEL_0adc07243c0044bf8c73d33a1ec3bfb5",
       "style": "IPY_MODEL_2d15c17b924b4399bda81db5666cb215",
       "value": false
      }
     },
     "5d185511f2f64d3cab770c545d79bd81": {
      "model_module": "@jupyter-widgets/base",
      "model_module_version": "1.1.0",
      "model_name": "LayoutModel",
      "state": {}
     },
     "5d2292d072cf44ec8c8168865665bd1e": {
      "model_module": "@jupyter-widgets/controls",
      "model_module_version": "1.4.0",
      "model_name": "DescriptionStyleModel",
      "state": {
       "description_width": "initial"
      }
     },
     "5d2eeb49ef234cd58b8001336af46877": {
      "model_module": "@jupyter-widgets/controls",
      "model_module_version": "1.4.0",
      "model_name": "HTMLModel",
      "state": {
       "layout": "IPY_MODEL_99f7abdb6fe643deb0129cc3727eb470",
       "style": "IPY_MODEL_6b75ca38bfb74fd195deb330a57acf42",
       "value": "<h4 style=\"font-size:14px;\">Welche zwei Faktoren führen bei der syntaktischen Analyse natürlicher Sprache mittels formaler Grammatiken zu mehr Ambiguität (Anzahl an Ableitungen)?</h4>"
      }
     },
     "5ef33a1ea9944b148fd72c68d1fed047": {
      "model_module": "@jupyter-widgets/base",
      "model_module_version": "1.1.0",
      "model_name": "LayoutModel",
      "state": {
       "width": "600px"
      }
     },
     "5f130f7405554dc7b1408192fff167c1": {
      "model_module": "@jupyter-widgets/controls",
      "model_module_version": "1.4.0",
      "model_name": "ButtonModel",
      "state": {
       "description": "Korrekt?",
       "layout": "IPY_MODEL_68afb01c79e743e0b0c28c848512df2e",
       "style": "IPY_MODEL_03381ab1f8db44e3948d8a515a36bcef"
      }
     },
     "61dba8a38e2946a5993c7d780ddb4515": {
      "model_module": "@jupyter-widgets/base",
      "model_module_version": "1.1.0",
      "model_name": "LayoutModel",
      "state": {
       "justify_content": "center"
      }
     },
     "649eb8b5cb6e47c3a0c125851ec40b6a": {
      "model_module": "@jupyter-widgets/controls",
      "model_module_version": "1.4.0",
      "model_name": "DescriptionStyleModel",
      "state": {
       "description_width": "initial"
      }
     },
     "64f66c2534254503b14ac79767856ca2": {
      "model_module": "@jupyter-widgets/base",
      "model_module_version": "1.1.0",
      "model_name": "LayoutModel",
      "state": {
       "width": "600px"
      }
     },
     "65305a5585464f3493163f6fe8b0c2b0": {
      "model_module": "@jupyter-widgets/controls",
      "model_module_version": "1.4.0",
      "model_name": "CheckboxModel",
      "state": {
       "description": "lexikalische Ambiguität",
       "disabled": false,
       "layout": "IPY_MODEL_f0bc36df76014c86a753c7a56ff74176",
       "style": "IPY_MODEL_fdfadbd8d18f4ea8992d0d958ee7d8a8",
       "value": false
      }
     },
     "65fc244317fe469b9941f7ab0e427a82": {
      "model_module": "@jupyter-widgets/controls",
      "model_module_version": "1.4.0",
      "model_name": "CheckboxModel",
      "state": {
       "description": "kürzere Sätze",
       "disabled": false,
       "layout": "IPY_MODEL_7d0c5d5c30ff4e0a85e07e0876032b23",
       "style": "IPY_MODEL_8f7074f9efe2470b916aefef1a7b8d84",
       "value": false
      }
     },
     "670763f80bfd405da453e680e4a1909a": {
      "model_module": "@jupyter-widgets/base",
      "model_module_version": "1.1.0",
      "model_name": "LayoutModel",
      "state": {
       "width": "600px"
      }
     },
     "67ef6a880aab420c9a667a9ee03cdf20": {
      "model_module": "@jupyter-widgets/base",
      "model_module_version": "1.1.0",
      "model_name": "LayoutModel",
      "state": {}
     },
     "68321b4e4def45309b5f209e7558de02": {
      "model_module": "@jupyter-widgets/controls",
      "model_module_version": "1.4.0",
      "model_name": "VBoxModel",
      "state": {
       "children": [
        "IPY_MODEL_0b3dbff01658477fa078efcd87be9908",
        "IPY_MODEL_a341537a7a9f4f728dfde35c6c4253b5",
        "IPY_MODEL_65305a5585464f3493163f6fe8b0c2b0",
        "IPY_MODEL_d5be7394786a4b17a31b49a9f9cebf8b"
       ],
       "layout": "IPY_MODEL_487c1cb0e1c548caa97e29e3488b51af"
      }
     },
     "68afb01c79e743e0b0c28c848512df2e": {
      "model_module": "@jupyter-widgets/base",
      "model_module_version": "1.1.0",
      "model_name": "LayoutModel",
      "state": {
       "width": "250px"
      }
     },
     "6a3ead2090bb4f76987cec9bd77b4f8a": {
      "model_module": "@jupyter-widgets/controls",
      "model_module_version": "1.4.0",
      "model_name": "HTMLModel",
      "state": {
       "layout": "IPY_MODEL_61dba8a38e2946a5993c7d780ddb4515",
       "style": "IPY_MODEL_e6f44f0638874297a80e1caf3966fa1c",
       "value": "<i>Wählen Sie die zwei korrekten Antworten aus.</i>"
      }
     },
     "6a497985dc4e43c8b156538bbbf896b3": {
      "model_module": "@jupyter-widgets/base",
      "model_module_version": "1.1.0",
      "model_name": "LayoutModel",
      "state": {
       "width": "600px"
      }
     },
     "6b75ca38bfb74fd195deb330a57acf42": {
      "model_module": "@jupyter-widgets/controls",
      "model_module_version": "1.4.0",
      "model_name": "DescriptionStyleModel",
      "state": {
       "description_width": ""
      }
     },
     "6bd733a257b247d3a4fa8e7bd628fec0": {
      "model_module": "@jupyter-widgets/controls",
      "model_module_version": "1.4.0",
      "model_name": "DescriptionStyleModel",
      "state": {
       "description_width": "initial"
      }
     },
     "6c7d6cb414774219b5ddf5160de86855": {
      "model_module": "@jupyter-widgets/controls",
      "model_module_version": "1.4.0",
      "model_name": "DescriptionStyleModel",
      "state": {
       "description_width": "initial"
      }
     },
     "6d22f169f2ef4378800dbec6418e8aa7": {
      "model_module": "@jupyter-widgets/base",
      "model_module_version": "1.1.0",
      "model_name": "LayoutModel",
      "state": {
       "width": "250px"
      }
     },
     "6d707ed8d60747b0a31d29099b5b81bf": {
      "model_module": "@jupyter-widgets/controls",
      "model_module_version": "1.4.0",
      "model_name": "DescriptionStyleModel",
      "state": {
       "description_width": "initial"
      }
     },
     "6e6444dbe22e44f48b6d3a683c502302": {
      "model_module": "@jupyter-widgets/controls",
      "model_module_version": "1.4.0",
      "model_name": "VBoxModel",
      "state": {
       "children": [
        "IPY_MODEL_4e8821221c954ec69ee3757ee2cd3d38",
        "IPY_MODEL_a45ab63e0b8041a9b76d2641b9129843",
        "IPY_MODEL_cfc1ad5a1e8d4e3082461a696da0be37",
        "IPY_MODEL_2635012e7ace40f98bdb3fd97fd31690"
       ],
       "layout": "IPY_MODEL_395613da49224c3e90fcbaf8b8ca7da1"
      }
     },
     "6f369c389b91483492bd2ae2a6e984df": {
      "model_module": "@jupyter-widgets/base",
      "model_module_version": "1.1.0",
      "model_name": "LayoutModel",
      "state": {
       "width": "600px"
      }
     },
     "6fdf830616394deea2f451132d4689a5": {
      "model_module": "@jupyter-widgets/controls",
      "model_module_version": "1.4.0",
      "model_name": "ButtonStyleModel",
      "state": {}
     },
     "71142d2fc3d94c7b9597308b056ca642": {
      "model_module": "@jupyter-widgets/controls",
      "model_module_version": "1.4.0",
      "model_name": "CheckboxModel",
      "state": {
       "description": "längere Sätze",
       "disabled": false,
       "layout": "IPY_MODEL_758628abae3d4eb0be78a17eb5db01ab",
       "style": "IPY_MODEL_91838fc85e3e48328cf986a53ab83169",
       "value": false
      }
     },
     "71aa20c8606d4216aabbe80aae21d547": {
      "model_module": "@jupyter-widgets/base",
      "model_module_version": "1.1.0",
      "model_name": "LayoutModel",
      "state": {}
     },
     "733a8447122f4153b26b5533a4be131f": {
      "model_module": "@jupyter-widgets/controls",
      "model_module_version": "1.4.0",
      "model_name": "VBoxModel",
      "state": {
       "children": [
        "IPY_MODEL_2ac30cf686154b8ea106bd921e8b70e0",
        "IPY_MODEL_bb3eb806cc2e44cb844670cc95310505",
        "IPY_MODEL_a4c1b08a8cf64d84958cc391472367d1",
        "IPY_MODEL_f9fdd135a08141909d4a9f6b746e18e6"
       ],
       "layout": "IPY_MODEL_a6f24a7cd6ba4c9dbd7484930d0f1b64"
      }
     },
     "752ed3e886ba43a7941cfc8728395aa5": {
      "model_module": "@jupyter-widgets/controls",
      "model_module_version": "1.4.0",
      "model_name": "DescriptionStyleModel",
      "state": {
       "description_width": ""
      }
     },
     "758628abae3d4eb0be78a17eb5db01ab": {
      "model_module": "@jupyter-widgets/base",
      "model_module_version": "1.1.0",
      "model_name": "LayoutModel",
      "state": {
       "width": "600px"
      }
     },
     "76b92abfd24d4423b38bd592dad7f51b": {
      "model_module": "@jupyter-widgets/base",
      "model_module_version": "1.1.0",
      "model_name": "LayoutModel",
      "state": {
       "width": "600px"
      }
     },
     "7aba5e935a2f4acd9d7fb5722693ae6b": {
      "model_module": "@jupyter-widgets/controls",
      "model_module_version": "1.4.0",
      "model_name": "CheckboxModel",
      "state": {
       "description": "Abnahme der Anzahl von Regeln",
       "disabled": false,
       "layout": "IPY_MODEL_057810c22d9c4f9a8e9183751b917f22",
       "style": "IPY_MODEL_93d2ab7017a64f5a899b0e214d155ec2",
       "value": false
      }
     },
     "7ca1eecd524e4ac08caa53de8a0fbc12": {
      "model_module": "@jupyter-widgets/controls",
      "model_module_version": "1.4.0",
      "model_name": "ButtonStyleModel",
      "state": {}
     },
     "7d0c5d5c30ff4e0a85e07e0876032b23": {
      "model_module": "@jupyter-widgets/base",
      "model_module_version": "1.1.0",
      "model_name": "LayoutModel",
      "state": {
       "width": "600px"
      }
     },
     "8210d6448c1848409b2a3679ad805139": {
      "model_module": "@jupyter-widgets/controls",
      "model_module_version": "1.4.0",
      "model_name": "DescriptionStyleModel",
      "state": {
       "description_width": ""
      }
     },
     "8261758406a743eabcb80ac1557fa9b6": {
      "model_module": "@jupyter-widgets/controls",
      "model_module_version": "1.4.0",
      "model_name": "ButtonModel",
      "state": {
       "description": "Korrekt?",
       "layout": "IPY_MODEL_8798ad20cfbe44a7a7cfeb361edcb462",
       "style": "IPY_MODEL_9db571fdeac146e69c9eabc5adc87584"
      }
     },
     "8385bdc423f14c489524e7154249eeda": {
      "model_module": "@jupyter-widgets/base",
      "model_module_version": "1.1.0",
      "model_name": "LayoutModel",
      "state": {
       "width": "600px"
      }
     },
     "84c2f12a940a46dfb05bf4df374b196b": {
      "model_module": "@jupyter-widgets/base",
      "model_module_version": "1.1.0",
      "model_name": "LayoutModel",
      "state": {
       "width": "600px"
      }
     },
     "877db854bfc3409a9c1b1ba1322dc2cd": {
      "model_module": "@jupyter-widgets/controls",
      "model_module_version": "1.4.0",
      "model_name": "DescriptionStyleModel",
      "state": {
       "description_width": "initial"
      }
     },
     "8798ad20cfbe44a7a7cfeb361edcb462": {
      "model_module": "@jupyter-widgets/base",
      "model_module_version": "1.1.0",
      "model_name": "LayoutModel",
      "state": {
       "width": "250px"
      }
     },
     "8c86e7d3e78b4937939a1c6f584ff204": {
      "model_module": "@jupyter-widgets/base",
      "model_module_version": "1.1.0",
      "model_name": "LayoutModel",
      "state": {
       "width": "600px"
      }
     },
     "8c8a12f3e6ef4fca9b5ddaae5e28f2b9": {
      "model_module": "@jupyter-widgets/controls",
      "model_module_version": "1.4.0",
      "model_name": "ButtonModel",
      "state": {
       "description": "Korrekt?",
       "layout": "IPY_MODEL_b758b672af6d4a48bcf9dec82729022d",
       "style": "IPY_MODEL_54989be193bc43e4ad24af8d68ee71eb"
      }
     },
     "8d34e04765c5442eac84b2906d4ce029": {
      "model_module": "@jupyter-widgets/base",
      "model_module_version": "1.1.0",
      "model_name": "LayoutModel",
      "state": {}
     },
     "8d99b85260b349a28a5a7bfbf65dfe15": {
      "model_module": "@jupyter-widgets/controls",
      "model_module_version": "1.4.0",
      "model_name": "CheckboxModel",
      "state": {
       "description": "Abnahme der Anzahl von Regeln",
       "disabled": false,
       "layout": "IPY_MODEL_5ef33a1ea9944b148fd72c68d1fed047",
       "style": "IPY_MODEL_0875126280084fb3b7031d7463be98f2",
       "value": false
      }
     },
     "8de5994c02a44d7ab31a43c52ecea3fb": {
      "model_module": "@jupyter-widgets/base",
      "model_module_version": "1.1.0",
      "model_name": "LayoutModel",
      "state": {
       "width": "600px"
      }
     },
     "8e5eb2484a4343c48082476bc9e7781a": {
      "model_module": "@jupyter-widgets/controls",
      "model_module_version": "1.4.0",
      "model_name": "VBoxModel",
      "state": {
       "children": [
        "IPY_MODEL_8d99b85260b349a28a5a7bfbf65dfe15",
        "IPY_MODEL_32b144bd8e364f07914a77b285fdc822",
        "IPY_MODEL_5b9ac8c808884f77800738fee074d2ce",
        "IPY_MODEL_f787c6a3049e4633b2c7614e99ac2710"
       ],
       "layout": "IPY_MODEL_90398b2671c143de8c27e647f31d71f6"
      }
     },
     "8ed3e1c0bd584cd5896b3a5e099f76b9": {
      "model_module": "@jupyter-widgets/controls",
      "model_module_version": "1.4.0",
      "model_name": "HTMLModel",
      "state": {
       "layout": "IPY_MODEL_2d775716052e4b38a1ebbc9e8569e87d",
       "style": "IPY_MODEL_bc05b86e5b754ba8aa9fcf95c07d770d",
       "value": "<h4 style=\"font-size:14px;\">Welche zwei Faktoren führen bei der syntaktischen Analyse natürlicher Sprache mittels formaler Grammatiken zu mehr Ambiguität (Anzahl an Ableitungen)?</h4>"
      }
     },
     "8f7074f9efe2470b916aefef1a7b8d84": {
      "model_module": "@jupyter-widgets/controls",
      "model_module_version": "1.4.0",
      "model_name": "DescriptionStyleModel",
      "state": {
       "description_width": "initial"
      }
     },
     "90398b2671c143de8c27e647f31d71f6": {
      "model_module": "@jupyter-widgets/base",
      "model_module_version": "1.1.0",
      "model_name": "LayoutModel",
      "state": {}
     },
     "91838fc85e3e48328cf986a53ab83169": {
      "model_module": "@jupyter-widgets/controls",
      "model_module_version": "1.4.0",
      "model_name": "DescriptionStyleModel",
      "state": {
       "description_width": "initial"
      }
     },
     "93d2ab7017a64f5a899b0e214d155ec2": {
      "model_module": "@jupyter-widgets/controls",
      "model_module_version": "1.4.0",
      "model_name": "DescriptionStyleModel",
      "state": {
       "description_width": "initial"
      }
     },
     "94bac248d3b74bbbae0126c7c5cd3f0d": {
      "model_module": "@jupyter-widgets/controls",
      "model_module_version": "1.4.0",
      "model_name": "HTMLModel",
      "state": {
       "layout": "IPY_MODEL_1d3c3221345e483caffd3d87b0efcc86",
       "style": "IPY_MODEL_49b048f070f64b3488c93202a05dcba5",
       "value": "<h4 style=\"font-size:14px;\">Welche zwei Arten von Ambiguität unterscheidet man hier?</h4>"
      }
     },
     "95f130c87c2344f4b1446adbe00a21a1": {
      "model_module": "@jupyter-widgets/base",
      "model_module_version": "1.1.0",
      "model_name": "LayoutModel",
      "state": {
       "justify_content": "center"
      }
     },
     "9617b22f732e4a61ab7d76c9fdad3b49": {
      "model_module": "@jupyter-widgets/base",
      "model_module_version": "1.1.0",
      "model_name": "LayoutModel",
      "state": {
       "width": "600px"
      }
     },
     "9657531caa9645e4b4fbc33ac1ee22a5": {
      "model_module": "@jupyter-widgets/controls",
      "model_module_version": "1.4.0",
      "model_name": "VBoxModel",
      "state": {
       "children": [
        "IPY_MODEL_3386784a6d314bdfb27cfe039ac539ab",
        "IPY_MODEL_ca2a5cceda294adb8c20358841fdc265",
        "IPY_MODEL_68321b4e4def45309b5f209e7558de02",
        "IPY_MODEL_8261758406a743eabcb80ac1557fa9b6"
       ],
       "layout": "IPY_MODEL_205530abb7a94371b8e7753277792b60"
      }
     },
     "999c4d73918d4bf698a4d1a205f74c62": {
      "model_module": "@jupyter-widgets/controls",
      "model_module_version": "1.4.0",
      "model_name": "VBoxModel",
      "state": {
       "children": [
        "IPY_MODEL_d9cda01968774f92a3f9ba3679bb2280",
        "IPY_MODEL_b26e181f30b84892b376c8112092b384",
        "IPY_MODEL_b67ca3baf97d428594eb46483fbad5b5",
        "IPY_MODEL_d250abd7f2fd47f395a6d5145f27fb86"
       ],
       "layout": "IPY_MODEL_06bb63a69185447aa3a88a5021746289"
      }
     },
     "99f7abdb6fe643deb0129cc3727eb470": {
      "model_module": "@jupyter-widgets/base",
      "model_module_version": "1.1.0",
      "model_name": "LayoutModel",
      "state": {}
     },
     "9abd7810cffd42b38f111fef7c50b88e": {
      "model_module": "@jupyter-widgets/controls",
      "model_module_version": "1.4.0",
      "model_name": "ButtonStyleModel",
      "state": {}
     },
     "9ae762ba3d314258a752a87bbd3e5c1d": {
      "model_module": "@jupyter-widgets/controls",
      "model_module_version": "1.4.0",
      "model_name": "ButtonStyleModel",
      "state": {
       "button_color": "lightgreen"
      }
     },
     "9d9e3a03598e47e58c78a44ba1f1a55b": {
      "model_module": "@jupyter-widgets/controls",
      "model_module_version": "1.4.0",
      "model_name": "VBoxModel",
      "state": {
       "children": [
        "IPY_MODEL_7aba5e935a2f4acd9d7fb5722693ae6b",
        "IPY_MODEL_1690ce5c6086478c9c867ad616cb0771",
        "IPY_MODEL_0869f88f16104247b389c3bf75a26d24",
        "IPY_MODEL_3912113ffa214644805a7c1aeb7899ca"
       ],
       "layout": "IPY_MODEL_b498832a7359490d82f29e3d13a0b88c"
      }
     },
     "9db571fdeac146e69c9eabc5adc87584": {
      "model_module": "@jupyter-widgets/controls",
      "model_module_version": "1.4.0",
      "model_name": "ButtonStyleModel",
      "state": {}
     },
     "9de4d861178b413bbbff4710b70037d3": {
      "model_module": "@jupyter-widgets/controls",
      "model_module_version": "1.4.0",
      "model_name": "DescriptionStyleModel",
      "state": {
       "description_width": ""
      }
     },
     "9e9641d3154444c195d9c0a7adb619e2": {
      "model_module": "@jupyter-widgets/controls",
      "model_module_version": "1.4.0",
      "model_name": "DescriptionStyleModel",
      "state": {
       "description_width": "initial"
      }
     },
     "9f666408d0294a9e810adaab0693d904": {
      "model_module": "@jupyter-widgets/controls",
      "model_module_version": "1.4.0",
      "model_name": "DescriptionStyleModel",
      "state": {
       "description_width": "initial"
      }
     },
     "a0e811f49f6e4954ac9fc744a2404377": {
      "model_module": "@jupyter-widgets/controls",
      "model_module_version": "1.4.0",
      "model_name": "DescriptionStyleModel",
      "state": {
       "description_width": "initial"
      }
     },
     "a1dea17e2b7d4ac989784d2e2afe5bed": {
      "model_module": "@jupyter-widgets/controls",
      "model_module_version": "1.4.0",
      "model_name": "DescriptionStyleModel",
      "state": {
       "description_width": "initial"
      }
     },
     "a2a466a15ffd4b399ebb3f7c7d468381": {
      "model_module": "@jupyter-widgets/base",
      "model_module_version": "1.1.0",
      "model_name": "LayoutModel",
      "state": {
       "width": "600px"
      }
     },
     "a341537a7a9f4f728dfde35c6c4253b5": {
      "model_module": "@jupyter-widgets/controls",
      "model_module_version": "1.4.0",
      "model_name": "CheckboxModel",
      "state": {
       "description": "Koordinierungsambigutiät",
       "disabled": false,
       "layout": "IPY_MODEL_9617b22f732e4a61ab7d76c9fdad3b49",
       "style": "IPY_MODEL_877db854bfc3409a9c1b1ba1322dc2cd",
       "value": false
      }
     },
     "a3cdcef25b454a0fb6b5c56260e1e5b0": {
      "model_module": "@jupyter-widgets/controls",
      "model_module_version": "1.4.0",
      "model_name": "DescriptionStyleModel",
      "state": {
       "description_width": "initial"
      }
     },
     "a41fa472c8b949ddb9dd404dae436fca": {
      "model_module": "@jupyter-widgets/controls",
      "model_module_version": "1.4.0",
      "model_name": "DescriptionStyleModel",
      "state": {
       "description_width": "initial"
      }
     },
     "a45ab63e0b8041a9b76d2641b9129843": {
      "model_module": "@jupyter-widgets/controls",
      "model_module_version": "1.4.0",
      "model_name": "HTMLModel",
      "state": {
       "layout": "IPY_MODEL_5033e471590c4609be208b6167b700ce",
       "style": "IPY_MODEL_4d13607169a84f41b839521a38635bae",
       "value": "<i>Wählen Sie die zwei korrekten Antworten aus.</i>"
      }
     },
     "a4bd2119f3c145d19bdf81e03e0069d2": {
      "model_module": "@jupyter-widgets/base",
      "model_module_version": "1.1.0",
      "model_name": "LayoutModel",
      "state": {
       "width": "600px"
      }
     },
     "a4c1b08a8cf64d84958cc391472367d1": {
      "model_module": "@jupyter-widgets/controls",
      "model_module_version": "1.4.0",
      "model_name": "VBoxModel",
      "state": {
       "children": [
        "IPY_MODEL_b73223c59bb444c9894cae91e576b98f",
        "IPY_MODEL_35f0656047ad421d9e52be62d4a56900",
        "IPY_MODEL_47289f7ecd514a628cc5633a37fc6c6c",
        "IPY_MODEL_edcff7bc827945a7b7dd10726e9c29d3"
       ],
       "layout": "IPY_MODEL_71aa20c8606d4216aabbe80aae21d547"
      }
     },
     "a6f24a7cd6ba4c9dbd7484930d0f1b64": {
      "model_module": "@jupyter-widgets/base",
      "model_module_version": "1.1.0",
      "model_name": "LayoutModel",
      "state": {}
     },
     "a75f43a23d024459ae7879f860343c2e": {
      "model_module": "@jupyter-widgets/controls",
      "model_module_version": "1.4.0",
      "model_name": "VBoxModel",
      "state": {
       "children": [
        "IPY_MODEL_4dc9fdadadd94c03b5cad6191ee0c439",
        "IPY_MODEL_f2d2de8dff8f42d082a4b148bf6e5bfa",
        "IPY_MODEL_8e5eb2484a4343c48082476bc9e7781a",
        "IPY_MODEL_353776230168400489a25e1cd87f8c7b"
       ],
       "layout": "IPY_MODEL_0ffe8980be244e34a00d59eef29b5f62"
      }
     },
     "a84665b369214192b3e36f706b8d5702": {
      "model_module": "@jupyter-widgets/controls",
      "model_module_version": "1.4.0",
      "model_name": "CheckboxModel",
      "state": {
       "description": "längere Sätze",
       "disabled": false,
       "layout": "IPY_MODEL_84c2f12a940a46dfb05bf4df374b196b",
       "style": "IPY_MODEL_bb26c37046df45348f7937ad6b8f04b8",
       "value": false
      }
     },
     "ab81865d9d8742428c6ee1db12c354d1": {
      "model_module": "@jupyter-widgets/controls",
      "model_module_version": "1.4.0",
      "model_name": "CheckboxModel",
      "state": {
       "description": "Zunahme der Anzahl von Regeln",
       "disabled": false,
       "layout": "IPY_MODEL_c427239f618b4aebacf402b4ecf5e1f6",
       "style": "IPY_MODEL_ccf5937430e64d22a05ca8d33aa71d09",
       "value": false
      }
     },
     "ac3c369022544c02a4b6742915872418": {
      "model_module": "@jupyter-widgets/base",
      "model_module_version": "1.1.0",
      "model_name": "LayoutModel",
      "state": {
       "width": "600px"
      }
     },
     "ace0523fe466461ea36fb4ec03c67f97": {
      "model_module": "@jupyter-widgets/base",
      "model_module_version": "1.1.0",
      "model_name": "LayoutModel",
      "state": {}
     },
     "b046e55483764c908c33d24b238821aa": {
      "model_module": "@jupyter-widgets/controls",
      "model_module_version": "1.4.0",
      "model_name": "DescriptionStyleModel",
      "state": {
       "description_width": "initial"
      }
     },
     "b122e2c1c70141229480c8c99a3130bc": {
      "model_module": "@jupyter-widgets/controls",
      "model_module_version": "1.4.0",
      "model_name": "VBoxModel",
      "state": {
       "children": [
        "IPY_MODEL_21912a69c3574706865e68f570d98043",
        "IPY_MODEL_3f67cd88127643b6bd5ef9f8e5e9a0ea",
        "IPY_MODEL_2e5e42b1fe5a4ff6acecc6bd9756767b",
        "IPY_MODEL_49eb183a31224a7aaae266d9c2c5484f"
       ],
       "layout": "IPY_MODEL_8d34e04765c5442eac84b2906d4ce029"
      }
     },
     "b229f0c6bc8445728c03c2ef06fa3611": {
      "model_module": "@jupyter-widgets/base",
      "model_module_version": "1.1.0",
      "model_name": "LayoutModel",
      "state": {}
     },
     "b26e181f30b84892b376c8112092b384": {
      "model_module": "@jupyter-widgets/controls",
      "model_module_version": "1.4.0",
      "model_name": "CheckboxModel",
      "state": {
       "description": "Koordinierungsambigutiät",
       "disabled": false,
       "layout": "IPY_MODEL_f005948f3caf49d3b07c8bd765d9e3d3",
       "style": "IPY_MODEL_d8a4dfca7da7494c9c1a534ab1e50be8",
       "value": false
      }
     },
     "b3bd55206c164ff3b719db05f8b40ba5": {
      "model_module": "@jupyter-widgets/base",
      "model_module_version": "1.1.0",
      "model_name": "LayoutModel",
      "state": {
       "width": "600px"
      }
     },
     "b44cb0b9bc8a42d98aeadfae88de14aa": {
      "model_module": "@jupyter-widgets/controls",
      "model_module_version": "1.4.0",
      "model_name": "DescriptionStyleModel",
      "state": {
       "description_width": "initial"
      }
     },
     "b498832a7359490d82f29e3d13a0b88c": {
      "model_module": "@jupyter-widgets/base",
      "model_module_version": "1.1.0",
      "model_name": "LayoutModel",
      "state": {}
     },
     "b5a458f00e4e44ce87e83afae10fb983": {
      "model_module": "@jupyter-widgets/controls",
      "model_module_version": "1.4.0",
      "model_name": "DescriptionStyleModel",
      "state": {
       "description_width": "initial"
      }
     },
     "b656789d6a9741f9842fd6ceda9d37dc": {
      "model_module": "@jupyter-widgets/controls",
      "model_module_version": "1.4.0",
      "model_name": "DescriptionStyleModel",
      "state": {
       "description_width": ""
      }
     },
     "b67ca3baf97d428594eb46483fbad5b5": {
      "model_module": "@jupyter-widgets/controls",
      "model_module_version": "1.4.0",
      "model_name": "CheckboxModel",
      "state": {
       "description": "lexikalische Ambiguität",
       "disabled": false,
       "layout": "IPY_MODEL_bf7bcef70ae045bfb84b9cd9daf353aa",
       "style": "IPY_MODEL_a1dea17e2b7d4ac989784d2e2afe5bed",
       "value": true
      }
     },
     "b73223c59bb444c9894cae91e576b98f": {
      "model_module": "@jupyter-widgets/controls",
      "model_module_version": "1.4.0",
      "model_name": "CheckboxModel",
      "state": {
       "description": "Attachment-Ambiguität",
       "disabled": false,
       "layout": "IPY_MODEL_670763f80bfd405da453e680e4a1909a",
       "style": "IPY_MODEL_565a5d8bd722401ca972e5de7146d671",
       "value": false
      }
     },
     "b758b672af6d4a48bcf9dec82729022d": {
      "model_module": "@jupyter-widgets/base",
      "model_module_version": "1.1.0",
      "model_name": "LayoutModel",
      "state": {
       "width": "250px"
      }
     },
     "b7ce43eaff7c4f07b28c24fe903c19e8": {
      "model_module": "@jupyter-widgets/controls",
      "model_module_version": "1.4.0",
      "model_name": "VBoxModel",
      "state": {
       "children": [
        "IPY_MODEL_3afcc9d564d141f2bbac1f780e0da2d3",
        "IPY_MODEL_ab81865d9d8742428c6ee1db12c354d1",
        "IPY_MODEL_65fc244317fe469b9941f7ab0e427a82",
        "IPY_MODEL_a84665b369214192b3e36f706b8d5702"
       ],
       "layout": "IPY_MODEL_11b52e0e0eb84f37a8c849e4faec3fe3"
      }
     },
     "bb26c37046df45348f7937ad6b8f04b8": {
      "model_module": "@jupyter-widgets/controls",
      "model_module_version": "1.4.0",
      "model_name": "DescriptionStyleModel",
      "state": {
       "description_width": "initial"
      }
     },
     "bb3eb806cc2e44cb844670cc95310505": {
      "model_module": "@jupyter-widgets/controls",
      "model_module_version": "1.4.0",
      "model_name": "HTMLModel",
      "state": {
       "layout": "IPY_MODEL_484b4fdf27014d37b01db7e61280df0b",
       "style": "IPY_MODEL_2a487082c72740fdb07486eccea6bb86",
       "value": "<i>Wählen Sie die zwei korrekten Antworten aus.</i>"
      }
     },
     "bb64df5c0b704d7899501a8839331ed9": {
      "model_module": "@jupyter-widgets/base",
      "model_module_version": "1.1.0",
      "model_name": "LayoutModel",
      "state": {
       "width": "600px"
      }
     },
     "bbbf77649850420fa71bb043306d5e28": {
      "model_module": "@jupyter-widgets/controls",
      "model_module_version": "1.4.0",
      "model_name": "HTMLModel",
      "state": {
       "layout": "IPY_MODEL_b229f0c6bc8445728c03c2ef06fa3611",
       "style": "IPY_MODEL_569b8534d5ee4bd383ce2fa15b0e00c2",
       "value": "<h4 style=\"font-size:14px;\">Welche zwei Faktoren führen bei der syntaktischen Analyse natürlicher Sprache mittels formaler Grammatiken zu mehr Ambiguität (Anzahl an Ableitungen)?</h4>"
      }
     },
     "bc05b86e5b754ba8aa9fcf95c07d770d": {
      "model_module": "@jupyter-widgets/controls",
      "model_module_version": "1.4.0",
      "model_name": "DescriptionStyleModel",
      "state": {
       "description_width": ""
      }
     },
     "bf7bcef70ae045bfb84b9cd9daf353aa": {
      "model_module": "@jupyter-widgets/base",
      "model_module_version": "1.1.0",
      "model_name": "LayoutModel",
      "state": {
       "width": "600px"
      }
     },
     "bf82392acc5142f29fda9ffa4a88698a": {
      "model_module": "@jupyter-widgets/controls",
      "model_module_version": "1.4.0",
      "model_name": "CheckboxModel",
      "state": {
       "description": "Koordinierungsambigutiät",
       "disabled": false,
       "layout": "IPY_MODEL_8c86e7d3e78b4937939a1c6f584ff204",
       "style": "IPY_MODEL_5d2292d072cf44ec8c8168865665bd1e",
       "value": false
      }
     },
     "c427239f618b4aebacf402b4ecf5e1f6": {
      "model_module": "@jupyter-widgets/base",
      "model_module_version": "1.1.0",
      "model_name": "LayoutModel",
      "state": {
       "width": "600px"
      }
     },
     "c5be6e760d81456fb6d46b26e7014f32": {
      "model_module": "@jupyter-widgets/controls",
      "model_module_version": "1.4.0",
      "model_name": "DescriptionStyleModel",
      "state": {
       "description_width": "initial"
      }
     },
     "c731a99164604203965e52078d71333d": {
      "model_module": "@jupyter-widgets/base",
      "model_module_version": "1.1.0",
      "model_name": "LayoutModel",
      "state": {
       "width": "250px"
      }
     },
     "c74c246d0bc24c0bb4e337e76e2cfa3d": {
      "model_module": "@jupyter-widgets/base",
      "model_module_version": "1.1.0",
      "model_name": "LayoutModel",
      "state": {
       "width": "600px"
      }
     },
     "ca2a5cceda294adb8c20358841fdc265": {
      "model_module": "@jupyter-widgets/controls",
      "model_module_version": "1.4.0",
      "model_name": "HTMLModel",
      "state": {
       "layout": "IPY_MODEL_3fa71feac10f44fab50a70d6ced74aa5",
       "style": "IPY_MODEL_f137d4ce0e9d4f33a85ef26b07b126fc",
       "value": "<i>Wählen Sie die zwei korrekten Antworten aus.</i>"
      }
     },
     "cc88ad63040b42a3a89c22af5364889c": {
      "model_module": "@jupyter-widgets/base",
      "model_module_version": "1.1.0",
      "model_name": "LayoutModel",
      "state": {}
     },
     "ccf5937430e64d22a05ca8d33aa71d09": {
      "model_module": "@jupyter-widgets/controls",
      "model_module_version": "1.4.0",
      "model_name": "DescriptionStyleModel",
      "state": {
       "description_width": "initial"
      }
     },
     "ce23e0d350d94adb929e3e4eef455d7e": {
      "model_module": "@jupyter-widgets/controls",
      "model_module_version": "1.4.0",
      "model_name": "HTMLModel",
      "state": {
       "layout": "IPY_MODEL_95f130c87c2344f4b1446adbe00a21a1",
       "style": "IPY_MODEL_47aec24423ac44f0b1f529363c23d469",
       "value": "<i>Wählen Sie die zwei korrekten Antworten aus.</i>"
      }
     },
     "ce57ddad64b74341951a831a8b39aabc": {
      "model_module": "@jupyter-widgets/controls",
      "model_module_version": "1.4.0",
      "model_name": "DescriptionStyleModel",
      "state": {
       "description_width": ""
      }
     },
     "cfc1ad5a1e8d4e3082461a696da0be37": {
      "model_module": "@jupyter-widgets/controls",
      "model_module_version": "1.4.0",
      "model_name": "VBoxModel",
      "state": {
       "children": [
        "IPY_MODEL_fc2520ed25764e61b1441a72319cab9e",
        "IPY_MODEL_e7bdb7e82c8b4e399825207b2c1b4e68",
        "IPY_MODEL_eeced0403d8747f7bf102bcc6db76e03",
        "IPY_MODEL_71142d2fc3d94c7b9597308b056ca642"
       ],
       "layout": "IPY_MODEL_ace0523fe466461ea36fb4ec03c67f97"
      }
     },
     "d002f521a36d4b02b743206e60b21e60": {
      "model_module": "@jupyter-widgets/base",
      "model_module_version": "1.1.0",
      "model_name": "LayoutModel",
      "state": {
       "width": "600px"
      }
     },
     "d02bb77620ce42649caa05b32f1d0d5e": {
      "model_module": "@jupyter-widgets/controls",
      "model_module_version": "1.4.0",
      "model_name": "VBoxModel",
      "state": {
       "children": [
        "IPY_MODEL_bbbf77649850420fa71bb043306d5e28",
        "IPY_MODEL_eb01101482dc4f00945af11e50ae9336",
        "IPY_MODEL_9d9e3a03598e47e58c78a44ba1f1a55b",
        "IPY_MODEL_8c8a12f3e6ef4fca9b5ddaae5e28f2b9"
       ],
       "layout": "IPY_MODEL_67ef6a880aab420c9a667a9ee03cdf20"
      }
     },
     "d1c4dcd8cadb46f4ae4c27ae6b5d965e": {
      "model_module": "@jupyter-widgets/controls",
      "model_module_version": "1.4.0",
      "model_name": "DescriptionStyleModel",
      "state": {
       "description_width": "initial"
      }
     },
     "d250abd7f2fd47f395a6d5145f27fb86": {
      "model_module": "@jupyter-widgets/controls",
      "model_module_version": "1.4.0",
      "model_name": "CheckboxModel",
      "state": {
       "description": "strukturelle Ambiguität",
       "disabled": false,
       "layout": "IPY_MODEL_4156b80fc8eb4766be3b0df228ca9051",
       "style": "IPY_MODEL_1448ee3ebde941c4a4ddf48a38659ab0",
       "value": true
      }
     },
     "d343830da98249c7bcf0ba09fbcf5518": {
      "model_module": "@jupyter-widgets/controls",
      "model_module_version": "1.4.0",
      "model_name": "CheckboxModel",
      "state": {
       "description": "Abnahme der Anzahl von Regeln",
       "disabled": false,
       "layout": "IPY_MODEL_d002f521a36d4b02b743206e60b21e60",
       "style": "IPY_MODEL_e24c66e84a2e4fd794f724b065555486",
       "value": false
      }
     },
     "d563a75564d8410ca82b81cce6d736a3": {
      "model_module": "@jupyter-widgets/base",
      "model_module_version": "1.1.0",
      "model_name": "LayoutModel",
      "state": {}
     },
     "d5be7394786a4b17a31b49a9f9cebf8b": {
      "model_module": "@jupyter-widgets/controls",
      "model_module_version": "1.4.0",
      "model_name": "CheckboxModel",
      "state": {
       "description": "strukturelle Ambiguität",
       "disabled": false,
       "layout": "IPY_MODEL_8385bdc423f14c489524e7154249eeda",
       "style": "IPY_MODEL_a3cdcef25b454a0fb6b5c56260e1e5b0",
       "value": false
      }
     },
     "d6d4d6dec3064111bd24a56bde5c038f": {
      "model_module": "@jupyter-widgets/controls",
      "model_module_version": "1.4.0",
      "model_name": "CheckboxModel",
      "state": {
       "description": "Koordinierungsambigutiät",
       "disabled": false,
       "layout": "IPY_MODEL_376f56f6831d4f3b8608b7ec34dc96a0",
       "style": "IPY_MODEL_00cb2163680046ef821950cf2e0acd1f",
       "value": false
      }
     },
     "d761440293f74fddb8fdd62e820c3c11": {
      "model_module": "@jupyter-widgets/controls",
      "model_module_version": "1.4.0",
      "model_name": "VBoxModel",
      "state": {
       "children": [
        "IPY_MODEL_94bac248d3b74bbbae0126c7c5cd3f0d",
        "IPY_MODEL_492b8eff50424966a811cbb2b20621f6",
        "IPY_MODEL_367b290daaec4672b6f88f3426cca66c",
        "IPY_MODEL_0a67cdb9f02549cba18d86c4f1991de0"
       ],
       "layout": "IPY_MODEL_e70dcd6e61c14bb5890d8edb364fd3d2"
      }
     },
     "d8a4dfca7da7494c9c1a534ab1e50be8": {
      "model_module": "@jupyter-widgets/controls",
      "model_module_version": "1.4.0",
      "model_name": "DescriptionStyleModel",
      "state": {
       "description_width": "initial"
      }
     },
     "d9cda01968774f92a3f9ba3679bb2280": {
      "model_module": "@jupyter-widgets/controls",
      "model_module_version": "1.4.0",
      "model_name": "CheckboxModel",
      "state": {
       "description": "Attachment-Ambiguität",
       "disabled": false,
       "layout": "IPY_MODEL_8de5994c02a44d7ab31a43c52ecea3fb",
       "style": "IPY_MODEL_5538cf0f86ac45a29fc36f17b706048a",
       "value": false
      }
     },
     "daec7eb1549342caa8007e7309f60129": {
      "model_module": "@jupyter-widgets/controls",
      "model_module_version": "1.4.0",
      "model_name": "DescriptionStyleModel",
      "state": {
       "description_width": ""
      }
     },
     "dbc38619cd714a5dbb9fce42ca497a32": {
      "model_module": "@jupyter-widgets/base",
      "model_module_version": "1.1.0",
      "model_name": "LayoutModel",
      "state": {}
     },
     "dd0cb8ebdb454fe59ccb83aff51f31fd": {
      "model_module": "@jupyter-widgets/base",
      "model_module_version": "1.1.0",
      "model_name": "LayoutModel",
      "state": {
       "width": "600px"
      }
     },
     "de23fbaab2534281a763de7173050b36": {
      "model_module": "@jupyter-widgets/base",
      "model_module_version": "1.1.0",
      "model_name": "LayoutModel",
      "state": {
       "width": "600px"
      }
     },
     "e0d95579bcfa49e38e9ef2bdd44900f6": {
      "model_module": "@jupyter-widgets/base",
      "model_module_version": "1.1.0",
      "model_name": "LayoutModel",
      "state": {
       "width": "250px"
      }
     },
     "e12224320d9c447580541938167ea001": {
      "model_module": "@jupyter-widgets/base",
      "model_module_version": "1.1.0",
      "model_name": "LayoutModel",
      "state": {
       "width": "600px"
      }
     },
     "e1662bff2fc24e568b23f486ae73d881": {
      "model_module": "@jupyter-widgets/base",
      "model_module_version": "1.1.0",
      "model_name": "LayoutModel",
      "state": {
       "width": "600px"
      }
     },
     "e24c66e84a2e4fd794f724b065555486": {
      "model_module": "@jupyter-widgets/controls",
      "model_module_version": "1.4.0",
      "model_name": "DescriptionStyleModel",
      "state": {
       "description_width": "initial"
      }
     },
     "e46ce42583624823b9d012ff61c23ca1": {
      "model_module": "@jupyter-widgets/controls",
      "model_module_version": "1.4.0",
      "model_name": "HTMLModel",
      "state": {
       "layout": "IPY_MODEL_46fd846ad5dc488b98042841f9076ca5",
       "style": "IPY_MODEL_ce57ddad64b74341951a831a8b39aabc",
       "value": "<i>Wählen Sie die zwei korrekten Antworten aus.</i>"
      }
     },
     "e61e9ba33d52493882007c6072dc809c": {
      "model_module": "@jupyter-widgets/controls",
      "model_module_version": "1.4.0",
      "model_name": "DescriptionStyleModel",
      "state": {
       "description_width": "initial"
      }
     },
     "e634e5e08a53421f88f66962befc5ba2": {
      "model_module": "@jupyter-widgets/base",
      "model_module_version": "1.1.0",
      "model_name": "LayoutModel",
      "state": {
       "width": "600px"
      }
     },
     "e6f44f0638874297a80e1caf3966fa1c": {
      "model_module": "@jupyter-widgets/controls",
      "model_module_version": "1.4.0",
      "model_name": "DescriptionStyleModel",
      "state": {
       "description_width": ""
      }
     },
     "e70dcd6e61c14bb5890d8edb364fd3d2": {
      "model_module": "@jupyter-widgets/base",
      "model_module_version": "1.1.0",
      "model_name": "LayoutModel",
      "state": {}
     },
     "e7bdb7e82c8b4e399825207b2c1b4e68": {
      "model_module": "@jupyter-widgets/controls",
      "model_module_version": "1.4.0",
      "model_name": "CheckboxModel",
      "state": {
       "description": "Zunahme der Anzahl von Regeln",
       "disabled": false,
       "layout": "IPY_MODEL_4455f5ae320e4258a2f64317fe3063af",
       "style": "IPY_MODEL_6bd733a257b247d3a4fa8e7bd628fec0",
       "value": false
      }
     },
     "e89537df9c074cbbab324561d23738da": {
      "model_module": "@jupyter-widgets/base",
      "model_module_version": "1.1.0",
      "model_name": "LayoutModel",
      "state": {}
     },
     "e997bbf0b5f340848e3feeef420e00cb": {
      "model_module": "@jupyter-widgets/base",
      "model_module_version": "1.1.0",
      "model_name": "LayoutModel",
      "state": {}
     },
     "eb01101482dc4f00945af11e50ae9336": {
      "model_module": "@jupyter-widgets/controls",
      "model_module_version": "1.4.0",
      "model_name": "HTMLModel",
      "state": {
       "layout": "IPY_MODEL_12f6ea141a0c4388b80778aea5ea8fcc",
       "style": "IPY_MODEL_5adf3963b53b4ddfb1a780a411754384",
       "value": "<i>Wählen Sie die zwei korrekten Antworten aus.</i>"
      }
     },
     "eb207a0302c8442481d4d38ef98c8fad": {
      "model_module": "@jupyter-widgets/controls",
      "model_module_version": "1.4.0",
      "model_name": "CheckboxModel",
      "state": {
       "description": "längere Sätze",
       "disabled": false,
       "layout": "IPY_MODEL_6f369c389b91483492bd2ae2a6e984df",
       "style": "IPY_MODEL_a0e811f49f6e4954ac9fc744a2404377",
       "value": false
      }
     },
     "eb4118aa0ddd45118cfec72d87927282": {
      "model_module": "@jupyter-widgets/base",
      "model_module_version": "1.1.0",
      "model_name": "LayoutModel",
      "state": {
       "justify_content": "center"
      }
     },
     "edcff7bc827945a7b7dd10726e9c29d3": {
      "model_module": "@jupyter-widgets/controls",
      "model_module_version": "1.4.0",
      "model_name": "CheckboxModel",
      "state": {
       "description": "strukturelle Ambiguität",
       "disabled": false,
       "layout": "IPY_MODEL_64f66c2534254503b14ac79767856ca2",
       "style": "IPY_MODEL_b5a458f00e4e44ce87e83afae10fb983",
       "value": false
      }
     },
     "eea5ad4a31884d22b4429e716428e063": {
      "model_module": "@jupyter-widgets/controls",
      "model_module_version": "1.4.0",
      "model_name": "CheckboxModel",
      "state": {
       "description": "Zunahme der Anzahl von Regeln",
       "disabled": false,
       "layout": "IPY_MODEL_0bb9c51ded6b404e9b6a37059d0e6568",
       "style": "IPY_MODEL_9f666408d0294a9e810adaab0693d904",
       "value": false
      }
     },
     "eeced0403d8747f7bf102bcc6db76e03": {
      "model_module": "@jupyter-widgets/controls",
      "model_module_version": "1.4.0",
      "model_name": "CheckboxModel",
      "state": {
       "description": "kürzere Sätze",
       "disabled": false,
       "layout": "IPY_MODEL_de23fbaab2534281a763de7173050b36",
       "style": "IPY_MODEL_02e6414365614eb2a4497f9d79114542",
       "value": false
      }
     },
     "f005948f3caf49d3b07c8bd765d9e3d3": {
      "model_module": "@jupyter-widgets/base",
      "model_module_version": "1.1.0",
      "model_name": "LayoutModel",
      "state": {
       "width": "600px"
      }
     },
     "f0a95d41f75e452ca5d1e90d747efc44": {
      "model_module": "@jupyter-widgets/base",
      "model_module_version": "1.1.0",
      "model_name": "LayoutModel",
      "state": {
       "width": "250px"
      }
     },
     "f0bc36df76014c86a753c7a56ff74176": {
      "model_module": "@jupyter-widgets/base",
      "model_module_version": "1.1.0",
      "model_name": "LayoutModel",
      "state": {
       "width": "600px"
      }
     },
     "f0f21021898449769beca66be65415b5": {
      "model_module": "@jupyter-widgets/controls",
      "model_module_version": "1.4.0",
      "model_name": "ButtonStyleModel",
      "state": {}
     },
     "f137d4ce0e9d4f33a85ef26b07b126fc": {
      "model_module": "@jupyter-widgets/controls",
      "model_module_version": "1.4.0",
      "model_name": "DescriptionStyleModel",
      "state": {
       "description_width": ""
      }
     },
     "f2c316ee4e7145a1a430a2e3725c61f1": {
      "model_module": "@jupyter-widgets/controls",
      "model_module_version": "1.4.0",
      "model_name": "DescriptionStyleModel",
      "state": {
       "description_width": "initial"
      }
     },
     "f2d2de8dff8f42d082a4b148bf6e5bfa": {
      "model_module": "@jupyter-widgets/controls",
      "model_module_version": "1.4.0",
      "model_name": "HTMLModel",
      "state": {
       "layout": "IPY_MODEL_1fce46871e59403a91a5611663f22fe3",
       "style": "IPY_MODEL_daec7eb1549342caa8007e7309f60129",
       "value": "<i>Wählen Sie die zwei korrekten Antworten aus.</i>"
      }
     },
     "f3987e7044354260b2f036a6916c9122": {
      "model_module": "@jupyter-widgets/base",
      "model_module_version": "1.1.0",
      "model_name": "LayoutModel",
      "state": {
       "width": "250px"
      }
     },
     "f5b1067394ae4e8b8bad9c85b2a501f7": {
      "model_module": "@jupyter-widgets/base",
      "model_module_version": "1.1.0",
      "model_name": "LayoutModel",
      "state": {
       "width": "600px"
      }
     },
     "f787c6a3049e4633b2c7614e99ac2710": {
      "model_module": "@jupyter-widgets/controls",
      "model_module_version": "1.4.0",
      "model_name": "CheckboxModel",
      "state": {
       "description": "längere Sätze",
       "disabled": false,
       "layout": "IPY_MODEL_a4bd2119f3c145d19bdf81e03e0069d2",
       "style": "IPY_MODEL_6d707ed8d60747b0a31d29099b5b81bf",
       "value": false
      }
     },
     "f97a7a77ce0a4a709047ec2ea5f6b7f9": {
      "model_module": "@jupyter-widgets/controls",
      "model_module_version": "1.4.0",
      "model_name": "DescriptionStyleModel",
      "state": {
       "description_width": ""
      }
     },
     "f9fdd135a08141909d4a9f6b746e18e6": {
      "model_module": "@jupyter-widgets/controls",
      "model_module_version": "1.4.0",
      "model_name": "ButtonModel",
      "state": {
       "description": "Korrekt?",
       "layout": "IPY_MODEL_4c07d1c6776347a6b2b68cc02d3420eb",
       "style": "IPY_MODEL_f0f21021898449769beca66be65415b5"
      }
     },
     "faeb029082644b8d848ab6f001c78b02": {
      "model_module": "@jupyter-widgets/controls",
      "model_module_version": "1.4.0",
      "model_name": "HTMLModel",
      "state": {
       "layout": "IPY_MODEL_fb588679b63b4d7591fa08c5daad727d",
       "style": "IPY_MODEL_f97a7a77ce0a4a709047ec2ea5f6b7f9",
       "value": "<h4 style=\"font-size:14px;\">Welche zwei Arten von Ambiguität unterscheidet man hier?</h4>"
      }
     },
     "fb588679b63b4d7591fa08c5daad727d": {
      "model_module": "@jupyter-widgets/base",
      "model_module_version": "1.1.0",
      "model_name": "LayoutModel",
      "state": {}
     },
     "fc2520ed25764e61b1441a72319cab9e": {
      "model_module": "@jupyter-widgets/controls",
      "model_module_version": "1.4.0",
      "model_name": "CheckboxModel",
      "state": {
       "description": "Abnahme der Anzahl von Regeln",
       "disabled": false,
       "layout": "IPY_MODEL_1f6c15d57df14e33a44baa173e9b1787",
       "style": "IPY_MODEL_d1c4dcd8cadb46f4ae4c27ae6b5d965e",
       "value": false
      }
     },
     "fd7c3256c5f448c488802ca9fc447641": {
      "model_module": "@jupyter-widgets/controls",
      "model_module_version": "1.4.0",
      "model_name": "DescriptionStyleModel",
      "state": {
       "description_width": ""
      }
     },
     "fdfadbd8d18f4ea8992d0d958ee7d8a8": {
      "model_module": "@jupyter-widgets/controls",
      "model_module_version": "1.4.0",
      "model_name": "DescriptionStyleModel",
      "state": {
       "description_width": "initial"
      }
     }
    },
    "version_major": 2,
    "version_minor": 0
   }
  }
 },
 "nbformat": 4,
 "nbformat_minor": 2
}
