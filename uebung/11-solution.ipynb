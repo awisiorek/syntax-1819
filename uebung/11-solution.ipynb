{
 "cells": [
  {
   "cell_type": "markdown",
   "metadata": {},
   "source": [
    "***Vorlesung 'Syntax natürlicher Sprachen', WS 2018/19***\n",
    "\n",
    "---\n",
    "# Übung 11"
   ]
  },
  {
   "cell_type": "code",
   "execution_count": 1,
   "metadata": {
    "scrolled": true
   },
   "outputs": [],
   "source": [
    "import nltk\n",
    "from exercises_11 import *\n",
    "from questions import aufgabe"
   ]
  },
  {
   "cell_type": "markdown",
   "metadata": {},
   "source": [
    "---\n",
    "## Aufgabe 1: Herunterladen von Ressourcen\n",
    "\n",
    "#### Laden Sie sich zunächst die Ressource `corpora/treebank` über den NLTK Download-Manager herunter."
   ]
  },
  {
   "cell_type": "code",
   "execution_count": 2,
   "metadata": {},
   "outputs": [],
   "source": [
    "# nltk.download()"
   ]
  },
  {
   "cell_type": "markdown",
   "metadata": {},
   "source": [
    "---\n",
    "## Aufgabe 2: Von Daten zu Regelwahrscheinlichkeiten\n",
    "\n",
    "#### Gegeben sei folgende kontextfreie Grammatik:"
   ]
  },
  {
   "cell_type": "code",
   "execution_count": 3,
   "metadata": {},
   "outputs": [],
   "source": [
    "cfg = \"\"\"\n",
    "S -> NP VP\n",
    "VP -> V NP PP\n",
    "VP -> V NP\n",
    "NP -> DET N\n",
    "NP -> NP PP\n",
    "PP -> P NP\n",
    "\n",
    "DET -> \"the\" | \"a\"\n",
    "N -> \"boy\" | \"woman\" | \"telescope\"\n",
    "V -> \"saw\"\n",
    "P -> \"with\"\n",
    "\"\"\""
   ]
  },
  {
   "cell_type": "markdown",
   "metadata": {},
   "source": [
    "#### Sie modelliert sehr einfache Sätze der Form `SBJ` *saw* `OBJ` mit optionaler Präpositionalphrase am Ende. Diese Präpositionalphrase kann entweder der näheren Bestimmung des Objekts oder der näheren Bestimmung der in der Verbalphrase ausgedrückten Handlung dienen.\n",
    "\n",
    "#### Im folgenden sollen aus der Penn Treebank Wahrscheinlichkeiten für die einzelnen Regeln extrahiert werden, um dieser Ambiguität Herr zu werden."
   ]
  },
  {
   "cell_type": "markdown",
   "metadata": {},
   "source": [
    "---\n",
    "### Aufgabe 2a: Relevante Konstruktionen erkennen\n",
    "\n",
    "#### Nutzen das im NLTK enthaltene Sample der Penn Treebank (nach Installation unter `nltk.corpus.treebank` zu finden) zunächst zur Identifikation der für eine Disambiguierung nützlichen (Teil-)bäume der Penn Treebank.\n",
    "\n",
    "#### *Hinweis:* Sie können sich bei der Analyse auf die jeweils 30 häufigsten Konstruktionen der Baumbank beschränken."
   ]
  },
  {
   "cell_type": "code",
   "execution_count": 4,
   "metadata": {},
   "outputs": [],
   "source": [
    "from collections import defaultdict\n",
    "from nltk.corpus import treebank"
   ]
  },
  {
   "cell_type": "code",
   "execution_count": 5,
   "metadata": {},
   "outputs": [],
   "source": [
    "def find_relevant_constructions(lhs, only_with=None):\n",
    "    lhs_nt = nltk.grammar.Nonterminal(lhs)\n",
    "    should_filter = only_with is not None\n",
    "    if should_filter:\n",
    "        filter_by = list(map(nltk.grammar.Nonterminal, only_with))\n",
    "        def passes_filter(tup):\n",
    "            for f in filter_by:\n",
    "                if f not in tup:\n",
    "                    return False\n",
    "            return True\n",
    "\n",
    "    counter = defaultdict(int)\n",
    "    ### TODO: zähle Produktionen in treebank mit lhs als linker Seite ###\n",
    "    ### und einer rechten Seite, für die passes_filter True liefert ###\n",
    "    for tree in treebank.parsed_sents():  # [(S (NP DET N) (VP V NP))]\n",
    "        for prod in tree.productions():   # [(S, NP VP), (NP, DET N)]\n",
    "            if prod.lhs() == lhs_nt:\n",
    "                if not should_filter or passes_filter(prod.rhs()):\n",
    "                    counter[prod] += 1\n",
    "\n",
    "    return [ (k, counter[k]) for k in sorted(counter.keys(), key=counter.__getitem__) ]"
   ]
  },
  {
   "cell_type": "markdown",
   "metadata": {},
   "source": [
    "#### Die folgende Code-Zelle sollte mehrmals mit unterschiedlichen Parametern für `find_relevant_constructions` ausgeführt werden. Verschaffen Sie sich so interaktiv die nötigen Informationen zur Lösung der Aufgabe!"
   ]
  },
  {
   "cell_type": "code",
   "execution_count": 6,
   "metadata": {},
   "outputs": [
    {
     "data": {
      "text/plain": [
       "[(DT -> 'Those', 6),\n",
       " (DT -> 'Another', 6),\n",
       " (DT -> 'neither', 7),\n",
       " (DT -> 'Both', 9),\n",
       " (DT -> 'Each', 9),\n",
       " (DT -> 'No', 10),\n",
       " (DT -> 'half', 10),\n",
       " (DT -> 'All', 12),\n",
       " (DT -> 'An', 18),\n",
       " (DT -> 'every', 19),\n",
       " (DT -> 'These', 22),\n",
       " (DT -> 'Some', 22),\n",
       " (DT -> 'both', 34),\n",
       " (DT -> 'That', 37),\n",
       " (DT -> 'each', 37),\n",
       " (DT -> 'This', 40),\n",
       " (DT -> 'another', 42),\n",
       " (DT -> 'those', 55),\n",
       " (DT -> 'these', 55),\n",
       " (DT -> 'no', 76),\n",
       " (DT -> 'that', 77),\n",
       " (DT -> 'all', 86),\n",
       " (DT -> 'any', 103),\n",
       " (DT -> 'A', 105),\n",
       " (DT -> 'some', 122),\n",
       " (DT -> 'this', 184),\n",
       " (DT -> 'an', 316),\n",
       " (DT -> 'The', 713),\n",
       " (DT -> 'a', 1874),\n",
       " (DT -> 'the', 4038)]"
      ]
     },
     "execution_count": 6,
     "metadata": {},
     "output_type": "execute_result"
    }
   ],
   "source": [
    "constructions = find_relevant_constructions('DT')\n",
    "constructions[-30:]"
   ]
  },
  {
   "cell_type": "markdown",
   "metadata": {},
   "source": [
    "---\n",
    "### Aufgabe 2b:\n",
    "\n",
    "#### Zählen Sie nun, wie oft die jeweiligen Konstruktionen in der Penn Treebank vorkommen und berechnen Sie die relativen Häufigkeiten als Approximation der Regelwahrscheinlichkeiten. Das Vorgehen wird in folgender Formel veranschaulicht:\n",
    "\n",
    "$$P(V, N\\!P, P\\!P \\mid V\\!P) = \\dfrac{count(V\\!P \\rightarrow V\\:N\\!P\\:P\\!P)}{count(V\\!P \\rightarrow \\setminus*)}$$"
   ]
  },
  {
   "cell_type": "code",
   "execution_count": 7,
   "metadata": {},
   "outputs": [
    {
     "data": {
      "text/plain": [
       "(0.24716098864395458,\n",
       " 0.7528390113560455,\n",
       " 0.23582668678594523,\n",
       " 0.7641733132140548,\n",
       " 0.6830175913396481,\n",
       " 0.3169824086603518)"
      ]
     },
     "execution_count": 7,
     "metadata": {},
     "output_type": "execute_result"
    }
   ],
   "source": [
    "vp_with_pp_frq = 178 + 177 + 88 + 66 + 59 + 52 + 48 + 38 + 34\n",
    "vp_without_frq = 805 + 378 + 375 + 261 + 250 + 185\n",
    "vp_with_pp = vp_with_pp_frq / (vp_with_pp_frq + vp_without_frq)\n",
    "vp_without = vp_without_frq / (vp_with_pp_frq + vp_without_frq)\n",
    "\n",
    "np_with_pp_frq = 2188\n",
    "np_without_frq = 2020 + 1110 + 996 + 837 + 740 + 734 + 653\n",
    "np_with_pp = np_with_pp_frq / (np_with_pp_frq + np_without_frq)\n",
    "np_without = np_without_frq / (np_with_pp_frq + np_without_frq)\n",
    "\n",
    "det_the_frq = 4038\n",
    "det_a_frq = 1874\n",
    "det_the = det_the_frq / (det_the_frq + det_a_frq)\n",
    "det_a = det_a_frq / (det_the_frq + det_a_frq)\n",
    "\n",
    "(vp_with_pp, vp_without, np_with_pp, np_without, det_the, det_a)"
   ]
  },
  {
   "cell_type": "markdown",
   "metadata": {},
   "source": [
    "---\n",
    "### Aufgabe 2c: Erstellen einer PCFG\n",
    "\n",
    "#### Die aus den Daten extrahierten relativen Häufigkeiten sollen nun zur Erstellung einer probabilistischen kontextfreien Grammatik (PCFG)  genutzt werden."
   ]
  },
  {
   "cell_type": "code",
   "execution_count": 8,
   "metadata": {},
   "outputs": [
    {
     "name": "stdout",
     "output_type": "stream",
     "text": [
      "Grammar with 13 productions (start state = S)\n",
      "    S -> NP VP [1.0]\n",
      "    VP -> V NP PP [0.247161]\n",
      "    VP -> V NP [0.752839]\n",
      "    NP -> DET N [0.764173]\n",
      "    NP -> NP PP [0.235827]\n",
      "    PP -> P NP [1.0]\n",
      "    DET -> 'the' [0.683018]\n",
      "    DET -> 'a' [0.316982]\n",
      "    N -> 'boy' [0.4]\n",
      "    N -> 'woman' [0.4]\n",
      "    N -> 'telescope' [0.2]\n",
      "    V -> 'saw' [1.0]\n",
      "    P -> 'with' [1.0]\n"
     ]
    }
   ],
   "source": [
    "pcfg = \"\"\"\n",
    "S -> NP VP     [1.0]\n",
    "VP -> V NP PP  [{}]\n",
    "VP -> V NP     [{}]\n",
    "NP -> DET N    [{}]\n",
    "NP -> NP PP    [{}]\n",
    "PP -> P NP     [1.0]\n",
    "\n",
    "DET -> \"the\"     [{}]\n",
    "DET -> \"a\"       [{}]\n",
    "N -> \"boy\"       [0.4]\n",
    "N -> \"woman\"     [0.4]\n",
    "N -> \"telescope\" [0.2]\n",
    "V -> \"saw\"       [1.0]\n",
    "P -> \"with\"      [1.0]\n",
    "\"\"\".format(\n",
    "    vp_with_pp, vp_without, np_without,\n",
    "    np_with_pp, det_the, det_a\n",
    ")\n",
    "grammar = nltk.PCFG.fromstring(pcfg)\n",
    "print(grammar)"
   ]
  },
  {
   "cell_type": "markdown",
   "metadata": {},
   "source": [
    "---\n",
    "### Aufgabe 2d:\n",
    "\n",
    "#### Testen Sie Ihre so erstellte Grammatik nun, indem Sie folgenden Satz parsen:\n",
    "\n",
    "- *the boy saw a woman with a telescope*"
   ]
  },
  {
   "cell_type": "code",
   "execution_count": 9,
   "metadata": {},
   "outputs": [
    {
     "data": {
      "image/png": "[encoded data removed]",
      "text/plain": [
       "ProbabilisticTree('S', [ProbabilisticTree('NP', [ProbabilisticTree('DET', ['the']) (p=0.6830175913396481), ProbabilisticTree('N', ['boy']) (p=0.4)]) (p=0.20877752630300087), ProbabilisticTree('VP', [ProbabilisticTree('V', ['saw']) (p=1.0), ProbabilisticTree('NP', [ProbabilisticTree('DET', ['a']) (p=0.3169824086603518), ProbabilisticTree('N', ['woman']) (p=0.4)]) (p=0.09689179898262103), ProbabilisticTree('PP', [ProbabilisticTree('P', ['with']) (p=1.0), ProbabilisticTree('NP', [ProbabilisticTree('DET', ['a']) (p=0.3169824086603518), ProbabilisticTree('N', ['telescope']) (p=0.2)]) (p=0.048445899491310514)]) (p=0.048445899491310514)]) (p=0.0011601762400577146)]) (p=0.00024221872547476614)"
      ]
     },
     "metadata": {},
     "output_type": "display_data"
    }
   ],
   "source": [
    "from IPython.display import display\n",
    "\n",
    "parser = nltk.ViterbiParser(grammar)\n",
    "for tree in parser.parse(\"the boy saw a woman with a telescope\".split()):\n",
    "    display(tree)"
   ]
  },
  {
   "cell_type": "markdown",
   "metadata": {},
   "source": [
    "#### Wenn Sie sich die extrahierten Wahrscheinlichkeiten und das disambiguierte Ergebnis ansehen, überrascht Sie dann das Ergebnis der Syntaxanalyse?"
   ]
  },
  {
   "cell_type": "markdown",
   "metadata": {},
   "source": [
    "---\n",
    "## Aufgabe 3: Weiterverarbeitung syntaktischer Analysen\n",
    "\n",
    "#### In dieser Aufgabe sollen Sie die Ausgaben eines state-of-the-art-Parsers, nämlich des Stanford Parsers, weiterverarbeiten.\n",
    "\n",
    "#### Mit dem Ziel, Sie erst einmal mit den typischen Strukturen einer solchen Aufgabe vertraut zu machen, sollen Sie in dieser Aufgabe lediglich entscheiden, ob die Eingabe einen Infinitivsatz mit Objekt enthält.\n",
    "\n",
    "#### Zur Klarheit betrachten Sie die folgenden positiven und negativen Beispiele:"
   ]
  },
  {
   "cell_type": "code",
   "execution_count": 10,
   "metadata": {},
   "outputs": [],
   "source": [
    "pos_examples = [\n",
    "    \"Er beabsichtigt , den Kuchen ganz alleine zu essen .\",\n",
    "    \"Er behauptet , ihn gesehen zu haben .\"\n",
    "]\n",
    "neg_examples = [\n",
    "    \"Er glaubt , nach Hause zu fliegen .\",\n",
    "    \"Zu fliegen ist schön .\",\n",
    "    \"Er will gehen .\"\n",
    "]"
   ]
  },
  {
   "cell_type": "markdown",
   "metadata": {},
   "source": [
    "#### Zur Erinnerung die wichtigsten Schritte zur Nutzung des Stanford Parsers im NLTK:\n",
    "\n",
    "    1. Initialisierung\n",
    "\n",
    "#### (Beachten Sie, dass der Pfad-Separator OS-spezifisch ist. `os.path.join` setzt den für das Betriebssystem jeweils richtigen Separator zwischen die Argumente.)"
   ]
  },
  {
   "cell_type": "code",
   "execution_count": 11,
   "metadata": {},
   "outputs": [],
   "source": [
    "from nltk.parse.stanford import StanfordParser\n",
    "import os\n",
    "\n",
    "PATH_TO_CORE = os.path.join(os.getenv(\"HOME\"), \"nltk_data\", \"stanford-corenlp-full-2018-10-05\")\n",
    "PATH_TO_GERMAN_MODEL = os.path.join(os.getenv(\"HOME\"), \"nltk_data\", \"stanford-models-2018-10-05\")\n",
    "\n",
    "jar = os.path.join(PATH_TO_CORE, \"stanford-corenlp-3.9.2.jar\")\n",
    "model = os.path.join(PATH_TO_GERMAN_MODEL, \"stanford-german-corenlp-2018-10-05-models.jar\")"
   ]
  },
  {
   "cell_type": "markdown",
   "metadata": {},
   "source": [
    "    2. Parser-Erstellung"
   ]
  },
  {
   "cell_type": "code",
   "execution_count": 12,
   "metadata": {},
   "outputs": [],
   "source": [
    "import warnings\n",
    "warnings.filterwarnings(\"ignore\")"
   ]
  },
  {
   "cell_type": "code",
   "execution_count": 13,
   "metadata": {},
   "outputs": [],
   "source": [
    "parser = StanfordParser(\n",
    "    jar, model,\n",
    "    model_path=\"edu/stanford/nlp/models/lexparser/germanPCFG.ser.gz\"\n",
    ")"
   ]
  },
  {
   "cell_type": "markdown",
   "metadata": {},
   "source": [
    "    3. Parsen"
   ]
  },
  {
   "cell_type": "code",
   "execution_count": 14,
   "metadata": {},
   "outputs": [
    {
     "name": "stdout",
     "output_type": "stream",
     "text": [
      "                               ROOT                                      \n",
      "                                │                                         \n",
      "                                S                                        \n",
      " ┌────────┬────────┬────────────┴─────┬────────────────────────────────┐  \n",
      " │        │        │                  VP                               │ \n",
      " │        │        │       ┌──────────┴────┬─────────────────┐         │  \n",
      " │        │        │       NP             AVP                VZ        │ \n",
      " │        │        │   ┌───┴────┐     ┌────┴─────┐      ┌────┴────┐    │  \n",
      "PPER    VVFIN      $, ART       NN   ADV        ADV   PTKZU     VVINF  $.\n",
      " │        │        │   │        │     │          │      │         │    │  \n",
      " Er  beabsichtigt  ,  den     Kuchen ganz     alleine   zu      essen  . \n",
      "\n",
      "                   ROOT                                    \n",
      "                    │                                       \n",
      "                    S                                      \n",
      " ┌───────┬──────┬───┴────────────────┬───────────────────┐  \n",
      " │       │      │                    VP                  │ \n",
      " │       │      │        ┌───────────┴─────────┐         │  \n",
      " │       │      │        VP                    │         │ \n",
      " │       │      │   ┌────┴─────┐               │         │  \n",
      " │       │      │   NP         │               VZ        │ \n",
      " │       │      │   │          │          ┌────┴────┐    │  \n",
      "PPER   VVFIN    $, PPER       VVPP      PTKZU     VAINF  $.\n",
      " │       │      │   │          │          │         │    │  \n",
      " Er  behauptet  ,  ihn      gesehen       zu      haben  . \n",
      "\n",
      "                ROOT                                    \n",
      "                 │                                       \n",
      "                 S                                      \n",
      " ┌─────┬─────┬───┴──────────────┬─────────────────────┐  \n",
      " │     │     │                  VP                    │ \n",
      " │     │     │        ┌─────────┴─────────┐           │  \n",
      " │     │     │        PP                  VZ          │ \n",
      " │     │     │   ┌────┴────┐         ┌────┴─────┐     │  \n",
      "PPER VVFIN   $, APPR       NN      PTKZU      VVINF   $.\n",
      " │     │     │   │         │         │          │     │  \n",
      " Er  glaubt  ,  nach     Hause       zu      fliegen  . \n",
      "\n",
      "                   ROOT          \n",
      "                    │             \n",
      "                    S            \n",
      "       ┌────────────┼─────┬────┐  \n",
      "       VZ           │     │    │ \n",
      "  ┌────┴─────┐      │     │    │  \n",
      "PTKZU      VVINF  VAFIN  ADJD  $.\n",
      "  │          │      │     │    │  \n",
      "  Zu      fliegen  ist  schön  . \n",
      "\n",
      "      ROOT          \n",
      "       │             \n",
      "       S            \n",
      " ┌─────┼─────┬────┐  \n",
      " │     │     VP   │ \n",
      " │     │     │    │  \n",
      "PPER VMFIN VVINF  $.\n",
      " │     │     │    │  \n",
      " Er   will gehen  . \n",
      "\n"
     ]
    }
   ],
   "source": [
    "for sentence in pos_examples + neg_examples:\n",
    "    tree_list = list(parser.raw_parse(sentence))\n",
    "    tree_list[0].pretty_print(unicodelines=True)"
   ]
  },
  {
   "cell_type": "markdown",
   "metadata": {},
   "source": [
    "#### Betrachten Sie die Ausgabe für die Beispielsätze. Schreiben Sie dann eine Funktion, die `True` zurückgibt, wenn ein Satz mit einem Infinitv, der ein Objekt hat, vorliegt und `False` sonst."
   ]
  },
  {
   "cell_type": "code",
   "execution_count": 15,
   "metadata": {},
   "outputs": [],
   "source": [
    "def classify(sentence):\n",
    "    # Satz parsen (Syntaxbaum generieren)\n",
    "    tree = list(parser.raw_parse(sentence))[0]\n",
    "    \n",
    "    # Nach VP suchen\n",
    "    for vp in tree.subtrees(filter=lambda t: t.label() == \"VP\"):\n",
    "        # Nach Infinitiv (in VP) suchen\n",
    "        if not list(vp.subtrees(filter=lambda t: t.label().endswith(\"INF\"))):\n",
    "            continue\n",
    "        \n",
    "        # wenn gefunden: nach NP (in gleicher VP) suchen\n",
    "        if list(vp.subtrees(filter=lambda t: t.label() == \"NP\")):\n",
    "            # wenn auch gefunden: return True\n",
    "            return True\n",
    "    \n",
    "    # wenn Infinitiv in keiner VP nicht gefunden: return False\n",
    "    return False"
   ]
  },
  {
   "cell_type": "markdown",
   "metadata": {},
   "source": [
    "Die Ausgabe sollte sein:\n",
    "\n",
    "`True\n",
    "True\n",
    "False\n",
    "False\n",
    "False`"
   ]
  },
  {
   "cell_type": "code",
   "execution_count": 16,
   "metadata": {},
   "outputs": [
    {
     "name": "stdout",
     "output_type": "stream",
     "text": [
      "True\n",
      "True\n",
      "False\n",
      "False\n",
      "False\n"
     ]
    }
   ],
   "source": [
    "for p in pos_examples:\n",
    "    print(classify(p))\n",
    "for n in neg_examples:\n",
    "    print(classify(n))"
   ]
  },
  {
   "cell_type": "markdown",
   "metadata": {},
   "source": [
    "---\n",
    "# Hausaufgaben"
   ]
  },
  {
   "cell_type": "markdown",
   "metadata": {},
   "source": [
    "---\n",
    "## Aufgabe 4: PCFGs und Viterbi\n",
    "\n",
    "#### Beantworten Sie die folgenden grundlegenden Fragen über die heute verwendeten Technologien."
   ]
  },
  {
   "cell_type": "code",
   "execution_count": 17,
   "metadata": {
    "scrolled": false
   },
   "outputs": [
    {
     "data": {
      "application/vnd.jupyter.widget-view+json": {
       "model_id": "b7059a56bf58434981fbab1f9431254f",
       "version_major": 2,
       "version_minor": 0
      },
      "text/plain": [
       "MultipleChoice(children=(HTML(value='<h4 style=\"font-size:14px;\">Welche der folgenden Bedingungen wird an eine…"
      ]
     },
     "metadata": {},
     "output_type": "display_data"
    },
    {
     "data": {
      "application/vnd.jupyter.widget-view+json": {
       "model_id": "8bc8503ce7f340608147cb3d3e5afcc6",
       "version_major": 2,
       "version_minor": 0
      },
      "text/plain": [
       "MultipleChoice(children=(HTML(value='<h4 style=\"font-size:14px;\">Was ist die Aufgabe des Viterbi-Algorithmus?<…"
      ]
     },
     "metadata": {},
     "output_type": "display_data"
    }
   ],
   "source": [
    "aufgabe(blatt11_4)"
   ]
  },
  {
   "cell_type": "markdown",
   "metadata": {},
   "source": [
    "---\n",
    "## Aufgabe 5: Fragen zu NLTK-08-extras, 2.9 (\"Viterbi-Parser\")\n",
    "\n",
    "#### 1. Betrachten Sie die folgende im Kapitel gegebene PCFG:"
   ]
  },
  {
   "cell_type": "markdown",
   "metadata": {},
   "source": [
    "```\n",
    "grammar = nltk.PCFG.fromstring('''\n",
    "  NP  -> NNS [0.5] | JJ NNS [0.3] | NP CC NP [0.2]\n",
    "  NNS -> \"cats\" [0.1] | \"dogs\" [0.2] | \"mice\" [0.3] | NNS CC NNS [0.4]\n",
    "  JJ  -> \"big\" [0.4] | \"small\" [0.6]\n",
    "  CC  -> \"and\" [0.9] | \"or\" [0.1]\n",
    "  ''')\n",
    "viterbi_parser = nltk.ViterbiParser(grammar)\n",
    "\n",
    "sent = 'big cats and dogs'.split()\n",
    "for tree in viterbi_parser.parse(sent):\n",
    "    print(tree)\n",
    "```\n",
    "\n",
    "`(NP (JJ big) (NNS (NNS cats) (CC and) (NNS dogs))) (p=***)`"
   ]
  },
  {
   "cell_type": "code",
   "execution_count": 18,
   "metadata": {
    "scrolled": true
   },
   "outputs": [
    {
     "data": {
      "application/vnd.jupyter.widget-view+json": {
       "model_id": "2a774d3766474c688fab3c1b54bfc3ea",
       "version_major": 2,
       "version_minor": 0
      },
      "text/plain": [
       "OpenQuestion(children=(HTML(value='<h4 style=\"font-size:14px;\">Berechnen Sie die Wahrscheinlichkeit für die Ab…"
      ]
     },
     "metadata": {},
     "output_type": "display_data"
    }
   ],
   "source": [
    "aufgabe(blatt11_5_1)"
   ]
  },
  {
   "cell_type": "markdown",
   "metadata": {},
   "source": [
    "---\n",
    "#### 2. Betrachten Sie das dazugehörige Tracing-Output des `ViterbiParser`s:\n",
    "\n",
    "```\n",
    ">>> sent = 'big cats and dogs'.split()\n",
    ">>> viterbi_parser = nltk.ViterbiParser(grammar, trace = 3)\n",
    ">>> for tree in viterbi_parser.parse(sent):\n",
    ">>>     print(tree)\n",
    "\n",
    "Inserting tokens into the most likely constituents table...\n",
    "   Insert: |=...| big\n",
    "   Insert: |.=..| cats\n",
    "   Insert: |..=.| and\n",
    "   Insert: |...=| dogs\n",
    "Finding the most likely constituents spanning 1 text elements...\n",
    "   Insert: |=...| JJ -> 'big' [0.4]                 0.4000000000\n",
    "   Insert: |.=..| NNS -> 'cats' [0.1]               0.1000000000\n",
    "   Insert: |.=..| NP -> NNS [0.5]                   0.0500000000\n",
    "   Insert: |..=.| CC -> 'and' [0.9]                 0.9000000000\n",
    "   Insert: |...=| NNS -> 'dogs' [0.2]               0.2000000000\n",
    "   Insert: |...=| NP -> NNS [0.5]                   0.1000000000\n",
    "Finding the most likely constituents spanning 2 text elements...\n",
    "   Insert: |==..| NP -> JJ NNS [0.3]                0.0120000000\n",
    "Finding the most likely constituents spanning 3 text elements...\n",
    "   Insert: |.===| NP -> NP CC NP [0.2]              0.0009000000\n",
    "   Insert: |.===| NNS -> NNS CC NNS [0.4]           0.0072000000\n",
    "   Insert: |.===| NP -> NNS [0.5]                   0.0036000000\n",
    "  Discard: |.===| NP -> NP CC NP [0.2]              0.0009000000\n",
    "  Discard: |.===| NP -> NP CC NP [0.2]              0.0009000000\n",
    "Finding the most likely constituents spanning 4 text elements...\n",
    "   Insert: |====| NP -> JJ NNS [0.3]                0.0008640000\n",
    "  Discard: |====| NP -> NP CC NP [0.2]              0.0002160000\n",
    "  Discard: |====| NP -> NP CC NP [0.2]              0.0002160000\n",
    "(NP (JJ big) (NNS (NNS cats) (CC and) (NNS dogs))) (p=***)\n",
    "```"
   ]
  },
  {
   "cell_type": "code",
   "execution_count": 19,
   "metadata": {},
   "outputs": [
    {
     "data": {
      "application/vnd.jupyter.widget-view+json": {
       "model_id": "6817f2bf3465443f93f7a52d1d56fcf0",
       "version_major": 2,
       "version_minor": 0
      },
      "text/plain": [
       "MultipleChoice(children=(HTML(value='<h4 style=\"font-size:14px;\">Warum werden die Analysen in den Discard-Zeil…"
      ]
     },
     "metadata": {},
     "output_type": "display_data"
    }
   ],
   "source": [
    "aufgabe(blatt11_5_2)"
   ]
  },
  {
   "cell_type": "markdown",
   "metadata": {},
   "source": [
    "---\n",
    "#### 3. Ein statistischer ChartParser findet folgende 2 Ableitungen für die NP *big cats and dogs*:\n",
    "```\n",
    "(NP (JJ big) (NNS (NNS cats) (CC and) (NNS dogs))) (p=0.000864)\n",
    "(NP (NP (JJ big) (NNS cats)) (CC and) (NP (NNS dogs))) (p=0.000216)\n",
    "```"
   ]
  },
  {
   "cell_type": "code",
   "execution_count": 20,
   "metadata": {},
   "outputs": [
    {
     "name": "stdout",
     "output_type": "stream",
     "text": [
      "          NP         \n",
      " ┌────────┴───┐       \n",
      " │           NNS     \n",
      " │   ┌────────┼───┐   \n",
      " JJ NNS       CC NNS \n",
      " │   │        │   │   \n",
      "big cats     and dogs\n",
      "\n",
      "         NP          \n",
      "     ┌───┴────┬───┐   \n",
      "     NP       │   NP \n",
      " ┌───┴───┐    │   │   \n",
      " JJ     NNS   CC NNS \n",
      " │       │    │   │   \n",
      "big     cats and dogs\n",
      "\n"
     ]
    }
   ],
   "source": [
    "# Visualisierung\n",
    "from nltk import Tree\n",
    "\n",
    "tree1 = Tree.fromstring(\"(NP (JJ big) (NNS (NNS cats) (CC and) (NNS dogs)))\")\n",
    "tree2 = Tree.fromstring(\"(NP (NP (JJ big) (NNS cats)) (CC and) (NP (NNS dogs)))\")\n",
    "\n",
    "tree1.pretty_print(unicodelines=True)\n",
    "tree2.pretty_print(unicodelines=True)"
   ]
  },
  {
   "cell_type": "code",
   "execution_count": 21,
   "metadata": {},
   "outputs": [
    {
     "data": {
      "application/vnd.jupyter.widget-view+json": {
       "model_id": "dd0dda04c61e4e48b6c90486827010b6",
       "version_major": 2,
       "version_minor": 0
      },
      "text/plain": [
       "SingleChoice(children=(HTML(value='<h4 style=\"font-size:14px;\">Um welchen Parser kann es sich nicht handeln?</…"
      ]
     },
     "metadata": {},
     "output_type": "display_data"
    },
    {
     "data": {
      "application/vnd.jupyter.widget-view+json": {
       "model_id": "c6343fd0e6374a128d90bd7883c6e6aa",
       "version_major": 2,
       "version_minor": 0
      },
      "text/plain": [
       "SingleChoice(children=(HTML(value='<h4 style=\"font-size:14px;\">Nach welchem Kriterium wird beim Parsen mit dem…"
      ]
     },
     "metadata": {},
     "output_type": "display_data"
    },
    {
     "data": {
      "application/vnd.jupyter.widget-view+json": {
       "model_id": "72a078a499ac4c6195f98b8e2d3e4ade",
       "version_major": 2,
       "version_minor": 0
      },
      "text/plain": [
       "SingleChoice(children=(HTML(value='<h4 style=\"font-size:14px;\">Um welche Art der Ambiguität handelt es sich be…"
      ]
     },
     "metadata": {},
     "output_type": "display_data"
    }
   ],
   "source": [
    "aufgabe(blatt11_5_3)"
   ]
  }
 ],
 "metadata": {
  "kernelspec": {
   "display_name": "Python 3",
   "language": "python",
   "name": "python3"
  },
  "language_info": {
   "codemirror_mode": {
    "name": "ipython",
    "version": 3
   },
   "file_extension": ".py",
   "mimetype": "text/x-python",
   "name": "python",
   "nbconvert_exporter": "python",
   "pygments_lexer": "ipython3",
   "version": "3.6.6"
  },
  "widgets": {
   "application/vnd.jupyter.widget-state+json": {
    "state": {
     "00357360ca644f26b23c590e77dbc571": {
      "model_module": "@jupyter-widgets/controls",
      "model_module_version": "1.4.0",
      "model_name": "ButtonModel",
      "state": {
       "description": "Ihre Wahrscheinlichkeiten sind zu gering.",
       "layout": "IPY_MODEL_beee1d9f6582426fbe9423aa1edf236a",
       "style": "IPY_MODEL_0d08386c9fd848c19ac30f6c03975898"
      }
     },
     "004f919d94f54f54964bbd92218b40b4": {
      "model_module": "@jupyter-widgets/controls",
      "model_module_version": "1.4.0",
      "model_name": "VBoxModel",
      "state": {
       "children": [
        "IPY_MODEL_3bf6a823314f4b11925792db19191e92",
        "IPY_MODEL_7212aa2ea58d41888018cbac2087c720",
        "IPY_MODEL_f4d87cce3469464c9f97f886cef41472",
        "IPY_MODEL_57787bd5dabd4894b16d4ce1c4c4eedf"
       ],
       "layout": "IPY_MODEL_9c3b52cba9cf46c9b560ea8486ba4cb3"
      }
     },
     "0069127d10a442459678b83cc0ef442c": {
      "model_module": "@jupyter-widgets/controls",
      "model_module_version": "1.4.0",
      "model_name": "CheckboxModel",
      "state": {
       "description": "Die Summe aller Regelwahrscheinlichkeiten für jede LHS ist jeweils 1.",
       "disabled": false,
       "layout": "IPY_MODEL_ff2da75441d845fe98b53ba81feabf6b",
       "style": "IPY_MODEL_ba47a227330e4f79b6ffaf986be39545",
       "value": false
      }
     },
     "007ad2f5ddcf4593a08f69dd2b142596": {
      "model_module": "@jupyter-widgets/base",
      "model_module_version": "1.1.0",
      "model_name": "LayoutModel",
      "state": {}
     },
     "00bcf33c06a94035a9a0dece875846a7": {
      "model_module": "@jupyter-widgets/base",
      "model_module_version": "1.1.0",
      "model_name": "LayoutModel",
      "state": {}
     },
     "011d0099d9f24d4190de42d2daeefe9e": {
      "model_module": "@jupyter-widgets/controls",
      "model_module_version": "1.4.0",
      "model_name": "CheckboxModel",
      "state": {
       "description": "Sie analysieren die Eingabesequenz nicht komplett.",
       "disabled": false,
       "layout": "IPY_MODEL_352fae9949fe4c30b687bc23afb7a669",
       "style": "IPY_MODEL_93cc15f2aa6a4de5bd1fd1f9ae02bd60",
       "value": false
      }
     },
     "01505ebd78b441f79f2368560458fac5": {
      "model_module": "@jupyter-widgets/controls",
      "model_module_version": "1.4.0",
      "model_name": "ButtonModel",
      "state": {
       "description": "Korrekt?",
       "layout": "IPY_MODEL_9d7d4e00394d4f049af4bdd52609a937",
       "style": "IPY_MODEL_e585d19d60af4a8cbd2be969a6411265"
      }
     },
     "0169adfe254c48e39c29df47b4dee1ff": {
      "model_module": "@jupyter-widgets/base",
      "model_module_version": "1.1.0",
      "model_name": "LayoutModel",
      "state": {}
     },
     "01d4c2a2139740e09f671c3846bc93ad": {
      "model_module": "@jupyter-widgets/controls",
      "model_module_version": "1.4.0",
      "model_name": "DescriptionStyleModel",
      "state": {
       "description_width": "initial"
      }
     },
     "01d90e4b027e4d52a9675b52f5ce3e76": {
      "model_module": "@jupyter-widgets/base",
      "model_module_version": "1.1.0",
      "model_name": "LayoutModel",
      "state": {}
     },
     "01da0e35c72e466e9147ce0dd64b669b": {
      "model_module": "@jupyter-widgets/controls",
      "model_module_version": "1.4.0",
      "model_name": "VBoxModel",
      "state": {
       "children": [
        "IPY_MODEL_545f74babcdf4b13bb7aae5bd1370f24",
        "IPY_MODEL_0eaf67f5814a42389b82ce3e4ab7f89b",
        "IPY_MODEL_c9080e85646945c6a0edfcd25ae1e34c",
        "IPY_MODEL_f56678f273ca4a7b9d4b094cd81d3d69"
       ],
       "layout": "IPY_MODEL_23b79ba8563b4caca6bbb97259ba915b"
      }
     },
     "01f51ca899f447bb90252c6c906d2f1b": {
      "model_module": "@jupyter-widgets/controls",
      "model_module_version": "1.4.0",
      "model_name": "HTMLModel",
      "state": {
       "layout": "IPY_MODEL_79a334b5d25342f88c019f418ff9a59f",
       "style": "IPY_MODEL_b87ca162c2bc484c8192936c4cdea955",
       "value": "<h4 style=\"font-size:14px;\">Nach welchem Kriterium wird beim Parsen mit dem InsideChartParser (= <i>Lowest-Cost-First</i>-Strategie) die <i>edge queue</i> sortiert?</h4>"
      }
     },
     "0228318c9e004fcd83fda9083abca8a7": {
      "model_module": "@jupyter-widgets/controls",
      "model_module_version": "1.4.0",
      "model_name": "CheckboxModel",
      "state": {
       "description": "Die Summe aller Regelwahrscheinlichkeiten innerhalb einer Grammatik ist 1.",
       "disabled": false,
       "layout": "IPY_MODEL_35673bddb3ca4e0ba1895a22e47e6b6c",
       "style": "IPY_MODEL_7935a09cebdc49f59b6cba3571faebd1",
       "value": false
      }
     },
     "0240c87ca3c4479db8d931beb8691143": {
      "model_module": "@jupyter-widgets/controls",
      "model_module_version": "1.4.0",
      "model_name": "DescriptionStyleModel",
      "state": {
       "description_width": ""
      }
     },
     "02688367a33745ddb6bd92bd8cd71ae7": {
      "model_module": "@jupyter-widgets/base",
      "model_module_version": "1.1.0",
      "model_name": "LayoutModel",
      "state": {
       "justify_content": "center"
      }
     },
     "028b8dcce6af4429828504656a6b3db2": {
      "model_module": "@jupyter-widgets/controls",
      "model_module_version": "1.4.0",
      "model_name": "ButtonStyleModel",
      "state": {}
     },
     "029fb5a1db2043bcaa3afce5737303b2": {
      "model_module": "@jupyter-widgets/controls",
      "model_module_version": "1.4.0",
      "model_name": "ButtonModel",
      "state": {
       "description": "OK",
       "layout": "IPY_MODEL_bf146748e39f4e829722d63a9f2f5d60",
       "style": "IPY_MODEL_1802bd0e19494d5fbfe9b53c941a9cd4"
      }
     },
     "02a60b893d044153a2dc9001c1fb4e12": {
      "model_module": "@jupyter-widgets/base",
      "model_module_version": "1.1.0",
      "model_name": "LayoutModel",
      "state": {}
     },
     "02af3a6098d54c7ebe8df9752da45df9": {
      "model_module": "@jupyter-widgets/controls",
      "model_module_version": "1.4.0",
      "model_name": "ButtonModel",
      "state": {
       "description": "PP-Attachment-Ambiguität",
       "layout": "IPY_MODEL_6cab022f04c943658688411cfcdf5db0",
       "style": "IPY_MODEL_abd1c00983fb43d0913dd5305289c7bf"
      }
     },
     "02ccfe24ec8d48e783e5a7903d67b974": {
      "model_module": "@jupyter-widgets/controls",
      "model_module_version": "1.4.0",
      "model_name": "CheckboxModel",
      "state": {
       "description": "Die Analysen sind mit der gegebenen Grammatik nicht möglich.",
       "disabled": false,
       "layout": "IPY_MODEL_a985823f122549d5bd9e1172f24b0637",
       "style": "IPY_MODEL_594e840ccb1041079b6fd444ff09a49a",
       "value": false
      }
     },
     "03115b8296b04b1dbf62b023f1f1fa93": {
      "model_module": "@jupyter-widgets/controls",
      "model_module_version": "1.4.0",
      "model_name": "VBoxModel",
      "state": {
       "children": [
        "IPY_MODEL_9c867fca62d445c488f1081e98f97e61",
        "IPY_MODEL_a0a7b52043a447d392138ad6751b5c42",
        "IPY_MODEL_dfff7b5f22c04c18a1f0c5a52fe7c4b1"
       ],
       "layout": "IPY_MODEL_c15e17656dde4db8ae362334bc4655dc"
      }
     },
     "033e9d46b2444ccba2c3037f0672192e": {
      "model_module": "@jupyter-widgets/base",
      "model_module_version": "1.1.0",
      "model_name": "LayoutModel",
      "state": {}
     },
     "0387c5777ea04d979aa03af4c240343f": {
      "model_module": "@jupyter-widgets/controls",
      "model_module_version": "1.4.0",
      "model_name": "VBoxModel",
      "state": {
       "children": [
        "IPY_MODEL_a5acea8b4fe44f0f9e45f099b38bb418",
        "IPY_MODEL_2793cfd7b24546579910e67997e4779a",
        "IPY_MODEL_7674045fb1bb43d5b15590483fb32d46",
        "IPY_MODEL_01505ebd78b441f79f2368560458fac5"
       ],
       "layout": "IPY_MODEL_3420658c7f714255bc22347a13290398"
      }
     },
     "03a908c566c64f3ebf55198e8a610438": {
      "model_module": "@jupyter-widgets/controls",
      "model_module_version": "1.4.0",
      "model_name": "HBoxModel",
      "state": {
       "children": [
        "IPY_MODEL_6f9b07cd12d04cc19cd272987e44741e",
        "IPY_MODEL_fa275a949258450c9f6fcb1ce040f865"
       ],
       "layout": "IPY_MODEL_1171f62cb1be45d0b961360b201c9495"
      }
     },
     "0402793fadc643fa9db1a2939f647b6e": {
      "model_module": "@jupyter-widgets/controls",
      "model_module_version": "1.4.0",
      "model_name": "DescriptionStyleModel",
      "state": {
       "description_width": "initial"
      }
     },
     "040719a9afd8467dbaf4902d7f2902f9": {
      "model_module": "@jupyter-widgets/controls",
      "model_module_version": "1.4.0",
      "model_name": "DescriptionStyleModel",
      "state": {
       "description_width": ""
      }
     },
     "04b3af0740ea419b86685521873c5784": {
      "model_module": "@jupyter-widgets/controls",
      "model_module_version": "1.4.0",
      "model_name": "CheckboxModel",
      "state": {
       "description": "Die Summe aller Regelwahrscheinlichkeiten für jede LHS ist jeweils 1.",
       "disabled": false,
       "layout": "IPY_MODEL_ffe2024cbe6e4d74a172a5a70bb4b155",
       "style": "IPY_MODEL_2bfbbb557e3a4a8f8b6a18f36151140d",
       "value": false
      }
     },
     "04bee141af8d4c6dbe18e35439cdffc6": {
      "model_module": "@jupyter-widgets/base",
      "model_module_version": "1.1.0",
      "model_name": "LayoutModel",
      "state": {}
     },
     "04f319085f86448f926f0cab5beddeef": {
      "model_module": "@jupyter-widgets/controls",
      "model_module_version": "1.4.0",
      "model_name": "DescriptionStyleModel",
      "state": {
       "description_width": ""
      }
     },
     "0526c9a7a96545d383e9f8b5c6698d18": {
      "model_module": "@jupyter-widgets/base",
      "model_module_version": "1.1.0",
      "model_name": "LayoutModel",
      "state": {
       "width": "250px"
      }
     },
     "05945f03ee134f2696889abff6a3af9d": {
      "model_module": "@jupyter-widgets/controls",
      "model_module_version": "1.4.0",
      "model_name": "HTMLModel",
      "state": {
       "layout": "IPY_MODEL_b2996562c0464dd7b413678fc9bcf08d",
       "style": "IPY_MODEL_7d16d24074914f1485bc4ee48df8275f",
       "value": "<h4 style=\"font-size:14px;\">Welche der folgenden Bedingungen wird an eine PCFG gestellt?</h4>"
      }
     },
     "05983777b4834a5f8c997a948fda5d8b": {
      "model_module": "@jupyter-widgets/controls",
      "model_module_version": "1.4.0",
      "model_name": "DescriptionStyleModel",
      "state": {
       "description_width": ""
      }
     },
     "05a3dba9803b4544ba7490f75206fc40": {
      "model_module": "@jupyter-widgets/controls",
      "model_module_version": "1.4.0",
      "model_name": "ButtonModel",
      "state": {
       "description": "nach der Wahrscheinlichkeit",
       "layout": "IPY_MODEL_2c4e1e3e28ff4487b45ba70723948a1c",
       "style": "IPY_MODEL_3e696ecae3c64d87b21da5813dc8a68a"
      }
     },
     "05b71e392488485597a5dcc5dc4a2cc5": {
      "model_module": "@jupyter-widgets/base",
      "model_module_version": "1.1.0",
      "model_name": "LayoutModel",
      "state": {
       "width": "250px"
      }
     },
     "060a0045a00044f5bdf078dbe3e155c9": {
      "model_module": "@jupyter-widgets/controls",
      "model_module_version": "1.4.0",
      "model_name": "ButtonModel",
      "state": {
       "description": "OK",
       "layout": "IPY_MODEL_07e8615df7634c31a2e9f87a000135a7",
       "style": "IPY_MODEL_102ebf1f3b3c4668800e5576761747be"
      }
     },
     "0644410c81994461a97478ab82a27fe6": {
      "model_module": "@jupyter-widgets/base",
      "model_module_version": "1.1.0",
      "model_name": "LayoutModel",
      "state": {
       "width": "250px"
      }
     },
     "064d7ed70b794e8f80de27a2dbf8f5e2": {
      "model_module": "@jupyter-widgets/base",
      "model_module_version": "1.1.0",
      "model_name": "LayoutModel",
      "state": {}
     },
     "0669878f92324028b370101672d228b5": {
      "model_module": "@jupyter-widgets/controls",
      "model_module_version": "1.4.0",
      "model_name": "ButtonModel",
      "state": {
       "description": "Korrekt?",
       "layout": "IPY_MODEL_856276476b004c709a762ef5616f8c3d",
       "style": "IPY_MODEL_46dac0e7331b4ba3a899b6d87b9bd80f"
      }
     },
     "068442cb0fce49b694e21f504a037f37": {
      "model_module": "@jupyter-widgets/base",
      "model_module_version": "1.1.0",
      "model_name": "LayoutModel",
      "state": {}
     },
     "06b8d5faa2e443cebc614f371af13920": {
      "model_module": "@jupyter-widgets/controls",
      "model_module_version": "1.4.0",
      "model_name": "ButtonStyleModel",
      "state": {
       "button_color": "lightgreen"
      }
     },
     "06ba44d47ac94915b6bac5b72a490f33": {
      "model_module": "@jupyter-widgets/base",
      "model_module_version": "1.1.0",
      "model_name": "LayoutModel",
      "state": {
       "width": "250px"
      }
     },
     "06e2b0bfe02f437cbb877de433ebcc80": {
      "model_module": "@jupyter-widgets/controls",
      "model_module_version": "1.4.0",
      "model_name": "ButtonModel",
      "state": {
       "description": "Sie analysieren die Eingabesequenz nicht komplett.",
       "layout": "IPY_MODEL_5a8374c11eda4fad9670464285886c5b",
       "style": "IPY_MODEL_96a0cb69da2049599954716ab82cca1e"
      }
     },
     "07093ec8a9fa48a1a1acdf8d22c1c883": {
      "model_module": "@jupyter-widgets/controls",
      "model_module_version": "1.4.0",
      "model_name": "ButtonStyleModel",
      "state": {}
     },
     "072f9f1caedf462f991d95e5c46fa7d7": {
      "model_module": "@jupyter-widgets/base",
      "model_module_version": "1.1.0",
      "model_name": "LayoutModel",
      "state": {}
     },
     "0745659d1817456d833b8d14f58f5e2c": {
      "model_module": "@jupyter-widgets/controls",
      "model_module_version": "1.4.0",
      "model_name": "HBoxModel",
      "state": {
       "children": [
        "IPY_MODEL_af1b77d0565446918d972935a7250e12",
        "IPY_MODEL_aa87792dd2ac4e55966c1314c011366d"
       ],
       "layout": "IPY_MODEL_9528e4073c6341e7a439fe72ba81e97c"
      }
     },
     "074c5e34d7bf4e60be5f6898818155d4": {
      "model_module": "@jupyter-widgets/controls",
      "model_module_version": "1.4.0",
      "model_name": "DescriptionStyleModel",
      "state": {
       "description_width": "initial"
      }
     },
     "075972beff504c83b1461600c10ecb3f": {
      "model_module": "@jupyter-widgets/controls",
      "model_module_version": "1.4.0",
      "model_name": "ButtonStyleModel",
      "state": {}
     },
     "077020f48ec34d66b160ecf4f03a4dba": {
      "model_module": "@jupyter-widgets/base",
      "model_module_version": "1.1.0",
      "model_name": "LayoutModel",
      "state": {
       "width": "250px"
      }
     },
     "0773207b8fc44f2ebc4925ec17668f69": {
      "model_module": "@jupyter-widgets/base",
      "model_module_version": "1.1.0",
      "model_name": "LayoutModel",
      "state": {
       "width": "250px"
      }
     },
     "07e5622257ab4a6099a3e9ab3cd11202": {
      "model_module": "@jupyter-widgets/controls",
      "model_module_version": "1.4.0",
      "model_name": "HBoxModel",
      "state": {
       "children": [
        "IPY_MODEL_e68ebaeae409409e99413cc67fc9df0e",
        "IPY_MODEL_1c85776fdd594ea88577a37670eef1fd"
       ],
       "layout": "IPY_MODEL_3ef64fc4f5fd4af285afbffd67cd7d53"
      }
     },
     "07e67d94fbd84765b07450bdd3c31da3": {
      "model_module": "@jupyter-widgets/controls",
      "model_module_version": "1.4.0",
      "model_name": "HTMLModel",
      "state": {
       "layout": "IPY_MODEL_4dbb9640ef544a429b43db50ba8bf16f",
       "style": "IPY_MODEL_89b5b666347746d5a5ffbcf9f07e8b88",
       "value": "<h4 style=\"font-size:14px;\">Was ist die Aufgabe des Viterbi-Algorithmus?</h4>"
      }
     },
     "07e8615df7634c31a2e9f87a000135a7": {
      "model_module": "@jupyter-widgets/base",
      "model_module_version": "1.1.0",
      "model_name": "LayoutModel",
      "state": {}
     },
     "07f40b37ae6749e8a53da3e6a757b577": {
      "model_module": "@jupyter-widgets/controls",
      "model_module_version": "1.4.0",
      "model_name": "ButtonStyleModel",
      "state": {}
     },
     "0845b8504e38486cb6bafde16da93218": {
      "model_module": "@jupyter-widgets/controls",
      "model_module_version": "1.4.0",
      "model_name": "ButtonStyleModel",
      "state": {}
     },
     "08579f75c9614a55b46f4bfd24deca2a": {
      "model_module": "@jupyter-widgets/controls",
      "model_module_version": "1.4.0",
      "model_name": "VBoxModel",
      "state": {
       "children": [
        "IPY_MODEL_7c0e3170df2144c19693dfc9f26254ad",
        "IPY_MODEL_fd510eb0897149a889c0e6a74479f91b",
        "IPY_MODEL_03115b8296b04b1dbf62b023f1f1fa93",
        "IPY_MODEL_31a00655544945d1bea7c1e4f56fe50e"
       ],
       "layout": "IPY_MODEL_944f4228d4d648b5b784c016b1714cf2"
      }
     },
     "088df3b5b8b347b08bd9779722b7b053": {
      "model_module": "@jupyter-widgets/base",
      "model_module_version": "1.1.0",
      "model_name": "LayoutModel",
      "state": {}
     },
     "08e1182b04394dc4a810463db7fa13a2": {
      "model_module": "@jupyter-widgets/base",
      "model_module_version": "1.1.0",
      "model_name": "LayoutModel",
      "state": {}
     },
     "08e12ebaeacb4cdbb12fb39a649c58d4": {
      "model_module": "@jupyter-widgets/controls",
      "model_module_version": "1.4.0",
      "model_name": "ButtonModel",
      "state": {
       "description": "PP-Attachment",
       "layout": "IPY_MODEL_fe2121f07cba4414b2f982087fc33baa",
       "style": "IPY_MODEL_9a02e34bcc98400d806871ad37341d5c"
      }
     },
     "0907e74db0364b6884d4d77e596af7b7": {
      "model_module": "@jupyter-widgets/base",
      "model_module_version": "1.1.0",
      "model_name": "LayoutModel",
      "state": {
       "width": "250px"
      }
     },
     "09206c542aae4903905a528d904f2da3": {
      "model_module": "@jupyter-widgets/base",
      "model_module_version": "1.1.0",
      "model_name": "LayoutModel",
      "state": {
       "width": "600px"
      }
     },
     "094ba89df7874ffe9c61e8658e69300c": {
      "model_module": "@jupyter-widgets/base",
      "model_module_version": "1.1.0",
      "model_name": "LayoutModel",
      "state": {}
     },
     "09a9d17f7057496caf4b7f16ac99babf": {
      "model_module": "@jupyter-widgets/base",
      "model_module_version": "1.1.0",
      "model_name": "LayoutModel",
      "state": {
       "width": "250px"
      }
     },
     "09da6c3985ee4636a3c32adfd434a4a3": {
      "model_module": "@jupyter-widgets/controls",
      "model_module_version": "1.4.0",
      "model_name": "HTMLModel",
      "state": {
       "layout": "IPY_MODEL_c389252e767240e5b2538163cd70db6a",
       "style": "IPY_MODEL_762cbee95fce47bda5adb64f750ec09e",
       "value": "<i>Wählen Sie die <ins>eine</ins> korrekte Antwort aus: </i>"
      }
     },
     "09f8a7d0cf994f2092e6dde04ff4a20e": {
      "model_module": "@jupyter-widgets/base",
      "model_module_version": "1.1.0",
      "model_name": "LayoutModel",
      "state": {
       "width": "600px"
      }
     },
     "0a64ecf59777485ca027b0b1347e5325": {
      "model_module": "@jupyter-widgets/controls",
      "model_module_version": "1.4.0",
      "model_name": "VBoxModel",
      "state": {
       "children": [
        "IPY_MODEL_b5165ea14c004f4c8d91d94e58bbfd7a",
        "IPY_MODEL_702de1d761e64c589c3bd3a862d88e03",
        "IPY_MODEL_5ac537e9992649859e9745c5b661cdab",
        "IPY_MODEL_2e17c7991a24453d97a7cbfc0b9352e1"
       ],
       "layout": "IPY_MODEL_b60304dce7e846deac83eb39ff776372"
      }
     },
     "0abd5019d7354b0d93a54f5f9c3cd500": {
      "model_module": "@jupyter-widgets/controls",
      "model_module_version": "1.4.0",
      "model_name": "CheckboxModel",
      "state": {
       "description": "Die Analysen sind mit der gegebenen Grammatik nicht möglich.",
       "disabled": false,
       "layout": "IPY_MODEL_ba1e650f30024965926a328d6659ba88",
       "style": "IPY_MODEL_83abc7ea3e814131b21599e64344de79",
       "value": false
      }
     },
     "0ae8dbd04461450f80ad331b8680dc4c": {
      "model_module": "@jupyter-widgets/base",
      "model_module_version": "1.1.0",
      "model_name": "LayoutModel",
      "state": {}
     },
     "0b246f8ef4254760aadeee58c533da7f": {
      "model_module": "@jupyter-widgets/controls",
      "model_module_version": "1.4.0",
      "model_name": "ButtonStyleModel",
      "state": {}
     },
     "0b2b9c909f3c4290b876d059bf07a918": {
      "model_module": "@jupyter-widgets/controls",
      "model_module_version": "1.4.0",
      "model_name": "ButtonStyleModel",
      "state": {}
     },
     "0b997731e8fc47e589ffb331c9e88f67": {
      "model_module": "@jupyter-widgets/controls",
      "model_module_version": "1.4.0",
      "model_name": "ButtonStyleModel",
      "state": {}
     },
     "0bab27cf21f24fb3be38a4de1a760fff": {
      "model_module": "@jupyter-widgets/base",
      "model_module_version": "1.1.0",
      "model_name": "LayoutModel",
      "state": {
       "width": "600px"
      }
     },
     "0bd6172c47fe4428814e3370a57fd26b": {
      "model_module": "@jupyter-widgets/controls",
      "model_module_version": "1.4.0",
      "model_name": "VBoxModel",
      "state": {
       "children": [
        "IPY_MODEL_24444dea2133433a9447fcac206d28b4",
        "IPY_MODEL_5ad032c9854e4894897f3791382958ee",
        "IPY_MODEL_d2b2f1475dcd4d26bc8fc8b13b45e9a2",
        "IPY_MODEL_c8b10ad09cda44509163e71307f48b69"
       ],
       "layout": "IPY_MODEL_4d9aeecedda64938b71c0afae62ae18e"
      }
     },
     "0c24d3737b4641eabd2a1cc42dc25c41": {
      "model_module": "@jupyter-widgets/controls",
      "model_module_version": "1.4.0",
      "model_name": "ButtonStyleModel",
      "state": {}
     },
     "0c7533611f504b0ca618fb642d3f03d5": {
      "model_module": "@jupyter-widgets/base",
      "model_module_version": "1.1.0",
      "model_name": "LayoutModel",
      "state": {
       "width": "250px"
      }
     },
     "0c9af069b971455dbd47d13dbe783635": {
      "model_module": "@jupyter-widgets/base",
      "model_module_version": "1.1.0",
      "model_name": "LayoutModel",
      "state": {}
     },
     "0c9f5b874fc447bb9959a9264a8e51fb": {
      "model_module": "@jupyter-widgets/controls",
      "model_module_version": "1.4.0",
      "model_name": "DescriptionStyleModel",
      "state": {
       "description_width": "initial"
      }
     },
     "0cad72c299a548428b081e077433b713": {
      "model_module": "@jupyter-widgets/controls",
      "model_module_version": "1.4.0",
      "model_name": "CheckboxModel",
      "state": {
       "description": "Die Summe aller Regelwahrscheinlichkeiten für jede RHS ist jeweils 1.",
       "disabled": false,
       "layout": "IPY_MODEL_3531a009fa35472bbbfd17cd11d92a9d",
       "style": "IPY_MODEL_fec65733025f4972a1ae50522c45fed4",
       "value": false
      }
     },
     "0cb3efbff9cd4f16851365e6ef1ceaed": {
      "model_module": "@jupyter-widgets/controls",
      "model_module_version": "1.4.0",
      "model_name": "HBoxModel",
      "state": {
       "children": [
        "IPY_MODEL_bbbc7b4b5b6e4abb9dafc02560bcbaf3"
       ],
       "layout": "IPY_MODEL_47c3d5afad6a4c408505ddfa068d675d"
      }
     },
     "0cf20bfbcfa04a48a3e88f73706a732b": {
      "model_module": "@jupyter-widgets/base",
      "model_module_version": "1.1.0",
      "model_name": "LayoutModel",
      "state": {
       "border": "2px solid lightgreen"
      }
     },
     "0d08386c9fd848c19ac30f6c03975898": {
      "model_module": "@jupyter-widgets/controls",
      "model_module_version": "1.4.0",
      "model_name": "ButtonStyleModel",
      "state": {}
     },
     "0d11fa5204fd46b38140bafd345d8108": {
      "model_module": "@jupyter-widgets/controls",
      "model_module_version": "1.4.0",
      "model_name": "ButtonModel",
      "state": {
       "description": "ViterbiParser",
       "layout": "IPY_MODEL_96b2f868499e4633851c3c38aeb3354f",
       "style": "IPY_MODEL_2d49d5121c83407c9ac9fc672036fc71"
      }
     },
     "0d32fb24da4242ec9c5677e8f86217b1": {
      "model_module": "@jupyter-widgets/controls",
      "model_module_version": "1.4.0",
      "model_name": "ButtonModel",
      "state": {
       "description": "Korrekt?",
       "layout": "IPY_MODEL_10858eb6d8c245a19841ccfdfd8036c0",
       "style": "IPY_MODEL_f0951b8bc9804c9ea62a03d043fb4805"
      }
     },
     "0d338731caee431d9dc3ec46b9473d67": {
      "model_module": "@jupyter-widgets/controls",
      "model_module_version": "1.4.0",
      "model_name": "ButtonModel",
      "state": {
       "description": "Koordinationsambiguität",
       "layout": "IPY_MODEL_0c7533611f504b0ca618fb642d3f03d5",
       "style": "IPY_MODEL_cd4ee6a9eb5d4bc899301f32a83f11f2"
      }
     },
     "0d7187cdae934dadb2b546bf94f2d2e0": {
      "model_module": "@jupyter-widgets/controls",
      "model_module_version": "1.4.0",
      "model_name": "HTMLModel",
      "state": {
       "layout": "IPY_MODEL_20080434dd5841d0bf11d49bdd6a55b8",
       "style": "IPY_MODEL_df7fef06fda745e28e8cfe706bdee104",
       "value": "<h4 style=\"font-size:14px;\">Was ist die Aufgabe des Viterbi-Algorithmus?</h4>"
      }
     },
     "0d853d316dc54dc48b9cf42801b9d0cb": {
      "model_module": "@jupyter-widgets/controls",
      "model_module_version": "1.4.0",
      "model_name": "DescriptionStyleModel",
      "state": {
       "description_width": "initial"
      }
     },
     "0d9b4396d2fa432782b2c583940ca31d": {
      "model_module": "@jupyter-widgets/controls",
      "model_module_version": "1.4.0",
      "model_name": "HTMLModel",
      "state": {
       "layout": "IPY_MODEL_40c8e220ad394bc39c1abdbcc9ea35bd",
       "style": "IPY_MODEL_b80b39636a7c46beade1e63398d7a6a8",
       "value": "<i>Wählen Sie die <ins>eine</ins> korrekte Antwort aus: </i>"
      }
     },
     "0d9c194380d241e5b184f60cfb7c7f78": {
      "model_module": "@jupyter-widgets/base",
      "model_module_version": "1.1.0",
      "model_name": "LayoutModel",
      "state": {}
     },
     "0dce722592de4e4bae536cc6142882fd": {
      "model_module": "@jupyter-widgets/controls",
      "model_module_version": "1.4.0",
      "model_name": "HTMLModel",
      "state": {
       "layout": "IPY_MODEL_26ae95b3c39c48319691993edb84fdcd",
       "style": "IPY_MODEL_166b7302a07b496a90b1d38a090952c9",
       "value": "<h4 style=\"font-size:14px;\">Um welche Art der Ambiguität handelt es sich bei den beiden gefundenen Ableitungen?</h4>"
      }
     },
     "0df048796cca432985403a98624efb66": {
      "model_module": "@jupyter-widgets/controls",
      "model_module_version": "1.4.0",
      "model_name": "VBoxModel",
      "state": {
       "children": [
        "IPY_MODEL_5b40bc20873e44828c9e60f0d7e63d1d",
        "IPY_MODEL_b749f85cf847499da4f643298b3fb679",
        "IPY_MODEL_59af2d1e55e044298bd5c713fcdd684e",
        "IPY_MODEL_011d0099d9f24d4190de42d2daeefe9e"
       ],
       "layout": "IPY_MODEL_e5183d43ee3f49baa2ef05370822ab98"
      }
     },
     "0df6d848ab004b2995437867a93b5235": {
      "model_module": "@jupyter-widgets/controls",
      "model_module_version": "1.4.0",
      "model_name": "DescriptionStyleModel",
      "state": {
       "description_width": "initial"
      }
     },
     "0dfde4ff4b3a4f6c8263114f8fd636cc": {
      "model_module": "@jupyter-widgets/controls",
      "model_module_version": "1.4.0",
      "model_name": "CheckboxModel",
      "state": {
       "description": "Die Summe aller Regelwahrscheinlichkeiten für jede RHS ist jeweils 1.",
       "disabled": false,
       "layout": "IPY_MODEL_69542b7baa474923a796b62b4b17e85a",
       "style": "IPY_MODEL_c410c0f0ff1b4fcc9d8d57f9abcf7d45",
       "value": false
      }
     },
     "0e10a1aeac2841ab8baf4eb7926bac63": {
      "model_module": "@jupyter-widgets/controls",
      "model_module_version": "1.4.0",
      "model_name": "DescriptionStyleModel",
      "state": {
       "description_width": "initial"
      }
     },
     "0e1302f5a5a54151b4cc00043d3d974e": {
      "model_module": "@jupyter-widgets/base",
      "model_module_version": "1.1.0",
      "model_name": "LayoutModel",
      "state": {
       "width": "250px"
      }
     },
     "0e441ea7a49b497faf8f48b9b824c6cb": {
      "model_module": "@jupyter-widgets/base",
      "model_module_version": "1.1.0",
      "model_name": "LayoutModel",
      "state": {}
     },
     "0e63504e0aa54738a9e4f4688ecd53b6": {
      "model_module": "@jupyter-widgets/base",
      "model_module_version": "1.1.0",
      "model_name": "LayoutModel",
      "state": {
       "width": "600px"
      }
     },
     "0e7140c654bc4c73867bb0d1f0eb6a8a": {
      "model_module": "@jupyter-widgets/controls",
      "model_module_version": "1.4.0",
      "model_name": "ButtonStyleModel",
      "state": {}
     },
     "0e730ff9a73a4a3cb43f734fe14b5bcb": {
      "model_module": "@jupyter-widgets/controls",
      "model_module_version": "1.4.0",
      "model_name": "ButtonModel",
      "state": {
       "description": "Korrekt?",
       "layout": "IPY_MODEL_1f689ec11b42407cacd8545974552c80",
       "style": "IPY_MODEL_445b95c765424dbf888e255cf6d17e01"
      }
     },
     "0e8fd933c76f4bfc974d5676d64edaca": {
      "model_module": "@jupyter-widgets/controls",
      "model_module_version": "1.4.0",
      "model_name": "ButtonStyleModel",
      "state": {}
     },
     "0eaf67f5814a42389b82ce3e4ab7f89b": {
      "model_module": "@jupyter-widgets/controls",
      "model_module_version": "1.4.0",
      "model_name": "HTMLModel",
      "state": {
       "layout": "IPY_MODEL_f1fb5098d15e4323a99ee70e314657b0",
       "style": "IPY_MODEL_2c4c1c69c1e946caab70502bb9a59a84",
       "value": "<i>Wählen Sie die <ins>eine</ins> korrekte Antwort aus: </i>"
      }
     },
     "0eb51851db274200aa21bd382f9e571c": {
      "model_module": "@jupyter-widgets/base",
      "model_module_version": "1.1.0",
      "model_name": "LayoutModel",
      "state": {}
     },
     "0ebff0a1e0dc4f8682f7e5c17f81c9b5": {
      "model_module": "@jupyter-widgets/base",
      "model_module_version": "1.1.0",
      "model_name": "LayoutModel",
      "state": {
       "width": "250px"
      }
     },
     "0eea36bf6a0846259404c1ada2b29f6e": {
      "model_module": "@jupyter-widgets/base",
      "model_module_version": "1.1.0",
      "model_name": "LayoutModel",
      "state": {}
     },
     "0eeae0b10cf04c06a6f21fce36a9b729": {
      "model_module": "@jupyter-widgets/controls",
      "model_module_version": "1.4.0",
      "model_name": "DescriptionStyleModel",
      "state": {
       "description_width": ""
      }
     },
     "0f1e8a7de48d4d5198db849997553f0d": {
      "model_module": "@jupyter-widgets/controls",
      "model_module_version": "1.4.0",
      "model_name": "DescriptionStyleModel",
      "state": {
       "description_width": ""
      }
     },
     "0f7852605b484257a1d44de9665c718f": {
      "model_module": "@jupyter-widgets/controls",
      "model_module_version": "1.4.0",
      "model_name": "DescriptionStyleModel",
      "state": {
       "description_width": "initial"
      }
     },
     "0faab84f047e4dffa16d4a0355ab0181": {
      "model_module": "@jupyter-widgets/base",
      "model_module_version": "1.1.0",
      "model_name": "LayoutModel",
      "state": {}
     },
     "0fb6d5894a574fb0acb2b873f63f54d8": {
      "model_module": "@jupyter-widgets/controls",
      "model_module_version": "1.4.0",
      "model_name": "CheckboxModel",
      "state": {
       "description": "Sie analysieren die Eingabesequenz nicht komplett.",
       "disabled": false,
       "layout": "IPY_MODEL_ce2517586e4145c099a0f1d33265f74e",
       "style": "IPY_MODEL_317eb1a7446b448f9c21fe1540403558",
       "value": false
      }
     },
     "0fbcb8928b304c6098088ba8ced14e99": {
      "model_module": "@jupyter-widgets/controls",
      "model_module_version": "1.4.0",
      "model_name": "DescriptionStyleModel",
      "state": {
       "description_width": "initial"
      }
     },
     "0fbe0c9c0f0942e1bd66d15e9bef050c": {
      "model_module": "@jupyter-widgets/controls",
      "model_module_version": "1.4.0",
      "model_name": "ButtonModel",
      "state": {
       "description": "Korrekt?",
       "layout": "IPY_MODEL_0526c9a7a96545d383e9f8b5c6698d18",
       "style": "IPY_MODEL_91736c9688d8412c980b252661f007ad"
      }
     },
     "1015ede035fd4580ac00608ddded9047": {
      "model_module": "@jupyter-widgets/controls",
      "model_module_version": "1.4.0",
      "model_name": "ButtonModel",
      "state": {
       "description": "nach der beam-size",
       "layout": "IPY_MODEL_ea42e4c9151345f4ad6367eae2ecef28",
       "style": "IPY_MODEL_48ea48b09da546a4bad14ce793b33016"
      }
     },
     "102ebf1f3b3c4668800e5576761747be": {
      "model_module": "@jupyter-widgets/controls",
      "model_module_version": "1.4.0",
      "model_name": "ButtonStyleModel",
      "state": {}
     },
     "105fd1b07e244e62a63946816226bc0c": {
      "model_module": "@jupyter-widgets/controls",
      "model_module_version": "1.4.0",
      "model_name": "ButtonModel",
      "state": {
       "description": "InsideChartParser",
       "layout": "IPY_MODEL_524e9c58b0634586ac6a46bc07c35ca1",
       "style": "IPY_MODEL_76388b83f2be461f90269a8ae1ce717c"
      }
     },
     "1066d0f5a0034d3b8fd87c0af2a52f61": {
      "model_module": "@jupyter-widgets/base",
      "model_module_version": "1.1.0",
      "model_name": "LayoutModel",
      "state": {}
     },
     "10858eb6d8c245a19841ccfdfd8036c0": {
      "model_module": "@jupyter-widgets/base",
      "model_module_version": "1.1.0",
      "model_name": "LayoutModel",
      "state": {
       "width": "250px"
      }
     },
     "1090bc751a0841cabb74d75001eee3a3": {
      "model_module": "@jupyter-widgets/controls",
      "model_module_version": "1.4.0",
      "model_name": "ButtonStyleModel",
      "state": {}
     },
     "10a66ee811f74b0896716001be8dece2": {
      "model_module": "@jupyter-widgets/base",
      "model_module_version": "1.1.0",
      "model_name": "LayoutModel",
      "state": {
       "width": "250px"
      }
     },
     "10ab2abec65e458fa5c7106f6c597574": {
      "model_module": "@jupyter-widgets/controls",
      "model_module_version": "1.4.0",
      "model_name": "HBoxModel",
      "state": {
       "children": [
        "IPY_MODEL_0d338731caee431d9dc3ec46b9473d67",
        "IPY_MODEL_3e88bd66cfb94c8491dcbe3c06f70fd9"
       ],
       "layout": "IPY_MODEL_4422ef812b5a4f44ae7b456ec3fa63e4"
      }
     },
     "10b1ef9fdcf84ee8aa0ce90817f0a570": {
      "model_module": "@jupyter-widgets/base",
      "model_module_version": "1.1.0",
      "model_name": "LayoutModel",
      "state": {
       "width": "250px"
      }
     },
     "10b404c0238a4dfc84cdd3468e928974": {
      "model_module": "@jupyter-widgets/controls",
      "model_module_version": "1.4.0",
      "model_name": "ButtonModel",
      "state": {
       "description": "Die Analysen sind mit der gegebenen Grammatik nicht möglich.",
       "layout": "IPY_MODEL_4c8903ca54ce4487b7169265ca3f33ca",
       "style": "IPY_MODEL_9e65e7ea3aa64635bdda65db980700c5"
      }
     },
     "10d8cdf9aa0c4d98bc60841b8f4d1c45": {
      "model_module": "@jupyter-widgets/controls",
      "model_module_version": "1.4.0",
      "model_name": "ButtonModel",
      "state": {
       "description": "LongestChartParser",
       "layout": "IPY_MODEL_b80eb0adf9264f628cff3945105e85f9",
       "style": "IPY_MODEL_45ae6aafa97b465da639b5b863dfd778"
      }
     },
     "10feb9bb8efe4f7d891e95548266e7d7": {
      "model_module": "@jupyter-widgets/controls",
      "model_module_version": "1.4.0",
      "model_name": "DescriptionStyleModel",
      "state": {
       "description_width": "initial"
      }
     },
     "113a19f644c04f4dbba0aad0008aefa6": {
      "model_module": "@jupyter-widgets/controls",
      "model_module_version": "1.4.0",
      "model_name": "ButtonStyleModel",
      "state": {
       "button_color": "lightgreen"
      }
     },
     "1167f1a7bfc946718147f838da0b9bf6": {
      "model_module": "@jupyter-widgets/controls",
      "model_module_version": "1.4.0",
      "model_name": "DescriptionStyleModel",
      "state": {
       "description_width": ""
      }
     },
     "1171f62cb1be45d0b961360b201c9495": {
      "model_module": "@jupyter-widgets/base",
      "model_module_version": "1.1.0",
      "model_name": "LayoutModel",
      "state": {}
     },
     "119ab56fb631449188714b6aba2abdf1": {
      "model_module": "@jupyter-widgets/base",
      "model_module_version": "1.1.0",
      "model_name": "LayoutModel",
      "state": {}
     },
     "11a035dd902342f6ae2d67b1042f963a": {
      "model_module": "@jupyter-widgets/controls",
      "model_module_version": "1.4.0",
      "model_name": "ButtonStyleModel",
      "state": {}
     },
     "11e4c8ad95924692a78394a8859d19d3": {
      "model_module": "@jupyter-widgets/base",
      "model_module_version": "1.1.0",
      "model_name": "LayoutModel",
      "state": {}
     },
     "11f895f9e2a14eaf9d2e0d4372850f02": {
      "model_module": "@jupyter-widgets/controls",
      "model_module_version": "1.4.0",
      "model_name": "ButtonModel",
      "state": {
       "description": "LongestChartParser",
       "layout": "IPY_MODEL_06ba44d47ac94915b6bac5b72a490f33",
       "style": "IPY_MODEL_0b246f8ef4254760aadeee58c533da7f"
      }
     },
     "12017169daad4f44b57460be89c06adc": {
      "model_module": "@jupyter-widgets/base",
      "model_module_version": "1.1.0",
      "model_name": "LayoutModel",
      "state": {
       "width": "250px"
      }
     },
     "120711841a104dcda2c73c6940d66c15": {
      "model_module": "@jupyter-widgets/controls",
      "model_module_version": "1.4.0",
      "model_name": "DescriptionStyleModel",
      "state": {
       "description_width": "initial"
      }
     },
     "123f4cc7f47e48d4a652f4115ebbde76": {
      "model_module": "@jupyter-widgets/base",
      "model_module_version": "1.1.0",
      "model_name": "LayoutModel",
      "state": {}
     },
     "126cfcb43c454237996c90076adb5cc1": {
      "model_module": "@jupyter-widgets/controls",
      "model_module_version": "1.4.0",
      "model_name": "HTMLModel",
      "state": {
       "layout": "IPY_MODEL_7ad0f9aa34a64fe2ac03e3ce5497cee9",
       "style": "IPY_MODEL_a4de80e8442c4ecc8885591bbba74fe1",
       "value": "<h4 style=\"font-size:14px;\">Berechnen Sie die Wahrscheinlichkeit für die Ableitung in der letzten Zeile.</h4>"
      }
     },
     "12befbc3018c4726baa0d21ca7529eeb": {
      "model_module": "@jupyter-widgets/base",
      "model_module_version": "1.1.0",
      "model_name": "LayoutModel",
      "state": {
       "justify_content": "center"
      }
     },
     "12ef501ce26540448e7200ce1c2faef9": {
      "model_module": "@jupyter-widgets/base",
      "model_module_version": "1.1.0",
      "model_name": "LayoutModel",
      "state": {}
     },
     "1307ed149336412b9fb359d75b53785c": {
      "model_module": "@jupyter-widgets/controls",
      "model_module_version": "1.4.0",
      "model_name": "ButtonModel",
      "state": {
       "description": "Koordinationsambiguität",
       "layout": "IPY_MODEL_5a88d640bc5649e3b61b70e5801725fe",
       "style": "IPY_MODEL_7676338a4d624a04b1cb60c49c04a572"
      }
     },
     "130dbfd558dd4cfd9eb94e86e9c6c5c7": {
      "model_module": "@jupyter-widgets/base",
      "model_module_version": "1.1.0",
      "model_name": "LayoutModel",
      "state": {
       "width": "600px"
      }
     },
     "130f86a02e374f86908493d134e509b7": {
      "model_module": "@jupyter-widgets/controls",
      "model_module_version": "1.4.0",
      "model_name": "DescriptionStyleModel",
      "state": {
       "description_width": "initial"
      }
     },
     "13245b3e075749f78c941d214a4a1d4f": {
      "model_module": "@jupyter-widgets/base",
      "model_module_version": "1.1.0",
      "model_name": "LayoutModel",
      "state": {
       "width": "600px"
      }
     },
     "138da94950174292a223e35eca3039b7": {
      "model_module": "@jupyter-widgets/base",
      "model_module_version": "1.1.0",
      "model_name": "LayoutModel",
      "state": {}
     },
     "13f70d5d21ac4ffc93a1efda0ec0d8e9": {
      "model_module": "@jupyter-widgets/base",
      "model_module_version": "1.1.0",
      "model_name": "LayoutModel",
      "state": {}
     },
     "1406dd6689914376971b0e82bcbe67ca": {
      "model_module": "@jupyter-widgets/base",
      "model_module_version": "1.1.0",
      "model_name": "LayoutModel",
      "state": {
       "width": "600px"
      }
     },
     "14381eec7a7446a9a16683abe55aec9c": {
      "model_module": "@jupyter-widgets/base",
      "model_module_version": "1.1.0",
      "model_name": "LayoutModel",
      "state": {}
     },
     "143a35f115ba40dc89017baf6fa9f4bc": {
      "model_module": "@jupyter-widgets/controls",
      "model_module_version": "1.4.0",
      "model_name": "DescriptionStyleModel",
      "state": {
       "description_width": ""
      }
     },
     "145e095008fd41afae99554ca6d01b54": {
      "model_module": "@jupyter-widgets/controls",
      "model_module_version": "1.4.0",
      "model_name": "DescriptionStyleModel",
      "state": {
       "description_width": ""
      }
     },
     "151a2b5fe48c44d3b260bdb4249176d2": {
      "model_module": "@jupyter-widgets/controls",
      "model_module_version": "1.4.0",
      "model_name": "HBoxModel",
      "state": {
       "children": [
        "IPY_MODEL_a5d65bb028c3439f9ea8ee4edaf77f3f",
        "IPY_MODEL_b1c2cc8e18464945b0e5fd06f2d1de4e"
       ],
       "layout": "IPY_MODEL_a129a7b09ae3496c837d18daccd67e7d"
      }
     },
     "15313ab7c982490c9b965bc7c0411019": {
      "model_module": "@jupyter-widgets/controls",
      "model_module_version": "1.4.0",
      "model_name": "DescriptionStyleModel",
      "state": {
       "description_width": ""
      }
     },
     "1546a45293804799b9a27c3f80de3c50": {
      "model_module": "@jupyter-widgets/controls",
      "model_module_version": "1.4.0",
      "model_name": "DescriptionStyleModel",
      "state": {
       "description_width": "initial"
      }
     },
     "1546f5017b6441bab7d83f51645c56e6": {
      "model_module": "@jupyter-widgets/controls",
      "model_module_version": "1.4.0",
      "model_name": "ButtonModel",
      "state": {
       "description": "Temporale Ambiguität",
       "layout": "IPY_MODEL_71bb4e7250b849e7951410e3dab64ad9",
       "style": "IPY_MODEL_62bba8483650467387f1cc143c0bca66"
      }
     },
     "15485a05114e4b888ab86898e7157d79": {
      "model_module": "@jupyter-widgets/controls",
      "model_module_version": "1.4.0",
      "model_name": "DescriptionStyleModel",
      "state": {
       "description_width": ""
      }
     },
     "155a824685894ba1b898afb86dcb3b78": {
      "model_module": "@jupyter-widgets/base",
      "model_module_version": "1.1.0",
      "model_name": "LayoutModel",
      "state": {
       "width": "600px"
      }
     },
     "158fc1c8280e44a5841daad3fae8e774": {
      "model_module": "@jupyter-widgets/base",
      "model_module_version": "1.1.0",
      "model_name": "LayoutModel",
      "state": {
       "width": "250px"
      }
     },
     "15ab93d9c13d4be3a9337a8b02f0f44a": {
      "model_module": "@jupyter-widgets/base",
      "model_module_version": "1.1.0",
      "model_name": "LayoutModel",
      "state": {
       "justify_content": "center"
      }
     },
     "15fbef7744ad4044b9b468e7794e7980": {
      "model_module": "@jupyter-widgets/base",
      "model_module_version": "1.1.0",
      "model_name": "LayoutModel",
      "state": {}
     },
     "1600b5369aa545d0adda2fd549c60740": {
      "model_module": "@jupyter-widgets/base",
      "model_module_version": "1.1.0",
      "model_name": "LayoutModel",
      "state": {
       "width": "250px"
      }
     },
     "163c032219ff4d05a7dca74ddb5a336d": {
      "model_module": "@jupyter-widgets/controls",
      "model_module_version": "1.4.0",
      "model_name": "ButtonStyleModel",
      "state": {}
     },
     "163ca7580b6544cba801a6b93d768c49": {
      "model_module": "@jupyter-widgets/base",
      "model_module_version": "1.1.0",
      "model_name": "LayoutModel",
      "state": {}
     },
     "163d1366898540238cd4c95dcef42060": {
      "model_module": "@jupyter-widgets/controls",
      "model_module_version": "1.4.0",
      "model_name": "VBoxModel",
      "state": {
       "children": [
        "IPY_MODEL_d3e7a4d6c21242219a4e2e065a85f19b",
        "IPY_MODEL_a4d391ffedce4c3f8910e0084b7cb33d",
        "IPY_MODEL_c47326bec8e047ccbd20ec83b99026d5",
        "IPY_MODEL_dd8323c7d9a64d0e81c13a470708c19e"
       ],
       "layout": "IPY_MODEL_d30303ff2d64412a94c6822f8238e229"
      }
     },
     "1644ecba1e894f2da0d68380692a471e": {
      "model_module": "@jupyter-widgets/controls",
      "model_module_version": "1.4.0",
      "model_name": "DescriptionStyleModel",
      "state": {
       "description_width": ""
      }
     },
     "1668cdbd4a8247c9aae190c799cf0331": {
      "model_module": "@jupyter-widgets/controls",
      "model_module_version": "1.4.0",
      "model_name": "HBoxModel",
      "state": {
       "children": [
        "IPY_MODEL_9095337fa7234c858073c5d26295a151"
       ],
       "layout": "IPY_MODEL_0d9c194380d241e5b184f60cfb7c7f78"
      }
     },
     "166b7302a07b496a90b1d38a090952c9": {
      "model_module": "@jupyter-widgets/controls",
      "model_module_version": "1.4.0",
      "model_name": "DescriptionStyleModel",
      "state": {
       "description_width": ""
      }
     },
     "1679762e365540c88c44007485552d68": {
      "model_module": "@jupyter-widgets/controls",
      "model_module_version": "1.4.0",
      "model_name": "ButtonStyleModel",
      "state": {}
     },
     "169c9206bd9e4ebeb7f2c5faaa2aa7ce": {
      "model_module": "@jupyter-widgets/controls",
      "model_module_version": "1.4.0",
      "model_name": "VBoxModel",
      "state": {
       "children": [
        "IPY_MODEL_a08b37a0fd47492181edb6a5f654f3b5",
        "IPY_MODEL_e044df67f2444d5ab6f84464537a48f6",
        "IPY_MODEL_447cc05323c34325a028840c57b07183",
        "IPY_MODEL_abcf382851054ccf8afb4f27170b4426"
       ],
       "layout": "IPY_MODEL_b289247a04914fe9bb2f9166c889cdc7"
      }
     },
     "16a4176e88fc4a7baa9b2362dd34d49a": {
      "model_module": "@jupyter-widgets/controls",
      "model_module_version": "1.4.0",
      "model_name": "DescriptionStyleModel",
      "state": {
       "description_width": ""
      }
     },
     "1776ee5ca20b468da0e0bc1b8ee1e619": {
      "model_module": "@jupyter-widgets/base",
      "model_module_version": "1.1.0",
      "model_name": "LayoutModel",
      "state": {}
     },
     "178f22b3d5b74e5e94b4c3e88e295192": {
      "model_module": "@jupyter-widgets/base",
      "model_module_version": "1.1.0",
      "model_name": "LayoutModel",
      "state": {}
     },
     "17f667362825476da29ee9e52f8e5cd9": {
      "model_module": "@jupyter-widgets/controls",
      "model_module_version": "1.4.0",
      "model_name": "ButtonStyleModel",
      "state": {
       "button_color": "lightgreen"
      }
     },
     "1802bd0e19494d5fbfe9b53c941a9cd4": {
      "model_module": "@jupyter-widgets/controls",
      "model_module_version": "1.4.0",
      "model_name": "ButtonStyleModel",
      "state": {}
     },
     "182758a433e5460eaeba77a1734200db": {
      "model_module": "@jupyter-widgets/controls",
      "model_module_version": "1.4.0",
      "model_name": "CheckboxModel",
      "state": {
       "description": "Ihre Wahrscheinlichkeiten sind zu gering.",
       "disabled": false,
       "layout": "IPY_MODEL_6875f3e64fb64508a50d796b5f9d6c68",
       "style": "IPY_MODEL_e93045ad23714daea36ccb20044c12da",
       "value": false
      }
     },
     "1859d49e514945a6980d66bf6cc39dea": {
      "model_module": "@jupyter-widgets/base",
      "model_module_version": "1.1.0",
      "model_name": "LayoutModel",
      "state": {}
     },
     "188f611bf8b14a1bbace95cd2401fe7e": {
      "model_module": "@jupyter-widgets/controls",
      "model_module_version": "1.4.0",
      "model_name": "ButtonModel",
      "state": {
       "description": "Korrekt?",
       "layout": "IPY_MODEL_44b417b114dd4041a2a338d722d602df",
       "style": "IPY_MODEL_b41be79b4cb5451a994e902cffb26535"
      }
     },
     "1896a573247b4c32bf496ada9e84d28c": {
      "model_module": "@jupyter-widgets/base",
      "model_module_version": "1.1.0",
      "model_name": "LayoutModel",
      "state": {
       "width": "250px"
      }
     },
     "194b5d297fb84e0f89064ede8a5252c0": {
      "model_module": "@jupyter-widgets/base",
      "model_module_version": "1.1.0",
      "model_name": "LayoutModel",
      "state": {}
     },
     "19bfe78139d541dc8fa1a24e6219f320": {
      "model_module": "@jupyter-widgets/base",
      "model_module_version": "1.1.0",
      "model_name": "LayoutModel",
      "state": {}
     },
     "1a2dc1747fc14ac481c72dbaa5f9ec43": {
      "model_module": "@jupyter-widgets/controls",
      "model_module_version": "1.4.0",
      "model_name": "ButtonModel",
      "state": {
       "description": "ViterbiParser",
       "layout": "IPY_MODEL_f53fd7b2aa0e40c09bc60361c7a52cc4",
       "style": "IPY_MODEL_704ca64bbc2f4968bd70945df6565e39"
      }
     },
     "1a5491c46b7d476e8bd6cb963ac5c035": {
      "model_module": "@jupyter-widgets/controls",
      "model_module_version": "1.4.0",
      "model_name": "ButtonStyleModel",
      "state": {}
     },
     "1a57dd1ddc584dc1aba49877ac452574": {
      "model_module": "@jupyter-widgets/base",
      "model_module_version": "1.1.0",
      "model_name": "LayoutModel",
      "state": {}
     },
     "1a6485eca6774279a1504551ea668df6": {
      "model_module": "@jupyter-widgets/controls",
      "model_module_version": "1.4.0",
      "model_name": "ButtonStyleModel",
      "state": {}
     },
     "1ac51bc1f5e344b293582cd23fea593e": {
      "model_module": "@jupyter-widgets/controls",
      "model_module_version": "1.4.0",
      "model_name": "CheckboxModel",
      "state": {
       "description": "Bestimmung des wahrscheinlichsten Syntaxbaums",
       "disabled": false,
       "layout": "IPY_MODEL_b08874947810421e9a434fc426c1156b",
       "style": "IPY_MODEL_1546a45293804799b9a27c3f80de3c50",
       "value": false
      }
     },
     "1ac77f40978245038ac035f7de056374": {
      "model_module": "@jupyter-widgets/controls",
      "model_module_version": "1.4.0",
      "model_name": "HTMLModel",
      "state": {
       "layout": "IPY_MODEL_c474b9c1e80c4119a4a057476a51e542",
       "style": "IPY_MODEL_93d38ce916754ca591183f3763df7f13",
       "value": "<i>Geben Sie die korrekte Antwort ein: </i>"
      }
     },
     "1ad4410a334f478aab848c667a804dc2": {
      "model_module": "@jupyter-widgets/controls",
      "model_module_version": "1.4.0",
      "model_name": "HBoxModel",
      "state": {
       "children": [
        "IPY_MODEL_c8f79aa6319949b08c9a97e7a7d3458a",
        "IPY_MODEL_f40e52a5fa884d369916a304ceccf3fd"
       ],
       "layout": "IPY_MODEL_c1748e44dddd4426bf813899b3d53f58"
      }
     },
     "1ad5fdf3b1d045259ee29034866974a1": {
      "model_module": "@jupyter-widgets/controls",
      "model_module_version": "1.4.0",
      "model_name": "HTMLModel",
      "state": {
       "layout": "IPY_MODEL_eb58d16c4e2d41f1acc9e43fd94748d3",
       "style": "IPY_MODEL_67cb0568f196417285f05314586154d1",
       "value": "<i>Wählen Sie die <ins>eine</ins> korrekte Antwort aus: </i>"
      }
     },
     "1af08001aeaf4f4885c396d7f3921af8": {
      "model_module": "@jupyter-widgets/controls",
      "model_module_version": "1.4.0",
      "model_name": "ButtonStyleModel",
      "state": {}
     },
     "1b110e459bdf4892a879cf88ea12c95b": {
      "model_module": "@jupyter-widgets/controls",
      "model_module_version": "1.4.0",
      "model_name": "HBoxModel",
      "state": {
       "children": [
        "IPY_MODEL_70339ee1967c4da2ba7f57ce47ebb9ac",
        "IPY_MODEL_64f9c4e2a95747e5b464111ea13773d0"
       ],
       "layout": "IPY_MODEL_fd057b9593b940a0952924a1283e12b8"
      }
     },
     "1b1baccab94a4c2ebd729bc6f57f781d": {
      "model_module": "@jupyter-widgets/base",
      "model_module_version": "1.1.0",
      "model_name": "LayoutModel",
      "state": {
       "width": "600px"
      }
     },
     "1b2b083d9d744c9097afa5115a96a978": {
      "model_module": "@jupyter-widgets/base",
      "model_module_version": "1.1.0",
      "model_name": "LayoutModel",
      "state": {
       "width": "600px"
      }
     },
     "1b59abee5d9a4dbfb7f32f5d13c34c6d": {
      "model_module": "@jupyter-widgets/controls",
      "model_module_version": "1.4.0",
      "model_name": "ButtonStyleModel",
      "state": {
       "button_color": "lightgreen"
      }
     },
     "1c1e65acf8af4fc8a854dc41a5cf5054": {
      "model_module": "@jupyter-widgets/controls",
      "model_module_version": "1.4.0",
      "model_name": "ButtonModel",
      "state": {
       "description": "Temporale Ambiguität",
       "layout": "IPY_MODEL_dcdeae615d8f480b86de2ceed514a56d",
       "style": "IPY_MODEL_1af08001aeaf4f4885c396d7f3921af8"
      }
     },
     "1c22d3e85d804386b42bdfb7ccc9aacf": {
      "model_module": "@jupyter-widgets/base",
      "model_module_version": "1.1.0",
      "model_name": "LayoutModel",
      "state": {}
     },
     "1c60ca71150943dcba15349adbce0e67": {
      "model_module": "@jupyter-widgets/base",
      "model_module_version": "1.1.0",
      "model_name": "LayoutModel",
      "state": {
       "width": "250px"
      }
     },
     "1c85776fdd594ea88577a37670eef1fd": {
      "model_module": "@jupyter-widgets/controls",
      "model_module_version": "1.4.0",
      "model_name": "ButtonModel",
      "state": {
       "description": "PP-Attachment-Ambiguität",
       "layout": "IPY_MODEL_7ffe0771a97d4368858b7c15f96f5f89",
       "style": "IPY_MODEL_1a6485eca6774279a1504551ea668df6"
      }
     },
     "1c86584731da4679b54434075c8f4e56": {
      "model_module": "@jupyter-widgets/controls",
      "model_module_version": "1.4.0",
      "model_name": "DescriptionStyleModel",
      "state": {
       "description_width": "initial"
      }
     },
     "1c89739bee67415183e958e3fcc3ebcb": {
      "model_module": "@jupyter-widgets/controls",
      "model_module_version": "1.4.0",
      "model_name": "DescriptionStyleModel",
      "state": {
       "description_width": "initial"
      }
     },
     "1c9836e8a359437c9a36adf19e0071c2": {
      "model_module": "@jupyter-widgets/base",
      "model_module_version": "1.1.0",
      "model_name": "LayoutModel",
      "state": {
       "width": "250px"
      }
     },
     "1cc7817fb8904ebf9dccf12328f311c5": {
      "model_module": "@jupyter-widgets/base",
      "model_module_version": "1.1.0",
      "model_name": "LayoutModel",
      "state": {
       "width": "600px"
      }
     },
     "1cc937b23cab4b05af16514ebba0a469": {
      "model_module": "@jupyter-widgets/controls",
      "model_module_version": "1.4.0",
      "model_name": "CheckboxModel",
      "state": {
       "description": "Die Analysen sind mit der gegebenen Grammatik nicht möglich.",
       "disabled": false,
       "layout": "IPY_MODEL_af00faf0d7514e13aea4607e4d4a560c",
       "style": "IPY_MODEL_1c89739bee67415183e958e3fcc3ebcb",
       "value": false
      }
     },
     "1ce394e732aa48f79118ab8b0c72abba": {
      "model_module": "@jupyter-widgets/base",
      "model_module_version": "1.1.0",
      "model_name": "LayoutModel",
      "state": {
       "justify_content": "center"
      }
     },
     "1d2e315b979c442cab00697cbebebe5a": {
      "model_module": "@jupyter-widgets/base",
      "model_module_version": "1.1.0",
      "model_name": "LayoutModel",
      "state": {
       "width": "250px"
      }
     },
     "1d7d78ef9df840bcbfe6869a52cb69bf": {
      "model_module": "@jupyter-widgets/controls",
      "model_module_version": "1.4.0",
      "model_name": "HBoxModel",
      "state": {
       "children": [
        "IPY_MODEL_2c39c93bd60a4ad7b4fa9ae11c89326d"
       ],
       "layout": "IPY_MODEL_0eea36bf6a0846259404c1ada2b29f6e"
      }
     },
     "1d922f31e8ab43e7a9ca3c5324d1de64": {
      "model_module": "@jupyter-widgets/controls",
      "model_module_version": "1.4.0",
      "model_name": "DescriptionStyleModel",
      "state": {
       "description_width": ""
      }
     },
     "1db23b4e5d39479da2986cfc166c90fe": {
      "model_module": "@jupyter-widgets/base",
      "model_module_version": "1.1.0",
      "model_name": "LayoutModel",
      "state": {}
     },
     "1dba3e3bbb66427eaa889e70524ed415": {
      "model_module": "@jupyter-widgets/base",
      "model_module_version": "1.1.0",
      "model_name": "LayoutModel",
      "state": {
       "width": "600px"
      }
     },
     "1e4fedd2d2044d86b83680c618941ad8": {
      "model_module": "@jupyter-widgets/controls",
      "model_module_version": "1.4.0",
      "model_name": "DescriptionStyleModel",
      "state": {
       "description_width": ""
      }
     },
     "1e5b3ee50c8a408082512b55ff11092c": {
      "model_module": "@jupyter-widgets/controls",
      "model_module_version": "1.4.0",
      "model_name": "CheckboxModel",
      "state": {
       "description": "Sie analysieren die Eingabesequenz nicht komplett.",
       "disabled": false,
       "layout": "IPY_MODEL_9c5a736695394a12a25fa7387cccee7c",
       "style": "IPY_MODEL_10feb9bb8efe4f7d891e95548266e7d7",
       "value": false
      }
     },
     "1e68fdef9ecb41f59a17088231a0b249": {
      "model_module": "@jupyter-widgets/controls",
      "model_module_version": "1.4.0",
      "model_name": "HTMLModel",
      "state": {
       "layout": "IPY_MODEL_49c91489a09b4b78be3cbcf4d497b368",
       "style": "IPY_MODEL_2097846b03ca436da4439142e16ba79d",
       "value": "<h4 style=\"font-size:14px;\">Um welchen Parser kann es sich nicht handeln?</h4>"
      }
     },
     "1e69e726ef95464189d9a9e6241e731a": {
      "model_module": "@jupyter-widgets/controls",
      "model_module_version": "1.4.0",
      "model_name": "ButtonModel",
      "state": {
       "description": "Korrekt?",
       "layout": "IPY_MODEL_55e13404474046d1a88146558e35b702",
       "style": "IPY_MODEL_b8e7b5b1c096485692df011de3a897e4"
      }
     },
     "1e7d3b60b5d3452aaa7c6b623eb0b826": {
      "model_module": "@jupyter-widgets/controls",
      "model_module_version": "1.4.0",
      "model_name": "ButtonModel",
      "state": {
       "description": "InsideChartParser mit beam-size",
       "layout": "IPY_MODEL_0ebff0a1e0dc4f8682f7e5c17f81c9b5",
       "style": "IPY_MODEL_94e32d7e7b284f1b839ea5b221f4c052"
      }
     },
     "1eca1e50a8de47c3aa44569dbcc262cc": {
      "model_module": "@jupyter-widgets/base",
      "model_module_version": "1.1.0",
      "model_name": "LayoutModel",
      "state": {
       "width": "250px"
      }
     },
     "1ee46cea37db41b69a26083bf34d4495": {
      "model_module": "@jupyter-widgets/controls",
      "model_module_version": "1.4.0",
      "model_name": "CheckboxModel",
      "state": {
       "description": "Die Summe aller Regelwahrscheinlichkeiten für jede LHS ist jeweils 1.",
       "disabled": false,
       "layout": "IPY_MODEL_d1508e5870d142a086d49ed491906c5c",
       "style": "IPY_MODEL_810c7a5654b241ecb7b752373605dd5d",
       "value": true
      }
     },
     "1ef73744d15640628ac09df4e61b3d22": {
      "model_module": "@jupyter-widgets/controls",
      "model_module_version": "1.4.0",
      "model_name": "DescriptionStyleModel",
      "state": {
       "description_width": "initial"
      }
     },
     "1f4f195aec474486876515504f93874a": {
      "model_module": "@jupyter-widgets/base",
      "model_module_version": "1.1.0",
      "model_name": "LayoutModel",
      "state": {}
     },
     "1f689ec11b42407cacd8545974552c80": {
      "model_module": "@jupyter-widgets/base",
      "model_module_version": "1.1.0",
      "model_name": "LayoutModel",
      "state": {
       "width": "250px"
      }
     },
     "1f8144e91a3d483a970707942f7cbcf9": {
      "model_module": "@jupyter-widgets/base",
      "model_module_version": "1.1.0",
      "model_name": "LayoutModel",
      "state": {}
     },
     "1fb7702337a14257a8a26257b607aea2": {
      "model_module": "@jupyter-widgets/controls",
      "model_module_version": "1.4.0",
      "model_name": "ButtonModel",
      "state": {
       "description": "LongestChartParser",
       "layout": "IPY_MODEL_7938a7e12ebc4453868f75d65a23bf94",
       "style": "IPY_MODEL_51d1e8be49f54b589fdb5c38d9497f2d"
      }
     },
     "1fc9d78bb5de4266aca578a47a25d3f2": {
      "model_module": "@jupyter-widgets/base",
      "model_module_version": "1.1.0",
      "model_name": "LayoutModel",
      "state": {}
     },
     "1fd8d719d3fd43058a9b4e5d39fffdc3": {
      "model_module": "@jupyter-widgets/base",
      "model_module_version": "1.1.0",
      "model_name": "LayoutModel",
      "state": {}
     },
     "20080434dd5841d0bf11d49bdd6a55b8": {
      "model_module": "@jupyter-widgets/base",
      "model_module_version": "1.1.0",
      "model_name": "LayoutModel",
      "state": {}
     },
     "200f5241740f49b5be9a66379f4096eb": {
      "model_module": "@jupyter-widgets/controls",
      "model_module_version": "1.4.0",
      "model_name": "ButtonStyleModel",
      "state": {}
     },
     "203d516144624d7cb90b14473894442c": {
      "model_module": "@jupyter-widgets/controls",
      "model_module_version": "1.4.0",
      "model_name": "VBoxModel",
      "state": {
       "children": [
        "IPY_MODEL_9181ded13aaa415b9edf29918c52e42c",
        "IPY_MODEL_e26d4f812f6d4fbf97045f1e038710b8",
        "IPY_MODEL_d8528e3900234795bb41b364798ae947",
        "IPY_MODEL_365b0abad69d43ee94c57f201854d6f5"
       ],
       "layout": "IPY_MODEL_c3076b4f455a4e67b2552d2110ec717d"
      }
     },
     "20934acb49424a9193988d5fa23ec59e": {
      "model_module": "@jupyter-widgets/controls",
      "model_module_version": "1.4.0",
      "model_name": "ButtonStyleModel",
      "state": {}
     },
     "2097846b03ca436da4439142e16ba79d": {
      "model_module": "@jupyter-widgets/controls",
      "model_module_version": "1.4.0",
      "model_name": "DescriptionStyleModel",
      "state": {
       "description_width": ""
      }
     },
     "20f957080aa346ceba39851f70251c52": {
      "model_module": "@jupyter-widgets/base",
      "model_module_version": "1.1.0",
      "model_name": "LayoutModel",
      "state": {}
     },
     "2100dab244134db78b85d6efca1d89d4": {
      "model_module": "@jupyter-widgets/controls",
      "model_module_version": "1.4.0",
      "model_name": "HTMLModel",
      "state": {
       "layout": "IPY_MODEL_a105c1d1b38946c3b54534a33cbc045d",
       "style": "IPY_MODEL_3c5ff034325845d5adcfc8b1d1117a36",
       "value": "<h4 style=\"font-size:14px;\">Wie viele Ableitungen für die NP 'big cats and dogs' kann z. B. der `InsideChartParser` finden?</h4>"
      }
     },
     "211f83d70d0b419e9fb1ff7515b465c3": {
      "model_module": "@jupyter-widgets/controls",
      "model_module_version": "1.4.0",
      "model_name": "ButtonModel",
      "state": {
       "description": "nach der Länge der Ableitung",
       "layout": "IPY_MODEL_f6bbab6028b64a2e9df48bb2d33b6264",
       "style": "IPY_MODEL_0c24d3737b4641eabd2a1cc42dc25c41"
      }
     },
     "212e53c9b3c44f738062cf0499d8d7e5": {
      "model_module": "@jupyter-widgets/controls",
      "model_module_version": "1.4.0",
      "model_name": "DescriptionStyleModel",
      "state": {
       "description_width": "initial"
      }
     },
     "21b6459ff61f47b3a743913061ae9e02": {
      "model_module": "@jupyter-widgets/controls",
      "model_module_version": "1.4.0",
      "model_name": "CheckboxModel",
      "state": {
       "description": "Sie analysieren die Eingabesequenz nicht komplett.",
       "disabled": false,
       "layout": "IPY_MODEL_2296655decb34fbb8c711a5f013eaa9d",
       "style": "IPY_MODEL_6d8e3c4b6bab470184c553063f61a60a",
       "value": false
      }
     },
     "21cae087e5934b8bbb226d9b0e48bc0a": {
      "model_module": "@jupyter-widgets/controls",
      "model_module_version": "1.4.0",
      "model_name": "HTMLModel",
      "state": {
       "layout": "IPY_MODEL_698542dd69b0497f8cb62156fd564920",
       "style": "IPY_MODEL_2274a8236875492fa920a60e2e0b1183",
       "value": "<i>Wählen Sie die <ins>eine</ins> korrekte Antwort aus: </i>"
      }
     },
     "21fc3b6f631e4888bcf02a07d78eaf87": {
      "model_module": "@jupyter-widgets/controls",
      "model_module_version": "1.4.0",
      "model_name": "DescriptionStyleModel",
      "state": {
       "description_width": ""
      }
     },
     "22318e26f4d7485db6ee7c5f134f0b61": {
      "model_module": "@jupyter-widgets/base",
      "model_module_version": "1.1.0",
      "model_name": "LayoutModel",
      "state": {
       "justify_content": "center"
      }
     },
     "224f82dc87704566a2f928471e06cb34": {
      "model_module": "@jupyter-widgets/base",
      "model_module_version": "1.1.0",
      "model_name": "LayoutModel",
      "state": {}
     },
     "2259d3a67f3544c09ae8ac025e564c9f": {
      "model_module": "@jupyter-widgets/base",
      "model_module_version": "1.1.0",
      "model_name": "LayoutModel",
      "state": {}
     },
     "2274a8236875492fa920a60e2e0b1183": {
      "model_module": "@jupyter-widgets/controls",
      "model_module_version": "1.4.0",
      "model_name": "DescriptionStyleModel",
      "state": {
       "description_width": ""
      }
     },
     "22791d93b54f424484b43cb6babf4829": {
      "model_module": "@jupyter-widgets/controls",
      "model_module_version": "1.4.0",
      "model_name": "DescriptionStyleModel",
      "state": {
       "description_width": ""
      }
     },
     "2296655decb34fbb8c711a5f013eaa9d": {
      "model_module": "@jupyter-widgets/base",
      "model_module_version": "1.1.0",
      "model_name": "LayoutModel",
      "state": {
       "width": "600px"
      }
     },
     "22dfd0385756445aaa9568ad49894c98": {
      "model_module": "@jupyter-widgets/controls",
      "model_module_version": "1.4.0",
      "model_name": "HTMLModel",
      "state": {
       "layout": "IPY_MODEL_564354bd8aa04457aa1869b39756a9dd",
       "style": "IPY_MODEL_5dd007bc5b3740c0839ab838881f719d",
       "value": "<i>Wählen Sie die <ins>eine</ins> korrekte Antwort aus: </i>"
      }
     },
     "2306da2910c6472280febca30e39fdc2": {
      "model_module": "@jupyter-widgets/base",
      "model_module_version": "1.1.0",
      "model_name": "LayoutModel",
      "state": {
       "width": "600px"
      }
     },
     "231d79aa5b8b458084e728f5dfa99b8a": {
      "model_module": "@jupyter-widgets/controls",
      "model_module_version": "1.4.0",
      "model_name": "DescriptionStyleModel",
      "state": {
       "description_width": "initial"
      }
     },
     "23305b7330474e1eb1d0f8e6f5d9eb1b": {
      "model_module": "@jupyter-widgets/controls",
      "model_module_version": "1.4.0",
      "model_name": "ButtonModel",
      "state": {
       "description": "OK",
       "layout": "IPY_MODEL_b4651da42b204e84a89874a8d56cf7a6",
       "style": "IPY_MODEL_cbda5bc6324d4c8288610d1ee340f799"
      }
     },
     "2335441e0e27416fba390ba4672732ec": {
      "model_module": "@jupyter-widgets/base",
      "model_module_version": "1.1.0",
      "model_name": "LayoutModel",
      "state": {}
     },
     "2346a03bdf1c479db7ba65f96695ef23": {
      "model_module": "@jupyter-widgets/controls",
      "model_module_version": "1.4.0",
      "model_name": "TextModel",
      "state": {
       "disabled": true,
       "layout": "IPY_MODEL_f2266e63bd754f2db8ec9addff9cf69b",
       "style": "IPY_MODEL_4689a58ace7c430887dc5c1ec3fb14d6",
       "value": "0.000864"
      }
     },
     "235a751a62b246ffb8601b483a4dee75": {
      "model_module": "@jupyter-widgets/controls",
      "model_module_version": "1.4.0",
      "model_name": "TextModel",
      "state": {
       "layout": "IPY_MODEL_a52f5f95b25644e391dcea758311745d",
       "style": "IPY_MODEL_d1f0e7e6f0e04093a09a587e243f53ea"
      }
     },
     "23a911e2ee794a7193ee9e13ea2d36b4": {
      "model_module": "@jupyter-widgets/controls",
      "model_module_version": "1.4.0",
      "model_name": "ButtonModel",
      "state": {
       "description": "Lösung zeigen",
       "layout": "IPY_MODEL_69aa220b7a6a4042adf68eeeb001e365",
       "style": "IPY_MODEL_832d9d3b5db041cfa586fccfcd792b51"
      }
     },
     "23b79ba8563b4caca6bbb97259ba915b": {
      "model_module": "@jupyter-widgets/base",
      "model_module_version": "1.1.0",
      "model_name": "LayoutModel",
      "state": {}
     },
     "23e0f99b408c4cdbb6590c5b0f86645c": {
      "model_module": "@jupyter-widgets/controls",
      "model_module_version": "1.4.0",
      "model_name": "HBoxModel",
      "state": {
       "children": [
        "IPY_MODEL_e7d033f540014298bb29f5d73eb2864c",
        "IPY_MODEL_583c6ae203ec4f1a8d9c58a847774ba8"
       ],
       "layout": "IPY_MODEL_02a60b893d044153a2dc9001c1fb4e12"
      }
     },
     "2411ee1481694110a3b7248acc6d094a": {
      "model_module": "@jupyter-widgets/controls",
      "model_module_version": "1.4.0",
      "model_name": "ButtonModel",
      "state": {
       "description": "nach der Länge der Ableitung",
       "layout": "IPY_MODEL_5c0d153a4a7547908d23687b26e14758",
       "style": "IPY_MODEL_e316013109bc4c8ebc08502a1c307797"
      }
     },
     "24169003440741669e304c508382a6fb": {
      "model_module": "@jupyter-widgets/controls",
      "model_module_version": "1.4.0",
      "model_name": "ButtonStyleModel",
      "state": {}
     },
     "241e539cebbc4722bd585f6be5dc8e9c": {
      "model_module": "@jupyter-widgets/controls",
      "model_module_version": "1.4.0",
      "model_name": "DescriptionStyleModel",
      "state": {
       "description_width": "initial"
      }
     },
     "242aefe5a2b14a2e8af5fa02361abe09": {
      "model_module": "@jupyter-widgets/controls",
      "model_module_version": "1.4.0",
      "model_name": "CheckboxModel",
      "state": {
       "description": "Sie analysieren die Eingabesequenz nicht komplett.",
       "disabled": false,
       "layout": "IPY_MODEL_bcd075c5da3f4cf78e5aee2826fb7ea6",
       "style": "IPY_MODEL_e3b0aed735b2436e9ecdd16805394faa",
       "value": false
      }
     },
     "24444dea2133433a9447fcac206d28b4": {
      "model_module": "@jupyter-widgets/controls",
      "model_module_version": "1.4.0",
      "model_name": "HTMLModel",
      "state": {
       "layout": "IPY_MODEL_1ce394e732aa48f79118ab8b0c72abba",
       "style": "IPY_MODEL_7c0928110b234fdd9df6f7a5d95c72e5",
       "value": "<h4 style=\"font-size:14px;\">Nach welchem Kriterium wird beim Parsen mit dem InsideChartParser (= <i>Lowest-Cost-First</i>-Strategie) die <i>edge queue</i> sortiert?</h4>"
      }
     },
     "24d5d35e6e884e75930fd547f0834924": {
      "model_module": "@jupyter-widgets/controls",
      "model_module_version": "1.4.0",
      "model_name": "DescriptionStyleModel",
      "state": {
       "description_width": ""
      }
     },
     "250845e0794d40d99036a4b3adfbc7bd": {
      "model_module": "@jupyter-widgets/base",
      "model_module_version": "1.1.0",
      "model_name": "LayoutModel",
      "state": {}
     },
     "251b3cdae266476fa77eec4e6b14fb77": {
      "model_module": "@jupyter-widgets/base",
      "model_module_version": "1.1.0",
      "model_name": "LayoutModel",
      "state": {
       "width": "250px"
      }
     },
     "2558142811b8401e80366ef43f0c398c": {
      "model_module": "@jupyter-widgets/controls",
      "model_module_version": "1.4.0",
      "model_name": "VBoxModel",
      "state": {
       "children": [
        "IPY_MODEL_548b364da2f442a49ed92c2e01abd464",
        "IPY_MODEL_98464d554aa344439a1f4a095dd61c32",
        "IPY_MODEL_a3fb30c0b64446cca12ea02a0bbce92d",
        "IPY_MODEL_d6ec56e103ee465cacac3f245294d836"
       ],
       "layout": "IPY_MODEL_650770c56f9c424fa6fab62466e1b146"
      }
     },
     "2572479adf52433baeff9593852facab": {
      "model_module": "@jupyter-widgets/controls",
      "model_module_version": "1.4.0",
      "model_name": "HBoxModel",
      "state": {
       "children": [
        "IPY_MODEL_ddbe14d3e851433aa92146749bc59553"
       ],
       "layout": "IPY_MODEL_00bcf33c06a94035a9a0dece875846a7"
      }
     },
     "25aea43db8494e9b8f7cb125f1ba1b06": {
      "model_module": "@jupyter-widgets/base",
      "model_module_version": "1.1.0",
      "model_name": "LayoutModel",
      "state": {
       "width": "600px"
      }
     },
     "25b1bf6405a84f258f5a2f176d83ec5f": {
      "model_module": "@jupyter-widgets/base",
      "model_module_version": "1.1.0",
      "model_name": "LayoutModel",
      "state": {
       "justify_content": "center"
      }
     },
     "25b283c86ea64e7e9a7a33f09bfb86ae": {
      "model_module": "@jupyter-widgets/controls",
      "model_module_version": "1.4.0",
      "model_name": "VBoxModel",
      "state": {
       "children": [
        "IPY_MODEL_8aef4a1e73094895ac6d582d0ba3b700",
        "IPY_MODEL_a0c48840044040e3946c5e39f73043ec",
        "IPY_MODEL_634912f8f43d4719a7db35749273d204"
       ],
       "layout": "IPY_MODEL_a9569f25d83044a3993f73219d3f3418"
      }
     },
     "263c9eb91da54df3a4abc4e522a3b55c": {
      "model_module": "@jupyter-widgets/controls",
      "model_module_version": "1.4.0",
      "model_name": "DescriptionStyleModel",
      "state": {
       "description_width": ""
      }
     },
     "268a9d7b17eb499fae2a4083a8128b4c": {
      "model_module": "@jupyter-widgets/base",
      "model_module_version": "1.1.0",
      "model_name": "LayoutModel",
      "state": {
       "width": "250px"
      }
     },
     "26ae95b3c39c48319691993edb84fdcd": {
      "model_module": "@jupyter-widgets/base",
      "model_module_version": "1.1.0",
      "model_name": "LayoutModel",
      "state": {
       "justify_content": "center"
      }
     },
     "2701178623784947a433077ec299b82a": {
      "model_module": "@jupyter-widgets/controls",
      "model_module_version": "1.4.0",
      "model_name": "DescriptionStyleModel",
      "state": {
       "description_width": ""
      }
     },
     "270b59f37e414d52b7f827cf740495db": {
      "model_module": "@jupyter-widgets/base",
      "model_module_version": "1.1.0",
      "model_name": "LayoutModel",
      "state": {}
     },
     "270e2d392cbd46738351cf9ba5c5d781": {
      "model_module": "@jupyter-widgets/base",
      "model_module_version": "1.1.0",
      "model_name": "LayoutModel",
      "state": {}
     },
     "2793cfd7b24546579910e67997e4779a": {
      "model_module": "@jupyter-widgets/controls",
      "model_module_version": "1.4.0",
      "model_name": "HTMLModel",
      "state": {
       "layout": "IPY_MODEL_412c5572a6b44c1d8e8d2f081ee8ede3",
       "style": "IPY_MODEL_776ca9286eb44c4c92ec1efb30730267",
       "value": "<i>Wählen Sie die <ins>eine</ins> korrekte Antwort aus: </i>"
      }
     },
     "27a80364d090471782b03dfa30062a16": {
      "model_module": "@jupyter-widgets/base",
      "model_module_version": "1.1.0",
      "model_name": "LayoutModel",
      "state": {}
     },
     "27b935b714d1434d8e87fea515fa364f": {
      "model_module": "@jupyter-widgets/base",
      "model_module_version": "1.1.0",
      "model_name": "LayoutModel",
      "state": {
       "width": "250px"
      }
     },
     "27bdf55c2f034540b394672d3e3010fc": {
      "model_module": "@jupyter-widgets/controls",
      "model_module_version": "1.4.0",
      "model_name": "ButtonModel",
      "state": {
       "description": "Finden aller Konstituenten",
       "layout": "IPY_MODEL_f6b7f9c61e184799806442bb7a242ee7",
       "style": "IPY_MODEL_7b62dd5b545c44138b99fb27f51b120e"
      }
     },
     "27c19ff724d740c888be2b98dce548aa": {
      "model_module": "@jupyter-widgets/controls",
      "model_module_version": "1.4.0",
      "model_name": "DescriptionStyleModel",
      "state": {
       "description_width": ""
      }
     },
     "27c7ae01cb0f40e08b5655f4a79ab4ed": {
      "model_module": "@jupyter-widgets/controls",
      "model_module_version": "1.4.0",
      "model_name": "TextModel",
      "state": {
       "disabled": true,
       "layout": "IPY_MODEL_3d88d991a08748f08a5b01c854559d5d",
       "style": "IPY_MODEL_ba9972d6cbb74e0fb68ba5b67ec95b92",
       "value": "0.000864"
      }
     },
     "27e092aabf3544478b56497508b93aab": {
      "model_module": "@jupyter-widgets/controls",
      "model_module_version": "1.4.0",
      "model_name": "HTMLModel",
      "state": {
       "layout": "IPY_MODEL_25b1bf6405a84f258f5a2f176d83ec5f",
       "style": "IPY_MODEL_d37f65409b7548678531d40869f3f95b",
       "value": "<i>Wählen Sie die <ins>eine</ins> korrekte Antwort aus: </i>"
      }
     },
     "27e61b92cde0488e94ee6889989e17cf": {
      "model_module": "@jupyter-widgets/controls",
      "model_module_version": "1.4.0",
      "model_name": "ButtonModel",
      "state": {
       "description": "PP-Attachment-Ambiguität",
       "layout": "IPY_MODEL_27b935b714d1434d8e87fea515fa364f",
       "style": "IPY_MODEL_d30ce61a590a432ca0a22dc5b62c5598"
      }
     },
     "27fa0022db5249709e2aa2691870fd09": {
      "model_module": "@jupyter-widgets/base",
      "model_module_version": "1.1.0",
      "model_name": "LayoutModel",
      "state": {
       "width": "250px"
      }
     },
     "282f92902c3543e0985dc87f424478ba": {
      "model_module": "@jupyter-widgets/base",
      "model_module_version": "1.1.0",
      "model_name": "LayoutModel",
      "state": {}
     },
     "28325398d715410cbe16f2a8566aa0fa": {
      "model_module": "@jupyter-widgets/controls",
      "model_module_version": "1.4.0",
      "model_name": "DescriptionStyleModel",
      "state": {
       "description_width": ""
      }
     },
     "286d466fee5b477f8d0ab54b5a7e613f": {
      "model_module": "@jupyter-widgets/controls",
      "model_module_version": "1.4.0",
      "model_name": "HBoxModel",
      "state": {
       "children": [
        "IPY_MODEL_f9f6b69714684b2b89b29676d34cb561",
        "IPY_MODEL_654d3636e6cb4d209b9baec3f6c3d06e"
       ],
       "layout": "IPY_MODEL_de05d3807f8e44e1a83057302077f814"
      }
     },
     "28748896123c4e709a7afe3111611fd2": {
      "model_module": "@jupyter-widgets/base",
      "model_module_version": "1.1.0",
      "model_name": "LayoutModel",
      "state": {}
     },
     "287eb15282c14431bcc4075e2258a928": {
      "model_module": "@jupyter-widgets/controls",
      "model_module_version": "1.4.0",
      "model_name": "CheckboxModel",
      "state": {
       "description": "Die Summe aller Regelwahrscheinlichkeiten für jede LHS ist jeweils 1.",
       "disabled": false,
       "layout": "IPY_MODEL_c17e3387bdda4fd389c3748ecd7e2b0b",
       "style": "IPY_MODEL_c1847032aa3d47149723f63cddcada14",
       "value": false
      }
     },
     "288260d4341f4582a8e66e9e76a927f8": {
      "model_module": "@jupyter-widgets/controls",
      "model_module_version": "1.4.0",
      "model_name": "ButtonModel",
      "state": {
       "description": "OK",
       "layout": "IPY_MODEL_e1a775dfc2ae4e10b75e24087e062df2",
       "style": "IPY_MODEL_0b997731e8fc47e589ffb331c9e88f67"
      }
     },
     "28ca0c5336c84242b7f07a97644721f5": {
      "model_module": "@jupyter-widgets/base",
      "model_module_version": "1.1.0",
      "model_name": "LayoutModel",
      "state": {
       "justify_content": "center"
      }
     },
     "28d257c2bc784d858fd0373d2ca73b34": {
      "model_module": "@jupyter-widgets/base",
      "model_module_version": "1.1.0",
      "model_name": "LayoutModel",
      "state": {
       "width": "250px"
      }
     },
     "28dc22ff4ae24a0ea49a4b9db551e662": {
      "model_module": "@jupyter-widgets/base",
      "model_module_version": "1.1.0",
      "model_name": "LayoutModel",
      "state": {
       "width": "600px"
      }
     },
     "28decc523baa4f92b540cbf55e01dff2": {
      "model_module": "@jupyter-widgets/controls",
      "model_module_version": "1.4.0",
      "model_name": "HTMLModel",
      "state": {
       "layout": "IPY_MODEL_57a9d306a876433fb9cc6530e2520158",
       "style": "IPY_MODEL_4117f217386448da86730a84d3e2882e",
       "value": "<i>Geben Sie die korrekte Antwort ein: </i>"
      }
     },
     "291e1a1ea6ca4d83a3ce6305fb5acb89": {
      "model_module": "@jupyter-widgets/base",
      "model_module_version": "1.1.0",
      "model_name": "LayoutModel",
      "state": {}
     },
     "292e3a347580482194663b9577dfe6f4": {
      "model_module": "@jupyter-widgets/controls",
      "model_module_version": "1.4.0",
      "model_name": "ButtonStyleModel",
      "state": {}
     },
     "2932f01345724647b836193ca0f3e1da": {
      "model_module": "@jupyter-widgets/controls",
      "model_module_version": "1.4.0",
      "model_name": "HTMLModel",
      "state": {
       "layout": "IPY_MODEL_445b66d8793c4b6086272fdded28fbf0",
       "style": "IPY_MODEL_dd4237e7330f4183b90fe8219659efd7",
       "value": "<h4 style=\"font-size:14px;\">Was ist die Aufgabe des Viterbi-Algorithmus?</h4>"
      }
     },
     "29443f92587349518714ca3578287cc6": {
      "model_module": "@jupyter-widgets/controls",
      "model_module_version": "1.4.0",
      "model_name": "DescriptionStyleModel",
      "state": {
       "description_width": "initial"
      }
     },
     "294cba46d2bb427291376eeb77b055c5": {
      "model_module": "@jupyter-widgets/base",
      "model_module_version": "1.1.0",
      "model_name": "LayoutModel",
      "state": {
       "justify_content": "center"
      }
     },
     "298c74aff0494ad794862bae2d052d96": {
      "model_module": "@jupyter-widgets/controls",
      "model_module_version": "1.4.0",
      "model_name": "DescriptionStyleModel",
      "state": {
       "description_width": ""
      }
     },
     "29caeff48784496a86e2d8583cbd3918": {
      "model_module": "@jupyter-widgets/base",
      "model_module_version": "1.1.0",
      "model_name": "LayoutModel",
      "state": {}
     },
     "2a0287c97c8b4e79bc361b01399da9ed": {
      "model_module": "@jupyter-widgets/controls",
      "model_module_version": "1.4.0",
      "model_name": "ButtonStyleModel",
      "state": {}
     },
     "2a0fd201ec66491f800e3badbce48291": {
      "model_module": "@jupyter-widgets/controls",
      "model_module_version": "1.4.0",
      "model_name": "ButtonModel",
      "state": {
       "description": "Koordinationsambiguität",
       "layout": "IPY_MODEL_6e6785f0b4cf452e99783b63fc72cc02",
       "style": "IPY_MODEL_e56832345b49420ea479fe8885116554"
      }
     },
     "2a3a03e3f90344c0ba5c1dfff74acf47": {
      "model_module": "@jupyter-widgets/base",
      "model_module_version": "1.1.0",
      "model_name": "LayoutModel",
      "state": {}
     },
     "2a4132b3d6014e76abce4fe5bc2cfd71": {
      "model_module": "@jupyter-widgets/controls",
      "model_module_version": "1.4.0",
      "model_name": "HTMLModel",
      "state": {
       "layout": "IPY_MODEL_a51fe3262b504ceab734775e0ede6ea6",
       "style": "IPY_MODEL_eaa6043f88f84c9e90f68de4f96103cc",
       "value": "<i>Wählen Sie die <ins>eine</ins> korrekte Antwort aus: </i>"
      }
     },
     "2a606bb71ea54a2e91cbbcb1d3620d38": {
      "model_module": "@jupyter-widgets/controls",
      "model_module_version": "1.4.0",
      "model_name": "HBoxModel",
      "state": {
       "children": [
        "IPY_MODEL_d9847e888c9a495ba25cf24a849ea6de"
       ],
       "layout": "IPY_MODEL_928cdcf2a38443a38275ecd6de217e45"
      }
     },
     "2a774d3766474c688fab3c1b54bfc3ea": {
      "model_module": "@jupyter-widgets/controls",
      "model_module_version": "1.4.0",
      "model_name": "VBoxModel",
      "state": {
       "children": [
        "IPY_MODEL_875feab9d23f4dde8a5bc640c0e8f400",
        "IPY_MODEL_f9a73bfd358c4bb38e364b17044c1874",
        "IPY_MODEL_7965b07ecf2b49b5931899f70f47ee98",
        "IPY_MODEL_2f2a9b9c171841dab2ae2f32cbb90966"
       ],
       "layout": "IPY_MODEL_68f0a6cd3af54c56b6b448d370520aa8"
      }
     },
     "2a87b8de028f4d8e812c25838eb3ca64": {
      "model_module": "@jupyter-widgets/base",
      "model_module_version": "1.1.0",
      "model_name": "LayoutModel",
      "state": {}
     },
     "2a8c45d4ee9c4361a8dc3e4e17f14d39": {
      "model_module": "@jupyter-widgets/controls",
      "model_module_version": "1.4.0",
      "model_name": "ButtonModel",
      "state": {
       "description": "OK",
       "layout": "IPY_MODEL_2b4687af38834e5e88e1483194e5a129",
       "style": "IPY_MODEL_6bf9f2c665e24e1e89d4a2bc7e34e63d"
      }
     },
     "2abc707566664515a5c4f81f17e392f1": {
      "model_module": "@jupyter-widgets/controls",
      "model_module_version": "1.4.0",
      "model_name": "HTMLModel",
      "state": {
       "layout": "IPY_MODEL_47b80e78d6b6452c863c1d887886745d",
       "style": "IPY_MODEL_4ae5c7ea486d4ee4a5120f8033042435",
       "value": "<h4 style=\"font-size:14px;\">Was ist die Aufgabe des Viterbi-Algorithmus?</h4>"
      }
     },
     "2acc7f66211747f0819e3d7897c49890": {
      "model_module": "@jupyter-widgets/controls",
      "model_module_version": "1.4.0",
      "model_name": "ButtonModel",
      "state": {
       "description": "Lösung zeigen",
       "layout": "IPY_MODEL_6c2ab77627de4e80a75003d17ee54560",
       "style": "IPY_MODEL_4116a619ca4f4d1ca68242b2cbb3ba0f"
      }
     },
     "2b06f5c37353479e9c9ee0a6f482e66c": {
      "model_module": "@jupyter-widgets/base",
      "model_module_version": "1.1.0",
      "model_name": "LayoutModel",
      "state": {}
     },
     "2b453a666ebc421e9e1b03cbc2841091": {
      "model_module": "@jupyter-widgets/base",
      "model_module_version": "1.1.0",
      "model_name": "LayoutModel",
      "state": {}
     },
     "2b4687af38834e5e88e1483194e5a129": {
      "model_module": "@jupyter-widgets/base",
      "model_module_version": "1.1.0",
      "model_name": "LayoutModel",
      "state": {}
     },
     "2b8ebcf824d940708123d8df4e6088a1": {
      "model_module": "@jupyter-widgets/controls",
      "model_module_version": "1.4.0",
      "model_name": "ButtonModel",
      "state": {
       "description": "Temporale Ambiguität",
       "layout": "IPY_MODEL_37c3329b544843a6b9454d023265e17b",
       "style": "IPY_MODEL_40739ffffaf3490ea05e0470195897f0"
      }
     },
     "2b9e9dbb785d4d248dcfd1a9f0fde7d5": {
      "model_module": "@jupyter-widgets/base",
      "model_module_version": "1.1.0",
      "model_name": "LayoutModel",
      "state": {}
     },
     "2bcdbd4175c14f5eb3e256a393be7f6f": {
      "model_module": "@jupyter-widgets/base",
      "model_module_version": "1.1.0",
      "model_name": "LayoutModel",
      "state": {
       "width": "600px"
      }
     },
     "2be58c8bc01e4902be4fc1cdea4de38a": {
      "model_module": "@jupyter-widgets/controls",
      "model_module_version": "1.4.0",
      "model_name": "HTMLModel",
      "state": {
       "layout": "IPY_MODEL_51a7be3da895467f8a451a79487d1616",
       "style": "IPY_MODEL_6d3b61cc1b304e429e96d461d602929f",
       "value": "<h4 style=\"font-size:14px;\">Berechnen Sie die Wahrscheinlichkeit für die Ableitung in der letzten Zeile.</h4>"
      }
     },
     "2bfbbb557e3a4a8f8b6a18f36151140d": {
      "model_module": "@jupyter-widgets/controls",
      "model_module_version": "1.4.0",
      "model_name": "DescriptionStyleModel",
      "state": {
       "description_width": "initial"
      }
     },
     "2c39c93bd60a4ad7b4fa9ae11c89326d": {
      "model_module": "@jupyter-widgets/controls",
      "model_module_version": "1.4.0",
      "model_name": "ButtonModel",
      "state": {
       "description": "Temporale Ambiguität",
       "layout": "IPY_MODEL_a79c798e516d495696a3c667b0b4b9fb",
       "style": "IPY_MODEL_7367966079f947859658f547bd200068"
      }
     },
     "2c4c1c69c1e946caab70502bb9a59a84": {
      "model_module": "@jupyter-widgets/controls",
      "model_module_version": "1.4.0",
      "model_name": "DescriptionStyleModel",
      "state": {
       "description_width": ""
      }
     },
     "2c4e1e3e28ff4487b45ba70723948a1c": {
      "model_module": "@jupyter-widgets/base",
      "model_module_version": "1.1.0",
      "model_name": "LayoutModel",
      "state": {
       "width": "250px"
      }
     },
     "2d49d5121c83407c9ac9fc672036fc71": {
      "model_module": "@jupyter-widgets/controls",
      "model_module_version": "1.4.0",
      "model_name": "ButtonStyleModel",
      "state": {
       "button_color": "lightgreen"
      }
     },
     "2d6bad6630ad474a886488c9bf5773f2": {
      "model_module": "@jupyter-widgets/base",
      "model_module_version": "1.1.0",
      "model_name": "LayoutModel",
      "state": {
       "justify_content": "center"
      }
     },
     "2d820927a3f64784bd0dc601dfdeaa6f": {
      "model_module": "@jupyter-widgets/base",
      "model_module_version": "1.1.0",
      "model_name": "LayoutModel",
      "state": {}
     },
     "2d8b23ca71284bf7bbffebf8d8fc83d8": {
      "model_module": "@jupyter-widgets/controls",
      "model_module_version": "1.4.0",
      "model_name": "CheckboxModel",
      "state": {
       "description": "Finden aller Konstituenten",
       "disabled": false,
       "layout": "IPY_MODEL_8f2b0136adea4fdb962dbed08258222c",
       "style": "IPY_MODEL_cd5fbe9a79614d40b90ccf975371a0ec",
       "value": false
      }
     },
     "2db8ff29e42a481da92197ed71d2ec61": {
      "model_module": "@jupyter-widgets/controls",
      "model_module_version": "1.4.0",
      "model_name": "DescriptionStyleModel",
      "state": {
       "description_width": "initial"
      }
     },
     "2de99e37bb264a25a7ca797c7b524a4c": {
      "model_module": "@jupyter-widgets/controls",
      "model_module_version": "1.4.0",
      "model_name": "DescriptionStyleModel",
      "state": {
       "description_width": ""
      }
     },
     "2dfbd8b7e3ae4c48b5a1f6564dc35ad4": {
      "model_module": "@jupyter-widgets/controls",
      "model_module_version": "1.4.0",
      "model_name": "CheckboxModel",
      "state": {
       "description": "Bestimmung des wahrscheinlichsten Syntaxbaums",
       "disabled": false,
       "layout": "IPY_MODEL_e50071fe95d24e189b63a6fe30899e78",
       "style": "IPY_MODEL_8ac3267275cd48e59b202db49a616bb3",
       "value": false
      }
     },
     "2e17c7991a24453d97a7cbfc0b9352e1": {
      "model_module": "@jupyter-widgets/controls",
      "model_module_version": "1.4.0",
      "model_name": "HBoxModel",
      "state": {
       "children": [
        "IPY_MODEL_1c1e65acf8af4fc8a854dc41a5cf5054"
       ],
       "layout": "IPY_MODEL_62c4de3088ea4868b1fcc28fe0a232ec"
      }
     },
     "2e1a528c7da04ea8af5bb0f17d50c748": {
      "model_module": "@jupyter-widgets/controls",
      "model_module_version": "1.4.0",
      "model_name": "ButtonModel",
      "state": {
       "description": "Die Summe aller Regelwahrscheinlichkeiten für jede LHS ist jeweils 1.",
       "layout": "IPY_MODEL_1d2e315b979c442cab00697cbebebe5a",
       "style": "IPY_MODEL_88963dc6d55c494ab61650563ff86811"
      }
     },
     "2e2b0fb1c05a4658aebbaa1c3ece75b5": {
      "model_module": "@jupyter-widgets/base",
      "model_module_version": "1.1.0",
      "model_name": "LayoutModel",
      "state": {}
     },
     "2e403272fba3470081017670135e9384": {
      "model_module": "@jupyter-widgets/base",
      "model_module_version": "1.1.0",
      "model_name": "LayoutModel",
      "state": {
       "width": "600px"
      }
     },
     "2e49f2792e1b4180b79c2d6747c55e58": {
      "model_module": "@jupyter-widgets/base",
      "model_module_version": "1.1.0",
      "model_name": "LayoutModel",
      "state": {
       "width": "250px"
      }
     },
     "2e7ecea812604a9c8a625ec9ce68c9a3": {
      "model_module": "@jupyter-widgets/controls",
      "model_module_version": "1.4.0",
      "model_name": "DescriptionStyleModel",
      "state": {
       "description_width": ""
      }
     },
     "2e998e519cb74b62af57829e9dfafef6": {
      "model_module": "@jupyter-widgets/controls",
      "model_module_version": "1.4.0",
      "model_name": "CheckboxModel",
      "state": {
       "description": "Bestimmung der Köpfe und Dependenzrelationen",
       "disabled": false,
       "layout": "IPY_MODEL_938fe235523d44589c960cc8092f951b",
       "style": "IPY_MODEL_9b0b7ea076ed4389a5a9aba1356301b7",
       "value": false
      }
     },
     "2eea38b6d1fe41419354115f6a2057a8": {
      "model_module": "@jupyter-widgets/controls",
      "model_module_version": "1.4.0",
      "model_name": "VBoxModel",
      "state": {
       "children": [
        "IPY_MODEL_586865fb9df34b3d88512159f29e3a94",
        "IPY_MODEL_95f29bca28b748e5855dce184e172dd0",
        "IPY_MODEL_90eb687c580e41958ed3ad60495f1772",
        "IPY_MODEL_0d32fb24da4242ec9c5677e8f86217b1"
       ],
       "layout": "IPY_MODEL_2e2b0fb1c05a4658aebbaa1c3ece75b5"
      }
     },
     "2f2a9b9c171841dab2ae2f32cbb90966": {
      "model_module": "@jupyter-widgets/controls",
      "model_module_version": "1.4.0",
      "model_name": "HBoxModel",
      "state": {
       "children": [
        "IPY_MODEL_80410eb44e294854a5fbbe4da74f52d3",
        "IPY_MODEL_d6b3b2cb81da44f8b2a75046e7ed9128"
       ],
       "layout": "IPY_MODEL_ccb8faf03b8c488595f5937d36a101ab"
      }
     },
     "2f76f9f748494911b72f02fa0910de85": {
      "model_module": "@jupyter-widgets/controls",
      "model_module_version": "1.4.0",
      "model_name": "DescriptionStyleModel",
      "state": {
       "description_width": "initial"
      }
     },
     "2f83063be1cd4d03adfeb6bfc85ad43f": {
      "model_module": "@jupyter-widgets/controls",
      "model_module_version": "1.4.0",
      "model_name": "ButtonModel",
      "state": {
       "description": "PP-Attachment-Ambiguität",
       "layout": "IPY_MODEL_9b7d2dea065f427c9c5a618f3cee23f9",
       "style": "IPY_MODEL_200f5241740f49b5be9a66379f4096eb"
      }
     },
     "2f9315d76e694b42b4606812da9a31b0": {
      "model_module": "@jupyter-widgets/base",
      "model_module_version": "1.1.0",
      "model_name": "LayoutModel",
      "state": {
       "width": "250px"
      }
     },
     "2f9a5997fb1e4ae0970a7424506f0498": {
      "model_module": "@jupyter-widgets/controls",
      "model_module_version": "1.4.0",
      "model_name": "CheckboxModel",
      "state": {
       "description": "Bestimmung des wahrscheinlichsten Syntaxbaums",
       "disabled": false,
       "layout": "IPY_MODEL_c8d748f93b2e4de88090d72ac598013c",
       "style": "IPY_MODEL_074c5e34d7bf4e60be5f6898818155d4",
       "value": true
      }
     },
     "2faacef9dad74222b33c3552e9864db1": {
      "model_module": "@jupyter-widgets/base",
      "model_module_version": "1.1.0",
      "model_name": "LayoutModel",
      "state": {
       "justify_content": "center"
      }
     },
     "300766038dcb400fbddc678463014d42": {
      "model_module": "@jupyter-widgets/base",
      "model_module_version": "1.1.0",
      "model_name": "LayoutModel",
      "state": {
       "justify_content": "center"
      }
     },
     "301a330af9644ee59c32d01763c424da": {
      "model_module": "@jupyter-widgets/controls",
      "model_module_version": "1.4.0",
      "model_name": "DescriptionStyleModel",
      "state": {
       "description_width": "initial"
      }
     },
     "30978319df5e4301888e887ecb3007e6": {
      "model_module": "@jupyter-widgets/base",
      "model_module_version": "1.1.0",
      "model_name": "LayoutModel",
      "state": {
       "width": "250px"
      }
     },
     "312e806c20f2406c8b80fa02e0765495": {
      "model_module": "@jupyter-widgets/base",
      "model_module_version": "1.1.0",
      "model_name": "LayoutModel",
      "state": {
       "width": "250px"
      }
     },
     "314bf33882254d92ac478a2b4b0f4416": {
      "model_module": "@jupyter-widgets/controls",
      "model_module_version": "1.4.0",
      "model_name": "ButtonModel",
      "state": {
       "description": "Temporale Ambiguität",
       "layout": "IPY_MODEL_7b3c15c8d0e84430aa41ca0b7779fb10",
       "style": "IPY_MODEL_8b3bd759cb6642498c46c4baad2e1c0d"
      }
     },
     "317eb1a7446b448f9c21fe1540403558": {
      "model_module": "@jupyter-widgets/controls",
      "model_module_version": "1.4.0",
      "model_name": "DescriptionStyleModel",
      "state": {
       "description_width": "initial"
      }
     },
     "318488a34de945339015bff8c51a0bcf": {
      "model_module": "@jupyter-widgets/controls",
      "model_module_version": "1.4.0",
      "model_name": "HBoxModel",
      "state": {
       "children": [
        "IPY_MODEL_211f83d70d0b419e9fb1ff7515b465c3",
        "IPY_MODEL_916cea6666714b4ca8743376387bc466"
       ],
       "layout": "IPY_MODEL_5366e25d9f4a48079bf235ae63ae3f5d"
      }
     },
     "31a00655544945d1bea7c1e4f56fe50e": {
      "model_module": "@jupyter-widgets/controls",
      "model_module_version": "1.4.0",
      "model_name": "ButtonModel",
      "state": {
       "description": "Korrekt?",
       "layout": "IPY_MODEL_aa10f720e80847b8bd75f17211b0a368",
       "style": "IPY_MODEL_1a5491c46b7d476e8bd6cb963ac5c035"
      }
     },
     "31b201a19263451f881bb8ae76bb521d": {
      "model_module": "@jupyter-widgets/base",
      "model_module_version": "1.1.0",
      "model_name": "LayoutModel",
      "state": {}
     },
     "31f38b8574db468789af669c78702d1e": {
      "model_module": "@jupyter-widgets/controls",
      "model_module_version": "1.4.0",
      "model_name": "DescriptionStyleModel",
      "state": {
       "description_width": ""
      }
     },
     "3251def113bb436d81781134d5ed3701": {
      "model_module": "@jupyter-widgets/base",
      "model_module_version": "1.1.0",
      "model_name": "LayoutModel",
      "state": {}
     },
     "32b25cf012234ffab8d092e07cd16441": {
      "model_module": "@jupyter-widgets/base",
      "model_module_version": "1.1.0",
      "model_name": "LayoutModel",
      "state": {
       "justify_content": "center"
      }
     },
     "32ee437bff764249abd43741d02a5664": {
      "model_module": "@jupyter-widgets/controls",
      "model_module_version": "1.4.0",
      "model_name": "ButtonModel",
      "state": {
       "description": "Lösung zeigen",
       "layout": "IPY_MODEL_a350ffc7207f40ee95e80ebbfd39ded1",
       "style": "IPY_MODEL_bc555328714d4e24bc5fe8a388353d79"
      }
     },
     "32effacb158e4211809d4c1d4c7258e0": {
      "model_module": "@jupyter-widgets/controls",
      "model_module_version": "1.4.0",
      "model_name": "DescriptionStyleModel",
      "state": {
       "description_width": ""
      }
     },
     "33a8b8538c2e4e6594cd9496bf13d10d": {
      "model_module": "@jupyter-widgets/controls",
      "model_module_version": "1.4.0",
      "model_name": "HTMLModel",
      "state": {
       "layout": "IPY_MODEL_a464b1d07d26473699c57b41f4d561a3",
       "style": "IPY_MODEL_6d91e32f06c94b9eb731477f3a9de246",
       "value": "<i>Wählen Sie die <ins>eine</ins> korrekte Antwort aus: </i>"
      }
     },
     "3420658c7f714255bc22347a13290398": {
      "model_module": "@jupyter-widgets/base",
      "model_module_version": "1.1.0",
      "model_name": "LayoutModel",
      "state": {}
     },
     "3466443d37ae4760801aadbde0e75b3a": {
      "model_module": "@jupyter-widgets/base",
      "model_module_version": "1.1.0",
      "model_name": "LayoutModel",
      "state": {}
     },
     "347ac4e507fc43ada55fdb2c9ab3e300": {
      "model_module": "@jupyter-widgets/base",
      "model_module_version": "1.1.0",
      "model_name": "LayoutModel",
      "state": {}
     },
     "34b1a0ca811743cb9e34f4f7250711dc": {
      "model_module": "@jupyter-widgets/controls",
      "model_module_version": "1.4.0",
      "model_name": "CheckboxModel",
      "state": {
       "description": "Die Summe aller Regelwahrscheinlichkeiten für jede RHS ist jeweils 1.",
       "disabled": false,
       "layout": "IPY_MODEL_b75b52669ac4492db4699ed89ce2f89d",
       "style": "IPY_MODEL_c2e7a989bfb546669d861efa229b7439",
       "value": false
      }
     },
     "34fe6e20f0c34af4b293362b6ce72347": {
      "model_module": "@jupyter-widgets/controls",
      "model_module_version": "1.4.0",
      "model_name": "ButtonModel",
      "state": {
       "description": "OK",
       "layout": "IPY_MODEL_edeffdba9bb440f4bb406d731c713ea4",
       "style": "IPY_MODEL_59f6cbaf706e4c488b5c69480b724a93"
      }
     },
     "351bc75984a344a3aa7f7879e35f113e": {
      "model_module": "@jupyter-widgets/base",
      "model_module_version": "1.1.0",
      "model_name": "LayoutModel",
      "state": {
       "width": "250px"
      }
     },
     "352fae9949fe4c30b687bc23afb7a669": {
      "model_module": "@jupyter-widgets/base",
      "model_module_version": "1.1.0",
      "model_name": "LayoutModel",
      "state": {
       "width": "600px"
      }
     },
     "3531a009fa35472bbbfd17cd11d92a9d": {
      "model_module": "@jupyter-widgets/base",
      "model_module_version": "1.1.0",
      "model_name": "LayoutModel",
      "state": {
       "width": "600px"
      }
     },
     "354376d326ea453aa273aef833ba5bbe": {
      "model_module": "@jupyter-widgets/controls",
      "model_module_version": "1.4.0",
      "model_name": "ButtonModel",
      "state": {
       "description": "InsideChartParser",
       "layout": "IPY_MODEL_b7cdc5e365cf4eeb8800ae42b34f850c",
       "style": "IPY_MODEL_a2503880bed74178b7ac12bf70c91e22"
      }
     },
     "35673bddb3ca4e0ba1895a22e47e6b6c": {
      "model_module": "@jupyter-widgets/base",
      "model_module_version": "1.1.0",
      "model_name": "LayoutModel",
      "state": {
       "width": "600px"
      }
     },
     "35810ee6dc524a9db00ca42405ad7b43": {
      "model_module": "@jupyter-widgets/controls",
      "model_module_version": "1.4.0",
      "model_name": "HTMLModel",
      "state": {
       "layout": "IPY_MODEL_347ac4e507fc43ada55fdb2c9ab3e300",
       "style": "IPY_MODEL_aed1454ad38b48a7a2650e585c044005",
       "value": "<h4 style=\"font-size:14px;\">Warum werden die Analysen in den Discard-Zeilen verworfen?</h4>"
      }
     },
     "3598ff38b80849f9896f5c5878b20ba3": {
      "model_module": "@jupyter-widgets/controls",
      "model_module_version": "1.4.0",
      "model_name": "VBoxModel",
      "state": {
       "children": [
        "IPY_MODEL_2100dab244134db78b85d6efca1d89d4",
        "IPY_MODEL_a4c985cc0acd4430a572b43d9a65f7b7",
        "IPY_MODEL_c80dce5a3bd04f5da877cb273dfecbe4",
        "IPY_MODEL_7c944c487bcf45cea0ac7a80c0be66f4"
       ],
       "layout": "IPY_MODEL_5baeeb6a3c6342a89ac0c98ca66484ca"
      }
     },
     "35da2ecbaade42e0926076fd943e62da": {
      "model_module": "@jupyter-widgets/controls",
      "model_module_version": "1.4.0",
      "model_name": "DescriptionStyleModel",
      "state": {
       "description_width": "initial"
      }
     },
     "3647a5cfcbbb433db73a28bd755004e9": {
      "model_module": "@jupyter-widgets/base",
      "model_module_version": "1.1.0",
      "model_name": "LayoutModel",
      "state": {
       "width": "250px"
      }
     },
     "365a259479334cc28daa61b75cfd84b0": {
      "model_module": "@jupyter-widgets/base",
      "model_module_version": "1.1.0",
      "model_name": "LayoutModel",
      "state": {}
     },
     "365b0abad69d43ee94c57f201854d6f5": {
      "model_module": "@jupyter-widgets/controls",
      "model_module_version": "1.4.0",
      "model_name": "ButtonModel",
      "state": {
       "description": "Korrekt?",
       "layout": "IPY_MODEL_afc93bd9f6f840fabd0afbf59dbe815c",
       "style": "IPY_MODEL_cddc7b9e43d74e2e81868ffdbb8e50bf"
      }
     },
     "366c7f351b3947c6a82278b12d920e8d": {
      "model_module": "@jupyter-widgets/controls",
      "model_module_version": "1.4.0",
      "model_name": "VBoxModel",
      "state": {
       "children": [
        "IPY_MODEL_fcbe6ec8a73a403d9f7d33abdfed6eab",
        "IPY_MODEL_1cc937b23cab4b05af16514ebba0a469",
        "IPY_MODEL_e5c23bba834842e4b83ca81fc720aac5",
        "IPY_MODEL_4e2eb89a2b374ce2967248c2ee233fd3"
       ],
       "layout": "IPY_MODEL_74dafd1c039c4103aa3ff034f2096173"
      }
     },
     "36896026ba20447ca26ba7fd2fd2c78a": {
      "model_module": "@jupyter-widgets/base",
      "model_module_version": "1.1.0",
      "model_name": "LayoutModel",
      "state": {
       "width": "600px"
      }
     },
     "36c2865bc27d47bfbc5ef4925ec48e4d": {
      "model_module": "@jupyter-widgets/controls",
      "model_module_version": "1.4.0",
      "model_name": "HBoxModel",
      "state": {
       "children": [
        "IPY_MODEL_4a9c3cde50e84789af19e656c3e5b65c",
        "IPY_MODEL_d05be214023d415ba6fcaac6d072c93b"
       ],
       "layout": "IPY_MODEL_291e1a1ea6ca4d83a3ce6305fb5acb89"
      }
     },
     "36e06c240bf64ca9a5d058fb892526f2": {
      "model_module": "@jupyter-widgets/base",
      "model_module_version": "1.1.0",
      "model_name": "LayoutModel",
      "state": {
       "width": "600px"
      }
     },
     "377e6757d2794b808e37e2d721f4bef0": {
      "model_module": "@jupyter-widgets/controls",
      "model_module_version": "1.4.0",
      "model_name": "DescriptionStyleModel",
      "state": {
       "description_width": "initial"
      }
     },
     "378d1ced0e56446dba46c92d35889c70": {
      "model_module": "@jupyter-widgets/base",
      "model_module_version": "1.1.0",
      "model_name": "LayoutModel",
      "state": {
       "width": "600px"
      }
     },
     "37abfd7902f249699c4ebb80adba96b5": {
      "model_module": "@jupyter-widgets/controls",
      "model_module_version": "1.4.0",
      "model_name": "VBoxModel",
      "state": {
       "children": [
        "IPY_MODEL_91ee40768eec46559d08f1a8a51726b2",
        "IPY_MODEL_477c18f6beea403f81aa356b5dd2c3f2",
        "IPY_MODEL_975cfee09dc64b9cbc604cb5b09a9f6a",
        "IPY_MODEL_86a1ab912e074766a55bc3e41e0db5f7"
       ],
       "layout": "IPY_MODEL_4bf15ded4f7b4814ad1b7f93f7ea503f"
      }
     },
     "37b6984230e3486d82a771e40db9f80a": {
      "model_module": "@jupyter-widgets/base",
      "model_module_version": "1.1.0",
      "model_name": "LayoutModel",
      "state": {}
     },
     "37c3329b544843a6b9454d023265e17b": {
      "model_module": "@jupyter-widgets/base",
      "model_module_version": "1.1.0",
      "model_name": "LayoutModel",
      "state": {
       "width": "250px"
      }
     },
     "37e544d24d234224a35a937dc56ff301": {
      "model_module": "@jupyter-widgets/controls",
      "model_module_version": "1.4.0",
      "model_name": "DescriptionStyleModel",
      "state": {
       "description_width": ""
      }
     },
     "3802298fe9914e6ea3303434e91fc813": {
      "model_module": "@jupyter-widgets/base",
      "model_module_version": "1.1.0",
      "model_name": "LayoutModel",
      "state": {}
     },
     "38231e3b5ccf429a92f7034b62589e00": {
      "model_module": "@jupyter-widgets/base",
      "model_module_version": "1.1.0",
      "model_name": "LayoutModel",
      "state": {
       "width": "600px"
      }
     },
     "385f6b12e8f6485dbf614ed797c92ad9": {
      "model_module": "@jupyter-widgets/base",
      "model_module_version": "1.1.0",
      "model_name": "LayoutModel",
      "state": {
       "width": "600px"
      }
     },
     "3899a33f90ef4f16b019267bf07e81b6": {
      "model_module": "@jupyter-widgets/controls",
      "model_module_version": "1.4.0",
      "model_name": "ButtonStyleModel",
      "state": {
       "button_color": "lightgreen"
      }
     },
     "38ec576f81f54022a771531e03676944": {
      "model_module": "@jupyter-widgets/base",
      "model_module_version": "1.1.0",
      "model_name": "LayoutModel",
      "state": {
       "width": "250px"
      }
     },
     "3905f7e9f2934a76ac58a5241b310e81": {
      "model_module": "@jupyter-widgets/controls",
      "model_module_version": "1.4.0",
      "model_name": "HTMLModel",
      "state": {
       "layout": "IPY_MODEL_e0a7d6eebf66417397bcffb1f5f53e88",
       "style": "IPY_MODEL_c12a12d0d4544aebb462aa3ae6326fa0",
       "value": "<i>Wählen Sie die <ins>eine</ins> korrekte Antwort aus: </i>"
      }
     },
     "396a09fd226648cda2351d8d77b5e987": {
      "model_module": "@jupyter-widgets/controls",
      "model_module_version": "1.4.0",
      "model_name": "ButtonModel",
      "state": {
       "description": "Korrekt?",
       "layout": "IPY_MODEL_4baf356c7c2c4c448487457b8c3ecc76",
       "style": "IPY_MODEL_c6893239a5b944c980fdf82a581e3191"
      }
     },
     "396a1f6c092347c4804f892f5b550409": {
      "model_module": "@jupyter-widgets/controls",
      "model_module_version": "1.4.0",
      "model_name": "HBoxModel",
      "state": {
       "children": [
        "IPY_MODEL_57887822309543d9975e24d38ef6e726"
       ],
       "layout": "IPY_MODEL_8dcbf27ac3b74d1cb85e6ee2f4b5ba47"
      }
     },
     "3981861f5d8944f897e25402989caf84": {
      "model_module": "@jupyter-widgets/controls",
      "model_module_version": "1.4.0",
      "model_name": "DescriptionStyleModel",
      "state": {
       "description_width": ""
      }
     },
     "39fc949f33af46b7a8281dc491aa2968": {
      "model_module": "@jupyter-widgets/controls",
      "model_module_version": "1.4.0",
      "model_name": "HTMLModel",
      "state": {
       "layout": "IPY_MODEL_dc254f2efeca43cebecdd2425ff99532",
       "style": "IPY_MODEL_47d775698e484bd1b966bd1dc6ddb763",
       "value": "<h4 style=\"font-size:14px;\">Nach welchem Kriterium wird beim Parsen mit dem InsideChartParser (= <i>Lowest-Cost-First</i>-Strategie) die <i>edge queue</i> sortiert?</h4>"
      }
     },
     "39fd7b93c42f46469b9d02776e582f65": {
      "model_module": "@jupyter-widgets/base",
      "model_module_version": "1.1.0",
      "model_name": "LayoutModel",
      "state": {
       "width": "250px"
      }
     },
     "3a1b391fed4b47ce9a482c7715570786": {
      "model_module": "@jupyter-widgets/controls",
      "model_module_version": "1.4.0",
      "model_name": "HTMLModel",
      "state": {
       "layout": "IPY_MODEL_4f81edb12e644c40bcf8866921832eb2",
       "style": "IPY_MODEL_5a6dad44d16745fcadbf43b465e52e28",
       "value": "<i>Wählen Sie die <ins>eine</ins> korrekte Antwort aus: </i>"
      }
     },
     "3a40560a7299421e95698cb3673e6f0e": {
      "model_module": "@jupyter-widgets/controls",
      "model_module_version": "1.4.0",
      "model_name": "ButtonModel",
      "state": {
       "description": "Koordinationsambiguität",
       "layout": "IPY_MODEL_47a11d2b44fd4a1b92b2ace6a5747167",
       "style": "IPY_MODEL_e69f4d5c17aa44858bdc16172710766f"
      }
     },
     "3a419b9252cd412896f9ab313175fbee": {
      "model_module": "@jupyter-widgets/controls",
      "model_module_version": "1.4.0",
      "model_name": "ButtonStyleModel",
      "state": {
       "button_color": "lightgreen"
      }
     },
     "3a480ceb4b7042e4bd3d7dcc5565af18": {
      "model_module": "@jupyter-widgets/controls",
      "model_module_version": "1.4.0",
      "model_name": "DescriptionStyleModel",
      "state": {
       "description_width": "initial"
      }
     },
     "3a51483323064b98b8db4ebe97f2e8ce": {
      "model_module": "@jupyter-widgets/controls",
      "model_module_version": "1.4.0",
      "model_name": "VBoxModel",
      "state": {
       "children": [
        "IPY_MODEL_40a0479f3c6d4ecbae2017a6fa9e98ca",
        "IPY_MODEL_5a7ef03028354f8c8f151731852b75f6",
        "IPY_MODEL_ad06daa86b5547c5b17579a1a322147f",
        "IPY_MODEL_b6dc6d6d0e9b40e9b3dab413cabc21dd"
       ],
       "layout": "IPY_MODEL_5ba2bcfa753f4dc488f8f56b43f2ae0f"
      }
     },
     "3a616093554e44c284813fdabae6e20a": {
      "model_module": "@jupyter-widgets/controls",
      "model_module_version": "1.4.0",
      "model_name": "ButtonStyleModel",
      "state": {}
     },
     "3a6b9f4470984dae9d38c5f13e0a7e3e": {
      "model_module": "@jupyter-widgets/base",
      "model_module_version": "1.1.0",
      "model_name": "LayoutModel",
      "state": {
       "justify_content": "center"
      }
     },
     "3ad227e59d854d57ad8e0e5a6bffbd0b": {
      "model_module": "@jupyter-widgets/base",
      "model_module_version": "1.1.0",
      "model_name": "LayoutModel",
      "state": {}
     },
     "3adb6bd2b4d046f6b629a558ccc78370": {
      "model_module": "@jupyter-widgets/base",
      "model_module_version": "1.1.0",
      "model_name": "LayoutModel",
      "state": {
       "width": "600px"
      }
     },
     "3b21088f9c074928bba30ea7b123e1d0": {
      "model_module": "@jupyter-widgets/controls",
      "model_module_version": "1.4.0",
      "model_name": "ButtonStyleModel",
      "state": {}
     },
     "3b453ae361624a168b0cb44aa0783fad": {
      "model_module": "@jupyter-widgets/base",
      "model_module_version": "1.1.0",
      "model_name": "LayoutModel",
      "state": {}
     },
     "3b6cd1e1e82e46d782c0a78c008bf6f6": {
      "model_module": "@jupyter-widgets/controls",
      "model_module_version": "1.4.0",
      "model_name": "ButtonModel",
      "state": {
       "description": "nach der Wahrscheinlichkeit",
       "layout": "IPY_MODEL_fa3f2dd94d504528b73ad86f0d4b823c",
       "style": "IPY_MODEL_17f667362825476da29ee9e52f8e5cd9"
      }
     },
     "3b857a3ed0114a13bd770439b223b129": {
      "model_module": "@jupyter-widgets/controls",
      "model_module_version": "1.4.0",
      "model_name": "DescriptionStyleModel",
      "state": {
       "description_width": ""
      }
     },
     "3bc05a1c0db04d56a3c6b623e0310e25": {
      "model_module": "@jupyter-widgets/controls",
      "model_module_version": "1.4.0",
      "model_name": "DescriptionStyleModel",
      "state": {
       "description_width": "initial"
      }
     },
     "3bc4062fb1a14c328d87ed4895410080": {
      "model_module": "@jupyter-widgets/controls",
      "model_module_version": "1.4.0",
      "model_name": "HTMLModel",
      "state": {
       "layout": "IPY_MODEL_294cba46d2bb427291376eeb77b055c5",
       "style": "IPY_MODEL_d7001ab3560c4076ac1eb19f2b9dea07",
       "value": "<h4 style=\"font-size:14px;\">Warum werden die Analysen in den `Discard`-Zeilen verworfen?</h4>"
      }
     },
     "3be2dbe7198a4436ac32deeaa597eca4": {
      "model_module": "@jupyter-widgets/controls",
      "model_module_version": "1.4.0",
      "model_name": "HTMLModel",
      "state": {
       "layout": "IPY_MODEL_43b1bcc71805482b8e90d506a9673dbc",
       "style": "IPY_MODEL_e3318e9bb47d4b2e8c87a14b504c07d4",
       "value": "<i>Wählen Sie die <ins>eine</ins> korrekte Antwort aus: </i>"
      }
     },
     "3bf6a823314f4b11925792db19191e92": {
      "model_module": "@jupyter-widgets/controls",
      "model_module_version": "1.4.0",
      "model_name": "HTMLModel",
      "state": {
       "layout": "IPY_MODEL_484908bb2c854f72ac57b599c0d397c4",
       "style": "IPY_MODEL_fe3b27f0c1804f5c806fa4b632226889",
       "value": "<h4 style=\"font-size:14px;\">Berechnen Sie die Wahrscheinlichkeit für die Ableitung in der letzten Zeile.</h4>"
      }
     },
     "3c28502f70964401b67bada4ae06a050": {
      "model_module": "@jupyter-widgets/controls",
      "model_module_version": "1.4.0",
      "model_name": "HTMLModel",
      "state": {
       "layout": "IPY_MODEL_aee2a6ed2577443e890defdae4d3095b",
       "style": "IPY_MODEL_4e5d78eb03a54da1a5ec6887f9635501",
       "value": "<h4 style=\"font-size:14px;\">Was ist die Aufgabe des Viterbi-Algorithmus?</h4>"
      }
     },
     "3c31fb84108d4ba3b59bd4360d3c4566": {
      "model_module": "@jupyter-widgets/base",
      "model_module_version": "1.1.0",
      "model_name": "LayoutModel",
      "state": {}
     },
     "3c5ff034325845d5adcfc8b1d1117a36": {
      "model_module": "@jupyter-widgets/controls",
      "model_module_version": "1.4.0",
      "model_name": "DescriptionStyleModel",
      "state": {
       "description_width": ""
      }
     },
     "3c95f96508b7445d8449fa711f9adbab": {
      "model_module": "@jupyter-widgets/controls",
      "model_module_version": "1.4.0",
      "model_name": "DescriptionStyleModel",
      "state": {
       "description_width": "initial"
      }
     },
     "3cc93837ebea45918f291783b217f51d": {
      "model_module": "@jupyter-widgets/controls",
      "model_module_version": "1.4.0",
      "model_name": "DescriptionStyleModel",
      "state": {
       "description_width": ""
      }
     },
     "3cf84e1a40224549beb52e493193dd99": {
      "model_module": "@jupyter-widgets/controls",
      "model_module_version": "1.4.0",
      "model_name": "ButtonModel",
      "state": {
       "description": "Korrekt?",
       "layout": "IPY_MODEL_f1791b61fff14b9d998fa367c2a655e3",
       "style": "IPY_MODEL_77fdbcab37fc41aa992806fe571ed3f6"
      }
     },
     "3d170b8c395248d6a5d1f4e79f7f1ec9": {
      "model_module": "@jupyter-widgets/base",
      "model_module_version": "1.1.0",
      "model_name": "LayoutModel",
      "state": {
       "width": "600px"
      }
     },
     "3d42c528c5a94bbea31800610c9407f2": {
      "model_module": "@jupyter-widgets/controls",
      "model_module_version": "1.4.0",
      "model_name": "HTMLModel",
      "state": {
       "layout": "IPY_MODEL_58e41cfd6b8d4c29b0157136fa4ab7fc",
       "style": "IPY_MODEL_1167f1a7bfc946718147f838da0b9bf6",
       "value": "<h4 style=\"font-size:14px;\">Um welchen Parser kann es sich nicht handeln?</h4>"
      }
     },
     "3d48094155f2429d8aa08453188437de": {
      "model_module": "@jupyter-widgets/controls",
      "model_module_version": "1.4.0",
      "model_name": "VBoxModel",
      "state": {
       "children": [
        "IPY_MODEL_4662102fb9ba4fdd98b0c14164431142",
        "IPY_MODEL_1ad5fdf3b1d045259ee29034866974a1",
        "IPY_MODEL_70c89386309a456bb6ec8018c8b7482c",
        "IPY_MODEL_2572479adf52433baeff9593852facab"
       ],
       "layout": "IPY_MODEL_ccefd4837c7c4c4ea97602347e078d3c"
      }
     },
     "3d88d991a08748f08a5b01c854559d5d": {
      "model_module": "@jupyter-widgets/base",
      "model_module_version": "1.1.0",
      "model_name": "LayoutModel",
      "state": {
       "border": "2px solid lightgreen"
      }
     },
     "3d93dc7bbf1f446a86fd9cabcff2aa18": {
      "model_module": "@jupyter-widgets/base",
      "model_module_version": "1.1.0",
      "model_name": "LayoutModel",
      "state": {}
     },
     "3d9c270dd2bb4b4eb287463c89d682f7": {
      "model_module": "@jupyter-widgets/base",
      "model_module_version": "1.1.0",
      "model_name": "LayoutModel",
      "state": {
       "width": "600px"
      }
     },
     "3dd044ae602f4f1cb2ecb2e216eb3aed": {
      "model_module": "@jupyter-widgets/controls",
      "model_module_version": "1.4.0",
      "model_name": "ButtonStyleModel",
      "state": {}
     },
     "3df8bf18dc904b74a616c14e7d77479a": {
      "model_module": "@jupyter-widgets/base",
      "model_module_version": "1.1.0",
      "model_name": "LayoutModel",
      "state": {
       "width": "250px"
      }
     },
     "3e479a95c03b48bf8fc9b8d442a8e902": {
      "model_module": "@jupyter-widgets/controls",
      "model_module_version": "1.4.0",
      "model_name": "ButtonModel",
      "state": {
       "description": "nach der Wahrscheinlichkeit",
       "layout": "IPY_MODEL_a0643e057ef349e298948f12204f3a1e",
       "style": "IPY_MODEL_5feea9aae2e24ccab36799ccfa2c4b48"
      }
     },
     "3e50c0bc63cc42deadde0433bcb885d4": {
      "model_module": "@jupyter-widgets/base",
      "model_module_version": "1.1.0",
      "model_name": "LayoutModel",
      "state": {
       "justify_content": "center"
      }
     },
     "3e696ecae3c64d87b21da5813dc8a68a": {
      "model_module": "@jupyter-widgets/controls",
      "model_module_version": "1.4.0",
      "model_name": "ButtonStyleModel",
      "state": {}
     },
     "3e88bd66cfb94c8491dcbe3c06f70fd9": {
      "model_module": "@jupyter-widgets/controls",
      "model_module_version": "1.4.0",
      "model_name": "ButtonModel",
      "state": {
       "description": "PP-Attachment",
       "layout": "IPY_MODEL_d0905ed7acf0482a95749ce58ca00b88",
       "style": "IPY_MODEL_b5f8153232c745e18bea6f59257db012"
      }
     },
     "3ef1e89a6b264a11a83c0ea90cf37694": {
      "model_module": "@jupyter-widgets/base",
      "model_module_version": "1.1.0",
      "model_name": "LayoutModel",
      "state": {
       "width": "250px"
      }
     },
     "3ef38b0821c946f583113295c9f5136f": {
      "model_module": "@jupyter-widgets/controls",
      "model_module_version": "1.4.0",
      "model_name": "DescriptionStyleModel",
      "state": {
       "description_width": ""
      }
     },
     "3ef64fc4f5fd4af285afbffd67cd7d53": {
      "model_module": "@jupyter-widgets/base",
      "model_module_version": "1.1.0",
      "model_name": "LayoutModel",
      "state": {}
     },
     "3f12616f6b99468c848c0d17dae0ceb3": {
      "model_module": "@jupyter-widgets/base",
      "model_module_version": "1.1.0",
      "model_name": "LayoutModel",
      "state": {}
     },
     "3f4d60b010264f72999b40949ebf8fb6": {
      "model_module": "@jupyter-widgets/base",
      "model_module_version": "1.1.0",
      "model_name": "LayoutModel",
      "state": {}
     },
     "3fd273f49b3a4997ae7319617fd22232": {
      "model_module": "@jupyter-widgets/base",
      "model_module_version": "1.1.0",
      "model_name": "LayoutModel",
      "state": {}
     },
     "3fe086595dbb47599d1b6f551af55e4b": {
      "model_module": "@jupyter-widgets/controls",
      "model_module_version": "1.4.0",
      "model_name": "ButtonModel",
      "state": {
       "description": "Lösung zeigen",
       "layout": "IPY_MODEL_ac96da4d5ea947cb9a429a735bdeb5a1",
       "style": "IPY_MODEL_11a035dd902342f6ae2d67b1042f963a"
      }
     },
     "400fdc258a8d49c7a4f33419d4f7f6d8": {
      "model_module": "@jupyter-widgets/controls",
      "model_module_version": "1.4.0",
      "model_name": "DescriptionStyleModel",
      "state": {
       "description_width": "initial"
      }
     },
     "406ac7cc181242a99e60c24c51fc834e": {
      "model_module": "@jupyter-widgets/controls",
      "model_module_version": "1.4.0",
      "model_name": "CheckboxModel",
      "state": {
       "description": "Finden aller Konstituenten",
       "disabled": false,
       "layout": "IPY_MODEL_1dba3e3bbb66427eaa889e70524ed415",
       "style": "IPY_MODEL_ed3acc233c0d4635918e14ffb94d7b40",
       "value": false
      }
     },
     "40739ffffaf3490ea05e0470195897f0": {
      "model_module": "@jupyter-widgets/controls",
      "model_module_version": "1.4.0",
      "model_name": "ButtonStyleModel",
      "state": {}
     },
     "407779c816034d79a945f26e9e69874a": {
      "model_module": "@jupyter-widgets/controls",
      "model_module_version": "1.4.0",
      "model_name": "ButtonStyleModel",
      "state": {}
     },
     "40a0479f3c6d4ecbae2017a6fa9e98ca": {
      "model_module": "@jupyter-widgets/controls",
      "model_module_version": "1.4.0",
      "model_name": "HTMLModel",
      "state": {
       "layout": "IPY_MODEL_9d057923244c405fb9a75f723ed7351f",
       "style": "IPY_MODEL_4f493d683e6840eb970384451d1539ea",
       "value": "<h4 style=\"font-size:14px;\">Welche der folgenden Bedingungen wird an eine PCFG gestellt?</h4>"
      }
     },
     "40a0c8df78524df3bdae340a2205cc6b": {
      "model_module": "@jupyter-widgets/controls",
      "model_module_version": "1.4.0",
      "model_name": "ButtonStyleModel",
      "state": {}
     },
     "40c8e220ad394bc39c1abdbcc9ea35bd": {
      "model_module": "@jupyter-widgets/base",
      "model_module_version": "1.1.0",
      "model_name": "LayoutModel",
      "state": {
       "justify_content": "center"
      }
     },
     "40d98fb942ab4468855a1599ee802d93": {
      "model_module": "@jupyter-widgets/controls",
      "model_module_version": "1.4.0",
      "model_name": "ButtonStyleModel",
      "state": {
       "button_color": "lightgreen"
      }
     },
     "40f0a5483da64ed4aa2c574c31f690f8": {
      "model_module": "@jupyter-widgets/controls",
      "model_module_version": "1.4.0",
      "model_name": "ButtonModel",
      "state": {
       "description": "nach der Länge der Ableitung",
       "layout": "IPY_MODEL_f4c9bc71da274d6198f5fdb7dab4c0f1",
       "style": "IPY_MODEL_3b21088f9c074928bba30ea7b123e1d0"
      }
     },
     "410cf784775947369528994a6fd1a2f5": {
      "model_module": "@jupyter-widgets/controls",
      "model_module_version": "1.4.0",
      "model_name": "DescriptionStyleModel",
      "state": {
       "description_width": "initial"
      }
     },
     "4116a619ca4f4d1ca68242b2cbb3ba0f": {
      "model_module": "@jupyter-widgets/controls",
      "model_module_version": "1.4.0",
      "model_name": "ButtonStyleModel",
      "state": {}
     },
     "4117f217386448da86730a84d3e2882e": {
      "model_module": "@jupyter-widgets/controls",
      "model_module_version": "1.4.0",
      "model_name": "DescriptionStyleModel",
      "state": {
       "description_width": ""
      }
     },
     "4122f2ec2f8a440f80930dbd98a2e39d": {
      "model_module": "@jupyter-widgets/controls",
      "model_module_version": "1.4.0",
      "model_name": "VBoxModel",
      "state": {
       "children": [
        "IPY_MODEL_3c28502f70964401b67bada4ae06a050",
        "IPY_MODEL_6d1336298944453bb2531947dd64b9b0",
        "IPY_MODEL_b11d563991a249ff899eedcdf13e0cf8",
        "IPY_MODEL_6d2b1b40268c415b92d49aaf41d7f675"
       ],
       "layout": "IPY_MODEL_b23a0a09637d45e8813b4743f8718465"
      }
     },
     "412c5572a6b44c1d8e8d2f081ee8ede3": {
      "model_module": "@jupyter-widgets/base",
      "model_module_version": "1.1.0",
      "model_name": "LayoutModel",
      "state": {
       "justify_content": "center"
      }
     },
     "416707293ec6443b87c0e337572907b5": {
      "model_module": "@jupyter-widgets/base",
      "model_module_version": "1.1.0",
      "model_name": "LayoutModel",
      "state": {
       "width": "250px"
      }
     },
     "419993f02a67418da4beecd0f8b6dbb4": {
      "model_module": "@jupyter-widgets/controls",
      "model_module_version": "1.4.0",
      "model_name": "CheckboxModel",
      "state": {
       "description": "Die Analysen sind mit der gegebenen Grammatik nicht möglich.",
       "disabled": false,
       "layout": "IPY_MODEL_b3aefb6cef9d4ae5a7ca567310e8cda1",
       "style": "IPY_MODEL_7cad0d679ee94260a5dc55011e8ff93d",
       "value": false
      }
     },
     "41e028e30ff442a38193513b2bf5c1a6": {
      "model_module": "@jupyter-widgets/base",
      "model_module_version": "1.1.0",
      "model_name": "LayoutModel",
      "state": {
       "border": "2px solid lightgreen"
      }
     },
     "4221e417910248658101851a5dab109b": {
      "model_module": "@jupyter-widgets/controls",
      "model_module_version": "1.4.0",
      "model_name": "HTMLModel",
      "state": {
       "layout": "IPY_MODEL_a854446af36648c5bd2a4684f55006bf",
       "style": "IPY_MODEL_15313ab7c982490c9b965bc7c0411019",
       "value": "<h4 style=\"font-size:14px;\">Berechnen Sie die Wahrscheinlichkeit für die Ableitung in der letzten Zeile.</h4>"
      }
     },
     "427cc12eed7c42dd82523b17c1a2b197": {
      "model_module": "@jupyter-widgets/controls",
      "model_module_version": "1.4.0",
      "model_name": "DescriptionStyleModel",
      "state": {
       "description_width": ""
      }
     },
     "4295a4eac8ae4e948e52ed458906a7ce": {
      "model_module": "@jupyter-widgets/controls",
      "model_module_version": "1.4.0",
      "model_name": "ButtonStyleModel",
      "state": {}
     },
     "42da9e96d88b4b8c90dd38300d0c3ca4": {
      "model_module": "@jupyter-widgets/controls",
      "model_module_version": "1.4.0",
      "model_name": "ButtonModel",
      "state": {
       "description": "Korrekt?",
       "layout": "IPY_MODEL_9e1144230eb84a3781960590e3de9fe4",
       "style": "IPY_MODEL_ff8ac564443046e5b1b4f053ad6dfcd6"
      }
     },
     "4380d0df8eed49aa9e1596a044e63d68": {
      "model_module": "@jupyter-widgets/controls",
      "model_module_version": "1.4.0",
      "model_name": "VBoxModel",
      "state": {
       "children": [
        "IPY_MODEL_52c2643248c948f79b3dc1e3a292bfca",
        "IPY_MODEL_6b7cdd229b39466fba4a8b2a3333b558",
        "IPY_MODEL_9612355d3bbe4c968d9c8550893e470d",
        "IPY_MODEL_396a09fd226648cda2351d8d77b5e987"
       ],
       "layout": "IPY_MODEL_e46a530fe43a4a43accd1d7affb9735d"
      }
     },
     "43a97d25d7444e9680b8d39d8d7afbf6": {
      "model_module": "@jupyter-widgets/controls",
      "model_module_version": "1.4.0",
      "model_name": "HTMLModel",
      "state": {
       "layout": "IPY_MODEL_8bf25da22fb34db8a9cb6a9b39c6434b",
       "style": "IPY_MODEL_4902b0b98d1b4e5496f115341868b60c",
       "value": "<i>None</i>"
      }
     },
     "43b1bcc71805482b8e90d506a9673dbc": {
      "model_module": "@jupyter-widgets/base",
      "model_module_version": "1.1.0",
      "model_name": "LayoutModel",
      "state": {
       "justify_content": "center"
      }
     },
     "43eb48869b174cfc8fdb534a7a441c30": {
      "model_module": "@jupyter-widgets/base",
      "model_module_version": "1.1.0",
      "model_name": "LayoutModel",
      "state": {}
     },
     "43f405100ba54047b9ac866318bd19f3": {
      "model_module": "@jupyter-widgets/controls",
      "model_module_version": "1.4.0",
      "model_name": "DescriptionStyleModel",
      "state": {
       "description_width": ""
      }
     },
     "43fec4a52b9b45728a3d0190626f8d90": {
      "model_module": "@jupyter-widgets/controls",
      "model_module_version": "1.4.0",
      "model_name": "DescriptionStyleModel",
      "state": {
       "description_width": ""
      }
     },
     "4422ef812b5a4f44ae7b456ec3fa63e4": {
      "model_module": "@jupyter-widgets/base",
      "model_module_version": "1.1.0",
      "model_name": "LayoutModel",
      "state": {}
     },
     "444f8528297942829a9c625c3c191b46": {
      "model_module": "@jupyter-widgets/controls",
      "model_module_version": "1.4.0",
      "model_name": "HBoxModel",
      "state": {
       "children": [
        "IPY_MODEL_c56747037daf48bb82c85621c398ae83",
        "IPY_MODEL_cc5c4a15f5f24e8287a3ae25ada584f3"
       ],
       "layout": "IPY_MODEL_7a8b9ad4e8ec45d8b84c677a527a54d0"
      }
     },
     "445a55fab1e64aed9863ea6b4aa9ea8e": {
      "model_module": "@jupyter-widgets/controls",
      "model_module_version": "1.4.0",
      "model_name": "ButtonStyleModel",
      "state": {}
     },
     "445b66d8793c4b6086272fdded28fbf0": {
      "model_module": "@jupyter-widgets/base",
      "model_module_version": "1.1.0",
      "model_name": "LayoutModel",
      "state": {}
     },
     "445b95c765424dbf888e255cf6d17e01": {
      "model_module": "@jupyter-widgets/controls",
      "model_module_version": "1.4.0",
      "model_name": "ButtonStyleModel",
      "state": {}
     },
     "4463dfe350df4278964e74e3ce6088ab": {
      "model_module": "@jupyter-widgets/controls",
      "model_module_version": "1.4.0",
      "model_name": "ButtonModel",
      "state": {
       "description": "Korrekt?",
       "layout": "IPY_MODEL_447c0c39676a4d88836e91afdfedb045",
       "style": "IPY_MODEL_9d7e16dffd4446338dcc4a984169ddb9"
      }
     },
     "446ae8777aff406e896c8b380606ad6d": {
      "model_module": "@jupyter-widgets/base",
      "model_module_version": "1.1.0",
      "model_name": "LayoutModel",
      "state": {}
     },
     "447c0c39676a4d88836e91afdfedb045": {
      "model_module": "@jupyter-widgets/base",
      "model_module_version": "1.1.0",
      "model_name": "LayoutModel",
      "state": {
       "width": "250px"
      }
     },
     "447cc05323c34325a028840c57b07183": {
      "model_module": "@jupyter-widgets/controls",
      "model_module_version": "1.4.0",
      "model_name": "HBoxModel",
      "state": {
       "children": [
        "IPY_MODEL_d4cd6511da374bd193f710dd9c9bb66f",
        "IPY_MODEL_27e61b92cde0488e94ee6889989e17cf"
       ],
       "layout": "IPY_MODEL_d8933efa5daa429ea939b6a83a9b3c84"
      }
     },
     "44a57c21abc945c1824e33b6cc8305a0": {
      "model_module": "@jupyter-widgets/base",
      "model_module_version": "1.1.0",
      "model_name": "LayoutModel",
      "state": {}
     },
     "44b417b114dd4041a2a338d722d602df": {
      "model_module": "@jupyter-widgets/base",
      "model_module_version": "1.1.0",
      "model_name": "LayoutModel",
      "state": {
       "width": "250px"
      }
     },
     "44d71df3445449daa24888ead4ea9284": {
      "model_module": "@jupyter-widgets/controls",
      "model_module_version": "1.4.0",
      "model_name": "HBoxModel",
      "state": {
       "children": [
        "IPY_MODEL_a56d0435dcdd4469a0c7eddaa455f3c5"
       ],
       "layout": "IPY_MODEL_3ad227e59d854d57ad8e0e5a6bffbd0b"
      }
     },
     "4507a5de08d443e8b2f44bf0ccdadb2e": {
      "model_module": "@jupyter-widgets/controls",
      "model_module_version": "1.4.0",
      "model_name": "ButtonStyleModel",
      "state": {}
     },
     "45378476865048a9a0f78f3abb4b2954": {
      "model_module": "@jupyter-widgets/controls",
      "model_module_version": "1.4.0",
      "model_name": "CheckboxModel",
      "state": {
       "description": "Bestimmung des wahrscheinlichsten Syntaxbaums",
       "disabled": false,
       "layout": "IPY_MODEL_987220e0e639423da084b02cc3fcdc0c",
       "style": "IPY_MODEL_c7d0bb51e3324a219e5a17e0221a16ac",
       "value": false
      }
     },
     "45a2dfd46397461bbe6ae2e3aa0a29a9": {
      "model_module": "@jupyter-widgets/base",
      "model_module_version": "1.1.0",
      "model_name": "LayoutModel",
      "state": {}
     },
     "45ae6aafa97b465da639b5b863dfd778": {
      "model_module": "@jupyter-widgets/controls",
      "model_module_version": "1.4.0",
      "model_name": "ButtonStyleModel",
      "state": {}
     },
     "45c7091177664512a9b9f60d7bfecf77": {
      "model_module": "@jupyter-widgets/controls",
      "model_module_version": "1.4.0",
      "model_name": "ButtonStyleModel",
      "state": {}
     },
     "45f4fbee5c00460e9ffa106a5c9e2076": {
      "model_module": "@jupyter-widgets/controls",
      "model_module_version": "1.4.0",
      "model_name": "ButtonModel",
      "state": {
       "description": "PP-Attachment-Ambiguität",
       "layout": "IPY_MODEL_8a2efc9b51764a95a62927c0901c71f5",
       "style": "IPY_MODEL_608db7430beb453dae479b88e2459fb8"
      }
     },
     "46092427bc1543cea308ac0156ec991b": {
      "model_module": "@jupyter-widgets/base",
      "model_module_version": "1.1.0",
      "model_name": "LayoutModel",
      "state": {}
     },
     "4623dba5cea34c468ad56b19bf3eb175": {
      "model_module": "@jupyter-widgets/base",
      "model_module_version": "1.1.0",
      "model_name": "LayoutModel",
      "state": {}
     },
     "4625eb33fd0249dd895e70e7ca78dfbf": {
      "model_module": "@jupyter-widgets/controls",
      "model_module_version": "1.4.0",
      "model_name": "ButtonModel",
      "state": {
       "description": "InsideChartParser",
       "layout": "IPY_MODEL_0907e74db0364b6884d4d77e596af7b7",
       "style": "IPY_MODEL_1679762e365540c88c44007485552d68"
      }
     },
     "463619e6c3d346f88ea8c123dd459bbc": {
      "model_module": "@jupyter-widgets/base",
      "model_module_version": "1.1.0",
      "model_name": "LayoutModel",
      "state": {}
     },
     "4646cab411244ecd84303b25b90588f3": {
      "model_module": "@jupyter-widgets/controls",
      "model_module_version": "1.4.0",
      "model_name": "DescriptionStyleModel",
      "state": {
       "description_width": ""
      }
     },
     "4662102fb9ba4fdd98b0c14164431142": {
      "model_module": "@jupyter-widgets/controls",
      "model_module_version": "1.4.0",
      "model_name": "HTMLModel",
      "state": {
       "layout": "IPY_MODEL_4f5134d6d7c54df3aef1eb502a267ba4",
       "style": "IPY_MODEL_04f319085f86448f926f0cab5beddeef",
       "value": "<h4 style=\"font-size:14px;\">Nach welchem Kriterium wird beim Parsen mit dem InsideChartParser (= <i>Lowest-Cost-First</i>-Strategie) die <i>edge queue</i> sortiert?</h4>"
      }
     },
     "466b98f024594ae7b40ee5dd65feea13": {
      "model_module": "@jupyter-widgets/controls",
      "model_module_version": "1.4.0",
      "model_name": "HTMLModel",
      "state": {
       "layout": "IPY_MODEL_4b93dbc9a93b4b2db3d61e39d6178892",
       "style": "IPY_MODEL_87a937d3a6f9408084ee66d6bf5e8e6b",
       "value": "<i>Wählen Sie die <ins>eine</ins> korrekte Antwort aus: </i>"
      }
     },
     "4689a58ace7c430887dc5c1ec3fb14d6": {
      "model_module": "@jupyter-widgets/controls",
      "model_module_version": "1.4.0",
      "model_name": "DescriptionStyleModel",
      "state": {
       "description_width": ""
      }
     },
     "46dac0e7331b4ba3a899b6d87b9bd80f": {
      "model_module": "@jupyter-widgets/controls",
      "model_module_version": "1.4.0",
      "model_name": "ButtonStyleModel",
      "state": {
       "button_color": "lightgreen"
      }
     },
     "46e62bbbb46a4aa5af6791538e62d642": {
      "model_module": "@jupyter-widgets/controls",
      "model_module_version": "1.4.0",
      "model_name": "VBoxModel",
      "state": {
       "children": [
        "IPY_MODEL_6ab1969932dd45389c0cb329e6c7c442",
        "IPY_MODEL_7f86c9c61c4641ffa825ef2b23a37049",
        "IPY_MODEL_aed8b62664434f97b9a03e6d942f2907",
        "IPY_MODEL_3cf84e1a40224549beb52e493193dd99"
       ],
       "layout": "IPY_MODEL_d3d977df932a43b1a5690f62ebb8f11e"
      }
     },
     "476f8cb8f3b8404894453b386f4f66c2": {
      "model_module": "@jupyter-widgets/controls",
      "model_module_version": "1.4.0",
      "model_name": "ButtonModel",
      "state": {
       "description": "nach der Länge der Ableitung",
       "layout": "IPY_MODEL_5c251dcfb73d48269e7f96ebd8c5f473",
       "style": "IPY_MODEL_8d662b3ad9184263936cb2bba6b770c5"
      }
     },
     "477c18f6beea403f81aa356b5dd2c3f2": {
      "model_module": "@jupyter-widgets/controls",
      "model_module_version": "1.4.0",
      "model_name": "HTMLModel",
      "state": {
       "layout": "IPY_MODEL_4e11c0d88db94d01a326e3d0d6069365",
       "style": "IPY_MODEL_24d5d35e6e884e75930fd547f0834924",
       "value": "<i>None</i>"
      }
     },
     "478dda7e6a6f4b28bc6d6750ed5f4da5": {
      "model_module": "@jupyter-widgets/controls",
      "model_module_version": "1.4.0",
      "model_name": "ButtonModel",
      "state": {
       "description": "ViterbiParser",
       "layout": "IPY_MODEL_2f9315d76e694b42b4606812da9a31b0",
       "style": "IPY_MODEL_113a19f644c04f4dbba0aad0008aefa6"
      }
     },
     "47a11d2b44fd4a1b92b2ace6a5747167": {
      "model_module": "@jupyter-widgets/base",
      "model_module_version": "1.1.0",
      "model_name": "LayoutModel",
      "state": {
       "width": "250px"
      }
     },
     "47b80e78d6b6452c863c1d887886745d": {
      "model_module": "@jupyter-widgets/base",
      "model_module_version": "1.1.0",
      "model_name": "LayoutModel",
      "state": {}
     },
     "47c3d5afad6a4c408505ddfa068d675d": {
      "model_module": "@jupyter-widgets/base",
      "model_module_version": "1.1.0",
      "model_name": "LayoutModel",
      "state": {}
     },
     "47d775698e484bd1b966bd1dc6ddb763": {
      "model_module": "@jupyter-widgets/controls",
      "model_module_version": "1.4.0",
      "model_name": "DescriptionStyleModel",
      "state": {
       "description_width": ""
      }
     },
     "48006421d9e44dfeb1c13b110bc29f7c": {
      "model_module": "@jupyter-widgets/base",
      "model_module_version": "1.1.0",
      "model_name": "LayoutModel",
      "state": {}
     },
     "48151eaaff5142ab9e2739f9cc87d1a1": {
      "model_module": "@jupyter-widgets/base",
      "model_module_version": "1.1.0",
      "model_name": "LayoutModel",
      "state": {}
     },
     "484276ca22824f75ba89b94b8f787e2f": {
      "model_module": "@jupyter-widgets/controls",
      "model_module_version": "1.4.0",
      "model_name": "DescriptionStyleModel",
      "state": {
       "description_width": "initial"
      }
     },
     "484908bb2c854f72ac57b599c0d397c4": {
      "model_module": "@jupyter-widgets/base",
      "model_module_version": "1.1.0",
      "model_name": "LayoutModel",
      "state": {}
     },
     "484acf4def0c49d8975226c08752bd59": {
      "model_module": "@jupyter-widgets/base",
      "model_module_version": "1.1.0",
      "model_name": "LayoutModel",
      "state": {}
     },
     "4879719826ab466f9ed54cad0253c70f": {
      "model_module": "@jupyter-widgets/base",
      "model_module_version": "1.1.0",
      "model_name": "LayoutModel",
      "state": {
       "justify_content": "center"
      }
     },
     "48855eecd1b44aa9b10cb9f6567471fe": {
      "model_module": "@jupyter-widgets/controls",
      "model_module_version": "1.4.0",
      "model_name": "ButtonStyleModel",
      "state": {}
     },
     "48ea48b09da546a4bad14ce793b33016": {
      "model_module": "@jupyter-widgets/controls",
      "model_module_version": "1.4.0",
      "model_name": "ButtonStyleModel",
      "state": {}
     },
     "4902b0b98d1b4e5496f115341868b60c": {
      "model_module": "@jupyter-widgets/controls",
      "model_module_version": "1.4.0",
      "model_name": "DescriptionStyleModel",
      "state": {
       "description_width": ""
      }
     },
     "497a7dc0009048b9b6c2325c0620b99d": {
      "model_module": "@jupyter-widgets/controls",
      "model_module_version": "1.4.0",
      "model_name": "VBoxModel",
      "state": {
       "children": [
        "IPY_MODEL_94c62e1b658e43ebbd11673c183e2ef8",
        "IPY_MODEL_7bbbcc87a70f4bf593c59c83cb8ca6f1",
        "IPY_MODEL_ba2d316f9c55409cb5e8417ac778177c",
        "IPY_MODEL_5b07117230914c99b79a466d5f2b6313"
       ],
       "layout": "IPY_MODEL_068442cb0fce49b694e21f504a037f37"
      }
     },
     "49bc016679444a3a9d64f11f7cb662dc": {
      "model_module": "@jupyter-widgets/controls",
      "model_module_version": "1.4.0",
      "model_name": "ButtonModel",
      "state": {
       "description": "PP-Attachment-Ambiguität",
       "layout": "IPY_MODEL_39fd7b93c42f46469b9d02776e582f65",
       "style": "IPY_MODEL_def0bc9c09ad4d8bb2c7b747972bee08"
      }
     },
     "49c91489a09b4b78be3cbcf4d497b368": {
      "model_module": "@jupyter-widgets/base",
      "model_module_version": "1.1.0",
      "model_name": "LayoutModel",
      "state": {
       "justify_content": "center"
      }
     },
     "4a133983109643608fc5c4265e72924f": {
      "model_module": "@jupyter-widgets/controls",
      "model_module_version": "1.4.0",
      "model_name": "DescriptionStyleModel",
      "state": {
       "description_width": ""
      }
     },
     "4a1e0ddd8de54144b7e73b5377a9d230": {
      "model_module": "@jupyter-widgets/base",
      "model_module_version": "1.1.0",
      "model_name": "LayoutModel",
      "state": {}
     },
     "4a24ca59b82d4779ab13c7954e5100b5": {
      "model_module": "@jupyter-widgets/controls",
      "model_module_version": "1.4.0",
      "model_name": "HTMLModel",
      "state": {
       "layout": "IPY_MODEL_95f339424f6a43dc9c57bc15fce85677",
       "style": "IPY_MODEL_15485a05114e4b888ab86898e7157d79",
       "value": "<h4 style=\"font-size:14px;\">Um welchen Parser kann es sich nicht handeln?</h4>"
      }
     },
     "4a7609ba95124407a6f80a76d90715a8": {
      "model_module": "@jupyter-widgets/controls",
      "model_module_version": "1.4.0",
      "model_name": "ButtonModel",
      "state": {
       "description": "Korrekt?",
       "layout": "IPY_MODEL_80e0ba8c331044f5ae4560454024ec04",
       "style": "IPY_MODEL_0b2b9c909f3c4290b876d059bf07a918"
      }
     },
     "4a80d589146149f38f5b191aa8453f25": {
      "model_module": "@jupyter-widgets/base",
      "model_module_version": "1.1.0",
      "model_name": "LayoutModel",
      "state": {}
     },
     "4a9b1da456154de8919f1bc87c3b02c3": {
      "model_module": "@jupyter-widgets/controls",
      "model_module_version": "1.4.0",
      "model_name": "VBoxModel",
      "state": {
       "children": [
        "IPY_MODEL_b0112959ef994e5c8959b41c41c7ceaf",
        "IPY_MODEL_466b98f024594ae7b40ee5dd65feea13",
        "IPY_MODEL_c705ab0d52df46b8b572c8d5dc88b7eb",
        "IPY_MODEL_1668cdbd4a8247c9aae190c799cf0331"
       ],
       "layout": "IPY_MODEL_007ad2f5ddcf4593a08f69dd2b142596"
      }
     },
     "4a9c3cde50e84789af19e656c3e5b65c": {
      "model_module": "@jupyter-widgets/controls",
      "model_module_version": "1.4.0",
      "model_name": "ButtonModel",
      "state": {
       "description": "Koordinationsambiguität",
       "layout": "IPY_MODEL_3ef1e89a6b264a11a83c0ea90cf37694",
       "style": "IPY_MODEL_508a24468e20415788a2452c5dab3edc"
      }
     },
     "4ae5c7ea486d4ee4a5120f8033042435": {
      "model_module": "@jupyter-widgets/controls",
      "model_module_version": "1.4.0",
      "model_name": "DescriptionStyleModel",
      "state": {
       "description_width": ""
      }
     },
     "4b1bd727258c424ca8b910f58885e23b": {
      "model_module": "@jupyter-widgets/controls",
      "model_module_version": "1.4.0",
      "model_name": "ButtonModel",
      "state": {
       "description": "Korrekt?",
       "layout": "IPY_MODEL_1eca1e50a8de47c3aa44569dbcc262cc",
       "style": "IPY_MODEL_e9ee1d5719dc4ccfa42cf1a903da8fcf"
      }
     },
     "4b81da43323048c2afa5aeed279e4cf3": {
      "model_module": "@jupyter-widgets/controls",
      "model_module_version": "1.4.0",
      "model_name": "CheckboxModel",
      "state": {
       "description": "Finden aller Konstituenten",
       "disabled": false,
       "layout": "IPY_MODEL_846ae7861e3048eaa4838557562a1433",
       "style": "IPY_MODEL_1ef73744d15640628ac09df4e61b3d22",
       "value": false
      }
     },
     "4b843ecb434a4e86b457d64f4a05bc0e": {
      "model_module": "@jupyter-widgets/base",
      "model_module_version": "1.1.0",
      "model_name": "LayoutModel",
      "state": {
       "justify_content": "center"
      }
     },
     "4b89857821794cd09fb42bb1f8822d0b": {
      "model_module": "@jupyter-widgets/base",
      "model_module_version": "1.1.0",
      "model_name": "LayoutModel",
      "state": {}
     },
     "4b93dbc9a93b4b2db3d61e39d6178892": {
      "model_module": "@jupyter-widgets/base",
      "model_module_version": "1.1.0",
      "model_name": "LayoutModel",
      "state": {
       "justify_content": "center"
      }
     },
     "4baf356c7c2c4c448487457b8c3ecc76": {
      "model_module": "@jupyter-widgets/base",
      "model_module_version": "1.1.0",
      "model_name": "LayoutModel",
      "state": {
       "width": "250px"
      }
     },
     "4bb22202876a492889f1f34f8905564c": {
      "model_module": "@jupyter-widgets/controls",
      "model_module_version": "1.4.0",
      "model_name": "DescriptionStyleModel",
      "state": {
       "description_width": ""
      }
     },
     "4bc2d0fcfac34eecb45d98d5e6f41146": {
      "model_module": "@jupyter-widgets/controls",
      "model_module_version": "1.4.0",
      "model_name": "DescriptionStyleModel",
      "state": {
       "description_width": "initial"
      }
     },
     "4bc7ec453bfb4fb78ec26803ed5c83fd": {
      "model_module": "@jupyter-widgets/controls",
      "model_module_version": "1.4.0",
      "model_name": "HTMLModel",
      "state": {
       "layout": "IPY_MODEL_7ef97cbf0ba941139e2843b5041d6661",
       "style": "IPY_MODEL_0eeae0b10cf04c06a6f21fce36a9b729",
       "value": "<i>Wählen Sie die <ins>eine</ins> korrekte Antwort aus: </i>"
      }
     },
     "4be6093259a44286ab8297d9f347aebd": {
      "model_module": "@jupyter-widgets/base",
      "model_module_version": "1.1.0",
      "model_name": "LayoutModel",
      "state": {}
     },
     "4bf15ded4f7b4814ad1b7f93f7ea503f": {
      "model_module": "@jupyter-widgets/base",
      "model_module_version": "1.1.0",
      "model_name": "LayoutModel",
      "state": {}
     },
     "4c10495b335e477e8000974f7e409fe0": {
      "model_module": "@jupyter-widgets/controls",
      "model_module_version": "1.4.0",
      "model_name": "ButtonStyleModel",
      "state": {}
     },
     "4c42c73e766e4a61935811bc25246512": {
      "model_module": "@jupyter-widgets/controls",
      "model_module_version": "1.4.0",
      "model_name": "ButtonStyleModel",
      "state": {}
     },
     "4c8903ca54ce4487b7169265ca3f33ca": {
      "model_module": "@jupyter-widgets/base",
      "model_module_version": "1.1.0",
      "model_name": "LayoutModel",
      "state": {
       "width": "250px"
      }
     },
     "4c89d706c60b46adb94ddd3b73b6fd21": {
      "model_module": "@jupyter-widgets/base",
      "model_module_version": "1.1.0",
      "model_name": "LayoutModel",
      "state": {
       "justify_content": "center"
      }
     },
     "4c8ff64010384e44b59db10c77749750": {
      "model_module": "@jupyter-widgets/base",
      "model_module_version": "1.1.0",
      "model_name": "LayoutModel",
      "state": {
       "justify_content": "center"
      }
     },
     "4c9e433b71de4f48b25fbc7cbb954f07": {
      "model_module": "@jupyter-widgets/base",
      "model_module_version": "1.1.0",
      "model_name": "LayoutModel",
      "state": {
       "width": "600px"
      }
     },
     "4cfde9892c56481494eebfcc74494e39": {
      "model_module": "@jupyter-widgets/base",
      "model_module_version": "1.1.0",
      "model_name": "LayoutModel",
      "state": {
       "width": "600px"
      }
     },
     "4d3640f46a4547a2a21912e4e6e76aed": {
      "model_module": "@jupyter-widgets/base",
      "model_module_version": "1.1.0",
      "model_name": "LayoutModel",
      "state": {}
     },
     "4d48da6e42b74e3da4db1726b852bae6": {
      "model_module": "@jupyter-widgets/base",
      "model_module_version": "1.1.0",
      "model_name": "LayoutModel",
      "state": {
       "justify_content": "center"
      }
     },
     "4d61cd6e8b2c473b9f9d6eacc99e0957": {
      "model_module": "@jupyter-widgets/base",
      "model_module_version": "1.1.0",
      "model_name": "LayoutModel",
      "state": {}
     },
     "4d6379c0a859417196d465375427053f": {
      "model_module": "@jupyter-widgets/controls",
      "model_module_version": "1.4.0",
      "model_name": "DescriptionStyleModel",
      "state": {
       "description_width": "initial"
      }
     },
     "4d9aeecedda64938b71c0afae62ae18e": {
      "model_module": "@jupyter-widgets/base",
      "model_module_version": "1.1.0",
      "model_name": "LayoutModel",
      "state": {}
     },
     "4dacbda3d1f343ee86b03269056f58b8": {
      "model_module": "@jupyter-widgets/controls",
      "model_module_version": "1.4.0",
      "model_name": "ButtonStyleModel",
      "state": {}
     },
     "4dbb9640ef544a429b43db50ba8bf16f": {
      "model_module": "@jupyter-widgets/base",
      "model_module_version": "1.1.0",
      "model_name": "LayoutModel",
      "state": {}
     },
     "4e11c0d88db94d01a326e3d0d6069365": {
      "model_module": "@jupyter-widgets/base",
      "model_module_version": "1.1.0",
      "model_name": "LayoutModel",
      "state": {}
     },
     "4e2eb89a2b374ce2967248c2ee233fd3": {
      "model_module": "@jupyter-widgets/controls",
      "model_module_version": "1.4.0",
      "model_name": "CheckboxModel",
      "state": {
       "description": "Sie analysieren die Eingabesequenz nicht komplett.",
       "disabled": false,
       "layout": "IPY_MODEL_d7c325151df241abbe39c5824ad8a896",
       "style": "IPY_MODEL_bd0a884f4c6f4bb5967805c96844b0ea",
       "value": false
      }
     },
     "4e4e6cc437b24a579700442881eeb5d9": {
      "model_module": "@jupyter-widgets/base",
      "model_module_version": "1.1.0",
      "model_name": "LayoutModel",
      "state": {}
     },
     "4e5d78eb03a54da1a5ec6887f9635501": {
      "model_module": "@jupyter-widgets/controls",
      "model_module_version": "1.4.0",
      "model_name": "DescriptionStyleModel",
      "state": {
       "description_width": ""
      }
     },
     "4eb486fbb09b4af6a414353012349231": {
      "model_module": "@jupyter-widgets/controls",
      "model_module_version": "1.4.0",
      "model_name": "HBoxModel",
      "state": {
       "children": [
        "IPY_MODEL_ca4b0879d6d240a7afbdba284f7e7c79",
        "IPY_MODEL_8dea71d4fae143a883013a32956c1dc4"
       ],
       "layout": "IPY_MODEL_0169adfe254c48e39c29df47b4dee1ff"
      }
     },
     "4ee1ef56259343d3ba585f41401454a6": {
      "model_module": "@jupyter-widgets/controls",
      "model_module_version": "1.4.0",
      "model_name": "VBoxModel",
      "state": {
       "children": [
        "IPY_MODEL_a11ed99d0b57495e99921f293a145a2c",
        "IPY_MODEL_5e7f97ec598441799d213ff1a27be4c3",
        "IPY_MODEL_8045f0c9d4b64dd6bf1a420b16bd0796",
        "IPY_MODEL_b035d50c804a49f7a6aae117f3de69ec"
       ],
       "layout": "IPY_MODEL_eff5ff49f0014ef18c18a718b94ec382"
      }
     },
     "4f3e81218e4940a68d7ad3f72b546de2": {
      "model_module": "@jupyter-widgets/base",
      "model_module_version": "1.1.0",
      "model_name": "LayoutModel",
      "state": {}
     },
     "4f493d683e6840eb970384451d1539ea": {
      "model_module": "@jupyter-widgets/controls",
      "model_module_version": "1.4.0",
      "model_name": "DescriptionStyleModel",
      "state": {
       "description_width": ""
      }
     },
     "4f49d960a3344460952b83d396d41b5c": {
      "model_module": "@jupyter-widgets/controls",
      "model_module_version": "1.4.0",
      "model_name": "HBoxModel",
      "state": {
       "children": [
        "IPY_MODEL_bb2bb11cecb64e71916b41545284404b"
       ],
       "layout": "IPY_MODEL_a1cb50fd617448acbee11416ba2d4921"
      }
     },
     "4f5134d6d7c54df3aef1eb502a267ba4": {
      "model_module": "@jupyter-widgets/base",
      "model_module_version": "1.1.0",
      "model_name": "LayoutModel",
      "state": {
       "justify_content": "center"
      }
     },
     "4f81edb12e644c40bcf8866921832eb2": {
      "model_module": "@jupyter-widgets/base",
      "model_module_version": "1.1.0",
      "model_name": "LayoutModel",
      "state": {
       "justify_content": "center"
      }
     },
     "4fd9621dc6e24aa394f5ae8d9cd62d5d": {
      "model_module": "@jupyter-widgets/base",
      "model_module_version": "1.1.0",
      "model_name": "LayoutModel",
      "state": {
       "justify_content": "center"
      }
     },
     "501820a9c30d4e95ac51d218984d40fa": {
      "model_module": "@jupyter-widgets/base",
      "model_module_version": "1.1.0",
      "model_name": "LayoutModel",
      "state": {
       "justify_content": "center"
      }
     },
     "508a24468e20415788a2452c5dab3edc": {
      "model_module": "@jupyter-widgets/controls",
      "model_module_version": "1.4.0",
      "model_name": "ButtonStyleModel",
      "state": {
       "button_color": "lightgreen"
      }
     },
     "50ca206898354e099db789d0a065ba9a": {
      "model_module": "@jupyter-widgets/controls",
      "model_module_version": "1.4.0",
      "model_name": "DescriptionStyleModel",
      "state": {
       "description_width": "initial"
      }
     },
     "50e110a2fd104d95b18c276d123a9132": {
      "model_module": "@jupyter-widgets/controls",
      "model_module_version": "1.4.0",
      "model_name": "ButtonStyleModel",
      "state": {
       "button_color": "lightgreen"
      }
     },
     "5168fdcea6584a508d3cce851e59157b": {
      "model_module": "@jupyter-widgets/controls",
      "model_module_version": "1.4.0",
      "model_name": "HBoxModel",
      "state": {
       "children": [
        "IPY_MODEL_00357360ca644f26b23c590e77dbc571",
        "IPY_MODEL_06e2b0bfe02f437cbb877de433ebcc80"
       ],
       "layout": "IPY_MODEL_78dc28c0faad49c3b9ab3416fff884cc"
      }
     },
     "5196eefcaf6345308f881fb67c908e11": {
      "model_module": "@jupyter-widgets/controls",
      "model_module_version": "1.4.0",
      "model_name": "ButtonStyleModel",
      "state": {
       "button_color": "lightgreen"
      }
     },
     "51a7be3da895467f8a451a79487d1616": {
      "model_module": "@jupyter-widgets/base",
      "model_module_version": "1.1.0",
      "model_name": "LayoutModel",
      "state": {}
     },
     "51d1e8be49f54b589fdb5c38d9497f2d": {
      "model_module": "@jupyter-widgets/controls",
      "model_module_version": "1.4.0",
      "model_name": "ButtonStyleModel",
      "state": {}
     },
     "51e08b9875eb44c78e7c8d88ef8d59e7": {
      "model_module": "@jupyter-widgets/controls",
      "model_module_version": "1.4.0",
      "model_name": "DescriptionStyleModel",
      "state": {
       "description_width": ""
      }
     },
     "5204b9385e704d069f824a0c737e4e7d": {
      "model_module": "@jupyter-widgets/base",
      "model_module_version": "1.1.0",
      "model_name": "LayoutModel",
      "state": {}
     },
     "524e9c58b0634586ac6a46bc07c35ca1": {
      "model_module": "@jupyter-widgets/base",
      "model_module_version": "1.1.0",
      "model_name": "LayoutModel",
      "state": {
       "width": "250px"
      }
     },
     "52c2643248c948f79b3dc1e3a292bfca": {
      "model_module": "@jupyter-widgets/controls",
      "model_module_version": "1.4.0",
      "model_name": "HTMLModel",
      "state": {
       "layout": "IPY_MODEL_b31d057637244739a330f640f13617ef",
       "style": "IPY_MODEL_d4d941870ae6486fb7c97f1e0192ccc0",
       "value": "<h4 style=\"font-size:14px;\">Welche der folgenden Bedingungen wird an eine PCFG gestellt?</h4>"
      }
     },
     "52fb222a23354dc88b9a692cd1d13385": {
      "model_module": "@jupyter-widgets/controls",
      "model_module_version": "1.4.0",
      "model_name": "ButtonStyleModel",
      "state": {}
     },
     "5350fd9d91c14a0185922d074d1fb4fb": {
      "model_module": "@jupyter-widgets/controls",
      "model_module_version": "1.4.0",
      "model_name": "ButtonModel",
      "state": {
       "description": "InsideChartParser mit beam-size",
       "layout": "IPY_MODEL_a9847f8d19e1473994bbce927f5ba0b2",
       "style": "IPY_MODEL_c4bc9a68de584124bb4ee99e27df03ad"
      }
     },
     "53668577929343a88626953f98a803a4": {
      "model_module": "@jupyter-widgets/base",
      "model_module_version": "1.1.0",
      "model_name": "LayoutModel",
      "state": {
       "width": "250px"
      }
     },
     "5366e25d9f4a48079bf235ae63ae3f5d": {
      "model_module": "@jupyter-widgets/base",
      "model_module_version": "1.1.0",
      "model_name": "LayoutModel",
      "state": {}
     },
     "5385dc6aebd540eb913f0a4cfe5c882a": {
      "model_module": "@jupyter-widgets/base",
      "model_module_version": "1.1.0",
      "model_name": "LayoutModel",
      "state": {}
     },
     "539301d8806b47e6b51dcaec278f1e32": {
      "model_module": "@jupyter-widgets/controls",
      "model_module_version": "1.4.0",
      "model_name": "ButtonModel",
      "state": {
       "description": "Die Summe aller Regelwahrscheinlichkeiten für jede RHS ist jeweils 1.",
       "layout": "IPY_MODEL_edb3ea99e10e4834b900bef750736bb8",
       "style": "IPY_MODEL_93c32bf69591435f87c1417b6e9e188e"
      }
     },
     "53aa9d3da85b46a9a4cb55b440c18a74": {
      "model_module": "@jupyter-widgets/controls",
      "model_module_version": "1.4.0",
      "model_name": "HTMLModel",
      "state": {
       "layout": "IPY_MODEL_4879719826ab466f9ed54cad0253c70f",
       "style": "IPY_MODEL_427cc12eed7c42dd82523b17c1a2b197",
       "value": "<i>Wählen Sie die <ins>eine</ins> korrekte Antwort aus: </i>"
      }
     },
     "53d1d748e3674f179f5c1694dd88bd2a": {
      "model_module": "@jupyter-widgets/controls",
      "model_module_version": "1.4.0",
      "model_name": "HTMLModel",
      "state": {
       "layout": "IPY_MODEL_62606be7594f4a5c8fd3d2ae92abac62",
       "style": "IPY_MODEL_646e57eab45d4950bd470c1507a74122",
       "value": "<i>Wählen Sie die <ins>eine</ins> korrekte Antwort aus: </i>"
      }
     },
     "53f363a9f06741efa195bd8634687829": {
      "model_module": "@jupyter-widgets/controls",
      "model_module_version": "1.4.0",
      "model_name": "HTMLModel",
      "state": {
       "layout": "IPY_MODEL_6e1eddb55cf24905be9d6c16a6a0a18e",
       "style": "IPY_MODEL_7923b56eba0240b7b0cb9148f23ecadd",
       "value": "<i>Wählen Sie die <ins>eine</ins> korrekte Antwort aus: </i>"
      }
     },
     "5406d508d648402a8066ec0bb73a2158": {
      "model_module": "@jupyter-widgets/controls",
      "model_module_version": "1.4.0",
      "model_name": "DescriptionStyleModel",
      "state": {
       "description_width": ""
      }
     },
     "542571e87f87442f97fecebf2aad93f4": {
      "model_module": "@jupyter-widgets/controls",
      "model_module_version": "1.4.0",
      "model_name": "ButtonModel",
      "state": {
       "description": "Korrekt?",
       "layout": "IPY_MODEL_ad8b6173355d4e0c98f5b3c58c1aa2eb",
       "style": "IPY_MODEL_c6e541e6048248148de3214e539e94d3"
      }
     },
     "545f74babcdf4b13bb7aae5bd1370f24": {
      "model_module": "@jupyter-widgets/controls",
      "model_module_version": "1.4.0",
      "model_name": "HTMLModel",
      "state": {
       "layout": "IPY_MODEL_5464447f3d8c4187aca4073543c3a730",
       "style": "IPY_MODEL_5dbfdda012e64dca9337f05db44d0ca7",
       "value": "<h4 style=\"font-size:14px;\">Was ist die Aufgabe des Viterbi-Algorithmus?</h4>"
      }
     },
     "5464447f3d8c4187aca4073543c3a730": {
      "model_module": "@jupyter-widgets/base",
      "model_module_version": "1.1.0",
      "model_name": "LayoutModel",
      "state": {
       "justify_content": "center"
      }
     },
     "5481da0f2e1b49eaa864db90a3e5d6d5": {
      "model_module": "@jupyter-widgets/controls",
      "model_module_version": "1.4.0",
      "model_name": "VBoxModel",
      "state": {
       "children": [
        "IPY_MODEL_95b34e25ccac498a9087725de27c2186",
        "IPY_MODEL_4bc7ec453bfb4fb78ec26803ed5c83fd",
        "IPY_MODEL_1b110e459bdf4892a879cf88ea12c95b",
        "IPY_MODEL_5168fdcea6584a508d3cce851e59157b"
       ],
       "layout": "IPY_MODEL_4b89857821794cd09fb42bb1f8822d0b"
      }
     },
     "548b364da2f442a49ed92c2e01abd464": {
      "model_module": "@jupyter-widgets/controls",
      "model_module_version": "1.4.0",
      "model_name": "HTMLModel",
      "state": {
       "layout": "IPY_MODEL_7e1ab7ae3597458cbddd850d18e8d552",
       "style": "IPY_MODEL_263c9eb91da54df3a4abc4e522a3b55c",
       "value": "<h4 style=\"font-size:14px;\">Welche der folgenden Bedingungen wird an eine PCFG gestellt?</h4>"
      }
     },
     "54cf8f27a39c4572bae750138a62dfa0": {
      "model_module": "@jupyter-widgets/controls",
      "model_module_version": "1.4.0",
      "model_name": "HBoxModel",
      "state": {
       "children": [
        "IPY_MODEL_10d8cdf9aa0c4d98bc60841b8f4d1c45",
        "IPY_MODEL_1a2dc1747fc14ac481c72dbaa5f9ec43"
       ],
       "layout": "IPY_MODEL_c09f1693ea054e97bf4ae091ada851df"
      }
     },
     "54f419e8c1b146c6b36b92b669d1a2cd": {
      "model_module": "@jupyter-widgets/base",
      "model_module_version": "1.1.0",
      "model_name": "LayoutModel",
      "state": {
       "justify_content": "center"
      }
     },
     "5506328633374387b59bd661b28c02f2": {
      "model_module": "@jupyter-widgets/base",
      "model_module_version": "1.1.0",
      "model_name": "LayoutModel",
      "state": {
       "width": "250px"
      }
     },
     "550b02d542974619ad9cf3a0a502c59e": {
      "model_module": "@jupyter-widgets/controls",
      "model_module_version": "1.4.0",
      "model_name": "CheckboxModel",
      "state": {
       "description": "Sie analysieren die Eingabesequenz nicht komplett.",
       "disabled": false,
       "layout": "IPY_MODEL_e02352d2d6504404873aa9ec023aca2e",
       "style": "IPY_MODEL_e8fc54de73cc479ea9a4857f25a27243",
       "value": false
      }
     },
     "551fc6caca1f4688baa650d631441c9a": {
      "model_module": "@jupyter-widgets/base",
      "model_module_version": "1.1.0",
      "model_name": "LayoutModel",
      "state": {
       "width": "250px"
      }
     },
     "5551ee2b9a8540cc9a664edbdd885710": {
      "model_module": "@jupyter-widgets/controls",
      "model_module_version": "1.4.0",
      "model_name": "ButtonStyleModel",
      "state": {}
     },
     "5563211d2e694f2daaff8bedd020dcf5": {
      "model_module": "@jupyter-widgets/controls",
      "model_module_version": "1.4.0",
      "model_name": "ButtonStyleModel",
      "state": {}
     },
     "5575fad6687044b5890c6f42ff5ddf60": {
      "model_module": "@jupyter-widgets/base",
      "model_module_version": "1.1.0",
      "model_name": "LayoutModel",
      "state": {
       "width": "250px"
      }
     },
     "55e0fd1477964271839acc59eee952cf": {
      "model_module": "@jupyter-widgets/controls",
      "model_module_version": "1.4.0",
      "model_name": "VBoxModel",
      "state": {
       "children": [
        "IPY_MODEL_5774cfaf006c4c91a05feefcd0339692",
        "IPY_MODEL_fa64e58247a54718aee521ebb0ae8ca1",
        "IPY_MODEL_67547c89d0b4403b89fb792655074d2d",
        "IPY_MODEL_9c27b2ab034242e4b8554094d95bc1dc"
       ],
       "layout": "IPY_MODEL_c04d3fcf83044efb8e05d10b2da49ead"
      }
     },
     "55e13404474046d1a88146558e35b702": {
      "model_module": "@jupyter-widgets/base",
      "model_module_version": "1.1.0",
      "model_name": "LayoutModel",
      "state": {
       "width": "250px"
      }
     },
     "56041437863644e0a24f15cea326df4e": {
      "model_module": "@jupyter-widgets/base",
      "model_module_version": "1.1.0",
      "model_name": "LayoutModel",
      "state": {
       "width": "600px"
      }
     },
     "560e404b0d8145a88474b44ee04a46fd": {
      "model_module": "@jupyter-widgets/base",
      "model_module_version": "1.1.0",
      "model_name": "LayoutModel",
      "state": {}
     },
     "5615f6b7711f43158ec872ddc392314c": {
      "model_module": "@jupyter-widgets/base",
      "model_module_version": "1.1.0",
      "model_name": "LayoutModel",
      "state": {
       "width": "600px"
      }
     },
     "5635a1a28a5c44fd9dff0d4d36df3b36": {
      "model_module": "@jupyter-widgets/base",
      "model_module_version": "1.1.0",
      "model_name": "LayoutModel",
      "state": {}
     },
     "564354bd8aa04457aa1869b39756a9dd": {
      "model_module": "@jupyter-widgets/base",
      "model_module_version": "1.1.0",
      "model_name": "LayoutModel",
      "state": {
       "justify_content": "center"
      }
     },
     "564b4b93ee064a12b331bd488bd3d228": {
      "model_module": "@jupyter-widgets/controls",
      "model_module_version": "1.4.0",
      "model_name": "DescriptionStyleModel",
      "state": {
       "description_width": "initial"
      }
     },
     "564bb71784e244a2b13a3389149a3665": {
      "model_module": "@jupyter-widgets/controls",
      "model_module_version": "1.4.0",
      "model_name": "DescriptionStyleModel",
      "state": {
       "description_width": ""
      }
     },
     "56515f5478bf4a5bbb66b2659fe7e045": {
      "model_module": "@jupyter-widgets/controls",
      "model_module_version": "1.4.0",
      "model_name": "VBoxModel",
      "state": {
       "children": [
        "IPY_MODEL_e61118389db744b58ca35d6f0000ce70",
        "IPY_MODEL_ba81562feade431488c754128c10348b",
        "IPY_MODEL_78bf10b8badc4814b23be6a60b3948ae"
       ],
       "layout": "IPY_MODEL_c062713b88ba4c678cbd25b49dd888ba"
      }
     },
     "56698ee70cee48fea23cf42616f8d21c": {
      "model_module": "@jupyter-widgets/controls",
      "model_module_version": "1.4.0",
      "model_name": "CheckboxModel",
      "state": {
       "description": "Das Verwerfen verhindert eine Endlosrekursion.",
       "disabled": false,
       "layout": "IPY_MODEL_e7b6e30cc5cb4349915cd0d3ad369da1",
       "style": "IPY_MODEL_a996802e4cf04bafa3e30a2c288a042e",
       "value": false
      }
     },
     "56cc306193024b14897333e6f1c3b2cb": {
      "model_module": "@jupyter-widgets/base",
      "model_module_version": "1.1.0",
      "model_name": "LayoutModel",
      "state": {}
     },
     "56e12f2c66bd4db3a207454671571401": {
      "model_module": "@jupyter-widgets/base",
      "model_module_version": "1.1.0",
      "model_name": "LayoutModel",
      "state": {}
     },
     "56eaa478fca24835bfa1d35f56227b9c": {
      "model_module": "@jupyter-widgets/controls",
      "model_module_version": "1.4.0",
      "model_name": "HBoxModel",
      "state": {
       "children": [
        "IPY_MODEL_8525ffcbd59d464eacaa3b4a3fcbdf52",
        "IPY_MODEL_10b404c0238a4dfc84cdd3468e928974"
       ],
       "layout": "IPY_MODEL_ca0273c5f74b45a8947ae32afb6be464"
      }
     },
     "570e98334b264b37a03ccd1b8a573ca8": {
      "model_module": "@jupyter-widgets/controls",
      "model_module_version": "1.4.0",
      "model_name": "DescriptionStyleModel",
      "state": {
       "description_width": ""
      }
     },
     "5737e4d0a3ac4ff8ae5201b82ce934bf": {
      "model_module": "@jupyter-widgets/controls",
      "model_module_version": "1.4.0",
      "model_name": "CheckboxModel",
      "state": {
       "description": "Bestimmung des wahrscheinlichsten Syntaxbaums",
       "disabled": false,
       "layout": "IPY_MODEL_4c9e433b71de4f48b25fbc7cbb954f07",
       "style": "IPY_MODEL_96615c29618e4e6f9677a5d4f135de58",
       "value": true
      }
     },
     "5774cfaf006c4c91a05feefcd0339692": {
      "model_module": "@jupyter-widgets/controls",
      "model_module_version": "1.4.0",
      "model_name": "CheckboxModel",
      "state": {
       "description": "Das Verwerfen verhindert eine Endlosrekursion.",
       "disabled": false,
       "layout": "IPY_MODEL_8d14b8df4ffc4443b3c9fa1e4955a3a8",
       "style": "IPY_MODEL_eda0972f54694883b7bcf17ad522f841",
       "value": false
      }
     },
     "57787bd5dabd4894b16d4ce1c4c4eedf": {
      "model_module": "@jupyter-widgets/controls",
      "model_module_version": "1.4.0",
      "model_name": "HBoxModel",
      "state": {
       "children": [
        "IPY_MODEL_95ada08586e44e6ea0898571e48fb7cc",
        "IPY_MODEL_e91f9fc7894b4076b72684745b1d0f0b"
       ],
       "layout": "IPY_MODEL_c5d3fe93477e464fa02df4db59245fab"
      }
     },
     "57887822309543d9975e24d38ef6e726": {
      "model_module": "@jupyter-widgets/controls",
      "model_module_version": "1.4.0",
      "model_name": "ButtonModel",
      "state": {
       "description": "nach der beam-size",
       "layout": "IPY_MODEL_9b1725916ee742f7a62278f5ad9c2113",
       "style": "IPY_MODEL_bc489b6e76724b6a959722251a156e69"
      }
     },
     "57a3c061bc674783b12ed2cbd930e12b": {
      "model_module": "@jupyter-widgets/controls",
      "model_module_version": "1.4.0",
      "model_name": "HBoxModel",
      "state": {
       "children": [
        "IPY_MODEL_a514e7cad4a840cbb3d8b3a385701f16",
        "IPY_MODEL_bedcc3711d184bf8b0e9b248f41a3f4e"
       ],
       "layout": "IPY_MODEL_f3ddf46d19c244daa288cdc4bfab7787"
      }
     },
     "57a9d306a876433fb9cc6530e2520158": {
      "model_module": "@jupyter-widgets/base",
      "model_module_version": "1.1.0",
      "model_name": "LayoutModel",
      "state": {}
     },
     "57dfb5c7c9794307b8250968c23969fd": {
      "model_module": "@jupyter-widgets/controls",
      "model_module_version": "1.4.0",
      "model_name": "HTMLModel",
      "state": {
       "layout": "IPY_MODEL_f85a4079de2d47c48f05bfcd5b8fdb47",
       "style": "IPY_MODEL_5f635ce996424a0b9f27f3b61aa3c001",
       "value": "<h4 style=\"font-size:14px;\">Berechnen Sie die Wahrscheinlichkeit für die Ableitung in der letzten Zeile.</h4>"
      }
     },
     "57f5bc8229a44bdbbd458b26464c9c53": {
      "model_module": "@jupyter-widgets/controls",
      "model_module_version": "1.4.0",
      "model_name": "DescriptionStyleModel",
      "state": {
       "description_width": ""
      }
     },
     "5801feb779374d96a57feace75c55aad": {
      "model_module": "@jupyter-widgets/controls",
      "model_module_version": "1.4.0",
      "model_name": "ButtonStyleModel",
      "state": {}
     },
     "580fd79dddd946edac6290877c2cb41d": {
      "model_module": "@jupyter-widgets/controls",
      "model_module_version": "1.4.0",
      "model_name": "HTMLModel",
      "state": {
       "layout": "IPY_MODEL_501820a9c30d4e95ac51d218984d40fa",
       "style": "IPY_MODEL_9a0a1dbdf81e4a1a8b440a95f6cb105d",
       "value": "<i>Wählen Sie die <ins>eine</ins> korrekte Antwort aus: </i>"
      }
     },
     "583c6ae203ec4f1a8d9c58a847774ba8": {
      "model_module": "@jupyter-widgets/controls",
      "model_module_version": "1.4.0",
      "model_name": "ButtonModel",
      "state": {
       "description": "PP-Attachment-Ambiguität",
       "layout": "IPY_MODEL_53668577929343a88626953f98a803a4",
       "style": "IPY_MODEL_ae5f58b703ef41b282fce806d2d8a5c2"
      }
     },
     "5852a7f62cd54d80b57d776efb5835c0": {
      "model_module": "@jupyter-widgets/controls",
      "model_module_version": "1.4.0",
      "model_name": "DescriptionStyleModel",
      "state": {
       "description_width": ""
      }
     },
     "586865fb9df34b3d88512159f29e3a94": {
      "model_module": "@jupyter-widgets/controls",
      "model_module_version": "1.4.0",
      "model_name": "HTMLModel",
      "state": {
       "layout": "IPY_MODEL_84fd21c6f6c34a86bcfca9030d1a9456",
       "style": "IPY_MODEL_d1d4979d2a974ef89caa7f605ab3fe37",
       "value": "<h4 style=\"font-size:14px;\">Warum werden die Analysen in den Discard-Zeilen verworfen?</h4>"
      }
     },
     "588998a38c2f40c58f723bac187bad3e": {
      "model_module": "@jupyter-widgets/controls",
      "model_module_version": "1.4.0",
      "model_name": "VBoxModel",
      "state": {
       "children": [
        "IPY_MODEL_01f51ca899f447bb90252c6c906d2f1b",
        "IPY_MODEL_9af2d7820937437da3a5167ff3267b2f",
        "IPY_MODEL_84bc761964794570acee391c910349b7",
        "IPY_MODEL_8e0c1698dd234c6f8856be7ba40ca755"
       ],
       "layout": "IPY_MODEL_73b28d1a73dd48c5b8f39531b2b0dcc6"
      }
     },
     "58945a5a23984322978f84a108712080": {
      "model_module": "@jupyter-widgets/base",
      "model_module_version": "1.1.0",
      "model_name": "LayoutModel",
      "state": {
       "justify_content": "center"
      }
     },
     "58a138f4dccf463abf43b5c9df2739db": {
      "model_module": "@jupyter-widgets/controls",
      "model_module_version": "1.4.0",
      "model_name": "VBoxModel",
      "state": {
       "children": [
        "IPY_MODEL_f28467c78caa4c8fa695efc8dfb5ca72",
        "IPY_MODEL_795ac6e30900423694dc353b01b0dc7b",
        "IPY_MODEL_d7319e72c39a4d888aa96b1f572e532c"
       ],
       "layout": "IPY_MODEL_e5d02430f36f4f148c7430ea663d88f3"
      }
     },
     "58de2359fca44e38b8c12bf547b0ed1a": {
      "model_module": "@jupyter-widgets/base",
      "model_module_version": "1.1.0",
      "model_name": "LayoutModel",
      "state": {}
     },
     "58e41cfd6b8d4c29b0157136fa4ab7fc": {
      "model_module": "@jupyter-widgets/base",
      "model_module_version": "1.1.0",
      "model_name": "LayoutModel",
      "state": {
       "justify_content": "center"
      }
     },
     "594e840ccb1041079b6fd444ff09a49a": {
      "model_module": "@jupyter-widgets/controls",
      "model_module_version": "1.4.0",
      "model_name": "DescriptionStyleModel",
      "state": {
       "description_width": "initial"
      }
     },
     "59a8c39e62c44920b5e95c45e38cc4ee": {
      "model_module": "@jupyter-widgets/base",
      "model_module_version": "1.1.0",
      "model_name": "LayoutModel",
      "state": {
       "width": "250px"
      }
     },
     "59af2d1e55e044298bd5c713fcdd684e": {
      "model_module": "@jupyter-widgets/controls",
      "model_module_version": "1.4.0",
      "model_name": "CheckboxModel",
      "state": {
       "description": "Ihre Wahrscheinlichkeiten sind zu gering.",
       "disabled": false,
       "layout": "IPY_MODEL_0bab27cf21f24fb3be38a4de1a760fff",
       "style": "IPY_MODEL_4bc2d0fcfac34eecb45d98d5e6f41146",
       "value": false
      }
     },
     "59cc61ba0c234d318adf890c93d5ed5a": {
      "model_module": "@jupyter-widgets/base",
      "model_module_version": "1.1.0",
      "model_name": "LayoutModel",
      "state": {
       "width": "250px"
      }
     },
     "59f6cbaf706e4c488b5c69480b724a93": {
      "model_module": "@jupyter-widgets/controls",
      "model_module_version": "1.4.0",
      "model_name": "ButtonStyleModel",
      "state": {}
     },
     "5a0249a2a207405f8e922955d0478584": {
      "model_module": "@jupyter-widgets/base",
      "model_module_version": "1.1.0",
      "model_name": "LayoutModel",
      "state": {
       "border": "2px solid lightgreen"
      }
     },
     "5a04f27889c944fa82c7405e42c05d16": {
      "model_module": "@jupyter-widgets/base",
      "model_module_version": "1.1.0",
      "model_name": "LayoutModel",
      "state": {}
     },
     "5a14123ab54246988f776276fa479761": {
      "model_module": "@jupyter-widgets/base",
      "model_module_version": "1.1.0",
      "model_name": "LayoutModel",
      "state": {}
     },
     "5a4d5336444141edaa30446c808cc322": {
      "model_module": "@jupyter-widgets/controls",
      "model_module_version": "1.4.0",
      "model_name": "ButtonModel",
      "state": {
       "description": "PP-Attachment-Ambiguität",
       "layout": "IPY_MODEL_bc32b2a5b37344d8bc27dea62b8e8b56",
       "style": "IPY_MODEL_cb3b0ce4e7da4348a2f5c60cacd16371"
      }
     },
     "5a5fa0ccd8c8438ab9999c3e32159908": {
      "model_module": "@jupyter-widgets/base",
      "model_module_version": "1.1.0",
      "model_name": "LayoutModel",
      "state": {
       "width": "600px"
      }
     },
     "5a6dad44d16745fcadbf43b465e52e28": {
      "model_module": "@jupyter-widgets/controls",
      "model_module_version": "1.4.0",
      "model_name": "DescriptionStyleModel",
      "state": {
       "description_width": ""
      }
     },
     "5a7ef03028354f8c8f151731852b75f6": {
      "model_module": "@jupyter-widgets/controls",
      "model_module_version": "1.4.0",
      "model_name": "HTMLModel",
      "state": {
       "layout": "IPY_MODEL_c30a1f52c42a46eca96c7bda78f0c48d",
       "style": "IPY_MODEL_cf208bb41dba429a8b16cf4678d69a1a",
       "value": "<i>Wählen Sie die <ins>eine</ins> korrekte Antwort aus: </i>"
      }
     },
     "5a8374c11eda4fad9670464285886c5b": {
      "model_module": "@jupyter-widgets/base",
      "model_module_version": "1.1.0",
      "model_name": "LayoutModel",
      "state": {
       "width": "250px"
      }
     },
     "5a88d640bc5649e3b61b70e5801725fe": {
      "model_module": "@jupyter-widgets/base",
      "model_module_version": "1.1.0",
      "model_name": "LayoutModel",
      "state": {
       "width": "250px"
      }
     },
     "5ac537e9992649859e9745c5b661cdab": {
      "model_module": "@jupyter-widgets/controls",
      "model_module_version": "1.4.0",
      "model_name": "HBoxModel",
      "state": {
       "children": [
        "IPY_MODEL_8e096480d2fb4c289f15ef9a45a00eb8",
        "IPY_MODEL_08e12ebaeacb4cdbb12fb39a649c58d4"
       ],
       "layout": "IPY_MODEL_15fbef7744ad4044b9b468e7794e7980"
      }
     },
     "5ad032c9854e4894897f3791382958ee": {
      "model_module": "@jupyter-widgets/controls",
      "model_module_version": "1.4.0",
      "model_name": "HTMLModel",
      "state": {
       "layout": "IPY_MODEL_54f419e8c1b146c6b36b92b669d1a2cd",
       "style": "IPY_MODEL_eab40416b1f246b6bc08876fd145222a",
       "value": "<i>Wählen Sie die <ins>eine</ins> korrekte Antwort aus: </i>"
      }
     },
     "5b07117230914c99b79a466d5f2b6313": {
      "model_module": "@jupyter-widgets/controls",
      "model_module_version": "1.4.0",
      "model_name": "ButtonModel",
      "state": {
       "description": "Korrekt?",
       "layout": "IPY_MODEL_f0fea2d0e4474f148e80a033ecd94225",
       "style": "IPY_MODEL_07f40b37ae6749e8a53da3e6a757b577"
      }
     },
     "5b0910c1f67c426989267166511724b7": {
      "model_module": "@jupyter-widgets/controls",
      "model_module_version": "1.4.0",
      "model_name": "VBoxModel",
      "state": {
       "children": [
        "IPY_MODEL_b4b5fd07c694437e8c962df22f9fce9e",
        "IPY_MODEL_b0641f0124824b5caefd0431a937c505",
        "IPY_MODEL_23e0f99b408c4cdbb6590c5b0f86645c",
        "IPY_MODEL_98ea010bea224318b2c286964cc25bda"
       ],
       "layout": "IPY_MODEL_0faab84f047e4dffa16d4a0355ab0181"
      }
     },
     "5b3335881ae941c4bd6690ea555fd3ae": {
      "model_module": "@jupyter-widgets/base",
      "model_module_version": "1.1.0",
      "model_name": "LayoutModel",
      "state": {}
     },
     "5b40bc20873e44828c9e60f0d7e63d1d": {
      "model_module": "@jupyter-widgets/controls",
      "model_module_version": "1.4.0",
      "model_name": "CheckboxModel",
      "state": {
       "description": "Das Verwerfen verhindert eine Endlosrekursion.",
       "disabled": false,
       "layout": "IPY_MODEL_d71b103c3add4fe499fd2f0a92004738",
       "style": "IPY_MODEL_a6e79a7be2a5462f908884a6aa663c84",
       "value": false
      }
     },
     "5b81c2bcaf0f4c0bab0d8bd6a6c4dc65": {
      "model_module": "@jupyter-widgets/controls",
      "model_module_version": "1.4.0",
      "model_name": "ButtonStyleModel",
      "state": {}
     },
     "5ba2bcfa753f4dc488f8f56b43f2ae0f": {
      "model_module": "@jupyter-widgets/base",
      "model_module_version": "1.1.0",
      "model_name": "LayoutModel",
      "state": {}
     },
     "5baeeb6a3c6342a89ac0c98ca66484ca": {
      "model_module": "@jupyter-widgets/base",
      "model_module_version": "1.1.0",
      "model_name": "LayoutModel",
      "state": {}
     },
     "5bd53cc41620495db0d8c2c252bc54af": {
      "model_module": "@jupyter-widgets/controls",
      "model_module_version": "1.4.0",
      "model_name": "HTMLModel",
      "state": {
       "layout": "IPY_MODEL_56cc306193024b14897333e6f1c3b2cb",
       "style": "IPY_MODEL_3b857a3ed0114a13bd770439b223b129",
       "value": "<i>Geben Sie die korrekte Antwort ein: </i>"
      }
     },
     "5bfeb05ebc7541cf8b97ab1b84ec7ac6": {
      "model_module": "@jupyter-widgets/controls",
      "model_module_version": "1.4.0",
      "model_name": "DescriptionStyleModel",
      "state": {
       "description_width": ""
      }
     },
     "5c0b4b1b1eb948328e7227018a0cdcd8": {
      "model_module": "@jupyter-widgets/base",
      "model_module_version": "1.1.0",
      "model_name": "LayoutModel",
      "state": {}
     },
     "5c0d153a4a7547908d23687b26e14758": {
      "model_module": "@jupyter-widgets/base",
      "model_module_version": "1.1.0",
      "model_name": "LayoutModel",
      "state": {
       "width": "250px"
      }
     },
     "5c251dcfb73d48269e7f96ebd8c5f473": {
      "model_module": "@jupyter-widgets/base",
      "model_module_version": "1.1.0",
      "model_name": "LayoutModel",
      "state": {
       "width": "250px"
      }
     },
     "5c98cecf99364b21885318cff798ce17": {
      "model_module": "@jupyter-widgets/controls",
      "model_module_version": "1.4.0",
      "model_name": "DescriptionStyleModel",
      "state": {
       "description_width": ""
      }
     },
     "5c9c5f0175884b9da550befc1e6b047b": {
      "model_module": "@jupyter-widgets/base",
      "model_module_version": "1.1.0",
      "model_name": "LayoutModel",
      "state": {
       "width": "600px"
      }
     },
     "5cac2c04347e466e8ca1733a913c410a": {
      "model_module": "@jupyter-widgets/controls",
      "model_module_version": "1.4.0",
      "model_name": "HTMLModel",
      "state": {
       "layout": "IPY_MODEL_f44541442d2f4443859794b5c1ae11b0",
       "style": "IPY_MODEL_a065f401221749a596a1a48a910b4f87",
       "value": "<i>Wählen Sie die <ins>eine</ins> korrekte Antwort aus: </i>"
      }
     },
     "5cb34fce43224d9f96a69ce24135bbb8": {
      "model_module": "@jupyter-widgets/base",
      "model_module_version": "1.1.0",
      "model_name": "LayoutModel",
      "state": {}
     },
     "5d435152e00b4eb49eb183075b1ca8d5": {
      "model_module": "@jupyter-widgets/base",
      "model_module_version": "1.1.0",
      "model_name": "LayoutModel",
      "state": {}
     },
     "5d532a6563ed4197bd24dea4301c56e1": {
      "model_module": "@jupyter-widgets/controls",
      "model_module_version": "1.4.0",
      "model_name": "ButtonModel",
      "state": {
       "description": "Temporale Ambiguität",
       "layout": "IPY_MODEL_7394e78b222d48d6a801b9a4dd660ce3",
       "style": "IPY_MODEL_1090bc751a0841cabb74d75001eee3a3"
      }
     },
     "5d7433e428364e33bff5868943983640": {
      "model_module": "@jupyter-widgets/controls",
      "model_module_version": "1.4.0",
      "model_name": "TextModel",
      "state": {
       "layout": "IPY_MODEL_f46d7821a9014f6ab3175b3ef8680be6",
       "style": "IPY_MODEL_78c79d69ef6f46a2ab4a2de6286fbc37"
      }
     },
     "5d7d08f3209f42b8980b3c221e2794c6": {
      "model_module": "@jupyter-widgets/controls",
      "model_module_version": "1.4.0",
      "model_name": "ButtonStyleModel",
      "state": {}
     },
     "5da3204d8a5c4f17ae3d3749f4753aff": {
      "model_module": "@jupyter-widgets/controls",
      "model_module_version": "1.4.0",
      "model_name": "DescriptionStyleModel",
      "state": {
       "description_width": ""
      }
     },
     "5dbc41567d254f16b531ea27469df337": {
      "model_module": "@jupyter-widgets/controls",
      "model_module_version": "1.4.0",
      "model_name": "DescriptionStyleModel",
      "state": {
       "description_width": ""
      }
     },
     "5dbfdda012e64dca9337f05db44d0ca7": {
      "model_module": "@jupyter-widgets/controls",
      "model_module_version": "1.4.0",
      "model_name": "DescriptionStyleModel",
      "state": {
       "description_width": ""
      }
     },
     "5dd007bc5b3740c0839ab838881f719d": {
      "model_module": "@jupyter-widgets/controls",
      "model_module_version": "1.4.0",
      "model_name": "DescriptionStyleModel",
      "state": {
       "description_width": ""
      }
     },
     "5deede983cdc4250a517609cdff21d76": {
      "model_module": "@jupyter-widgets/base",
      "model_module_version": "1.1.0",
      "model_name": "LayoutModel",
      "state": {
       "width": "600px"
      }
     },
     "5e7f97ec598441799d213ff1a27be4c3": {
      "model_module": "@jupyter-widgets/controls",
      "model_module_version": "1.4.0",
      "model_name": "HTMLModel",
      "state": {
       "layout": "IPY_MODEL_c7dba6deb1e9432a9ae4c7aeacd1edea",
       "style": "IPY_MODEL_cd33c50bd88249a4870b488a45c69e33",
       "value": "<i>Wählen Sie die <ins>eine</ins> korrekte Antwort aus: </i>"
      }
     },
     "5e879be9519042ba850cd5f751645196": {
      "model_module": "@jupyter-widgets/controls",
      "model_module_version": "1.4.0",
      "model_name": "CheckboxModel",
      "state": {
       "description": "Das Verwerfen verhindert eine Endlosrekursion.",
       "disabled": false,
       "layout": "IPY_MODEL_86f4423c8bf4450380a97657608f6827",
       "style": "IPY_MODEL_400fdc258a8d49c7a4f33419d4f7f6d8",
       "value": false
      }
     },
     "5ea6379765514a72833540aca100faf2": {
      "model_module": "@jupyter-widgets/controls",
      "model_module_version": "1.4.0",
      "model_name": "ButtonModel",
      "state": {
       "description": "Korrekt?",
       "layout": "IPY_MODEL_fb178677ccb64932a8c860f2f8ee53cb",
       "style": "IPY_MODEL_e5a9a41bd61c4b859c6b1ea6aa38b443"
      }
     },
     "5f3a8677d61e49fd9f0740d65f93b548": {
      "model_module": "@jupyter-widgets/base",
      "model_module_version": "1.1.0",
      "model_name": "LayoutModel",
      "state": {
       "width": "600px"
      }
     },
     "5f41c5bc4ab54af6b6a25fb8854bdc6c": {
      "model_module": "@jupyter-widgets/base",
      "model_module_version": "1.1.0",
      "model_name": "LayoutModel",
      "state": {
       "width": "600px"
      }
     },
     "5f635ce996424a0b9f27f3b61aa3c001": {
      "model_module": "@jupyter-widgets/controls",
      "model_module_version": "1.4.0",
      "model_name": "DescriptionStyleModel",
      "state": {
       "description_width": ""
      }
     },
     "5f7ba0e3626b448eb71682c8e7c510db": {
      "model_module": "@jupyter-widgets/base",
      "model_module_version": "1.1.0",
      "model_name": "LayoutModel",
      "state": {
       "justify_content": "center"
      }
     },
     "5fa71370829c4990bd502a5f7ed9a01e": {
      "model_module": "@jupyter-widgets/controls",
      "model_module_version": "1.4.0",
      "model_name": "DescriptionStyleModel",
      "state": {
       "description_width": ""
      }
     },
     "5fac3634b9594c5198aff6c1f2a7ba23": {
      "model_module": "@jupyter-widgets/base",
      "model_module_version": "1.1.0",
      "model_name": "LayoutModel",
      "state": {
       "justify_content": "center"
      }
     },
     "5fcb6e75d647445e9aa7f1ad7a6514ba": {
      "model_module": "@jupyter-widgets/controls",
      "model_module_version": "1.4.0",
      "model_name": "VBoxModel",
      "state": {
       "children": [
        "IPY_MODEL_0069127d10a442459678b83cc0ef442c",
        "IPY_MODEL_b7affe77248e436e8ca3a6455a1e84c6",
        "IPY_MODEL_df0a5af4f3bb44c290eb5c9cbdab1022"
       ],
       "layout": "IPY_MODEL_f3d7dc9d85064b07a02fa544fe00bb39"
      }
     },
     "5feea9aae2e24ccab36799ccfa2c4b48": {
      "model_module": "@jupyter-widgets/controls",
      "model_module_version": "1.4.0",
      "model_name": "ButtonStyleModel",
      "state": {
       "button_color": "lightgreen"
      }
     },
     "606a144f0f414f6186f0099ba6812b60": {
      "model_module": "@jupyter-widgets/controls",
      "model_module_version": "1.4.0",
      "model_name": "HTMLModel",
      "state": {
       "layout": "IPY_MODEL_b7f822b3189d432c982607a63913fdff",
       "style": "IPY_MODEL_63cbedd82c76416dbb5148cea22327ae",
       "value": "<i>Geben Sie die korrekte Antwort ein: </i>"
      }
     },
     "608db7430beb453dae479b88e2459fb8": {
      "model_module": "@jupyter-widgets/controls",
      "model_module_version": "1.4.0",
      "model_name": "ButtonStyleModel",
      "state": {}
     },
     "60ca2a456c22423bb40866432c396095": {
      "model_module": "@jupyter-widgets/controls",
      "model_module_version": "1.4.0",
      "model_name": "VBoxModel",
      "state": {
       "children": [
        "IPY_MODEL_c6eaaf5cd9cd46a2a33239080af36e37",
        "IPY_MODEL_e1ee931aa84a4004b93a8157cf9cd09b",
        "IPY_MODEL_7becc39ea329455e9457bf7227771781",
        "IPY_MODEL_a33c5716e7594875927db1c2f8dd1cd6"
       ],
       "layout": "IPY_MODEL_3d93dc7bbf1f446a86fd9cabcff2aa18"
      }
     },
     "60cc5838c4624a349889a5e3363f52df": {
      "model_module": "@jupyter-widgets/base",
      "model_module_version": "1.1.0",
      "model_name": "LayoutModel",
      "state": {
       "justify_content": "center"
      }
     },
     "60d0eedf1a2e44e2a1009c1e773b8936": {
      "model_module": "@jupyter-widgets/controls",
      "model_module_version": "1.4.0",
      "model_name": "ButtonModel",
      "state": {
       "description": "Korrekt?",
       "layout": "IPY_MODEL_1c60ca71150943dcba15349adbce0e67",
       "style": "IPY_MODEL_4507a5de08d443e8b2f44bf0ccdadb2e"
      }
     },
     "60dc2163370542ef85a9942181d649a8": {
      "model_module": "@jupyter-widgets/base",
      "model_module_version": "1.1.0",
      "model_name": "LayoutModel",
      "state": {
       "justify_content": "center"
      }
     },
     "60fe474ac35144e88fc963defba0894a": {
      "model_module": "@jupyter-widgets/base",
      "model_module_version": "1.1.0",
      "model_name": "LayoutModel",
      "state": {}
     },
     "613dc0236d29410281be1005f277c352": {
      "model_module": "@jupyter-widgets/controls",
      "model_module_version": "1.4.0",
      "model_name": "HBoxModel",
      "state": {
       "children": [
        "IPY_MODEL_3a40560a7299421e95698cb3673e6f0e",
        "IPY_MODEL_9a257cfcd17246a9bf5c3b9ec4ec62c9"
       ],
       "layout": "IPY_MODEL_1f4f195aec474486876515504f93874a"
      }
     },
     "619b9a5ca5624718843c6210297cfd38": {
      "model_module": "@jupyter-widgets/controls",
      "model_module_version": "1.4.0",
      "model_name": "CheckboxModel",
      "state": {
       "description": "Bestimmung des wahrscheinlichsten Syntaxbaums",
       "disabled": false,
       "layout": "IPY_MODEL_c2e074c56d52471692f0c58c09d6ec13",
       "style": "IPY_MODEL_9083fdec83aa4387be0800d0833d99b4",
       "value": false
      }
     },
     "61a191429a044cc1963a35da41c5a5e1": {
      "model_module": "@jupyter-widgets/controls",
      "model_module_version": "1.4.0",
      "model_name": "DescriptionStyleModel",
      "state": {
       "description_width": ""
      }
     },
     "61fcb100d554496183d5a2deab44333f": {
      "model_module": "@jupyter-widgets/controls",
      "model_module_version": "1.4.0",
      "model_name": "CheckboxModel",
      "state": {
       "description": "Finden aller Konstituenten",
       "disabled": false,
       "layout": "IPY_MODEL_81ac6bcbfd7848f78986969c21f48396",
       "style": "IPY_MODEL_c693c507a4d7437da46941dce72d66bd",
       "value": false
      }
     },
     "6219015d0c884e8c9e822550e346f6bc": {
      "model_module": "@jupyter-widgets/controls",
      "model_module_version": "1.4.0",
      "model_name": "CheckboxModel",
      "state": {
       "description": "Bestimmung der Köpfe und Dependenzrelationen",
       "disabled": false,
       "layout": "IPY_MODEL_69c509b9c31a4636a96d0f26f45788e9",
       "style": "IPY_MODEL_64ccc3a4576a4481be8e1d94f2cf84aa",
       "value": false
      }
     },
     "6219bc3d9f8e430f91315eeb0e4db6ab": {
      "model_module": "@jupyter-widgets/controls",
      "model_module_version": "1.4.0",
      "model_name": "DescriptionStyleModel",
      "state": {
       "description_width": ""
      }
     },
     "62606be7594f4a5c8fd3d2ae92abac62": {
      "model_module": "@jupyter-widgets/base",
      "model_module_version": "1.1.0",
      "model_name": "LayoutModel",
      "state": {
       "justify_content": "center"
      }
     },
     "62872f0248d74a7691aa50d07e427737": {
      "model_module": "@jupyter-widgets/controls",
      "model_module_version": "1.4.0",
      "model_name": "DescriptionStyleModel",
      "state": {
       "description_width": "initial"
      }
     },
     "62bba8483650467387f1cc143c0bca66": {
      "model_module": "@jupyter-widgets/controls",
      "model_module_version": "1.4.0",
      "model_name": "ButtonStyleModel",
      "state": {}
     },
     "62c4de3088ea4868b1fcc28fe0a232ec": {
      "model_module": "@jupyter-widgets/base",
      "model_module_version": "1.1.0",
      "model_name": "LayoutModel",
      "state": {}
     },
     "6340ecee47c04a78b54102902b5eabb4": {
      "model_module": "@jupyter-widgets/controls",
      "model_module_version": "1.4.0",
      "model_name": "ButtonModel",
      "state": {
       "description": "nach der beam-size",
       "layout": "IPY_MODEL_9e37049f8a64446794c55242e1523600",
       "style": "IPY_MODEL_730461a08f9c4acdb82b427f8c3d9b7c"
      }
     },
     "634912f8f43d4719a7db35749273d204": {
      "model_module": "@jupyter-widgets/controls",
      "model_module_version": "1.4.0",
      "model_name": "CheckboxModel",
      "state": {
       "description": "Finden aller Konstituenten",
       "disabled": false,
       "layout": "IPY_MODEL_2bcdbd4175c14f5eb3e256a393be7f6f",
       "style": "IPY_MODEL_dee389f500b446e687c92e15c3765e20",
       "value": false
      }
     },
     "6376b03a26a34f62acdcf87a915137bd": {
      "model_module": "@jupyter-widgets/controls",
      "model_module_version": "1.4.0",
      "model_name": "DescriptionStyleModel",
      "state": {
       "description_width": "initial"
      }
     },
     "6382d2dc6ab54b259fbbeaeac14cd9a2": {
      "model_module": "@jupyter-widgets/controls",
      "model_module_version": "1.4.0",
      "model_name": "HTMLModel",
      "state": {
       "layout": "IPY_MODEL_c88214ce7cdf439982dfd808a89e9c12",
       "style": "IPY_MODEL_a32dd9d9aa244ce5a8f36ff39ed0896d",
       "value": "<i>Wählen Sie die <ins>eine</ins> korrekte Antwort aus: </i>"
      }
     },
     "6391dbbe64314a4989e0fb35e70079fd": {
      "model_module": "@jupyter-widgets/controls",
      "model_module_version": "1.4.0",
      "model_name": "DescriptionStyleModel",
      "state": {
       "description_width": "initial"
      }
     },
     "63b53f4180d14504be174637f0855752": {
      "model_module": "@jupyter-widgets/base",
      "model_module_version": "1.1.0",
      "model_name": "LayoutModel",
      "state": {}
     },
     "63c41955c67b41b387dacfb1b959cb29": {
      "model_module": "@jupyter-widgets/base",
      "model_module_version": "1.1.0",
      "model_name": "LayoutModel",
      "state": {}
     },
     "63cbedd82c76416dbb5148cea22327ae": {
      "model_module": "@jupyter-widgets/controls",
      "model_module_version": "1.4.0",
      "model_name": "DescriptionStyleModel",
      "state": {
       "description_width": ""
      }
     },
     "6440fc4c97304360bd79b2f0bf89cd35": {
      "model_module": "@jupyter-widgets/controls",
      "model_module_version": "1.4.0",
      "model_name": "DescriptionStyleModel",
      "state": {
       "description_width": ""
      }
     },
     "646e57eab45d4950bd470c1507a74122": {
      "model_module": "@jupyter-widgets/controls",
      "model_module_version": "1.4.0",
      "model_name": "DescriptionStyleModel",
      "state": {
       "description_width": ""
      }
     },
     "64873a1eba7c40958496b9242f0b38fe": {
      "model_module": "@jupyter-widgets/controls",
      "model_module_version": "1.4.0",
      "model_name": "ButtonModel",
      "state": {
       "description": "Korrekt?",
       "layout": "IPY_MODEL_92996bae88774883b460d81d7e772598",
       "style": "IPY_MODEL_0845b8504e38486cb6bafde16da93218"
      }
     },
     "64acc212243246e4a0a145854bb1f523": {
      "model_module": "@jupyter-widgets/base",
      "model_module_version": "1.1.0",
      "model_name": "LayoutModel",
      "state": {}
     },
     "64c6bed352204477a25b4063fae7348e": {
      "model_module": "@jupyter-widgets/base",
      "model_module_version": "1.1.0",
      "model_name": "LayoutModel",
      "state": {}
     },
     "64ccc3a4576a4481be8e1d94f2cf84aa": {
      "model_module": "@jupyter-widgets/controls",
      "model_module_version": "1.4.0",
      "model_name": "DescriptionStyleModel",
      "state": {
       "description_width": "initial"
      }
     },
     "64f9c4e2a95747e5b464111ea13773d0": {
      "model_module": "@jupyter-widgets/controls",
      "model_module_version": "1.4.0",
      "model_name": "ButtonModel",
      "state": {
       "description": "Die Analysen sind mit der gegebenen Grammatik nicht möglich.",
       "layout": "IPY_MODEL_59a8c39e62c44920b5e95c45e38cc4ee",
       "style": "IPY_MODEL_6670492a555c46bc9247388408708079"
      }
     },
     "64fb9e91d8a648b5a16c6aedc87c9e4a": {
      "model_module": "@jupyter-widgets/base",
      "model_module_version": "1.1.0",
      "model_name": "LayoutModel",
      "state": {
       "width": "600px"
      }
     },
     "650770c56f9c424fa6fab62466e1b146": {
      "model_module": "@jupyter-widgets/base",
      "model_module_version": "1.1.0",
      "model_name": "LayoutModel",
      "state": {}
     },
     "654d3636e6cb4d209b9baec3f6c3d06e": {
      "model_module": "@jupyter-widgets/controls",
      "model_module_version": "1.4.0",
      "model_name": "ButtonModel",
      "state": {
       "description": "Lösung zeigen",
       "layout": "IPY_MODEL_bd19f9e55f1546a9a3cb98343ac7aac4",
       "style": "IPY_MODEL_dd277814b704457f9c14acc43912411d"
      }
     },
     "65d08fa95fe24337a711ec2a00381be6": {
      "model_module": "@jupyter-widgets/controls",
      "model_module_version": "1.4.0",
      "model_name": "DescriptionStyleModel",
      "state": {
       "description_width": ""
      }
     },
     "65e9b4cd8cd54f85bddcb38fcc1ace45": {
      "model_module": "@jupyter-widgets/controls",
      "model_module_version": "1.4.0",
      "model_name": "DescriptionStyleModel",
      "state": {
       "description_width": ""
      }
     },
     "65eca1542a13424ab30f644895bb7c1d": {
      "model_module": "@jupyter-widgets/controls",
      "model_module_version": "1.4.0",
      "model_name": "HBoxModel",
      "state": {
       "children": [
        "IPY_MODEL_354376d326ea453aa273aef833ba5bbe",
        "IPY_MODEL_889a0832446e42a58ee73321868aca64"
       ],
       "layout": "IPY_MODEL_f767459a3abd49b98faa394a5fec6e01"
      }
     },
     "66244f8d228f4877b476022dd6c5059c": {
      "model_module": "@jupyter-widgets/controls",
      "model_module_version": "1.4.0",
      "model_name": "DescriptionStyleModel",
      "state": {
       "description_width": "initial"
      }
     },
     "664bdab2e1c149fd90e0d891e9e8ec0e": {
      "model_module": "@jupyter-widgets/controls",
      "model_module_version": "1.4.0",
      "model_name": "VBoxModel",
      "state": {
       "children": [
        "IPY_MODEL_f6617a9d91c644d2aa642c0ddae38841",
        "IPY_MODEL_799caee410824e7fab193cd0554e46c4",
        "IPY_MODEL_c2b9afb930e848db9bb0407ff71d9473"
       ],
       "layout": "IPY_MODEL_37b6984230e3486d82a771e40db9f80a"
      }
     },
     "6670492a555c46bc9247388408708079": {
      "model_module": "@jupyter-widgets/controls",
      "model_module_version": "1.4.0",
      "model_name": "ButtonStyleModel",
      "state": {}
     },
     "6671ff4ba2bf4e7191632769b6b26b38": {
      "model_module": "@jupyter-widgets/base",
      "model_module_version": "1.1.0",
      "model_name": "LayoutModel",
      "state": {
       "width": "600px"
      }
     },
     "667f0280ff5b4d81839fdb5dc5c0dee7": {
      "model_module": "@jupyter-widgets/controls",
      "model_module_version": "1.4.0",
      "model_name": "VBoxModel",
      "state": {
       "children": [
        "IPY_MODEL_4221e417910248658101851a5dab109b",
        "IPY_MODEL_d6d8282545514b3688e24c2782f44754",
        "IPY_MODEL_5d7433e428364e33bff5868943983640",
        "IPY_MODEL_6f2b22dcb7fd47258f62bb19b5e30418"
       ],
       "layout": "IPY_MODEL_5635a1a28a5c44fd9dff0d4d36df3b36"
      }
     },
     "669f8c97ec50400c853e983c8c56a354": {
      "model_module": "@jupyter-widgets/controls",
      "model_module_version": "1.4.0",
      "model_name": "DescriptionStyleModel",
      "state": {
       "description_width": ""
      }
     },
     "66f9bd722e394d35aba52891491b7fa9": {
      "model_module": "@jupyter-widgets/controls",
      "model_module_version": "1.4.0",
      "model_name": "ButtonStyleModel",
      "state": {}
     },
     "67547c89d0b4403b89fb792655074d2d": {
      "model_module": "@jupyter-widgets/controls",
      "model_module_version": "1.4.0",
      "model_name": "CheckboxModel",
      "state": {
       "description": "Ihre Wahrscheinlichkeiten sind zu gering.",
       "disabled": false,
       "layout": "IPY_MODEL_5deede983cdc4250a517609cdff21d76",
       "style": "IPY_MODEL_6b97a5af72c84ed291667c5a57a0ab0e",
       "value": false
      }
     },
     "67827d69ffed43e1a9ab358c2447ef9f": {
      "model_module": "@jupyter-widgets/controls",
      "model_module_version": "1.4.0",
      "model_name": "ButtonStyleModel",
      "state": {}
     },
     "679c4f72d4de4bcc88a9c646f52e7bf2": {
      "model_module": "@jupyter-widgets/controls",
      "model_module_version": "1.4.0",
      "model_name": "DescriptionStyleModel",
      "state": {
       "description_width": ""
      }
     },
     "67cb0568f196417285f05314586154d1": {
      "model_module": "@jupyter-widgets/controls",
      "model_module_version": "1.4.0",
      "model_name": "DescriptionStyleModel",
      "state": {
       "description_width": ""
      }
     },
     "6808c85ec9ac479288c0db53d255cde0": {
      "model_module": "@jupyter-widgets/controls",
      "model_module_version": "1.4.0",
      "model_name": "ButtonModel",
      "state": {
       "description": "Lösung zeigen",
       "layout": "IPY_MODEL_af76635ad7b9432bbcd1eae3aad4f45a",
       "style": "IPY_MODEL_5551ee2b9a8540cc9a664edbdd885710"
      }
     },
     "6817f2bf3465443f93f7a52d1d56fcf0": {
      "model_module": "@jupyter-widgets/controls",
      "model_module_version": "1.4.0",
      "model_name": "VBoxModel",
      "state": {
       "children": [
        "IPY_MODEL_fa7f701386f343f7ba9a717ed302221f",
        "IPY_MODEL_8d96a9a264b842749b748be84a41bd80",
        "IPY_MODEL_366c7f351b3947c6a82278b12d920e8d",
        "IPY_MODEL_851c8973d15c4c42a75bb66a111b6c61"
       ],
       "layout": "IPY_MODEL_9245f56030fa4481a85b65918b42c229"
      }
     },
     "68719923aac04084876c8f04f06bb7a8": {
      "model_module": "@jupyter-widgets/controls",
      "model_module_version": "1.4.0",
      "model_name": "HBoxModel",
      "state": {
       "children": [
        "IPY_MODEL_7777cb0ce1b540248b8bd6b0b736a6b5",
        "IPY_MODEL_f3248081de49450695c138171c3e089e"
       ],
       "layout": "IPY_MODEL_bad79caaee0c4fdca69b56583c5e5fa1"
      }
     },
     "6875f3e64fb64508a50d796b5f9d6c68": {
      "model_module": "@jupyter-widgets/base",
      "model_module_version": "1.1.0",
      "model_name": "LayoutModel",
      "state": {
       "width": "600px"
      }
     },
     "68f0a6cd3af54c56b6b448d370520aa8": {
      "model_module": "@jupyter-widgets/base",
      "model_module_version": "1.1.0",
      "model_name": "LayoutModel",
      "state": {}
     },
     "69057c2397934f23ac80c9b5056fa5e1": {
      "model_module": "@jupyter-widgets/controls",
      "model_module_version": "1.4.0",
      "model_name": "DescriptionStyleModel",
      "state": {
       "description_width": ""
      }
     },
     "69542b7baa474923a796b62b4b17e85a": {
      "model_module": "@jupyter-widgets/base",
      "model_module_version": "1.1.0",
      "model_name": "LayoutModel",
      "state": {
       "width": "600px"
      }
     },
     "69630eeeb510492eafb22e92ef6030dc": {
      "model_module": "@jupyter-widgets/base",
      "model_module_version": "1.1.0",
      "model_name": "LayoutModel",
      "state": {
       "width": "600px"
      }
     },
     "698542dd69b0497f8cb62156fd564920": {
      "model_module": "@jupyter-widgets/base",
      "model_module_version": "1.1.0",
      "model_name": "LayoutModel",
      "state": {
       "justify_content": "center"
      }
     },
     "6998168d65c547b2a6ae762f9506a6fe": {
      "model_module": "@jupyter-widgets/controls",
      "model_module_version": "1.4.0",
      "model_name": "HTMLModel",
      "state": {
       "layout": "IPY_MODEL_80ce2d0eec244fdaaa51d5195814e47c",
       "style": "IPY_MODEL_7eac3c826ae14a4a997cc9ea4ea1e19a",
       "value": "<h4 style=\"font-size:14px;\">Um welchen Parser kann es sich nicht handeln?</h4>"
      }
     },
     "69aa220b7a6a4042adf68eeeb001e365": {
      "model_module": "@jupyter-widgets/base",
      "model_module_version": "1.1.0",
      "model_name": "LayoutModel",
      "state": {}
     },
     "69c509b9c31a4636a96d0f26f45788e9": {
      "model_module": "@jupyter-widgets/base",
      "model_module_version": "1.1.0",
      "model_name": "LayoutModel",
      "state": {
       "width": "600px"
      }
     },
     "6a145d7f85464ee49c47e72c8edb281f": {
      "model_module": "@jupyter-widgets/base",
      "model_module_version": "1.1.0",
      "model_name": "LayoutModel",
      "state": {}
     },
     "6a181ceb470b43eaab61ffb79aed19a4": {
      "model_module": "@jupyter-widgets/base",
      "model_module_version": "1.1.0",
      "model_name": "LayoutModel",
      "state": {}
     },
     "6a37fdea341140d5a70b2af0ba10ca4f": {
      "model_module": "@jupyter-widgets/controls",
      "model_module_version": "1.4.0",
      "model_name": "DescriptionStyleModel",
      "state": {
       "description_width": "initial"
      }
     },
     "6a40a79f5f944c449c9ce90fd43207bd": {
      "model_module": "@jupyter-widgets/controls",
      "model_module_version": "1.4.0",
      "model_name": "ButtonModel",
      "state": {
       "description": "Korrekt?",
       "layout": "IPY_MODEL_ae13c72c739a42039f28c62c19192165",
       "style": "IPY_MODEL_f3901591cc8a4f6883ce3109f4878d28"
      }
     },
     "6aa5280c9f46456d923f5bb6518adc7b": {
      "model_module": "@jupyter-widgets/controls",
      "model_module_version": "1.4.0",
      "model_name": "DescriptionStyleModel",
      "state": {
       "description_width": ""
      }
     },
     "6ab1969932dd45389c0cb329e6c7c442": {
      "model_module": "@jupyter-widgets/controls",
      "model_module_version": "1.4.0",
      "model_name": "HTMLModel",
      "state": {
       "layout": "IPY_MODEL_0c9af069b971455dbd47d13dbe783635",
       "style": "IPY_MODEL_3981861f5d8944f897e25402989caf84",
       "value": "<h4 style=\"font-size:14px;\">Warum werden die Analysen in den Discard-Zeilen verworfen?</h4>"
      }
     },
     "6abbde6c08094f46a390bac2ef26e788": {
      "model_module": "@jupyter-widgets/controls",
      "model_module_version": "1.4.0",
      "model_name": "CheckboxModel",
      "state": {
       "description": "Die Summe aller Regelwahrscheinlichkeiten innerhalb einer Grammatik ist 1.",
       "disabled": false,
       "layout": "IPY_MODEL_85aa5b4684004a52aba061ce48a86c3c",
       "style": "IPY_MODEL_410cf784775947369528994a6fd1a2f5",
       "value": false
      }
     },
     "6ae7c671065d4cac8e3637e6b0945f89": {
      "model_module": "@jupyter-widgets/controls",
      "model_module_version": "1.4.0",
      "model_name": "ButtonModel",
      "state": {
       "description": "Temporale Ambiguität",
       "layout": "IPY_MODEL_ddd4d086b2fd42908550e5c5d18e0c23",
       "style": "IPY_MODEL_a748a51d354c40e6ab54a5dd6be5e741"
      }
     },
     "6b403fffa5dc4d7a822d124f8b4148ac": {
      "model_module": "@jupyter-widgets/controls",
      "model_module_version": "1.4.0",
      "model_name": "ButtonModel",
      "state": {
       "description": "Lösung zeigen",
       "layout": "IPY_MODEL_3f12616f6b99468c848c0d17dae0ceb3",
       "style": "IPY_MODEL_86277b8bd81d409a85fa02b820eee8a2"
      }
     },
     "6b7cdd229b39466fba4a8b2a3333b558": {
      "model_module": "@jupyter-widgets/controls",
      "model_module_version": "1.4.0",
      "model_name": "HTMLModel",
      "state": {
       "layout": "IPY_MODEL_8f649471d01e48a8b7b3a0cfed2307be",
       "style": "IPY_MODEL_65e9b4cd8cd54f85bddcb38fcc1ace45",
       "value": "<i>Wählen Sie die <ins>eine</ins> korrekte Antwort aus: </i>"
      }
     },
     "6b8968abcf0d4feeb119fe15dc4da730": {
      "model_module": "@jupyter-widgets/controls",
      "model_module_version": "1.4.0",
      "model_name": "HTMLModel",
      "state": {
       "layout": "IPY_MODEL_072f9f1caedf462f991d95e5c46fa7d7",
       "style": "IPY_MODEL_4646cab411244ecd84303b25b90588f3",
       "value": "<h4 style=\"font-size:14px;\">Berechnen Sie die Wahrscheinlichkeit für die Ableitung in der letzten Zeile.</h4>"
      }
     },
     "6b97a5af72c84ed291667c5a57a0ab0e": {
      "model_module": "@jupyter-widgets/controls",
      "model_module_version": "1.4.0",
      "model_name": "DescriptionStyleModel",
      "state": {
       "description_width": "initial"
      }
     },
     "6beaf3f106d24354845f172fce97e85a": {
      "model_module": "@jupyter-widgets/base",
      "model_module_version": "1.1.0",
      "model_name": "LayoutModel",
      "state": {}
     },
     "6bf9f2c665e24e1e89d4a2bc7e34e63d": {
      "model_module": "@jupyter-widgets/controls",
      "model_module_version": "1.4.0",
      "model_name": "ButtonStyleModel",
      "state": {}
     },
     "6c2ab77627de4e80a75003d17ee54560": {
      "model_module": "@jupyter-widgets/base",
      "model_module_version": "1.1.0",
      "model_name": "LayoutModel",
      "state": {}
     },
     "6c8d0f3aa6c2456db10e39a73058bc28": {
      "model_module": "@jupyter-widgets/controls",
      "model_module_version": "1.4.0",
      "model_name": "DescriptionStyleModel",
      "state": {
       "description_width": ""
      }
     },
     "6cab022f04c943658688411cfcdf5db0": {
      "model_module": "@jupyter-widgets/base",
      "model_module_version": "1.1.0",
      "model_name": "LayoutModel",
      "state": {
       "width": "250px"
      }
     },
     "6cf51920f68e44a58c213a3020a20d2a": {
      "model_module": "@jupyter-widgets/base",
      "model_module_version": "1.1.0",
      "model_name": "LayoutModel",
      "state": {
       "width": "250px"
      }
     },
     "6d0f6c85001a4002b627defd07a129f7": {
      "model_module": "@jupyter-widgets/controls",
      "model_module_version": "1.4.0",
      "model_name": "DescriptionStyleModel",
      "state": {
       "description_width": "initial"
      }
     },
     "6d1336298944453bb2531947dd64b9b0": {
      "model_module": "@jupyter-widgets/controls",
      "model_module_version": "1.4.0",
      "model_name": "HTMLModel",
      "state": {
       "layout": "IPY_MODEL_4b843ecb434a4e86b457d64f4a05bc0e",
       "style": "IPY_MODEL_bedaada240d243c097c5fddcf6fbad4a",
       "value": "<i>Wählen Sie die <ins>eine</ins> korrekte Antwort aus: </i>"
      }
     },
     "6d2b1b40268c415b92d49aaf41d7f675": {
      "model_module": "@jupyter-widgets/controls",
      "model_module_version": "1.4.0",
      "model_name": "ButtonModel",
      "state": {
       "description": "Korrekt?",
       "layout": "IPY_MODEL_e45e9dc06cbc4e1e9f178ba703897c0b",
       "style": "IPY_MODEL_292e3a347580482194663b9577dfe6f4"
      }
     },
     "6d33a5dfde894f43b62a54156930685d": {
      "model_module": "@jupyter-widgets/controls",
      "model_module_version": "1.4.0",
      "model_name": "CheckboxModel",
      "state": {
       "description": "Die Summe aller Regelwahrscheinlichkeiten für jede RHS ist jeweils 1.",
       "disabled": false,
       "layout": "IPY_MODEL_09f8a7d0cf994f2092e6dde04ff4a20e",
       "style": "IPY_MODEL_564b4b93ee064a12b331bd488bd3d228",
       "value": false
      }
     },
     "6d3b61cc1b304e429e96d461d602929f": {
      "model_module": "@jupyter-widgets/controls",
      "model_module_version": "1.4.0",
      "model_name": "DescriptionStyleModel",
      "state": {
       "description_width": ""
      }
     },
     "6d8497e43da24c45942581a10bdfd317": {
      "model_module": "@jupyter-widgets/base",
      "model_module_version": "1.1.0",
      "model_name": "LayoutModel",
      "state": {}
     },
     "6d8e3c4b6bab470184c553063f61a60a": {
      "model_module": "@jupyter-widgets/controls",
      "model_module_version": "1.4.0",
      "model_name": "DescriptionStyleModel",
      "state": {
       "description_width": "initial"
      }
     },
     "6d91e32f06c94b9eb731477f3a9de246": {
      "model_module": "@jupyter-widgets/controls",
      "model_module_version": "1.4.0",
      "model_name": "DescriptionStyleModel",
      "state": {
       "description_width": ""
      }
     },
     "6db64a141e2f4d4da77761592b1e0683": {
      "model_module": "@jupyter-widgets/controls",
      "model_module_version": "1.4.0",
      "model_name": "VBoxModel",
      "state": {
       "children": [
        "IPY_MODEL_287eb15282c14431bcc4075e2258a928",
        "IPY_MODEL_daf34638b6e94e428d6e4037cbbefad3",
        "IPY_MODEL_f7450a782d1346598944bb2fb239922d"
       ],
       "layout": "IPY_MODEL_b8ab706527b3423b96e3c8b5ffb01d0e"
      }
     },
     "6e0fe7ab65f643c08f940384f027a28d": {
      "model_module": "@jupyter-widgets/controls",
      "model_module_version": "1.4.0",
      "model_name": "CheckboxModel",
      "state": {
       "description": "Die Summe aller Regelwahrscheinlichkeiten für jede LHS ist jeweils 1.",
       "disabled": false,
       "layout": "IPY_MODEL_2e403272fba3470081017670135e9384",
       "style": "IPY_MODEL_0f7852605b484257a1d44de9665c718f",
       "value": true
      }
     },
     "6e1eddb55cf24905be9d6c16a6a0a18e": {
      "model_module": "@jupyter-widgets/base",
      "model_module_version": "1.1.0",
      "model_name": "LayoutModel",
      "state": {
       "justify_content": "center"
      }
     },
     "6e6785f0b4cf452e99783b63fc72cc02": {
      "model_module": "@jupyter-widgets/base",
      "model_module_version": "1.1.0",
      "model_name": "LayoutModel",
      "state": {
       "width": "250px"
      }
     },
     "6ee9dc23db2f4c5eb6caaa2b9f50176a": {
      "model_module": "@jupyter-widgets/controls",
      "model_module_version": "1.4.0",
      "model_name": "HTMLModel",
      "state": {
       "layout": "IPY_MODEL_cf70c23461ff408cba42c74cbc339949",
       "style": "IPY_MODEL_e5021f0bd6ab421884d0798e9a31f1e3",
       "value": "<h4 style=\"font-size:14px;\">Warum werden die Analysen in den Discard-Zeilen verworfen?</h4>"
      }
     },
     "6eedf00ef3cc48fdb949d1eeb09e63fd": {
      "model_module": "@jupyter-widgets/controls",
      "model_module_version": "1.4.0",
      "model_name": "DescriptionStyleModel",
      "state": {
       "description_width": "initial"
      }
     },
     "6f2b22dcb7fd47258f62bb19b5e30418": {
      "model_module": "@jupyter-widgets/controls",
      "model_module_version": "1.4.0",
      "model_name": "HBoxModel",
      "state": {
       "children": [
        "IPY_MODEL_288260d4341f4582a8e66e9e76a927f8",
        "IPY_MODEL_32ee437bff764249abd43741d02a5664"
       ],
       "layout": "IPY_MODEL_5c0b4b1b1eb948328e7227018a0cdcd8"
      }
     },
     "6f71d16515474a4cba65e58022917670": {
      "model_module": "@jupyter-widgets/controls",
      "model_module_version": "1.4.0",
      "model_name": "ButtonModel",
      "state": {
       "description": "LongestChartParser",
       "layout": "IPY_MODEL_27fa0022db5249709e2aa2691870fd09",
       "style": "IPY_MODEL_0e8fd933c76f4bfc974d5676d64edaca"
      }
     },
     "6f89c637af8449fe913a7aeda2954466": {
      "model_module": "@jupyter-widgets/controls",
      "model_module_version": "1.4.0",
      "model_name": "CheckboxModel",
      "state": {
       "description": "Finden aller Konstituenten",
       "disabled": false,
       "layout": "IPY_MODEL_87cdf3fbd4684f93a640d25e85f23898",
       "style": "IPY_MODEL_9c6a73c4694f40bba5324fafa5a63545",
       "value": false
      }
     },
     "6f9b07cd12d04cc19cd272987e44741e": {
      "model_module": "@jupyter-widgets/controls",
      "model_module_version": "1.4.0",
      "model_name": "ButtonModel",
      "state": {
       "description": "OK",
       "layout": "IPY_MODEL_af9bc9e1d9884d42b5e143d3c720d95b",
       "style": "IPY_MODEL_3a616093554e44c284813fdabae6e20a"
      }
     },
     "6fb39d03c8544b21a62f1d42fba268bf": {
      "model_module": "@jupyter-widgets/controls",
      "model_module_version": "1.4.0",
      "model_name": "DescriptionStyleModel",
      "state": {
       "description_width": ""
      }
     },
     "6fe38bfb95b9432680a4205996ebcd21": {
      "model_module": "@jupyter-widgets/controls",
      "model_module_version": "1.4.0",
      "model_name": "ButtonModel",
      "state": {
       "description": "Lösung zeigen",
       "layout": "IPY_MODEL_463619e6c3d346f88ea8c123dd459bbc",
       "style": "IPY_MODEL_a249b7b503b940b1bf0cc2ee72372a2f"
      }
     },
     "702bd58f4e8c415e8f90bbf4ef9e2224": {
      "model_module": "@jupyter-widgets/controls",
      "model_module_version": "1.4.0",
      "model_name": "VBoxModel",
      "state": {
       "children": [
        "IPY_MODEL_6e0fe7ab65f643c08f940384f027a28d",
        "IPY_MODEL_aff12dea84c24583847c74a2752063a5",
        "IPY_MODEL_c7337bd522b14ef7b1c021298cde9bf4"
       ],
       "layout": "IPY_MODEL_56e12f2c66bd4db3a207454671571401"
      }
     },
     "702de1d761e64c589c3bd3a862d88e03": {
      "model_module": "@jupyter-widgets/controls",
      "model_module_version": "1.4.0",
      "model_name": "HTMLModel",
      "state": {
       "layout": "IPY_MODEL_ca60c5eb5b734e5491ecf84d49180444",
       "style": "IPY_MODEL_564bb71784e244a2b13a3389149a3665",
       "value": "<i>Wählen Sie die <ins>eine</ins> korrekte Antwort aus: </i>"
      }
     },
     "70339ee1967c4da2ba7f57ce47ebb9ac": {
      "model_module": "@jupyter-widgets/controls",
      "model_module_version": "1.4.0",
      "model_name": "ButtonModel",
      "state": {
       "description": "Das Verwerfen verhindert eine Endlosrekursion.",
       "layout": "IPY_MODEL_9aec81743a234d20a67a5714321e6f3f",
       "style": "IPY_MODEL_8a85610b94a54ab597945d7ebe926231"
      }
     },
     "704ca64bbc2f4968bd70945df6565e39": {
      "model_module": "@jupyter-widgets/controls",
      "model_module_version": "1.4.0",
      "model_name": "ButtonStyleModel",
      "state": {
       "button_color": "lightgreen"
      }
     },
     "7096b6ec8d824e3db7f02e6cb8b51c2e": {
      "model_module": "@jupyter-widgets/base",
      "model_module_version": "1.1.0",
      "model_name": "LayoutModel",
      "state": {}
     },
     "709c2adccba24f96b96da7099152544e": {
      "model_module": "@jupyter-widgets/controls",
      "model_module_version": "1.4.0",
      "model_name": "HBoxModel",
      "state": {
       "children": [
        "IPY_MODEL_9966fa704eb543d983ff9c4738860be9",
        "IPY_MODEL_d600ebb1b1b243cd99bf48c38273b0ad"
       ],
       "layout": "IPY_MODEL_0eb51851db274200aa21bd382f9e571c"
      }
     },
     "70c0cb53ae20499fb6aa09a10831353b": {
      "model_module": "@jupyter-widgets/controls",
      "model_module_version": "1.4.0",
      "model_name": "ButtonModel",
      "state": {
       "description": "Sie analysieren die Eingabesequenz nicht komplett.",
       "layout": "IPY_MODEL_88a3ae18aece49f9b7366651db0b5068",
       "style": "IPY_MODEL_5801feb779374d96a57feace75c55aad"
      }
     },
     "70c89386309a456bb6ec8018c8b7482c": {
      "model_module": "@jupyter-widgets/controls",
      "model_module_version": "1.4.0",
      "model_name": "HBoxModel",
      "state": {
       "children": [
        "IPY_MODEL_e03331a6cb144df58407bf56da795872",
        "IPY_MODEL_05a3dba9803b4544ba7490f75206fc40"
       ],
       "layout": "IPY_MODEL_f717f2a282d34fc3b184cfd2ea7f2aeb"
      }
     },
     "70f5606ea37e4fcd8708fa5d89787d78": {
      "model_module": "@jupyter-widgets/base",
      "model_module_version": "1.1.0",
      "model_name": "LayoutModel",
      "state": {
       "width": "600px"
      }
     },
     "710c7ae70f984771a029a78a45f3c49d": {
      "model_module": "@jupyter-widgets/base",
      "model_module_version": "1.1.0",
      "model_name": "LayoutModel",
      "state": {
       "width": "600px"
      }
     },
     "71b13ef2acfd4d70b7978466e5369210": {
      "model_module": "@jupyter-widgets/controls",
      "model_module_version": "1.4.0",
      "model_name": "CheckboxModel",
      "state": {
       "description": "Ihre Wahrscheinlichkeiten sind zu gering.",
       "disabled": false,
       "layout": "IPY_MODEL_70f5606ea37e4fcd8708fa5d89787d78",
       "style": "IPY_MODEL_301a330af9644ee59c32d01763c424da",
       "value": true
      }
     },
     "71bb4e7250b849e7951410e3dab64ad9": {
      "model_module": "@jupyter-widgets/base",
      "model_module_version": "1.1.0",
      "model_name": "LayoutModel",
      "state": {
       "width": "250px"
      }
     },
     "71be817ce3f64c208cba463cf1a8bfdf": {
      "model_module": "@jupyter-widgets/controls",
      "model_module_version": "1.4.0",
      "model_name": "TextModel",
      "state": {
       "disabled": true,
       "layout": "IPY_MODEL_b7002cd754a54f8197bc74121d160a0d",
       "style": "IPY_MODEL_fae6ad9b2b0440299af5a19d9f9c0821",
       "value": "0.000864"
      }
     },
     "7212aa2ea58d41888018cbac2087c720": {
      "model_module": "@jupyter-widgets/controls",
      "model_module_version": "1.4.0",
      "model_name": "HTMLModel",
      "state": {
       "layout": "IPY_MODEL_4e4e6cc437b24a579700442881eeb5d9",
       "style": "IPY_MODEL_51e08b9875eb44c78e7c8d88ef8d59e7",
       "value": "<i>Geben Sie die korrekte Antwort ein: </i>"
      }
     },
     "72219073a04a4de7830561f7e45b7aba": {
      "model_module": "@jupyter-widgets/base",
      "model_module_version": "1.1.0",
      "model_name": "LayoutModel",
      "state": {
       "justify_content": "center"
      }
     },
     "722964953701437e83e240f12a77d495": {
      "model_module": "@jupyter-widgets/base",
      "model_module_version": "1.1.0",
      "model_name": "LayoutModel",
      "state": {}
     },
     "727e22db2b19460d89875a7ad5962881": {
      "model_module": "@jupyter-widgets/base",
      "model_module_version": "1.1.0",
      "model_name": "LayoutModel",
      "state": {}
     },
     "72a078a499ac4c6195f98b8e2d3e4ade": {
      "model_module": "@jupyter-widgets/controls",
      "model_module_version": "1.4.0",
      "model_name": "VBoxModel",
      "state": {
       "children": [
        "IPY_MODEL_c46cfff651594044b105a1d2ed534f94",
        "IPY_MODEL_53aa9d3da85b46a9a4cb55b440c18a74",
        "IPY_MODEL_36c2865bc27d47bfbc5ef4925ec48e4d",
        "IPY_MODEL_1d7d78ef9df840bcbfe6869a52cb69bf"
       ],
       "layout": "IPY_MODEL_f2f9417396fd4d24920d5a0d2f2a08c9"
      }
     },
     "72ec7faf44ac44d6b1d27a8ba6c6838c": {
      "model_module": "@jupyter-widgets/base",
      "model_module_version": "1.1.0",
      "model_name": "LayoutModel",
      "state": {}
     },
     "72fa540803e34e5192db630b08780d84": {
      "model_module": "@jupyter-widgets/base",
      "model_module_version": "1.1.0",
      "model_name": "LayoutModel",
      "state": {}
     },
     "730461a08f9c4acdb82b427f8c3d9b7c": {
      "model_module": "@jupyter-widgets/controls",
      "model_module_version": "1.4.0",
      "model_name": "ButtonStyleModel",
      "state": {}
     },
     "733cfa3bf11d43b583210d483f0bff59": {
      "model_module": "@jupyter-widgets/base",
      "model_module_version": "1.1.0",
      "model_name": "LayoutModel",
      "state": {
       "width": "600px"
      }
     },
     "7367966079f947859658f547bd200068": {
      "model_module": "@jupyter-widgets/controls",
      "model_module_version": "1.4.0",
      "model_name": "ButtonStyleModel",
      "state": {}
     },
     "738797205aea4971a09d3d207a1b19bc": {
      "model_module": "@jupyter-widgets/base",
      "model_module_version": "1.1.0",
      "model_name": "LayoutModel",
      "state": {}
     },
     "7394e78b222d48d6a801b9a4dd660ce3": {
      "model_module": "@jupyter-widgets/base",
      "model_module_version": "1.1.0",
      "model_name": "LayoutModel",
      "state": {
       "width": "250px"
      }
     },
     "73a3f8c1928e417da02c1b6204ae3601": {
      "model_module": "@jupyter-widgets/base",
      "model_module_version": "1.1.0",
      "model_name": "LayoutModel",
      "state": {
       "width": "600px"
      }
     },
     "73b28d1a73dd48c5b8f39531b2b0dcc6": {
      "model_module": "@jupyter-widgets/base",
      "model_module_version": "1.1.0",
      "model_name": "LayoutModel",
      "state": {}
     },
     "73bdbb0aa6e341c197614890f1dfefa5": {
      "model_module": "@jupyter-widgets/controls",
      "model_module_version": "1.4.0",
      "model_name": "HTMLModel",
      "state": {
       "layout": "IPY_MODEL_f9f250ea2ed14df69874dbbc426b258b",
       "style": "IPY_MODEL_ebb6e016e2d344df92f2463d401498ac",
       "value": "<h4 style=\"font-size:14px;\">Berechnen Sie die Wahrscheinlichkeit für die Ableitung in der letzten Zeile.</h4>"
      }
     },
     "73e523b9066c4550a6b1f6da6ef933f0": {
      "model_module": "@jupyter-widgets/base",
      "model_module_version": "1.1.0",
      "model_name": "LayoutModel",
      "state": {
       "width": "250px"
      }
     },
     "73f05f9c2e064d6d809cb0869078c9f2": {
      "model_module": "@jupyter-widgets/controls",
      "model_module_version": "1.4.0",
      "model_name": "HTMLModel",
      "state": {
       "layout": "IPY_MODEL_9531fc82050b4cb888c6c42a8610b5c3",
       "style": "IPY_MODEL_7c776e4ef67341a3b3800decdfa850bf",
       "value": "<i>Wählen Sie die <ins>eine</ins> korrekte Antwort aus: </i>"
      }
     },
     "73f5655544f843c19252f04846346b04": {
      "model_module": "@jupyter-widgets/controls",
      "model_module_version": "1.4.0",
      "model_name": "DescriptionStyleModel",
      "state": {
       "description_width": "initial"
      }
     },
     "73fe37950ccf46479e28e87ce43cd54a": {
      "model_module": "@jupyter-widgets/controls",
      "model_module_version": "1.4.0",
      "model_name": "HTMLModel",
      "state": {
       "layout": "IPY_MODEL_02688367a33745ddb6bd92bd8cd71ae7",
       "style": "IPY_MODEL_65d08fa95fe24337a711ec2a00381be6",
       "value": "<i>Wählen Sie die <ins>eine</ins> korrekte Antwort aus: </i>"
      }
     },
     "7422b92522304b5ea9a09df8ca0b2145": {
      "model_module": "@jupyter-widgets/controls",
      "model_module_version": "1.4.0",
      "model_name": "VBoxModel",
      "state": {
       "children": [
        "IPY_MODEL_2abc707566664515a5c4f81f17e392f1",
        "IPY_MODEL_22dfd0385756445aaa9568ad49894c98",
        "IPY_MODEL_25b283c86ea64e7e9a7a33f09bfb86ae",
        "IPY_MODEL_1e69e726ef95464189d9a9e6241e731a"
       ],
       "layout": "IPY_MODEL_1f8144e91a3d483a970707942f7cbcf9"
      }
     },
     "746393a752c74c509fb7cd5ebd9565de": {
      "model_module": "@jupyter-widgets/controls",
      "model_module_version": "1.4.0",
      "model_name": "CheckboxModel",
      "state": {
       "description": "Die Summe aller Regelwahrscheinlichkeiten für jede LHS ist jeweils 1.",
       "disabled": false,
       "layout": "IPY_MODEL_1b2b083d9d744c9097afa5115a96a978",
       "style": "IPY_MODEL_130f86a02e374f86908493d134e509b7",
       "value": true
      }
     },
     "74bf2c89719740af9a1c204f5aad4ae2": {
      "model_module": "@jupyter-widgets/controls",
      "model_module_version": "1.4.0",
      "model_name": "HTMLModel",
      "state": {
       "layout": "IPY_MODEL_9a89f80219da4ed38d68b0568cf3cfa6",
       "style": "IPY_MODEL_5da3204d8a5c4f17ae3d3749f4753aff",
       "value": "<h4 style=\"font-size:14px;\">Warum werden die Analysen in den Discard-Zeilen verworfen?</h4>"
      }
     },
     "74dafd1c039c4103aa3ff034f2096173": {
      "model_module": "@jupyter-widgets/base",
      "model_module_version": "1.1.0",
      "model_name": "LayoutModel",
      "state": {}
     },
     "75461f484f054161a3ab8531430f2090": {
      "model_module": "@jupyter-widgets/controls",
      "model_module_version": "1.4.0",
      "model_name": "VBoxModel",
      "state": {
       "children": [
        "IPY_MODEL_896a5d42839d400093e164bc6e7b1456",
        "IPY_MODEL_2a4132b3d6014e76abce4fe5bc2cfd71",
        "IPY_MODEL_8fcdacfe6fd54b759511121b7a27b9bb",
        "IPY_MODEL_bfba32a962a24440a98b18e571c2e2b4"
       ],
       "layout": "IPY_MODEL_250845e0794d40d99036a4b3adfbc7bd"
      }
     },
     "754d4668cac740708e8290bfaa60baab": {
      "model_module": "@jupyter-widgets/controls",
      "model_module_version": "1.4.0",
      "model_name": "HBoxModel",
      "state": {
       "children": [
        "IPY_MODEL_23305b7330474e1eb1d0f8e6f5d9eb1b",
        "IPY_MODEL_c23a9ca3f58b4b569204ab2688cf8129"
       ],
       "layout": "IPY_MODEL_fc409d3950a94b6ba75bb6e189f672a5"
      }
     },
     "7565defd145e4ddeaea46aec7440143a": {
      "model_module": "@jupyter-widgets/controls",
      "model_module_version": "1.4.0",
      "model_name": "HTMLModel",
      "state": {
       "layout": "IPY_MODEL_3251def113bb436d81781134d5ed3701",
       "style": "IPY_MODEL_4a133983109643608fc5c4265e72924f",
       "value": "<h4 style=\"font-size:14px;\">Welche der folgenden Bedingungen wird an eine PCFG gestellt?</h4>"
      }
     },
     "75805ce4e0d74ae3a0f9fced32cbca43": {
      "model_module": "@jupyter-widgets/base",
      "model_module_version": "1.1.0",
      "model_name": "LayoutModel",
      "state": {}
     },
     "758f56b3aab240f98c07ebe8fb11e7c0": {
      "model_module": "@jupyter-widgets/base",
      "model_module_version": "1.1.0",
      "model_name": "LayoutModel",
      "state": {}
     },
     "760e10b5b2f94fd8b33980bec30f85a8": {
      "model_module": "@jupyter-widgets/base",
      "model_module_version": "1.1.0",
      "model_name": "LayoutModel",
      "state": {
       "justify_content": "center"
      }
     },
     "762cbee95fce47bda5adb64f750ec09e": {
      "model_module": "@jupyter-widgets/controls",
      "model_module_version": "1.4.0",
      "model_name": "DescriptionStyleModel",
      "state": {
       "description_width": ""
      }
     },
     "76388b83f2be461f90269a8ae1ce717c": {
      "model_module": "@jupyter-widgets/controls",
      "model_module_version": "1.4.0",
      "model_name": "ButtonStyleModel",
      "state": {}
     },
     "7674045fb1bb43d5b15590483fb32d46": {
      "model_module": "@jupyter-widgets/controls",
      "model_module_version": "1.4.0",
      "model_name": "VBoxModel",
      "state": {
       "children": [
        "IPY_MODEL_b462b28efd804782bdc6e1ad702da3ae",
        "IPY_MODEL_619b9a5ca5624718843c6210297cfd38",
        "IPY_MODEL_b191d551104a4bceaf9b45ab9c209090"
       ],
       "layout": "IPY_MODEL_3fd273f49b3a4997ae7319617fd22232"
      }
     },
     "7676338a4d624a04b1cb60c49c04a572": {
      "model_module": "@jupyter-widgets/controls",
      "model_module_version": "1.4.0",
      "model_name": "ButtonStyleModel",
      "state": {}
     },
     "7695541ceba54486b3b818dcdb96c69a": {
      "model_module": "@jupyter-widgets/base",
      "model_module_version": "1.1.0",
      "model_name": "LayoutModel",
      "state": {
       "border": "2px solid lightgreen"
      }
     },
     "76999f89e99c440383d7dc75e6a33ed4": {
      "model_module": "@jupyter-widgets/base",
      "model_module_version": "1.1.0",
      "model_name": "LayoutModel",
      "state": {}
     },
     "76b14aa4783944cc841b60b4bfc2efd6": {
      "model_module": "@jupyter-widgets/controls",
      "model_module_version": "1.4.0",
      "model_name": "ButtonModel",
      "state": {
       "description": "ViterbiParser",
       "layout": "IPY_MODEL_919ad1064fb04672a6ff8cc2f018761e",
       "style": "IPY_MODEL_f78912919c4248b8bb981a98b9c10e0a"
      }
     },
     "76e6010b87c74f55bc09a6092fb20cfb": {
      "model_module": "@jupyter-widgets/controls",
      "model_module_version": "1.4.0",
      "model_name": "HBoxModel",
      "state": {
       "children": [
        "IPY_MODEL_b1c6b8d2092448be9ad78cc8617e531b",
        "IPY_MODEL_a6e9d716c6ed4839854fb0b25689ba88"
       ],
       "layout": "IPY_MODEL_c8dcdadb40e9426f8854ea0f864e9bcf"
      }
     },
     "776ca9286eb44c4c92ec1efb30730267": {
      "model_module": "@jupyter-widgets/controls",
      "model_module_version": "1.4.0",
      "model_name": "DescriptionStyleModel",
      "state": {
       "description_width": ""
      }
     },
     "7777cb0ce1b540248b8bd6b0b736a6b5": {
      "model_module": "@jupyter-widgets/controls",
      "model_module_version": "1.4.0",
      "model_name": "ButtonModel",
      "state": {
       "description": "nach der Länge der Ableitung",
       "layout": "IPY_MODEL_73e523b9066c4550a6b1f6da6ef933f0",
       "style": "IPY_MODEL_bdbad94c40744483a622a2a6f386b7ef"
      }
     },
     "77c51461eba147bc8b8d7ede55d0cce8": {
      "model_module": "@jupyter-widgets/base",
      "model_module_version": "1.1.0",
      "model_name": "LayoutModel",
      "state": {
       "width": "600px"
      }
     },
     "77cb623e9d5944b6af347bae35db06a3": {
      "model_module": "@jupyter-widgets/controls",
      "model_module_version": "1.4.0",
      "model_name": "HTMLModel",
      "state": {
       "layout": "IPY_MODEL_033e9d46b2444ccba2c3037f0672192e",
       "style": "IPY_MODEL_0f1e8a7de48d4d5198db849997553f0d",
       "value": "<i>Geben Sie die korrekte Antwort ein: </i>"
      }
     },
     "77fdbcab37fc41aa992806fe571ed3f6": {
      "model_module": "@jupyter-widgets/controls",
      "model_module_version": "1.4.0",
      "model_name": "ButtonStyleModel",
      "state": {}
     },
     "783fb226462c47e69b19060f1e1200c3": {
      "model_module": "@jupyter-widgets/controls",
      "model_module_version": "1.4.0",
      "model_name": "ButtonStyleModel",
      "state": {}
     },
     "78bf10b8badc4814b23be6a60b3948ae": {
      "model_module": "@jupyter-widgets/controls",
      "model_module_version": "1.4.0",
      "model_name": "CheckboxModel",
      "state": {
       "description": "Die Summe aller Regelwahrscheinlichkeiten innerhalb einer Grammatik ist 1.",
       "disabled": false,
       "layout": "IPY_MODEL_c9bd9875531d4b05bae3233a3af23551",
       "style": "IPY_MODEL_231d79aa5b8b458084e728f5dfa99b8a",
       "value": false
      }
     },
     "78c79d69ef6f46a2ab4a2de6286fbc37": {
      "model_module": "@jupyter-widgets/controls",
      "model_module_version": "1.4.0",
      "model_name": "DescriptionStyleModel",
      "state": {
       "description_width": ""
      }
     },
     "78dc28c0faad49c3b9ab3416fff884cc": {
      "model_module": "@jupyter-widgets/base",
      "model_module_version": "1.1.0",
      "model_name": "LayoutModel",
      "state": {}
     },
     "78feee1228e4439daf4a8c26f25f05c3": {
      "model_module": "@jupyter-widgets/controls",
      "model_module_version": "1.4.0",
      "model_name": "HTMLModel",
      "state": {
       "layout": "IPY_MODEL_9007a12035bb42b9a16b95263d9db146",
       "style": "IPY_MODEL_ea9b5d96f1cb438bb4aea1ffd51080d9",
       "value": "<h4 style=\"font-size:14px;\">Was ist die Aufgabe des Viterbi-Algorithmus?</h4>"
      }
     },
     "7923b56eba0240b7b0cb9148f23ecadd": {
      "model_module": "@jupyter-widgets/controls",
      "model_module_version": "1.4.0",
      "model_name": "DescriptionStyleModel",
      "state": {
       "description_width": ""
      }
     },
     "7934123356a54d6f9a365192380415dd": {
      "model_module": "@jupyter-widgets/controls",
      "model_module_version": "1.4.0",
      "model_name": "HBoxModel",
      "state": {
       "children": [
        "IPY_MODEL_b692da844e374d2ca98dd48df5a3c8d8",
        "IPY_MODEL_6808c85ec9ac479288c0db53d255cde0"
       ],
       "layout": "IPY_MODEL_11e4c8ad95924692a78394a8859d19d3"
      }
     },
     "7935a09cebdc49f59b6cba3571faebd1": {
      "model_module": "@jupyter-widgets/controls",
      "model_module_version": "1.4.0",
      "model_name": "DescriptionStyleModel",
      "state": {
       "description_width": "initial"
      }
     },
     "7938a7e12ebc4453868f75d65a23bf94": {
      "model_module": "@jupyter-widgets/base",
      "model_module_version": "1.1.0",
      "model_name": "LayoutModel",
      "state": {
       "width": "250px"
      }
     },
     "795ac6e30900423694dc353b01b0dc7b": {
      "model_module": "@jupyter-widgets/controls",
      "model_module_version": "1.4.0",
      "model_name": "CheckboxModel",
      "state": {
       "description": "Bestimmung des wahrscheinlichsten Syntaxbaums",
       "disabled": false,
       "layout": "IPY_MODEL_df1d78efae86481c93bfe90efc83e482",
       "style": "IPY_MODEL_80616787597a48ddbb6b540cda7096fb",
       "value": true
      }
     },
     "7965b07ecf2b49b5931899f70f47ee98": {
      "model_module": "@jupyter-widgets/controls",
      "model_module_version": "1.4.0",
      "model_name": "TextModel",
      "state": {
       "disabled": true,
       "layout": "IPY_MODEL_5a0249a2a207405f8e922955d0478584",
       "style": "IPY_MODEL_8e64b25234f249c3a2eee599647e0da6",
       "value": "0.000864"
      }
     },
     "799caee410824e7fab193cd0554e46c4": {
      "model_module": "@jupyter-widgets/controls",
      "model_module_version": "1.4.0",
      "model_name": "CheckboxModel",
      "state": {
       "description": "Die Summe aller Regelwahrscheinlichkeiten für jede RHS ist jeweils 1.",
       "disabled": false,
       "layout": "IPY_MODEL_73a3f8c1928e417da02c1b6204ae3601",
       "style": "IPY_MODEL_91cd9a7d6c764ddb831f51375048a79c",
       "value": false
      }
     },
     "799df88ca8774d2681ee1f68f17a9f72": {
      "model_module": "@jupyter-widgets/controls",
      "model_module_version": "1.4.0",
      "model_name": "HTMLModel",
      "state": {
       "layout": "IPY_MODEL_9cc801575c3943a1a795c59bbdbd1462",
       "style": "IPY_MODEL_f3f9baec82e94651a6e4366a95a49dd3",
       "value": "<i>Wählen Sie die <ins>eine</ins> korrekte Antwort aus: </i>"
      }
     },
     "79a334b5d25342f88c019f418ff9a59f": {
      "model_module": "@jupyter-widgets/base",
      "model_module_version": "1.1.0",
      "model_name": "LayoutModel",
      "state": {
       "justify_content": "center"
      }
     },
     "7a099ae376c84169b30cfae92d6c6eaa": {
      "model_module": "@jupyter-widgets/base",
      "model_module_version": "1.1.0",
      "model_name": "LayoutModel",
      "state": {
       "justify_content": "center"
      }
     },
     "7a22f40d01f047329501dc4beca73b80": {
      "model_module": "@jupyter-widgets/controls",
      "model_module_version": "1.4.0",
      "model_name": "HTMLModel",
      "state": {
       "layout": "IPY_MODEL_a782b322acdf4b83b6059a03456a7881",
       "style": "IPY_MODEL_cc62b3c39f4b4604a7f5968b204b9c83",
       "value": "<i>Wählen Sie die <ins>eine</ins> korrekte Antwort aus: </i>"
      }
     },
     "7a8b9ad4e8ec45d8b84c677a527a54d0": {
      "model_module": "@jupyter-widgets/base",
      "model_module_version": "1.1.0",
      "model_name": "LayoutModel",
      "state": {}
     },
     "7ac06d92fd1a4901ace3b9925035a791": {
      "model_module": "@jupyter-widgets/base",
      "model_module_version": "1.1.0",
      "model_name": "LayoutModel",
      "state": {
       "width": "600px"
      }
     },
     "7ac5711ddb734502a3a233f64645486e": {
      "model_module": "@jupyter-widgets/controls",
      "model_module_version": "1.4.0",
      "model_name": "ButtonStyleModel",
      "state": {}
     },
     "7ad0f9aa34a64fe2ac03e3ce5497cee9": {
      "model_module": "@jupyter-widgets/base",
      "model_module_version": "1.1.0",
      "model_name": "LayoutModel",
      "state": {}
     },
     "7b07ba7112fa43988cde358008d99c7f": {
      "model_module": "@jupyter-widgets/controls",
      "model_module_version": "1.4.0",
      "model_name": "ButtonStyleModel",
      "state": {}
     },
     "7b20ad04fabb43cdb393ae8b4f802a31": {
      "model_module": "@jupyter-widgets/controls",
      "model_module_version": "1.4.0",
      "model_name": "ButtonModel",
      "state": {
       "description": "Korrekt?",
       "layout": "IPY_MODEL_c6730a020a674117942e5c4151c4690b",
       "style": "IPY_MODEL_db0ce25d7a384174af1dbd487f8cb7a4"
      }
     },
     "7b3c15c8d0e84430aa41ca0b7779fb10": {
      "model_module": "@jupyter-widgets/base",
      "model_module_version": "1.1.0",
      "model_name": "LayoutModel",
      "state": {
       "width": "250px"
      }
     },
     "7b62dd5b545c44138b99fb27f51b120e": {
      "model_module": "@jupyter-widgets/controls",
      "model_module_version": "1.4.0",
      "model_name": "ButtonStyleModel",
      "state": {}
     },
     "7bbbcc87a70f4bf593c59c83cb8ca6f1": {
      "model_module": "@jupyter-widgets/controls",
      "model_module_version": "1.4.0",
      "model_name": "HTMLModel",
      "state": {
       "layout": "IPY_MODEL_a7b66c9cdf554a368767745b9994ee98",
       "style": "IPY_MODEL_61a191429a044cc1963a35da41c5a5e1",
       "value": "<i>Wählen Sie die <ins>eine</ins> korrekte Antwort aus: </i>"
      }
     },
     "7bec67e1c2b34f859de6faa2af45585b": {
      "model_module": "@jupyter-widgets/base",
      "model_module_version": "1.1.0",
      "model_name": "LayoutModel",
      "state": {
       "width": "600px"
      }
     },
     "7becc39ea329455e9457bf7227771781": {
      "model_module": "@jupyter-widgets/controls",
      "model_module_version": "1.4.0",
      "model_name": "VBoxModel",
      "state": {
       "children": [
        "IPY_MODEL_f4cbdc9144fc4ea98c6b9713f1857892",
        "IPY_MODEL_6d33a5dfde894f43b62a54156930685d",
        "IPY_MODEL_b218a688dd8b463d863cdd2a26cb81fd"
       ],
       "layout": "IPY_MODEL_2d820927a3f64784bd0dc601dfdeaa6f"
      }
     },
     "7c0928110b234fdd9df6f7a5d95c72e5": {
      "model_module": "@jupyter-widgets/controls",
      "model_module_version": "1.4.0",
      "model_name": "DescriptionStyleModel",
      "state": {
       "description_width": ""
      }
     },
     "7c0e3170df2144c19693dfc9f26254ad": {
      "model_module": "@jupyter-widgets/controls",
      "model_module_version": "1.4.0",
      "model_name": "HTMLModel",
      "state": {
       "layout": "IPY_MODEL_db7a02569a3a4c0d9e49f1c325333185",
       "style": "IPY_MODEL_2de99e37bb264a25a7ca797c7b524a4c",
       "value": "<h4 style=\"font-size:14px;\">Was ist die Aufgabe des Viterbi-Algorithmus?</h4>"
      }
     },
     "7c0e67767559446282f1f7bc8f02942b": {
      "model_module": "@jupyter-widgets/controls",
      "model_module_version": "1.4.0",
      "model_name": "ButtonStyleModel",
      "state": {}
     },
     "7c776e4ef67341a3b3800decdfa850bf": {
      "model_module": "@jupyter-widgets/controls",
      "model_module_version": "1.4.0",
      "model_name": "DescriptionStyleModel",
      "state": {
       "description_width": ""
      }
     },
     "7c8c2ddd556a4d5b8ceebe4b8f106d67": {
      "model_module": "@jupyter-widgets/controls",
      "model_module_version": "1.4.0",
      "model_name": "VBoxModel",
      "state": {
       "children": [
        "IPY_MODEL_cb32754d69204a839d19a7ff34ea820e",
        "IPY_MODEL_419993f02a67418da4beecd0f8b6dbb4",
        "IPY_MODEL_71b13ef2acfd4d70b7978466e5369210",
        "IPY_MODEL_f1cc85bd6caf46f19a248e2cadb6b299"
       ],
       "layout": "IPY_MODEL_064d7ed70b794e8f80de27a2dbf8f5e2"
      }
     },
     "7c944c487bcf45cea0ac7a80c0be66f4": {
      "model_module": "@jupyter-widgets/controls",
      "model_module_version": "1.4.0",
      "model_name": "HBoxModel",
      "state": {
       "children": [
        "IPY_MODEL_029fb5a1db2043bcaa3afce5737303b2",
        "IPY_MODEL_3fe086595dbb47599d1b6f551af55e4b"
       ],
       "layout": "IPY_MODEL_86175b7d97794b4b80dde3521401c47e"
      }
     },
     "7cad0d679ee94260a5dc55011e8ff93d": {
      "model_module": "@jupyter-widgets/controls",
      "model_module_version": "1.4.0",
      "model_name": "DescriptionStyleModel",
      "state": {
       "description_width": "initial"
      }
     },
     "7cbc832dc8554bd4b24675367ca6d8ea": {
      "model_module": "@jupyter-widgets/controls",
      "model_module_version": "1.4.0",
      "model_name": "CheckboxModel",
      "state": {
       "description": "Bestimmung des wahrscheinlichsten Syntaxbaums",
       "disabled": false,
       "layout": "IPY_MODEL_7bec67e1c2b34f859de6faa2af45585b",
       "style": "IPY_MODEL_0e10a1aeac2841ab8baf4eb7926bac63",
       "value": true
      }
     },
     "7cbc96f44fda4aa794339ed563901f04": {
      "model_module": "@jupyter-widgets/controls",
      "model_module_version": "1.4.0",
      "model_name": "HTMLModel",
      "state": {
       "layout": "IPY_MODEL_a424a6220cbd45bda8b69df9e823f2a5",
       "style": "IPY_MODEL_94ca86aee71d45d9ac3239c644edb71a",
       "value": "<i>Wählen Sie die <ins>eine</ins> korrekte Antwort aus: </i>"
      }
     },
     "7ce43f313cdb4135b747f9137392a846": {
      "model_module": "@jupyter-widgets/controls",
      "model_module_version": "1.4.0",
      "model_name": "VBoxModel",
      "state": {
       "children": [
        "IPY_MODEL_d5d8c87ce87c457cb7580d5e286e6ba5",
        "IPY_MODEL_e502593211ae454fb0b96e7103f958e8",
        "IPY_MODEL_e1a861598581438cbf8224952bec433f",
        "IPY_MODEL_d9615f5672bd415fbd58e40002ed10e7"
       ],
       "layout": "IPY_MODEL_88d328bc967f439a9fb117c7a4ae8faa"
      }
     },
     "7cf3e8f8cf224c12a5f0a583cfd4b764": {
      "model_module": "@jupyter-widgets/controls",
      "model_module_version": "1.4.0",
      "model_name": "DescriptionStyleModel",
      "state": {
       "description_width": "initial"
      }
     },
     "7d03210ab08f40fab32e6d4985270fc1": {
      "model_module": "@jupyter-widgets/controls",
      "model_module_version": "1.4.0",
      "model_name": "HTMLModel",
      "state": {
       "layout": "IPY_MODEL_99f1e9931b2a4526948c331a42c01235",
       "style": "IPY_MODEL_9376ff9aaeb847688c856b43868601ca",
       "value": "<i>Wählen Sie die <ins>eine</ins> korrekte Antwort aus: </i>"
      }
     },
     "7d16d24074914f1485bc4ee48df8275f": {
      "model_module": "@jupyter-widgets/controls",
      "model_module_version": "1.4.0",
      "model_name": "DescriptionStyleModel",
      "state": {
       "description_width": ""
      }
     },
     "7d37d13339f64046ba7a19dfa4ffb669": {
      "model_module": "@jupyter-widgets/controls",
      "model_module_version": "1.4.0",
      "model_name": "VBoxModel",
      "state": {
       "children": [
        "IPY_MODEL_da2dfa54c52e465680a80d4ce3a50d49",
        "IPY_MODEL_3be2dbe7198a4436ac32deeaa597eca4",
        "IPY_MODEL_f0fb3405d130459cb259601a1352eb81",
        "IPY_MODEL_f9c6d98e1cb647a0a961859cec243977"
       ],
       "layout": "IPY_MODEL_758f56b3aab240f98c07ebe8fb11e7c0"
      }
     },
     "7d558379ba1d4f8f8d584189271d32bd": {
      "model_module": "@jupyter-widgets/base",
      "model_module_version": "1.1.0",
      "model_name": "LayoutModel",
      "state": {}
     },
     "7da9a30fd32045ea9004655b9fffc057": {
      "model_module": "@jupyter-widgets/controls",
      "model_module_version": "1.4.0",
      "model_name": "HTMLModel",
      "state": {
       "layout": "IPY_MODEL_484acf4def0c49d8975226c08752bd59",
       "style": "IPY_MODEL_5fa71370829c4990bd502a5f7ed9a01e",
       "value": "<h4 style=\"font-size:14px;\">Welche der folgenden Bedingungen wird an eine PCFG gestellt?</h4>"
      }
     },
     "7dfb484118654f9286f82f64c4fed25b": {
      "model_module": "@jupyter-widgets/controls",
      "model_module_version": "1.4.0",
      "model_name": "ButtonStyleModel",
      "state": {}
     },
     "7e12aa8019144abea13ab0e0cc62bb8e": {
      "model_module": "@jupyter-widgets/controls",
      "model_module_version": "1.4.0",
      "model_name": "ButtonModel",
      "state": {
       "description": "Korrekt?",
       "layout": "IPY_MODEL_b8be3dbb9567431cb1cad9da36279783",
       "style": "IPY_MODEL_1b59abee5d9a4dbfb7f32f5d13c34c6d"
      }
     },
     "7e1ab7ae3597458cbddd850d18e8d552": {
      "model_module": "@jupyter-widgets/base",
      "model_module_version": "1.1.0",
      "model_name": "LayoutModel",
      "state": {}
     },
     "7e31b89c16584b668a457534facfe050": {
      "model_module": "@jupyter-widgets/controls",
      "model_module_version": "1.4.0",
      "model_name": "CheckboxModel",
      "state": {
       "description": "Das Verwerfen verhindert eine Endlosrekursion.",
       "disabled": false,
       "layout": "IPY_MODEL_3d9c270dd2bb4b4eb287463c89d682f7",
       "style": "IPY_MODEL_484276ca22824f75ba89b94b8f787e2f",
       "value": false
      }
     },
     "7e383ae4dc9b41c4aa390186586203d2": {
      "model_module": "@jupyter-widgets/controls",
      "model_module_version": "1.4.0",
      "model_name": "DescriptionStyleModel",
      "state": {
       "description_width": ""
      }
     },
     "7eac3c826ae14a4a997cc9ea4ea1e19a": {
      "model_module": "@jupyter-widgets/controls",
      "model_module_version": "1.4.0",
      "model_name": "DescriptionStyleModel",
      "state": {
       "description_width": ""
      }
     },
     "7edbb60ce52741d8847e45d319cfb4ad": {
      "model_module": "@jupyter-widgets/controls",
      "model_module_version": "1.4.0",
      "model_name": "ButtonStyleModel",
      "state": {}
     },
     "7edd14d80bde4e64bd1a6c48b87c640e": {
      "model_module": "@jupyter-widgets/controls",
      "model_module_version": "1.4.0",
      "model_name": "VBoxModel",
      "state": {
       "children": [
        "IPY_MODEL_a2c02c4dff304ef8ac9e7ab05df935ab",
        "IPY_MODEL_77cb623e9d5944b6af347bae35db06a3",
        "IPY_MODEL_71be817ce3f64c208cba463cf1a8bfdf",
        "IPY_MODEL_03a908c566c64f3ebf55198e8a610438"
       ],
       "layout": "IPY_MODEL_44a57c21abc945c1824e33b6cc8305a0"
      }
     },
     "7eddde469d29457cb3a0060f00d3bc9f": {
      "model_module": "@jupyter-widgets/base",
      "model_module_version": "1.1.0",
      "model_name": "LayoutModel",
      "state": {
       "justify_content": "center"
      }
     },
     "7ef97cbf0ba941139e2843b5041d6661": {
      "model_module": "@jupyter-widgets/base",
      "model_module_version": "1.1.0",
      "model_name": "LayoutModel",
      "state": {
       "justify_content": "center"
      }
     },
     "7f86c9c61c4641ffa825ef2b23a37049": {
      "model_module": "@jupyter-widgets/controls",
      "model_module_version": "1.4.0",
      "model_name": "HTMLModel",
      "state": {
       "layout": "IPY_MODEL_c7561def813b4785986b35f68d71b671",
       "style": "IPY_MODEL_43f405100ba54047b9ac866318bd19f3",
       "value": "<i>Wählen Sie die <ins>eine</ins> korrekte Antwort aus: </i>"
      }
     },
     "7fa9027812fa477bacf056879a880276": {
      "model_module": "@jupyter-widgets/base",
      "model_module_version": "1.1.0",
      "model_name": "LayoutModel",
      "state": {}
     },
     "7ffe0771a97d4368858b7c15f96f5f89": {
      "model_module": "@jupyter-widgets/base",
      "model_module_version": "1.1.0",
      "model_name": "LayoutModel",
      "state": {
       "width": "250px"
      }
     },
     "80376e2518634bc5b791e8faa679c6b7": {
      "model_module": "@jupyter-widgets/controls",
      "model_module_version": "1.4.0",
      "model_name": "DescriptionStyleModel",
      "state": {
       "description_width": ""
      }
     },
     "80410eb44e294854a5fbbe4da74f52d3": {
      "model_module": "@jupyter-widgets/controls",
      "model_module_version": "1.4.0",
      "model_name": "ButtonModel",
      "state": {
       "description": "OK",
       "layout": "IPY_MODEL_b3684d6e3a634e7cabb5995bcbb1dd46",
       "style": "IPY_MODEL_7edbb60ce52741d8847e45d319cfb4ad"
      }
     },
     "8045f0c9d4b64dd6bf1a420b16bd0796": {
      "model_module": "@jupyter-widgets/controls",
      "model_module_version": "1.4.0",
      "model_name": "HBoxModel",
      "state": {
       "children": [
        "IPY_MODEL_2a0fd201ec66491f800e3badbce48291",
        "IPY_MODEL_5a4d5336444141edaa30446c808cc322"
       ],
       "layout": "IPY_MODEL_cdc949b70bfe40c0b9f87b662591a352"
      }
     },
     "80616787597a48ddbb6b540cda7096fb": {
      "model_module": "@jupyter-widgets/controls",
      "model_module_version": "1.4.0",
      "model_name": "DescriptionStyleModel",
      "state": {
       "description_width": "initial"
      }
     },
     "809ddd2936b74762816719f859112887": {
      "model_module": "@jupyter-widgets/controls",
      "model_module_version": "1.4.0",
      "model_name": "DescriptionStyleModel",
      "state": {
       "description_width": "initial"
      }
     },
     "80aa527cde994a3cba1a8543dcbfc23c": {
      "model_module": "@jupyter-widgets/base",
      "model_module_version": "1.1.0",
      "model_name": "LayoutModel",
      "state": {
       "width": "600px"
      }
     },
     "80bcd5a139824572b168a3d753a7121a": {
      "model_module": "@jupyter-widgets/base",
      "model_module_version": "1.1.0",
      "model_name": "LayoutModel",
      "state": {}
     },
     "80ce2d0eec244fdaaa51d5195814e47c": {
      "model_module": "@jupyter-widgets/base",
      "model_module_version": "1.1.0",
      "model_name": "LayoutModel",
      "state": {
       "justify_content": "center"
      }
     },
     "80e0ba8c331044f5ae4560454024ec04": {
      "model_module": "@jupyter-widgets/base",
      "model_module_version": "1.1.0",
      "model_name": "LayoutModel",
      "state": {
       "width": "250px"
      }
     },
     "810566e8d2c647e4beda3e12f3879897": {
      "model_module": "@jupyter-widgets/controls",
      "model_module_version": "1.4.0",
      "model_name": "DescriptionStyleModel",
      "state": {
       "description_width": ""
      }
     },
     "810c7a5654b241ecb7b752373605dd5d": {
      "model_module": "@jupyter-widgets/controls",
      "model_module_version": "1.4.0",
      "model_name": "DescriptionStyleModel",
      "state": {
       "description_width": "initial"
      }
     },
     "816a4bdda3c741a38ca172d85e9e26d8": {
      "model_module": "@jupyter-widgets/controls",
      "model_module_version": "1.4.0",
      "model_name": "ButtonStyleModel",
      "state": {}
     },
     "81ac6bcbfd7848f78986969c21f48396": {
      "model_module": "@jupyter-widgets/base",
      "model_module_version": "1.1.0",
      "model_name": "LayoutModel",
      "state": {
       "width": "600px"
      }
     },
     "8233e624e8b24ddbaed2385b72e86fb6": {
      "model_module": "@jupyter-widgets/controls",
      "model_module_version": "1.4.0",
      "model_name": "ButtonStyleModel",
      "state": {}
     },
     "8260837052cf49e68ed0aa1a94b3eea3": {
      "model_module": "@jupyter-widgets/controls",
      "model_module_version": "1.4.0",
      "model_name": "ButtonStyleModel",
      "state": {}
     },
     "8290896a9c56483cb915f873573151e4": {
      "model_module": "@jupyter-widgets/controls",
      "model_module_version": "1.4.0",
      "model_name": "VBoxModel",
      "state": {
       "children": [
        "IPY_MODEL_9baec0e011b54495b7a4e37975a8656d",
        "IPY_MODEL_73fe37950ccf46479e28e87ce43cd54a",
        "IPY_MODEL_9d8b9f363e0d401d8059c1ac803fdae9",
        "IPY_MODEL_2a606bb71ea54a2e91cbbcb1d3620d38"
       ],
       "layout": "IPY_MODEL_ab4c06f7e36a42b482d79a05442afafa"
      }
     },
     "82b3fd5330ef438ebf45ef182663be54": {
      "model_module": "@jupyter-widgets/controls",
      "model_module_version": "1.4.0",
      "model_name": "DescriptionStyleModel",
      "state": {
       "description_width": ""
      }
     },
     "832d9d3b5db041cfa586fccfcd792b51": {
      "model_module": "@jupyter-widgets/controls",
      "model_module_version": "1.4.0",
      "model_name": "ButtonStyleModel",
      "state": {}
     },
     "833d7b324ce84811b7c79c3bdf151014": {
      "model_module": "@jupyter-widgets/controls",
      "model_module_version": "1.4.0",
      "model_name": "DescriptionStyleModel",
      "state": {
       "description_width": ""
      }
     },
     "834b58022f444ecc8a62009f7160ecd0": {
      "model_module": "@jupyter-widgets/controls",
      "model_module_version": "1.4.0",
      "model_name": "ButtonStyleModel",
      "state": {}
     },
     "83686fd8b78843cdbf638a5ee8cf8ffd": {
      "model_module": "@jupyter-widgets/controls",
      "model_module_version": "1.4.0",
      "model_name": "DescriptionStyleModel",
      "state": {
       "description_width": "initial"
      }
     },
     "83abc7ea3e814131b21599e64344de79": {
      "model_module": "@jupyter-widgets/controls",
      "model_module_version": "1.4.0",
      "model_name": "DescriptionStyleModel",
      "state": {
       "description_width": "initial"
      }
     },
     "83e357c30d2d47a6a7ac98a30aa5d2eb": {
      "model_module": "@jupyter-widgets/controls",
      "model_module_version": "1.4.0",
      "model_name": "VBoxModel",
      "state": {
       "children": [
        "IPY_MODEL_126cfcb43c454237996c90076adb5cc1",
        "IPY_MODEL_c469dc7134744403a30890a2677c0863",
        "IPY_MODEL_235a751a62b246ffb8601b483a4dee75",
        "IPY_MODEL_0745659d1817456d833b8d14f58f5e2c"
       ],
       "layout": "IPY_MODEL_43eb48869b174cfc8fdb534a7a441c30"
      }
     },
     "83fa6b6009994c46a871f9c3907687e7": {
      "model_module": "@jupyter-widgets/base",
      "model_module_version": "1.1.0",
      "model_name": "LayoutModel",
      "state": {}
     },
     "840e424c74f14fa0af56f4e0c2435e11": {
      "model_module": "@jupyter-widgets/controls",
      "model_module_version": "1.4.0",
      "model_name": "DescriptionStyleModel",
      "state": {
       "description_width": "initial"
      }
     },
     "844eb7f784134e1ca5d550f393599192": {
      "model_module": "@jupyter-widgets/controls",
      "model_module_version": "1.4.0",
      "model_name": "VBoxModel",
      "state": {
       "children": [
        "IPY_MODEL_0dce722592de4e4bae536cc6142882fd",
        "IPY_MODEL_ec138bacc4bf4da8bc78baf55a3eef0b",
        "IPY_MODEL_613dc0236d29410281be1005f277c352",
        "IPY_MODEL_b720efefae1942dfaa22cc7d5b2130ba"
       ],
       "layout": "IPY_MODEL_3802298fe9914e6ea3303434e91fc813"
      }
     },
     "846ae7861e3048eaa4838557562a1433": {
      "model_module": "@jupyter-widgets/base",
      "model_module_version": "1.1.0",
      "model_name": "LayoutModel",
      "state": {
       "width": "600px"
      }
     },
     "849490e472734497b503e8fb88fcfce3": {
      "model_module": "@jupyter-widgets/controls",
      "model_module_version": "1.4.0",
      "model_name": "HBoxModel",
      "state": {
       "children": [
        "IPY_MODEL_9dd3dc6561634b25841f866e477378b9",
        "IPY_MODEL_5350fd9d91c14a0185922d074d1fb4fb"
       ],
       "layout": "IPY_MODEL_a652a389826f4fa4a94954b710417cc7"
      }
     },
     "84bc761964794570acee391c910349b7": {
      "model_module": "@jupyter-widgets/controls",
      "model_module_version": "1.4.0",
      "model_name": "HBoxModel",
      "state": {
       "children": [
        "IPY_MODEL_be31e543da8e4c1e8d04456add89b633",
        "IPY_MODEL_3b6cd1e1e82e46d782c0a78c008bf6f6"
       ],
       "layout": "IPY_MODEL_f3b4f1d9edc74f42ae38cc769920677b"
      }
     },
     "84fd21c6f6c34a86bcfca9030d1a9456": {
      "model_module": "@jupyter-widgets/base",
      "model_module_version": "1.1.0",
      "model_name": "LayoutModel",
      "state": {}
     },
     "851a30cec50049be975f19560cd72cac": {
      "model_module": "@jupyter-widgets/controls",
      "model_module_version": "1.4.0",
      "model_name": "HBoxModel",
      "state": {
       "children": [
        "IPY_MODEL_e35627bc36dd4825958c0621c8a30333"
       ],
       "layout": "IPY_MODEL_b3bded598dc44c6b95998bf4ea46b9cc"
      }
     },
     "851c8973d15c4c42a75bb66a111b6c61": {
      "model_module": "@jupyter-widgets/controls",
      "model_module_version": "1.4.0",
      "model_name": "ButtonModel",
      "state": {
       "description": "Korrekt?",
       "layout": "IPY_MODEL_6cf51920f68e44a58c213a3020a20d2a",
       "style": "IPY_MODEL_3899a33f90ef4f16b019267bf07e81b6"
      }
     },
     "8525ffcbd59d464eacaa3b4a3fcbdf52": {
      "model_module": "@jupyter-widgets/controls",
      "model_module_version": "1.4.0",
      "model_name": "ButtonModel",
      "state": {
       "description": "Das Verwerfen verhindert eine Endlosrekursion.",
       "layout": "IPY_MODEL_0644410c81994461a97478ab82a27fe6",
       "style": "IPY_MODEL_d26d69832c6a417197d4c8efbbd89cbf"
      }
     },
     "856276476b004c709a762ef5616f8c3d": {
      "model_module": "@jupyter-widgets/base",
      "model_module_version": "1.1.0",
      "model_name": "LayoutModel",
      "state": {
       "width": "250px"
      }
     },
     "85aa5b4684004a52aba061ce48a86c3c": {
      "model_module": "@jupyter-widgets/base",
      "model_module_version": "1.1.0",
      "model_name": "LayoutModel",
      "state": {
       "width": "600px"
      }
     },
     "86175b7d97794b4b80dde3521401c47e": {
      "model_module": "@jupyter-widgets/base",
      "model_module_version": "1.1.0",
      "model_name": "LayoutModel",
      "state": {}
     },
     "86277b8bd81d409a85fa02b820eee8a2": {
      "model_module": "@jupyter-widgets/controls",
      "model_module_version": "1.4.0",
      "model_name": "ButtonStyleModel",
      "state": {}
     },
     "86764382cade4469a704b861a04a7f44": {
      "model_module": "@jupyter-widgets/controls",
      "model_module_version": "1.4.0",
      "model_name": "ButtonStyleModel",
      "state": {
       "button_color": "lightgreen"
      }
     },
     "86818407d384436bb30949c46ab7f645": {
      "model_module": "@jupyter-widgets/controls",
      "model_module_version": "1.4.0",
      "model_name": "ButtonStyleModel",
      "state": {}
     },
     "868d8e28de074fabba24a24f5dad8ab3": {
      "model_module": "@jupyter-widgets/base",
      "model_module_version": "1.1.0",
      "model_name": "LayoutModel",
      "state": {}
     },
     "86a1ab912e074766a55bc3e41e0db5f7": {
      "model_module": "@jupyter-widgets/controls",
      "model_module_version": "1.4.0",
      "model_name": "HBoxModel",
      "state": {
       "children": [
        "IPY_MODEL_fe291408d86f4c02b8ad81c0cf3e2e80",
        "IPY_MODEL_2acc7f66211747f0819e3d7897c49890"
       ],
       "layout": "IPY_MODEL_4623dba5cea34c468ad56b19bf3eb175"
      }
     },
     "86adde51703f4909a2bd08aedba9dfa8": {
      "model_module": "@jupyter-widgets/controls",
      "model_module_version": "1.4.0",
      "model_name": "ButtonStyleModel",
      "state": {
       "button_color": "lightgreen"
      }
     },
     "86d59b89cd054d4296e024d2af66e2ed": {
      "model_module": "@jupyter-widgets/controls",
      "model_module_version": "1.4.0",
      "model_name": "DescriptionStyleModel",
      "state": {
       "description_width": ""
      }
     },
     "86f4423c8bf4450380a97657608f6827": {
      "model_module": "@jupyter-widgets/base",
      "model_module_version": "1.1.0",
      "model_name": "LayoutModel",
      "state": {
       "width": "600px"
      }
     },
     "86faa20c55994bb0ac837bc1f8b91b64": {
      "model_module": "@jupyter-widgets/base",
      "model_module_version": "1.1.0",
      "model_name": "LayoutModel",
      "state": {}
     },
     "872df9a9e3ee433d847fcdb5a2e16098": {
      "model_module": "@jupyter-widgets/controls",
      "model_module_version": "1.4.0",
      "model_name": "ButtonStyleModel",
      "state": {}
     },
     "8746a304ec9b4c9ea39b87eabe723ca6": {
      "model_module": "@jupyter-widgets/base",
      "model_module_version": "1.1.0",
      "model_name": "LayoutModel",
      "state": {
       "width": "600px"
      }
     },
     "875feab9d23f4dde8a5bc640c0e8f400": {
      "model_module": "@jupyter-widgets/controls",
      "model_module_version": "1.4.0",
      "model_name": "HTMLModel",
      "state": {
       "layout": "IPY_MODEL_b2d69e378bf5403080a98f596be7434a",
       "style": "IPY_MODEL_8f9c21df85534f5a9badea7390cded36",
       "value": "<h4 style=\"font-size:14px;\">Berechnen Sie die Wahrscheinlichkeit für die Ableitung in der letzten Zeile.</h4>"
      }
     },
     "87720a401a614a2a8804af32e82d6196": {
      "model_module": "@jupyter-widgets/base",
      "model_module_version": "1.1.0",
      "model_name": "LayoutModel",
      "state": {}
     },
     "87a937d3a6f9408084ee66d6bf5e8e6b": {
      "model_module": "@jupyter-widgets/controls",
      "model_module_version": "1.4.0",
      "model_name": "DescriptionStyleModel",
      "state": {
       "description_width": ""
      }
     },
     "87cdf3fbd4684f93a640d25e85f23898": {
      "model_module": "@jupyter-widgets/base",
      "model_module_version": "1.1.0",
      "model_name": "LayoutModel",
      "state": {
       "width": "600px"
      }
     },
     "880b3527cc3f481da53f71db1fe9d212": {
      "model_module": "@jupyter-widgets/base",
      "model_module_version": "1.1.0",
      "model_name": "LayoutModel",
      "state": {}
     },
     "8821f4fc3985409ab83e0d54898cdbf7": {
      "model_module": "@jupyter-widgets/base",
      "model_module_version": "1.1.0",
      "model_name": "LayoutModel",
      "state": {
       "width": "600px"
      }
     },
     "883a177137c54da99e944ea02f748170": {
      "model_module": "@jupyter-widgets/controls",
      "model_module_version": "1.4.0",
      "model_name": "CheckboxModel",
      "state": {
       "description": "Das Verwerfen verhindert eine Endlosrekursion.",
       "disabled": false,
       "layout": "IPY_MODEL_ee038277d1b44aa588985fc8d887a28b",
       "style": "IPY_MODEL_6391dbbe64314a4989e0fb35e70079fd",
       "value": false
      }
     },
     "885a09dbfd6748bfbfc840df12b4cd0b": {
      "model_module": "@jupyter-widgets/controls",
      "model_module_version": "1.4.0",
      "model_name": "DescriptionStyleModel",
      "state": {
       "description_width": ""
      }
     },
     "886fc224495d4c7cb8d55f7a45f9dfc1": {
      "model_module": "@jupyter-widgets/controls",
      "model_module_version": "1.4.0",
      "model_name": "HTMLModel",
      "state": {
       "layout": "IPY_MODEL_d65f4727d25a40dba07a1e78baddbc20",
       "style": "IPY_MODEL_ec410ee8ef8045fa8b3cd6b7ef1779f2",
       "value": "<i>Wählen Sie die <ins>eine</ins> korrekte Antwort aus: </i>"
      }
     },
     "887f36a8c60b421a8a91632bd6dff3a4": {
      "model_module": "@jupyter-widgets/base",
      "model_module_version": "1.1.0",
      "model_name": "LayoutModel",
      "state": {}
     },
     "88943f7b00624c339ef2733f9ef3dba6": {
      "model_module": "@jupyter-widgets/base",
      "model_module_version": "1.1.0",
      "model_name": "LayoutModel",
      "state": {}
     },
     "88963dc6d55c494ab61650563ff86811": {
      "model_module": "@jupyter-widgets/controls",
      "model_module_version": "1.4.0",
      "model_name": "ButtonStyleModel",
      "state": {}
     },
     "889a0832446e42a58ee73321868aca64": {
      "model_module": "@jupyter-widgets/controls",
      "model_module_version": "1.4.0",
      "model_name": "ButtonModel",
      "state": {
       "description": "InsideChartParser mit beam-size (Pruning)",
       "layout": "IPY_MODEL_e14f628034a54c15a99b41bd44d977e2",
       "style": "IPY_MODEL_816a4bdda3c741a38ca172d85e9e26d8"
      }
     },
     "88a3ae18aece49f9b7366651db0b5068": {
      "model_module": "@jupyter-widgets/base",
      "model_module_version": "1.1.0",
      "model_name": "LayoutModel",
      "state": {
       "width": "250px"
      }
     },
     "88d328bc967f439a9fb117c7a4ae8faa": {
      "model_module": "@jupyter-widgets/base",
      "model_module_version": "1.1.0",
      "model_name": "LayoutModel",
      "state": {}
     },
     "890024efffee4dbfb520de4d1c2ab790": {
      "model_module": "@jupyter-widgets/controls",
      "model_module_version": "1.4.0",
      "model_name": "HBoxModel",
      "state": {
       "children": [
        "IPY_MODEL_9de0f2e8b8564243a186c17ed2a90f9b",
        "IPY_MODEL_478dda7e6a6f4b28bc6d6750ed5f4da5"
       ],
       "layout": "IPY_MODEL_87720a401a614a2a8804af32e82d6196"
      }
     },
     "896a5d42839d400093e164bc6e7b1456": {
      "model_module": "@jupyter-widgets/controls",
      "model_module_version": "1.4.0",
      "model_name": "HTMLModel",
      "state": {
       "layout": "IPY_MODEL_f755f4f7a3d5417087d716d69dc00614",
       "style": "IPY_MODEL_4bb22202876a492889f1f34f8905564c",
       "value": "<h4 style=\"font-size:14px;\">Um welche Art der Ambiguität handelt es sich bei den beiden gefundenen Ableitungen?</h4>"
      }
     },
     "897acb06242348979dc2a2edb9dbbe3b": {
      "model_module": "@jupyter-widgets/base",
      "model_module_version": "1.1.0",
      "model_name": "LayoutModel",
      "state": {
       "width": "250px"
      }
     },
     "89826778b7184c04ac6e1cff332c79f5": {
      "model_module": "@jupyter-widgets/controls",
      "model_module_version": "1.4.0",
      "model_name": "HBoxModel",
      "state": {
       "children": [
        "IPY_MODEL_cc822c13b5694bf2b9a0621b0b7355ee",
        "IPY_MODEL_6fe38bfb95b9432680a4205996ebcd21"
       ],
       "layout": "IPY_MODEL_1c22d3e85d804386b42bdfb7ccc9aacf"
      }
     },
     "89b5b666347746d5a5ffbcf9f07e8b88": {
      "model_module": "@jupyter-widgets/controls",
      "model_module_version": "1.4.0",
      "model_name": "DescriptionStyleModel",
      "state": {
       "description_width": ""
      }
     },
     "8a2efc9b51764a95a62927c0901c71f5": {
      "model_module": "@jupyter-widgets/base",
      "model_module_version": "1.1.0",
      "model_name": "LayoutModel",
      "state": {
       "width": "250px"
      }
     },
     "8a85610b94a54ab597945d7ebe926231": {
      "model_module": "@jupyter-widgets/controls",
      "model_module_version": "1.4.0",
      "model_name": "ButtonStyleModel",
      "state": {}
     },
     "8ac3267275cd48e59b202db49a616bb3": {
      "model_module": "@jupyter-widgets/controls",
      "model_module_version": "1.4.0",
      "model_name": "DescriptionStyleModel",
      "state": {
       "description_width": "initial"
      }
     },
     "8ac8d36f8144409fa577b98b2573cef2": {
      "model_module": "@jupyter-widgets/controls",
      "model_module_version": "1.4.0",
      "model_name": "ButtonModel",
      "state": {
       "description": "OK",
       "layout": "IPY_MODEL_72ec7faf44ac44d6b1d27a8ba6c6838c",
       "style": "IPY_MODEL_fb93ed6a7bf24d40b9d05d3405e8d70d"
      }
     },
     "8aef4a1e73094895ac6d582d0ba3b700": {
      "model_module": "@jupyter-widgets/controls",
      "model_module_version": "1.4.0",
      "model_name": "CheckboxModel",
      "state": {
       "description": "Bestimmung der Köpfe und Dependenzrelationen",
       "disabled": false,
       "layout": "IPY_MODEL_5a5fa0ccd8c8438ab9999c3e32159908",
       "style": "IPY_MODEL_66244f8d228f4877b476022dd6c5059c",
       "value": false
      }
     },
     "8b3bd759cb6642498c46c4baad2e1c0d": {
      "model_module": "@jupyter-widgets/controls",
      "model_module_version": "1.4.0",
      "model_name": "ButtonStyleModel",
      "state": {}
     },
     "8b4cef9dfacd4e31b1be60ef94f4a9f6": {
      "model_module": "@jupyter-widgets/controls",
      "model_module_version": "1.4.0",
      "model_name": "DescriptionStyleModel",
      "state": {
       "description_width": "initial"
      }
     },
     "8b6412e4b7e446bfa82b8e088f92b3b7": {
      "model_module": "@jupyter-widgets/controls",
      "model_module_version": "1.4.0",
      "model_name": "CheckboxModel",
      "state": {
       "description": "Das Verwerfen verhindert eine Endlosrekursion.",
       "disabled": false,
       "layout": "IPY_MODEL_64fb9e91d8a648b5a16c6aedc87c9e4a",
       "style": "IPY_MODEL_01d4c2a2139740e09f671c3846bc93ad",
       "value": false
      }
     },
     "8b73465546064791abcdb10414df124f": {
      "model_module": "@jupyter-widgets/controls",
      "model_module_version": "1.4.0",
      "model_name": "DescriptionStyleModel",
      "state": {
       "description_width": ""
      }
     },
     "8b9c8e863a214794910f1b001d5b2bb5": {
      "model_module": "@jupyter-widgets/base",
      "model_module_version": "1.1.0",
      "model_name": "LayoutModel",
      "state": {
       "width": "250px"
      }
     },
     "8bc8503ce7f340608147cb3d3e5afcc6": {
      "model_module": "@jupyter-widgets/controls",
      "model_module_version": "1.4.0",
      "model_name": "VBoxModel",
      "state": {
       "children": [
        "IPY_MODEL_0d7187cdae934dadb2b546bf94f2d2e0",
        "IPY_MODEL_3a1b391fed4b47ce9a482c7715570786",
        "IPY_MODEL_ec8bd8072e6f4039950c697a19a3b747",
        "IPY_MODEL_42da9e96d88b4b8c90dd38300d0c3ca4"
       ],
       "layout": "IPY_MODEL_4be6093259a44286ab8297d9f347aebd"
      }
     },
     "8bf25da22fb34db8a9cb6a9b39c6434b": {
      "model_module": "@jupyter-widgets/base",
      "model_module_version": "1.1.0",
      "model_name": "LayoutModel",
      "state": {}
     },
     "8c17ecfe7a7e443da992d84734223867": {
      "model_module": "@jupyter-widgets/controls",
      "model_module_version": "1.4.0",
      "model_name": "ButtonStyleModel",
      "state": {}
     },
     "8c5b9cd17b7b49418441fe342fdbb119": {
      "model_module": "@jupyter-widgets/controls",
      "model_module_version": "1.4.0",
      "model_name": "HTMLModel",
      "state": {
       "layout": "IPY_MODEL_8fc5cf7450a443cb9f5da69c3d736137",
       "style": "IPY_MODEL_8d33309cd47540fcb3cf84bc6e6dfe78",
       "value": "<i>Wählen Sie die <ins>eine</ins> korrekte Antwort aus: </i>"
      }
     },
     "8c70dd9a16394d8e94e47d0079701e40": {
      "model_module": "@jupyter-widgets/controls",
      "model_module_version": "1.4.0",
      "model_name": "HBoxModel",
      "state": {
       "children": [
        "IPY_MODEL_2a8c45d4ee9c4361a8dc3e4e17f14d39",
        "IPY_MODEL_6b403fffa5dc4d7a822d124f8b4148ac"
       ],
       "layout": "IPY_MODEL_6a145d7f85464ee49c47e72c8edb281f"
      }
     },
     "8ca5e8ea4c5c41849e061cc9fbd93281": {
      "model_module": "@jupyter-widgets/controls",
      "model_module_version": "1.4.0",
      "model_name": "ButtonStyleModel",
      "state": {}
     },
     "8cbb109506844493ad3754ccbc08d558": {
      "model_module": "@jupyter-widgets/controls",
      "model_module_version": "1.4.0",
      "model_name": "VBoxModel",
      "state": {
       "children": [
        "IPY_MODEL_c95fb126836d4b4da1f6a68ad8acf464",
        "IPY_MODEL_a757017761c048a8ae14e3d832b14936",
        "IPY_MODEL_fa6cc8fb71754c869e8210babaf2a059",
        "IPY_MODEL_89826778b7184c04ac6e1cff332c79f5"
       ],
       "layout": "IPY_MODEL_948566c0ea7349979f603141b29eee4e"
      }
     },
     "8ccd1d30ff5348d8850677f5a0b266d3": {
      "model_module": "@jupyter-widgets/controls",
      "model_module_version": "1.4.0",
      "model_name": "VBoxModel",
      "state": {
       "children": [
        "IPY_MODEL_6ee9dc23db2f4c5eb6caaa2b9f50176a",
        "IPY_MODEL_ffac0126ade64cd0a614d5b42c453f05",
        "IPY_MODEL_7c8c2ddd556a4d5b8ceebe4b8f106d67",
        "IPY_MODEL_4b1bd727258c424ca8b910f58885e23b"
       ],
       "layout": "IPY_MODEL_2b453a666ebc421e9e1b03cbc2841091"
      }
     },
     "8cdf1128bde5429a938664bd09f37ede": {
      "model_module": "@jupyter-widgets/controls",
      "model_module_version": "1.4.0",
      "model_name": "ButtonStyleModel",
      "state": {}
     },
     "8cfcff47c6c4446ab520ad4ca5b43fdf": {
      "model_module": "@jupyter-widgets/base",
      "model_module_version": "1.1.0",
      "model_name": "LayoutModel",
      "state": {}
     },
     "8d14b8df4ffc4443b3c9fa1e4955a3a8": {
      "model_module": "@jupyter-widgets/base",
      "model_module_version": "1.1.0",
      "model_name": "LayoutModel",
      "state": {
       "width": "600px"
      }
     },
     "8d33309cd47540fcb3cf84bc6e6dfe78": {
      "model_module": "@jupyter-widgets/controls",
      "model_module_version": "1.4.0",
      "model_name": "DescriptionStyleModel",
      "state": {
       "description_width": ""
      }
     },
     "8d662b3ad9184263936cb2bba6b770c5": {
      "model_module": "@jupyter-widgets/controls",
      "model_module_version": "1.4.0",
      "model_name": "ButtonStyleModel",
      "state": {}
     },
     "8d8cd90a057f4a3e98841d24c6bda189": {
      "model_module": "@jupyter-widgets/controls",
      "model_module_version": "1.4.0",
      "model_name": "DescriptionStyleModel",
      "state": {
       "description_width": ""
      }
     },
     "8d96a9a264b842749b748be84a41bd80": {
      "model_module": "@jupyter-widgets/controls",
      "model_module_version": "1.4.0",
      "model_name": "HTMLModel",
      "state": {
       "layout": "IPY_MODEL_da508c9c00a046a9b491833472ffa208",
       "style": "IPY_MODEL_c50889a6c1344febbe2f659fd56e2e59",
       "value": "<i>Wählen Sie die <ins>eine</ins> korrekte Antwort aus: </i>"
      }
     },
     "8dcbf27ac3b74d1cb85e6ee2f4b5ba47": {
      "model_module": "@jupyter-widgets/base",
      "model_module_version": "1.1.0",
      "model_name": "LayoutModel",
      "state": {}
     },
     "8dea71d4fae143a883013a32956c1dc4": {
      "model_module": "@jupyter-widgets/controls",
      "model_module_version": "1.4.0",
      "model_name": "ButtonModel",
      "state": {
       "description": "InsideChartParser mit beam-size",
       "layout": "IPY_MODEL_5506328633374387b59bd661b28c02f2",
       "style": "IPY_MODEL_8cdf1128bde5429a938664bd09f37ede"
      }
     },
     "8df606392940424592605773151f5e3a": {
      "model_module": "@jupyter-widgets/base",
      "model_module_version": "1.1.0",
      "model_name": "LayoutModel",
      "state": {
       "width": "250px"
      }
     },
     "8e096480d2fb4c289f15ef9a45a00eb8": {
      "model_module": "@jupyter-widgets/controls",
      "model_module_version": "1.4.0",
      "model_name": "ButtonModel",
      "state": {
       "description": "Koordinationsambiguität",
       "layout": "IPY_MODEL_1896a573247b4c32bf496ada9e84d28c",
       "style": "IPY_MODEL_9e2642c64ee24eb48e8a92fee7a7240e"
      }
     },
     "8e0c1698dd234c6f8856be7ba40ca755": {
      "model_module": "@jupyter-widgets/controls",
      "model_module_version": "1.4.0",
      "model_name": "HBoxModel",
      "state": {
       "children": [
        "IPY_MODEL_989b71dfa0c24760995313c7e94d9c21"
       ],
       "layout": "IPY_MODEL_3c31fb84108d4ba3b59bd4360d3c4566"
      }
     },
     "8e129909e76d463ea0ac3c66232f97d3": {
      "model_module": "@jupyter-widgets/base",
      "model_module_version": "1.1.0",
      "model_name": "LayoutModel",
      "state": {
       "width": "600px"
      }
     },
     "8e64b25234f249c3a2eee599647e0da6": {
      "model_module": "@jupyter-widgets/controls",
      "model_module_version": "1.4.0",
      "model_name": "DescriptionStyleModel",
      "state": {
       "description_width": ""
      }
     },
     "8ea75f675b9548a5908028cb566df234": {
      "model_module": "@jupyter-widgets/controls",
      "model_module_version": "1.4.0",
      "model_name": "TextModel",
      "state": {
       "disabled": true,
       "layout": "IPY_MODEL_e09bfb9f1dae48848193ac5e33096dd7",
       "style": "IPY_MODEL_885a09dbfd6748bfbfc840df12b4cd0b",
       "value": "2"
      }
     },
     "8ec8f0574dc24a7286c39b4edfd515a6": {
      "model_module": "@jupyter-widgets/controls",
      "model_module_version": "1.4.0",
      "model_name": "HTMLModel",
      "state": {
       "layout": "IPY_MODEL_28ca0c5336c84242b7f07a97644721f5",
       "style": "IPY_MODEL_e77f876d6f61412f92eaa5040dcd6c37",
       "value": "<h4 style=\"font-size:14px;\">Um welche Art der Ambiguität handelt es sich hier?</h4>"
      }
     },
     "8ee5f5b51e7b4502b69d681f7a153f57": {
      "model_module": "@jupyter-widgets/controls",
      "model_module_version": "1.4.0",
      "model_name": "CheckboxModel",
      "state": {
       "description": "Bestimmung des wahrscheinlichsten Syntaxbaums",
       "disabled": false,
       "layout": "IPY_MODEL_dbdb474f808645739b83b09f66a4e0fe",
       "style": "IPY_MODEL_dcbac422b6754d45a26cc464e31ee2ef",
       "value": true
      }
     },
     "8f2b0136adea4fdb962dbed08258222c": {
      "model_module": "@jupyter-widgets/base",
      "model_module_version": "1.1.0",
      "model_name": "LayoutModel",
      "state": {
       "width": "600px"
      }
     },
     "8f5373006c7041b188029e5a80a8787b": {
      "model_module": "@jupyter-widgets/controls",
      "model_module_version": "1.4.0",
      "model_name": "VBoxModel",
      "state": {
       "children": [
        "IPY_MODEL_1e68fdef9ecb41f59a17088231a0b249",
        "IPY_MODEL_7cbc96f44fda4aa794339ed563901f04",
        "IPY_MODEL_b8b03fa5a86b4a878f80a5eedd268ede",
        "IPY_MODEL_eec0423597be460bb5b91a5b55af88ea"
       ],
       "layout": "IPY_MODEL_0ae8dbd04461450f80ad331b8680dc4c"
      }
     },
     "8f649471d01e48a8b7b3a0cfed2307be": {
      "model_module": "@jupyter-widgets/base",
      "model_module_version": "1.1.0",
      "model_name": "LayoutModel",
      "state": {
       "justify_content": "center"
      }
     },
     "8f80644433234c669640d6e9cf844e51": {
      "model_module": "@jupyter-widgets/base",
      "model_module_version": "1.1.0",
      "model_name": "LayoutModel",
      "state": {}
     },
     "8f9c21df85534f5a9badea7390cded36": {
      "model_module": "@jupyter-widgets/controls",
      "model_module_version": "1.4.0",
      "model_name": "DescriptionStyleModel",
      "state": {
       "description_width": ""
      }
     },
     "8fc5cf7450a443cb9f5da69c3d736137": {
      "model_module": "@jupyter-widgets/base",
      "model_module_version": "1.1.0",
      "model_name": "LayoutModel",
      "state": {
       "justify_content": "center"
      }
     },
     "8fcdacfe6fd54b759511121b7a27b9bb": {
      "model_module": "@jupyter-widgets/controls",
      "model_module_version": "1.4.0",
      "model_name": "HBoxModel",
      "state": {
       "children": [
        "IPY_MODEL_b819b8e343d240c8adbe20c24448dcb2",
        "IPY_MODEL_2f83063be1cd4d03adfeb6bfc85ad43f"
       ],
       "layout": "IPY_MODEL_a44e80810a4a44c8a3858dab4227ca3d"
      }
     },
     "9000f6a2f78c46669561160fed358d55": {
      "model_module": "@jupyter-widgets/controls",
      "model_module_version": "1.4.0",
      "model_name": "DescriptionStyleModel",
      "state": {
       "description_width": "initial"
      }
     },
     "9007a12035bb42b9a16b95263d9db146": {
      "model_module": "@jupyter-widgets/base",
      "model_module_version": "1.1.0",
      "model_name": "LayoutModel",
      "state": {}
     },
     "900efb6c9fd942d4a4077ef75ae1561c": {
      "model_module": "@jupyter-widgets/base",
      "model_module_version": "1.1.0",
      "model_name": "LayoutModel",
      "state": {
       "justify_content": "center"
      }
     },
     "9047e0232db94162b15e3b571c09df0d": {
      "model_module": "@jupyter-widgets/controls",
      "model_module_version": "1.4.0",
      "model_name": "CheckboxModel",
      "state": {
       "description": "Bestimmung der Köpfe und Dependenzrelationen",
       "disabled": false,
       "layout": "IPY_MODEL_0e63504e0aa54738a9e4f4688ecd53b6",
       "style": "IPY_MODEL_212e53c9b3c44f738062cf0499d8d7e5",
       "value": false
      }
     },
     "9083fdec83aa4387be0800d0833d99b4": {
      "model_module": "@jupyter-widgets/controls",
      "model_module_version": "1.4.0",
      "model_name": "DescriptionStyleModel",
      "state": {
       "description_width": "initial"
      }
     },
     "9095337fa7234c858073c5d26295a151": {
      "model_module": "@jupyter-widgets/controls",
      "model_module_version": "1.4.0",
      "model_name": "ButtonModel",
      "state": {
       "description": "Temporale Ambiguität",
       "layout": "IPY_MODEL_416707293ec6443b87c0e337572907b5",
       "style": "IPY_MODEL_52fb222a23354dc88b9a692cd1d13385"
      }
     },
     "90ae2dda9f6b4ab4af448f8bf5f14497": {
      "model_module": "@jupyter-widgets/controls",
      "model_module_version": "1.4.0",
      "model_name": "DescriptionStyleModel",
      "state": {
       "description_width": ""
      }
     },
     "90ca170f3df6496ab4a93c33b032cae8": {
      "model_module": "@jupyter-widgets/controls",
      "model_module_version": "1.4.0",
      "model_name": "DescriptionStyleModel",
      "state": {
       "description_width": "initial"
      }
     },
     "90eb687c580e41958ed3ad60495f1772": {
      "model_module": "@jupyter-widgets/controls",
      "model_module_version": "1.4.0",
      "model_name": "VBoxModel",
      "state": {
       "children": [
        "IPY_MODEL_8b6412e4b7e446bfa82b8e088f92b3b7",
        "IPY_MODEL_02ccfe24ec8d48e783e5a7903d67b974",
        "IPY_MODEL_a2f0e722ec7d421bb104c50e3e6cb308",
        "IPY_MODEL_0fb6d5894a574fb0acb2b873f63f54d8"
       ],
       "layout": "IPY_MODEL_b0c5e7da53af447dbace9087aee960e5"
      }
     },
     "91044d5ad2c542d28fcf1d47fb0db598": {
      "model_module": "@jupyter-widgets/base",
      "model_module_version": "1.1.0",
      "model_name": "LayoutModel",
      "state": {
       "width": "250px"
      }
     },
     "9104c451cdac48319c06f4e5e3620692": {
      "model_module": "@jupyter-widgets/base",
      "model_module_version": "1.1.0",
      "model_name": "LayoutModel",
      "state": {}
     },
     "9126516233e148f98133593cc09ad427": {
      "model_module": "@jupyter-widgets/controls",
      "model_module_version": "1.4.0",
      "model_name": "DescriptionStyleModel",
      "state": {
       "description_width": ""
      }
     },
     "912a843070524305a81d35e1aeaf9852": {
      "model_module": "@jupyter-widgets/controls",
      "model_module_version": "1.4.0",
      "model_name": "HTMLModel",
      "state": {
       "layout": "IPY_MODEL_c9a11db4f742478bb5218522dfba6eb8",
       "style": "IPY_MODEL_edb114d8e17644989da2b26c0377aa1f",
       "value": "<i>Wählen Sie die <ins>eine</ins> korrekte Antwort aus: </i>"
      }
     },
     "916cea6666714b4ca8743376387bc466": {
      "model_module": "@jupyter-widgets/controls",
      "model_module_version": "1.4.0",
      "model_name": "ButtonModel",
      "state": {
       "description": "nach der Wahrscheinlichkeit",
       "layout": "IPY_MODEL_59cc61ba0c234d318adf890c93d5ed5a",
       "style": "IPY_MODEL_9193d6e800a24630b8ccdfe8dfb1a1e7"
      }
     },
     "91736c9688d8412c980b252661f007ad": {
      "model_module": "@jupyter-widgets/controls",
      "model_module_version": "1.4.0",
      "model_name": "ButtonStyleModel",
      "state": {}
     },
     "9181ded13aaa415b9edf29918c52e42c": {
      "model_module": "@jupyter-widgets/controls",
      "model_module_version": "1.4.0",
      "model_name": "HTMLModel",
      "state": {
       "layout": "IPY_MODEL_7fa9027812fa477bacf056879a880276",
       "style": "IPY_MODEL_69057c2397934f23ac80c9b5056fa5e1",
       "value": "<h4 style=\"font-size:14px;\">Welche der folgenden Bedingungen wird an eine PCFG gestellt?</h4>"
      }
     },
     "9193d6e800a24630b8ccdfe8dfb1a1e7": {
      "model_module": "@jupyter-widgets/controls",
      "model_module_version": "1.4.0",
      "model_name": "ButtonStyleModel",
      "state": {
       "button_color": "lightgreen"
      }
     },
     "919ad1064fb04672a6ff8cc2f018761e": {
      "model_module": "@jupyter-widgets/base",
      "model_module_version": "1.1.0",
      "model_name": "LayoutModel",
      "state": {
       "width": "250px"
      }
     },
     "91cd9a7d6c764ddb831f51375048a79c": {
      "model_module": "@jupyter-widgets/controls",
      "model_module_version": "1.4.0",
      "model_name": "DescriptionStyleModel",
      "state": {
       "description_width": "initial"
      }
     },
     "91ee40768eec46559d08f1a8a51726b2": {
      "model_module": "@jupyter-widgets/controls",
      "model_module_version": "1.4.0",
      "model_name": "HTMLModel",
      "state": {
       "layout": "IPY_MODEL_727e22db2b19460d89875a7ad5962881",
       "style": "IPY_MODEL_2e7ecea812604a9c8a625ec9ce68c9a3",
       "value": "<h4 style=\"font-size:14px;\">Berechnen Sie die Wahrscheinlichkeit für die Ableitung in der letzten Zeile.</h4>"
      }
     },
     "920760135b0c43c98788077be8fcb301": {
      "model_module": "@jupyter-widgets/controls",
      "model_module_version": "1.4.0",
      "model_name": "ButtonModel",
      "state": {
       "description": "Korrekt?",
       "layout": "IPY_MODEL_f0fc3053869443e29e2d1998f3e897cd",
       "style": "IPY_MODEL_86818407d384436bb30949c46ab7f645"
      }
     },
     "9245f56030fa4481a85b65918b42c229": {
      "model_module": "@jupyter-widgets/base",
      "model_module_version": "1.1.0",
      "model_name": "LayoutModel",
      "state": {}
     },
     "928cdcf2a38443a38275ecd6de217e45": {
      "model_module": "@jupyter-widgets/base",
      "model_module_version": "1.1.0",
      "model_name": "LayoutModel",
      "state": {}
     },
     "92996bae88774883b460d81d7e772598": {
      "model_module": "@jupyter-widgets/base",
      "model_module_version": "1.1.0",
      "model_name": "LayoutModel",
      "state": {
       "width": "250px"
      }
     },
     "92f44bde2ee44e418abcc2c02667a7c8": {
      "model_module": "@jupyter-widgets/controls",
      "model_module_version": "1.4.0",
      "model_name": "ButtonModel",
      "state": {
       "description": "Korrekt?",
       "layout": "IPY_MODEL_351bc75984a344a3aa7f7879e35f113e",
       "style": "IPY_MODEL_5196eefcaf6345308f881fb67c908e11"
      }
     },
     "9348ec92527b4733ae3ac6198a2444c7": {
      "model_module": "@jupyter-widgets/controls",
      "model_module_version": "1.4.0",
      "model_name": "HTMLModel",
      "state": {
       "layout": "IPY_MODEL_eb50ec54ca7f467dbd9ef5089e138aac",
       "style": "IPY_MODEL_7e383ae4dc9b41c4aa390186586203d2",
       "value": "<i>Wählen Sie die <ins>eine</ins> korrekte Antwort aus: </i>"
      }
     },
     "9376ff9aaeb847688c856b43868601ca": {
      "model_module": "@jupyter-widgets/controls",
      "model_module_version": "1.4.0",
      "model_name": "DescriptionStyleModel",
      "state": {
       "description_width": ""
      }
     },
     "938fe235523d44589c960cc8092f951b": {
      "model_module": "@jupyter-widgets/base",
      "model_module_version": "1.1.0",
      "model_name": "LayoutModel",
      "state": {
       "width": "600px"
      }
     },
     "93aec7cd9532446b925f304f68ffa9f2": {
      "model_module": "@jupyter-widgets/controls",
      "model_module_version": "1.4.0",
      "model_name": "VBoxModel",
      "state": {
       "children": [
        "IPY_MODEL_07e67d94fbd84765b07450bdd3c31da3",
        "IPY_MODEL_21cae087e5934b8bbb226d9b0e48bc0a",
        "IPY_MODEL_58a138f4dccf463abf43b5c9df2739db",
        "IPY_MODEL_7e12aa8019144abea13ab0e0cc62bb8e"
       ],
       "layout": "IPY_MODEL_19bfe78139d541dc8fa1a24e6219f320"
      }
     },
     "93c32bf69591435f87c1417b6e9e188e": {
      "model_module": "@jupyter-widgets/controls",
      "model_module_version": "1.4.0",
      "model_name": "ButtonStyleModel",
      "state": {}
     },
     "93cc15f2aa6a4de5bd1fd1f9ae02bd60": {
      "model_module": "@jupyter-widgets/controls",
      "model_module_version": "1.4.0",
      "model_name": "DescriptionStyleModel",
      "state": {
       "description_width": "initial"
      }
     },
     "93d38ce916754ca591183f3763df7f13": {
      "model_module": "@jupyter-widgets/controls",
      "model_module_version": "1.4.0",
      "model_name": "DescriptionStyleModel",
      "state": {
       "description_width": ""
      }
     },
     "944f4228d4d648b5b784c016b1714cf2": {
      "model_module": "@jupyter-widgets/base",
      "model_module_version": "1.1.0",
      "model_name": "LayoutModel",
      "state": {}
     },
     "9454c0515b434628a5681dd2245b4a8b": {
      "model_module": "@jupyter-widgets/controls",
      "model_module_version": "1.4.0",
      "model_name": "HTMLModel",
      "state": {
       "layout": "IPY_MODEL_60cc5838c4624a349889a5e3363f52df",
       "style": "IPY_MODEL_efacb270cc0545548bd06a75809a5948",
       "value": "<i>Wählen Sie die <ins>eine</ins> korrekte Antwort aus: </i>"
      }
     },
     "948566c0ea7349979f603141b29eee4e": {
      "model_module": "@jupyter-widgets/base",
      "model_module_version": "1.1.0",
      "model_name": "LayoutModel",
      "state": {}
     },
     "94c62e1b658e43ebbd11673c183e2ef8": {
      "model_module": "@jupyter-widgets/controls",
      "model_module_version": "1.4.0",
      "model_name": "HTMLModel",
      "state": {
       "layout": "IPY_MODEL_dee6b4db21ec455fbc8ac888b052e5ec",
       "style": "IPY_MODEL_0240c87ca3c4479db8d931beb8691143",
       "value": "<h4 style=\"font-size:14px;\">Warum werden die Analysen in den Discard-Zeilen verworfen?</h4>"
      }
     },
     "94ca86aee71d45d9ac3239c644edb71a": {
      "model_module": "@jupyter-widgets/controls",
      "model_module_version": "1.4.0",
      "model_name": "DescriptionStyleModel",
      "state": {
       "description_width": ""
      }
     },
     "94e32d7e7b284f1b839ea5b221f4c052": {
      "model_module": "@jupyter-widgets/controls",
      "model_module_version": "1.4.0",
      "model_name": "ButtonStyleModel",
      "state": {}
     },
     "9528e4073c6341e7a439fe72ba81e97c": {
      "model_module": "@jupyter-widgets/base",
      "model_module_version": "1.1.0",
      "model_name": "LayoutModel",
      "state": {}
     },
     "9531fc82050b4cb888c6c42a8610b5c3": {
      "model_module": "@jupyter-widgets/base",
      "model_module_version": "1.1.0",
      "model_name": "LayoutModel",
      "state": {
       "justify_content": "center"
      }
     },
     "95680caf6c524c62961836b5141f7041": {
      "model_module": "@jupyter-widgets/controls",
      "model_module_version": "1.4.0",
      "model_name": "VBoxModel",
      "state": {
       "children": [
        "IPY_MODEL_ed7f84304d054a3c89f7dd085e18a35a",
        "IPY_MODEL_dae74d7bd10b4882bdbfbcd578c5edc4",
        "IPY_MODEL_b7cc75ce11bc4a6da11b4bd8edd43951",
        "IPY_MODEL_8c70dd9a16394d8e94e47d0079701e40"
       ],
       "layout": "IPY_MODEL_3466443d37ae4760801aadbde0e75b3a"
      }
     },
     "95ada08586e44e6ea0898571e48fb7cc": {
      "model_module": "@jupyter-widgets/controls",
      "model_module_version": "1.4.0",
      "model_name": "ButtonModel",
      "state": {
       "description": "OK",
       "layout": "IPY_MODEL_365a259479334cc28daa61b75cfd84b0",
       "style": "IPY_MODEL_075972beff504c83b1461600c10ecb3f"
      }
     },
     "95b34e25ccac498a9087725de27c2186": {
      "model_module": "@jupyter-widgets/controls",
      "model_module_version": "1.4.0",
      "model_name": "HTMLModel",
      "state": {
       "layout": "IPY_MODEL_7a099ae376c84169b30cfae92d6c6eaa",
       "style": "IPY_MODEL_669f8c97ec50400c853e983c8c56a354",
       "value": "<h4 style=\"font-size:14px;\">Warum werden die Analysen in den `Discard`-Zeilen verworfen?</h4>"
      }
     },
     "95b89369d5064691935e847ed2534ec3": {
      "model_module": "@jupyter-widgets/base",
      "model_module_version": "1.1.0",
      "model_name": "LayoutModel",
      "state": {}
     },
     "95f29bca28b748e5855dce184e172dd0": {
      "model_module": "@jupyter-widgets/controls",
      "model_module_version": "1.4.0",
      "model_name": "HTMLModel",
      "state": {
       "layout": "IPY_MODEL_99ff02e1a8ae40f0974e790537757fc9",
       "style": "IPY_MODEL_1e4fedd2d2044d86b83680c618941ad8",
       "value": "<i>Wählen Sie die <ins>eine</ins> korrekte Antwort aus: </i>"
      }
     },
     "95f339424f6a43dc9c57bc15fce85677": {
      "model_module": "@jupyter-widgets/base",
      "model_module_version": "1.1.0",
      "model_name": "LayoutModel",
      "state": {
       "justify_content": "center"
      }
     },
     "9612355d3bbe4c968d9c8550893e470d": {
      "model_module": "@jupyter-widgets/controls",
      "model_module_version": "1.4.0",
      "model_name": "VBoxModel",
      "state": {
       "children": [
        "IPY_MODEL_a3145d43c1b745db9d8e28645184793c",
        "IPY_MODEL_0cad72c299a548428b081e077433b713",
        "IPY_MODEL_ebc391e7ec1b45189116bf19b31bc8c8"
       ],
       "layout": "IPY_MODEL_163ca7580b6544cba801a6b93d768c49"
      }
     },
     "965987e70b2648a785ee8286de468110": {
      "model_module": "@jupyter-widgets/controls",
      "model_module_version": "1.4.0",
      "model_name": "HTMLModel",
      "state": {
       "layout": "IPY_MODEL_5f7ba0e3626b448eb71682c8e7c510db",
       "style": "IPY_MODEL_ef886867a98c483cae3382921cc3528e",
       "value": "<i>Wählen Sie die <ins>eine</ins> korrekte Antwort aus: </i>"
      }
     },
     "965a61b2b2bd4699a6a39cd2306e7d18": {
      "model_module": "@jupyter-widgets/base",
      "model_module_version": "1.1.0",
      "model_name": "LayoutModel",
      "state": {
       "width": "250px"
      }
     },
     "96615c29618e4e6f9677a5d4f135de58": {
      "model_module": "@jupyter-widgets/controls",
      "model_module_version": "1.4.0",
      "model_name": "DescriptionStyleModel",
      "state": {
       "description_width": "initial"
      }
     },
     "968c2f8ab61c4e1d879a20cee34412b0": {
      "model_module": "@jupyter-widgets/controls",
      "model_module_version": "1.4.0",
      "model_name": "CheckboxModel",
      "state": {
       "description": "Das Verwerfen verhindert eine Endlosrekursion.",
       "disabled": false,
       "layout": "IPY_MODEL_77c51461eba147bc8b8d7ede55d0cce8",
       "style": "IPY_MODEL_3bc05a1c0db04d56a3c6b623e0310e25",
       "value": false
      }
     },
     "96a0cb69da2049599954716ab82cca1e": {
      "model_module": "@jupyter-widgets/controls",
      "model_module_version": "1.4.0",
      "model_name": "ButtonStyleModel",
      "state": {}
     },
     "96b2f868499e4633851c3c38aeb3354f": {
      "model_module": "@jupyter-widgets/base",
      "model_module_version": "1.1.0",
      "model_name": "LayoutModel",
      "state": {
       "width": "250px"
      }
     },
     "96c4a5faf68d4128bfa16adae6c4387c": {
      "model_module": "@jupyter-widgets/controls",
      "model_module_version": "1.4.0",
      "model_name": "HTMLModel",
      "state": {
       "layout": "IPY_MODEL_5204b9385e704d069f824a0c737e4e7d",
       "style": "IPY_MODEL_b41b30f9f78e40a9a0cb1a044f3a45eb",
       "value": "<h4 style=\"font-size:14px;\">Welche der folgenden Bedingungen wird an eine PCFG gestellt?</h4>"
      }
     },
     "975cfee09dc64b9cbc604cb5b09a9f6a": {
      "model_module": "@jupyter-widgets/controls",
      "model_module_version": "1.4.0",
      "model_name": "TextModel",
      "state": {
       "layout": "IPY_MODEL_abf4b46f2f514ae4aade586f9ba43cc9",
       "style": "IPY_MODEL_cc1df07b5baf4ef1a87652cc1fc5a5cf"
      }
     },
     "97728be845b6444ca9cf0695f1821f47": {
      "model_module": "@jupyter-widgets/controls",
      "model_module_version": "1.4.0",
      "model_name": "ButtonModel",
      "state": {
       "description": "Korrekt?",
       "layout": "IPY_MODEL_daa8832602ed43a2a204488a0a93dd41",
       "style": "IPY_MODEL_aab40b3b94af427d8ac33a9d2fd2feef"
      }
     },
     "97760a2bba1547fbaaf706d399522d9f": {
      "model_module": "@jupyter-widgets/controls",
      "model_module_version": "1.4.0",
      "model_name": "HTMLModel",
      "state": {
       "layout": "IPY_MODEL_e74fab6aa53f4ac882c5c05e7aed2daf",
       "style": "IPY_MODEL_db9febcf62a6429584f4dd4272152af9",
       "value": "<h4 style=\"font-size:14px;\">Nach welchem Kriterium wird beim Parsen mit dem InsideChartParser (= <i>Lowest-Cost-First</i>-Strategie) die <i>edge queue</i> sortiert?</h4>"
      }
     },
     "9780385c9d034cca9fd4e698ea266004": {
      "model_module": "@jupyter-widgets/base",
      "model_module_version": "1.1.0",
      "model_name": "LayoutModel",
      "state": {}
     },
     "979d874661fd4b00bbd7b94b4e24e92d": {
      "model_module": "@jupyter-widgets/controls",
      "model_module_version": "1.4.0",
      "model_name": "DescriptionStyleModel",
      "state": {
       "description_width": ""
      }
     },
     "9815d440b15e472797367aa7c6ffb080": {
      "model_module": "@jupyter-widgets/base",
      "model_module_version": "1.1.0",
      "model_name": "LayoutModel",
      "state": {
       "justify_content": "center"
      }
     },
     "98464d554aa344439a1f4a095dd61c32": {
      "model_module": "@jupyter-widgets/controls",
      "model_module_version": "1.4.0",
      "model_name": "HTMLModel",
      "state": {
       "layout": "IPY_MODEL_9ad2004cd93f4cce942d72a1053f469e",
       "style": "IPY_MODEL_bf55bceaaad9438284b59b0e106c1103",
       "value": "<i>Wählen Sie die <ins>eine</ins> korrekte Antwort aus: </i>"
      }
     },
     "98627a0126214decbacfd685e31111c1": {
      "model_module": "@jupyter-widgets/controls",
      "model_module_version": "1.4.0",
      "model_name": "CheckboxModel",
      "state": {
       "description": "Die Summe aller Regelwahrscheinlichkeiten für jede RHS ist jeweils 1.",
       "disabled": false,
       "layout": "IPY_MODEL_13245b3e075749f78c941d214a4a1d4f",
       "style": "IPY_MODEL_0fbcb8928b304c6098088ba8ced14e99",
       "value": false
      }
     },
     "987220e0e639423da084b02cc3fcdc0c": {
      "model_module": "@jupyter-widgets/base",
      "model_module_version": "1.1.0",
      "model_name": "LayoutModel",
      "state": {
       "width": "600px"
      }
     },
     "989b71dfa0c24760995313c7e94d9c21": {
      "model_module": "@jupyter-widgets/controls",
      "model_module_version": "1.4.0",
      "model_name": "ButtonModel",
      "state": {
       "description": "nach der beam-size",
       "layout": "IPY_MODEL_a458bc459cfa4a40a73d455d7a7abdba",
       "style": "IPY_MODEL_407779c816034d79a945f26e9e69874a"
      }
     },
     "98c97d3db18847568a0733047eaaac99": {
      "model_module": "@jupyter-widgets/base",
      "model_module_version": "1.1.0",
      "model_name": "LayoutModel",
      "state": {}
     },
     "98ea010bea224318b2c286964cc25bda": {
      "model_module": "@jupyter-widgets/controls",
      "model_module_version": "1.4.0",
      "model_name": "HBoxModel",
      "state": {
       "children": [
        "IPY_MODEL_c6e55cee3fd04e6ab88064a72f76e71f"
       ],
       "layout": "IPY_MODEL_4d61cd6e8b2c473b9f9d6eacc99e0957"
      }
     },
     "99126bdd0acb4a6bb00b5fe07054c6e2": {
      "model_module": "@jupyter-widgets/controls",
      "model_module_version": "1.4.0",
      "model_name": "CheckboxModel",
      "state": {
       "description": "Die Summe aller Regelwahrscheinlichkeiten innerhalb einer Grammatik ist 1.",
       "disabled": false,
       "layout": "IPY_MODEL_a3be09bb7b4c4791bb075435cbd5f9d8",
       "style": "IPY_MODEL_6a37fdea341140d5a70b2af0ba10ca4f",
       "value": false
      }
     },
     "991b75499d3d4e9b93f85c9358f2dc5d": {
      "model_module": "@jupyter-widgets/controls",
      "model_module_version": "1.4.0",
      "model_name": "DescriptionStyleModel",
      "state": {
       "description_width": "initial"
      }
     },
     "995b7fe8d76f4d2fb23117786c9ddef7": {
      "model_module": "@jupyter-widgets/controls",
      "model_module_version": "1.4.0",
      "model_name": "CheckboxModel",
      "state": {
       "description": "Ihre Wahrscheinlichkeiten sind zu gering.",
       "disabled": false,
       "layout": "IPY_MODEL_a6502dc737dc40aebc077317b753880d",
       "style": "IPY_MODEL_6d0f6c85001a4002b627defd07a129f7",
       "value": false
      }
     },
     "9966fa704eb543d983ff9c4738860be9": {
      "model_module": "@jupyter-widgets/controls",
      "model_module_version": "1.4.0",
      "model_name": "ButtonModel",
      "state": {
       "description": "LongestChartParser",
       "layout": "IPY_MODEL_c230cafb84454bbb93f8c2c96d961c64",
       "style": "IPY_MODEL_e95d8ccb2e70425ab5d3403cabad0756"
      }
     },
     "99b8e81a070b497894baaef74aeb8853": {
      "model_module": "@jupyter-widgets/base",
      "model_module_version": "1.1.0",
      "model_name": "LayoutModel",
      "state": {}
     },
     "99f1e9931b2a4526948c331a42c01235": {
      "model_module": "@jupyter-widgets/base",
      "model_module_version": "1.1.0",
      "model_name": "LayoutModel",
      "state": {
       "justify_content": "center"
      }
     },
     "99ff02e1a8ae40f0974e790537757fc9": {
      "model_module": "@jupyter-widgets/base",
      "model_module_version": "1.1.0",
      "model_name": "LayoutModel",
      "state": {
       "justify_content": "center"
      }
     },
     "9a02e34bcc98400d806871ad37341d5c": {
      "model_module": "@jupyter-widgets/controls",
      "model_module_version": "1.4.0",
      "model_name": "ButtonStyleModel",
      "state": {}
     },
     "9a0a1dbdf81e4a1a8b440a95f6cb105d": {
      "model_module": "@jupyter-widgets/controls",
      "model_module_version": "1.4.0",
      "model_name": "DescriptionStyleModel",
      "state": {
       "description_width": ""
      }
     },
     "9a1e7db9aa994ab68f2fe5f098605a5f": {
      "model_module": "@jupyter-widgets/base",
      "model_module_version": "1.1.0",
      "model_name": "LayoutModel",
      "state": {
       "width": "600px"
      }
     },
     "9a257cfcd17246a9bf5c3b9ec4ec62c9": {
      "model_module": "@jupyter-widgets/controls",
      "model_module_version": "1.4.0",
      "model_name": "ButtonModel",
      "state": {
       "description": "PP-Attachment-Ambiguität",
       "layout": "IPY_MODEL_09a9d17f7057496caf4b7f16ac99babf",
       "style": "IPY_MODEL_acd451cc0aa74ed598ec4441690a8684"
      }
     },
     "9a89f80219da4ed38d68b0568cf3cfa6": {
      "model_module": "@jupyter-widgets/base",
      "model_module_version": "1.1.0",
      "model_name": "LayoutModel",
      "state": {}
     },
     "9a8dc71eabe84c4ba766616d99fe2ef6": {
      "model_module": "@jupyter-widgets/controls",
      "model_module_version": "1.4.0",
      "model_name": "DescriptionStyleModel",
      "state": {
       "description_width": ""
      }
     },
     "9ad2004cd93f4cce942d72a1053f469e": {
      "model_module": "@jupyter-widgets/base",
      "model_module_version": "1.1.0",
      "model_name": "LayoutModel",
      "state": {
       "justify_content": "center"
      }
     },
     "9aec81743a234d20a67a5714321e6f3f": {
      "model_module": "@jupyter-widgets/base",
      "model_module_version": "1.1.0",
      "model_name": "LayoutModel",
      "state": {
       "width": "250px"
      }
     },
     "9af2d7820937437da3a5167ff3267b2f": {
      "model_module": "@jupyter-widgets/controls",
      "model_module_version": "1.4.0",
      "model_name": "HTMLModel",
      "state": {
       "layout": "IPY_MODEL_fab3d383fde7439eb549f0efa6f64bc6",
       "style": "IPY_MODEL_6440fc4c97304360bd79b2f0bf89cd35",
       "value": "<i>Wählen Sie die <ins>eine</ins> korrekte Antwort aus: </i>"
      }
     },
     "9b0b7ea076ed4389a5a9aba1356301b7": {
      "model_module": "@jupyter-widgets/controls",
      "model_module_version": "1.4.0",
      "model_name": "DescriptionStyleModel",
      "state": {
       "description_width": "initial"
      }
     },
     "9b1725916ee742f7a62278f5ad9c2113": {
      "model_module": "@jupyter-widgets/base",
      "model_module_version": "1.1.0",
      "model_name": "LayoutModel",
      "state": {
       "width": "250px"
      }
     },
     "9b374d4f29ad4116b5ae5e4730720d02": {
      "model_module": "@jupyter-widgets/controls",
      "model_module_version": "1.4.0",
      "model_name": "VBoxModel",
      "state": {
       "children": [
        "IPY_MODEL_c06dc825e2ec4c32881e2e34a6ed5c64",
        "IPY_MODEL_9fa1ad48d37d453eac6bdcc572464aa6",
        "IPY_MODEL_fe880b3eab9d4dd6acf3b5f47f893ba8",
        "IPY_MODEL_7b20ad04fabb43cdb393ae8b4f802a31"
       ],
       "layout": "IPY_MODEL_a9856c176c3e427b90c345af23721642"
      }
     },
     "9b3aff48cee843ee9885bd90db773d6b": {
      "model_module": "@jupyter-widgets/base",
      "model_module_version": "1.1.0",
      "model_name": "LayoutModel",
      "state": {
       "width": "250px"
      }
     },
     "9b75d14bd8ee4cdbb81b6b303dd39b04": {
      "model_module": "@jupyter-widgets/base",
      "model_module_version": "1.1.0",
      "model_name": "LayoutModel",
      "state": {}
     },
     "9b7d2dea065f427c9c5a618f3cee23f9": {
      "model_module": "@jupyter-widgets/base",
      "model_module_version": "1.1.0",
      "model_name": "LayoutModel",
      "state": {
       "width": "250px"
      }
     },
     "9b94dbd35f914bbaa92f6a365b00f31b": {
      "model_module": "@jupyter-widgets/base",
      "model_module_version": "1.1.0",
      "model_name": "LayoutModel",
      "state": {}
     },
     "9ba6a91db21a43a49ac808e978ec5f55": {
      "model_module": "@jupyter-widgets/controls",
      "model_module_version": "1.4.0",
      "model_name": "HTMLModel",
      "state": {
       "layout": "IPY_MODEL_887f36a8c60b421a8a91632bd6dff3a4",
       "style": "IPY_MODEL_cccffacc8eb4416f8574b3bf2d5de1b4",
       "value": "<i>Geben Sie die korrekte Antwort ein: </i>"
      }
     },
     "9baec0e011b54495b7a4e37975a8656d": {
      "model_module": "@jupyter-widgets/controls",
      "model_module_version": "1.4.0",
      "model_name": "HTMLModel",
      "state": {
       "layout": "IPY_MODEL_dc3e9cf77d434359bef2a56ae008c036",
       "style": "IPY_MODEL_05983777b4834a5f8c997a948fda5d8b",
       "value": "<h4 style=\"font-size:14px;\">Um welche Art der Ambiguität handelt es sich bei den beiden gefundenen Ableitungen?</h4>"
      }
     },
     "9c27b2ab034242e4b8554094d95bc1dc": {
      "model_module": "@jupyter-widgets/controls",
      "model_module_version": "1.4.0",
      "model_name": "CheckboxModel",
      "state": {
       "description": "Sie analysieren die Eingabesequenz nicht komplett.",
       "disabled": false,
       "layout": "IPY_MODEL_8821f4fc3985409ab83e0d54898cdbf7",
       "style": "IPY_MODEL_a6a06dda5ad0480e829080efbb48230b",
       "value": false
      }
     },
     "9c331324b41844b2b692ec62a1f8f68a": {
      "model_module": "@jupyter-widgets/controls",
      "model_module_version": "1.4.0",
      "model_name": "VBoxModel",
      "state": {
       "children": [
        "IPY_MODEL_96c4a5faf68d4128bfa16adae6c4387c",
        "IPY_MODEL_09da6c3985ee4636a3c32adfd434a4a3",
        "IPY_MODEL_c36e08ba6edb4cf7af6158164cd0c346",
        "IPY_MODEL_6a40a79f5f944c449c9ce90fd43207bd"
       ],
       "layout": "IPY_MODEL_ce2c1a693de44347ac0bf3fecffefcd8"
      }
     },
     "9c3b52cba9cf46c9b560ea8486ba4cb3": {
      "model_module": "@jupyter-widgets/base",
      "model_module_version": "1.1.0",
      "model_name": "LayoutModel",
      "state": {}
     },
     "9c5a736695394a12a25fa7387cccee7c": {
      "model_module": "@jupyter-widgets/base",
      "model_module_version": "1.1.0",
      "model_name": "LayoutModel",
      "state": {
       "width": "600px"
      }
     },
     "9c6a73c4694f40bba5324fafa5a63545": {
      "model_module": "@jupyter-widgets/controls",
      "model_module_version": "1.4.0",
      "model_name": "DescriptionStyleModel",
      "state": {
       "description_width": "initial"
      }
     },
     "9c749fbcad54487b9aa2ae86752a0026": {
      "model_module": "@jupyter-widgets/base",
      "model_module_version": "1.1.0",
      "model_name": "LayoutModel",
      "state": {}
     },
     "9c867fca62d445c488f1081e98f97e61": {
      "model_module": "@jupyter-widgets/controls",
      "model_module_version": "1.4.0",
      "model_name": "CheckboxModel",
      "state": {
       "description": "Bestimmung der Köpfe und Dependenzrelationen",
       "disabled": false,
       "layout": "IPY_MODEL_56041437863644e0a24f15cea326df4e",
       "style": "IPY_MODEL_e616319d5bc643f7a5cc7c002b541a45",
       "value": false
      }
     },
     "9c9ad9370e1349d1b01929c5f9ad8252": {
      "model_module": "@jupyter-widgets/controls",
      "model_module_version": "1.4.0",
      "model_name": "DescriptionStyleModel",
      "state": {
       "description_width": ""
      }
     },
     "9cc801575c3943a1a795c59bbdbd1462": {
      "model_module": "@jupyter-widgets/base",
      "model_module_version": "1.1.0",
      "model_name": "LayoutModel",
      "state": {
       "justify_content": "center"
      }
     },
     "9d057923244c405fb9a75f723ed7351f": {
      "model_module": "@jupyter-widgets/base",
      "model_module_version": "1.1.0",
      "model_name": "LayoutModel",
      "state": {}
     },
     "9d7d4e00394d4f049af4bdd52609a937": {
      "model_module": "@jupyter-widgets/base",
      "model_module_version": "1.1.0",
      "model_name": "LayoutModel",
      "state": {
       "width": "250px"
      }
     },
     "9d7e16dffd4446338dcc4a984169ddb9": {
      "model_module": "@jupyter-widgets/controls",
      "model_module_version": "1.4.0",
      "model_name": "ButtonStyleModel",
      "state": {}
     },
     "9d8b9f363e0d401d8059c1ac803fdae9": {
      "model_module": "@jupyter-widgets/controls",
      "model_module_version": "1.4.0",
      "model_name": "HBoxModel",
      "state": {
       "children": [
        "IPY_MODEL_1307ed149336412b9fb359d75b53785c",
        "IPY_MODEL_02af3a6098d54c7ebe8df9752da45df9"
       ],
       "layout": "IPY_MODEL_4d3640f46a4547a2a21912e4e6e76aed"
      }
     },
     "9dd3dc6561634b25841f866e477378b9": {
      "model_module": "@jupyter-widgets/controls",
      "model_module_version": "1.4.0",
      "model_name": "ButtonModel",
      "state": {
       "description": "InsideChartParser",
       "layout": "IPY_MODEL_10b1ef9fdcf84ee8aa0ce90817f0a570",
       "style": "IPY_MODEL_7b07ba7112fa43988cde358008d99c7f"
      }
     },
     "9de0f2e8b8564243a186c17ed2a90f9b": {
      "model_module": "@jupyter-widgets/controls",
      "model_module_version": "1.4.0",
      "model_name": "ButtonModel",
      "state": {
       "description": "LongestChartParser",
       "layout": "IPY_MODEL_c37afeaafe4343a89c8040c5aae4cc90",
       "style": "IPY_MODEL_07093ec8a9fa48a1a1acdf8d22c1c883"
      }
     },
     "9e1144230eb84a3781960590e3de9fe4": {
      "model_module": "@jupyter-widgets/base",
      "model_module_version": "1.1.0",
      "model_name": "LayoutModel",
      "state": {
       "width": "250px"
      }
     },
     "9e2642c64ee24eb48e8a92fee7a7240e": {
      "model_module": "@jupyter-widgets/controls",
      "model_module_version": "1.4.0",
      "model_name": "ButtonStyleModel",
      "state": {}
     },
     "9e33e576ad514579b04fd566766648bd": {
      "model_module": "@jupyter-widgets/controls",
      "model_module_version": "1.4.0",
      "model_name": "CheckboxModel",
      "state": {
       "description": "Bestimmung der Köpfe und Dependenzrelationen",
       "disabled": false,
       "layout": "IPY_MODEL_36896026ba20447ca26ba7fd2fd2c78a",
       "style": "IPY_MODEL_83686fd8b78843cdbf638a5ee8cf8ffd",
       "value": false
      }
     },
     "9e37049f8a64446794c55242e1523600": {
      "model_module": "@jupyter-widgets/base",
      "model_module_version": "1.1.0",
      "model_name": "LayoutModel",
      "state": {
       "width": "250px"
      }
     },
     "9e65e7ea3aa64635bdda65db980700c5": {
      "model_module": "@jupyter-widgets/controls",
      "model_module_version": "1.4.0",
      "model_name": "ButtonStyleModel",
      "state": {}
     },
     "9f394491f05f49a8bdfe6378667547c6": {
      "model_module": "@jupyter-widgets/controls",
      "model_module_version": "1.4.0",
      "model_name": "DescriptionStyleModel",
      "state": {
       "description_width": ""
      }
     },
     "9f57f7d154b34f47a30ddc4efca90439": {
      "model_module": "@jupyter-widgets/controls",
      "model_module_version": "1.4.0",
      "model_name": "VBoxModel",
      "state": {
       "children": [
        "IPY_MODEL_b8933da2afb540dfb376a311e7a78242",
        "IPY_MODEL_28decc523baa4f92b540cbf55e01dff2",
        "IPY_MODEL_8ea75f675b9548a5908028cb566df234",
        "IPY_MODEL_e1871404411c4301aee1f21311bcabad"
       ],
       "layout": "IPY_MODEL_a24c198adb3a431995169ad958a52b43"
      }
     },
     "9fa1ad48d37d453eac6bdcc572464aa6": {
      "model_module": "@jupyter-widgets/controls",
      "model_module_version": "1.4.0",
      "model_name": "HTMLModel",
      "state": {
       "layout": "IPY_MODEL_b2d441fe9be34e94a1333ec7bd6294ab",
       "style": "IPY_MODEL_badf0d2d31b142b69f2fca85a257d9c9",
       "value": "<i>Wählen Sie die <ins>eine</ins> korrekte Antwort aus: </i>"
      }
     },
     "9ffd009dfb454af4a2dfd928ac69d686": {
      "model_module": "@jupyter-widgets/controls",
      "model_module_version": "1.4.0",
      "model_name": "ButtonStyleModel",
      "state": {}
     },
     "a0643e057ef349e298948f12204f3a1e": {
      "model_module": "@jupyter-widgets/base",
      "model_module_version": "1.1.0",
      "model_name": "LayoutModel",
      "state": {
       "width": "250px"
      }
     },
     "a065f401221749a596a1a48a910b4f87": {
      "model_module": "@jupyter-widgets/controls",
      "model_module_version": "1.4.0",
      "model_name": "DescriptionStyleModel",
      "state": {
       "description_width": ""
      }
     },
     "a08b37a0fd47492181edb6a5f654f3b5": {
      "model_module": "@jupyter-widgets/controls",
      "model_module_version": "1.4.0",
      "model_name": "HTMLModel",
      "state": {
       "layout": "IPY_MODEL_ebb173e170a54403abf12e08174d19bf",
       "style": "IPY_MODEL_a5bfea6a97404a8496bde6aca951d826",
       "value": "<h4 style=\"font-size:14px;\">Um welche Art der Ambiguität handelt es sich bei den beiden gefundenen Ableitungen?</h4>"
      }
     },
     "a0a7b52043a447d392138ad6751b5c42": {
      "model_module": "@jupyter-widgets/controls",
      "model_module_version": "1.4.0",
      "model_name": "CheckboxModel",
      "state": {
       "description": "Bestimmung des wahrscheinlichsten Syntaxbaums",
       "disabled": false,
       "layout": "IPY_MODEL_a1a74333a5c441da8a589cd61571f5f5",
       "style": "IPY_MODEL_6376b03a26a34f62acdcf87a915137bd",
       "value": false
      }
     },
     "a0c48840044040e3946c5e39f73043ec": {
      "model_module": "@jupyter-widgets/controls",
      "model_module_version": "1.4.0",
      "model_name": "CheckboxModel",
      "state": {
       "description": "Bestimmung des wahrscheinlichsten Syntaxbaums",
       "disabled": false,
       "layout": "IPY_MODEL_ef2b1501cda641b697d8e7403471b4b0",
       "style": "IPY_MODEL_fc25e2779eee4fc4b371c4c74150b264",
       "value": false
      }
     },
     "a0d2b9b40623483b9d51cf954ee6b2c2": {
      "model_module": "@jupyter-widgets/controls",
      "model_module_version": "1.4.0",
      "model_name": "DescriptionStyleModel",
      "state": {
       "description_width": ""
      }
     },
     "a0ed5fa046664da89f342ecb8982af33": {
      "model_module": "@jupyter-widgets/base",
      "model_module_version": "1.1.0",
      "model_name": "LayoutModel",
      "state": {
       "justify_content": "center"
      }
     },
     "a105c1d1b38946c3b54534a33cbc045d": {
      "model_module": "@jupyter-widgets/base",
      "model_module_version": "1.1.0",
      "model_name": "LayoutModel",
      "state": {}
     },
     "a11ed99d0b57495e99921f293a145a2c": {
      "model_module": "@jupyter-widgets/controls",
      "model_module_version": "1.4.0",
      "model_name": "HTMLModel",
      "state": {
       "layout": "IPY_MODEL_3a6b9f4470984dae9d38c5f13e0a7e3e",
       "style": "IPY_MODEL_d13591434d3a42e6bdc5cf124d743caa",
       "value": "<h4 style=\"font-size:14px;\">Um welche Art der Ambiguität handelt es sich hier?</h4>"
      }
     },
     "a129a7b09ae3496c837d18daccd67e7d": {
      "model_module": "@jupyter-widgets/base",
      "model_module_version": "1.1.0",
      "model_name": "LayoutModel",
      "state": {}
     },
     "a1390ec10eda44548567dd72299a6d1f": {
      "model_module": "@jupyter-widgets/base",
      "model_module_version": "1.1.0",
      "model_name": "LayoutModel",
      "state": {
       "width": "600px"
      }
     },
     "a18ead1268214482b7c471c13a27f99e": {
      "model_module": "@jupyter-widgets/controls",
      "model_module_version": "1.4.0",
      "model_name": "HTMLModel",
      "state": {
       "layout": "IPY_MODEL_3e50c0bc63cc42deadde0433bcb885d4",
       "style": "IPY_MODEL_b4d244131a724083a939b7f57c7ef577",
       "value": "<i>Wählen Sie die <ins>eine</ins> korrekte Antwort aus: </i>"
      }
     },
     "a1a74333a5c441da8a589cd61571f5f5": {
      "model_module": "@jupyter-widgets/base",
      "model_module_version": "1.1.0",
      "model_name": "LayoutModel",
      "state": {
       "width": "600px"
      }
     },
     "a1cb50fd617448acbee11416ba2d4921": {
      "model_module": "@jupyter-widgets/base",
      "model_module_version": "1.1.0",
      "model_name": "LayoutModel",
      "state": {}
     },
     "a249b7b503b940b1bf0cc2ee72372a2f": {
      "model_module": "@jupyter-widgets/controls",
      "model_module_version": "1.4.0",
      "model_name": "ButtonStyleModel",
      "state": {}
     },
     "a24c198adb3a431995169ad958a52b43": {
      "model_module": "@jupyter-widgets/base",
      "model_module_version": "1.1.0",
      "model_name": "LayoutModel",
      "state": {}
     },
     "a2503880bed74178b7ac12bf70c91e22": {
      "model_module": "@jupyter-widgets/controls",
      "model_module_version": "1.4.0",
      "model_name": "ButtonStyleModel",
      "state": {}
     },
     "a251a2c0f25b4e138c37def6813ef259": {
      "model_module": "@jupyter-widgets/base",
      "model_module_version": "1.1.0",
      "model_name": "LayoutModel",
      "state": {}
     },
     "a2907b9e70a84cd5a883eaadecd76458": {
      "model_module": "@jupyter-widgets/controls",
      "model_module_version": "1.4.0",
      "model_name": "ButtonStyleModel",
      "state": {}
     },
     "a2bcee1f60574e46a7756e70345d32f3": {
      "model_module": "@jupyter-widgets/controls",
      "model_module_version": "1.4.0",
      "model_name": "CheckboxModel",
      "state": {
       "description": "Bestimmung der Köpfe und Dependenzrelationen",
       "disabled": false,
       "layout": "IPY_MODEL_69630eeeb510492eafb22e92ef6030dc",
       "style": "IPY_MODEL_9000f6a2f78c46669561160fed358d55",
       "value": false
      }
     },
     "a2c02c4dff304ef8ac9e7ab05df935ab": {
      "model_module": "@jupyter-widgets/controls",
      "model_module_version": "1.4.0",
      "model_name": "HTMLModel",
      "state": {
       "layout": "IPY_MODEL_88943f7b00624c339ef2733f9ef3dba6",
       "style": "IPY_MODEL_b7e837ab26854053bb6c165e4dfac4d7",
       "value": "<h4 style=\"font-size:14px;\">Berechnen Sie die Wahrscheinlichkeit für die Ableitung in der letzten Zeile.</h4>"
      }
     },
     "a2d9d6b0813f45088ba62e281595f362": {
      "model_module": "@jupyter-widgets/controls",
      "model_module_version": "1.4.0",
      "model_name": "VBoxModel",
      "state": {
       "children": [
        "IPY_MODEL_3bc4062fb1a14c328d87ed4895410080",
        "IPY_MODEL_f97e59140d4348168e8cd7f72af0c07a",
        "IPY_MODEL_56eaa478fca24835bfa1d35f56227b9c",
        "IPY_MODEL_aa66084456084b9890e197b5127640a7"
       ],
       "layout": "IPY_MODEL_a251a2c0f25b4e138c37def6813ef259"
      }
     },
     "a2f0e722ec7d421bb104c50e3e6cb308": {
      "model_module": "@jupyter-widgets/controls",
      "model_module_version": "1.4.0",
      "model_name": "CheckboxModel",
      "state": {
       "description": "Ihre Wahrscheinlichkeiten sind zu gering.",
       "disabled": false,
       "layout": "IPY_MODEL_1406dd6689914376971b0e82bcbe67ca",
       "style": "IPY_MODEL_6eedf00ef3cc48fdb949d1eeb09e63fd",
       "value": true
      }
     },
     "a3145d43c1b745db9d8e28645184793c": {
      "model_module": "@jupyter-widgets/controls",
      "model_module_version": "1.4.0",
      "model_name": "CheckboxModel",
      "state": {
       "description": "Die Summe aller Regelwahrscheinlichkeiten für jede LHS ist jeweils 1.",
       "disabled": false,
       "layout": "IPY_MODEL_25aea43db8494e9b8f7cb125f1ba1b06",
       "style": "IPY_MODEL_a85aedf2893d4c988841ede114fc0620",
       "value": false
      }
     },
     "a31544d2024d47b48b2e4239e551688f": {
      "model_module": "@jupyter-widgets/controls",
      "model_module_version": "1.4.0",
      "model_name": "CheckboxModel",
      "state": {
       "description": "Sie analysieren die Eingabesequenz nicht komplett.",
       "disabled": false,
       "layout": "IPY_MODEL_f150d26355764e32b8dd46797f0199ae",
       "style": "IPY_MODEL_29443f92587349518714ca3578287cc6",
       "value": false
      }
     },
     "a32dd9d9aa244ce5a8f36ff39ed0896d": {
      "model_module": "@jupyter-widgets/controls",
      "model_module_version": "1.4.0",
      "model_name": "DescriptionStyleModel",
      "state": {
       "description_width": ""
      }
     },
     "a33c5716e7594875927db1c2f8dd1cd6": {
      "model_module": "@jupyter-widgets/controls",
      "model_module_version": "1.4.0",
      "model_name": "ButtonModel",
      "state": {
       "description": "Korrekt?",
       "layout": "IPY_MODEL_e29289c143ec4c9ab22ae09329303618",
       "style": "IPY_MODEL_aa1b74eb6ce044b99e4c721e4256915f"
      }
     },
     "a3491777c4374994b75476da99704bde": {
      "model_module": "@jupyter-widgets/controls",
      "model_module_version": "1.4.0",
      "model_name": "TextModel",
      "state": {
       "layout": "IPY_MODEL_12ef501ce26540448e7200ce1c2faef9",
       "style": "IPY_MODEL_28325398d715410cbe16f2a8566aa0fa"
      }
     },
     "a350ffc7207f40ee95e80ebbfd39ded1": {
      "model_module": "@jupyter-widgets/base",
      "model_module_version": "1.1.0",
      "model_name": "LayoutModel",
      "state": {}
     },
     "a3851592308b46c1814adc62aa2f9ff8": {
      "model_module": "@jupyter-widgets/controls",
      "model_module_version": "1.4.0",
      "model_name": "CheckboxModel",
      "state": {
       "description": "Die Analysen sind mit der gegebenen Grammatik nicht möglich.",
       "disabled": false,
       "layout": "IPY_MODEL_378d1ced0e56446dba46c92d35889c70",
       "style": "IPY_MODEL_ef2c3b21a464466a940c511e40e9c015",
       "value": false
      }
     },
     "a3be09bb7b4c4791bb075435cbd5f9d8": {
      "model_module": "@jupyter-widgets/base",
      "model_module_version": "1.1.0",
      "model_name": "LayoutModel",
      "state": {
       "width": "600px"
      }
     },
     "a3fb30c0b64446cca12ea02a0bbce92d": {
      "model_module": "@jupyter-widgets/controls",
      "model_module_version": "1.4.0",
      "model_name": "VBoxModel",
      "state": {
       "children": [
        "IPY_MODEL_746393a752c74c509fb7cd5ebd9565de",
        "IPY_MODEL_34b1a0ca811743cb9e34f4f7250711dc",
        "IPY_MODEL_cebf6f76453d45618b36a70c9711fe89"
       ],
       "layout": "IPY_MODEL_2a87b8de028f4d8e812c25838eb3ca64"
      }
     },
     "a424a6220cbd45bda8b69df9e823f2a5": {
      "model_module": "@jupyter-widgets/base",
      "model_module_version": "1.1.0",
      "model_name": "LayoutModel",
      "state": {
       "justify_content": "center"
      }
     },
     "a42be05929034147904a08984bfba587": {
      "model_module": "@jupyter-widgets/base",
      "model_module_version": "1.1.0",
      "model_name": "LayoutModel",
      "state": {}
     },
     "a44e80810a4a44c8a3858dab4227ca3d": {
      "model_module": "@jupyter-widgets/base",
      "model_module_version": "1.1.0",
      "model_name": "LayoutModel",
      "state": {}
     },
     "a455f61992fc42d69df22c944801aaec": {
      "model_module": "@jupyter-widgets/base",
      "model_module_version": "1.1.0",
      "model_name": "LayoutModel",
      "state": {
       "width": "250px"
      }
     },
     "a458bc459cfa4a40a73d455d7a7abdba": {
      "model_module": "@jupyter-widgets/base",
      "model_module_version": "1.1.0",
      "model_name": "LayoutModel",
      "state": {
       "width": "250px"
      }
     },
     "a464b1d07d26473699c57b41f4d561a3": {
      "model_module": "@jupyter-widgets/base",
      "model_module_version": "1.1.0",
      "model_name": "LayoutModel",
      "state": {
       "justify_content": "center"
      }
     },
     "a47b790e3b504e53a7cfa5bb322a745e": {
      "model_module": "@jupyter-widgets/base",
      "model_module_version": "1.1.0",
      "model_name": "LayoutModel",
      "state": {}
     },
     "a4c985cc0acd4430a572b43d9a65f7b7": {
      "model_module": "@jupyter-widgets/controls",
      "model_module_version": "1.4.0",
      "model_name": "HTMLModel",
      "state": {
       "layout": "IPY_MODEL_9104c451cdac48319c06f4e5e3620692",
       "style": "IPY_MODEL_5852a7f62cd54d80b57d776efb5835c0",
       "value": "<i>None</i>"
      }
     },
     "a4d391ffedce4c3f8910e0084b7cb33d": {
      "model_module": "@jupyter-widgets/controls",
      "model_module_version": "1.4.0",
      "model_name": "HTMLModel",
      "state": {
       "layout": "IPY_MODEL_72219073a04a4de7830561f7e45b7aba",
       "style": "IPY_MODEL_5dbc41567d254f16b531ea27469df337",
       "value": "<i>Wählen Sie die <ins>eine</ins> korrekte Antwort aus: </i>"
      }
     },
     "a4da37c8df404ed19039d3d2ef7bc8e7": {
      "model_module": "@jupyter-widgets/controls",
      "model_module_version": "1.4.0",
      "model_name": "HBoxModel",
      "state": {
       "children": [
        "IPY_MODEL_a676c87c4bea4c49b507cdf3c30dfa6d",
        "IPY_MODEL_45f4fbee5c00460e9ffa106a5c9e2076"
       ],
       "layout": "IPY_MODEL_da64e9d6fdd640dfb1193ec2ac89f224"
      }
     },
     "a4de80e8442c4ecc8885591bbba74fe1": {
      "model_module": "@jupyter-widgets/controls",
      "model_module_version": "1.4.0",
      "model_name": "DescriptionStyleModel",
      "state": {
       "description_width": ""
      }
     },
     "a514e7cad4a840cbb3d8b3a385701f16": {
      "model_module": "@jupyter-widgets/controls",
      "model_module_version": "1.4.0",
      "model_name": "ButtonModel",
      "state": {
       "description": "LongestChartParser",
       "layout": "IPY_MODEL_30978319df5e4301888e887ecb3007e6",
       "style": "IPY_MODEL_4dacbda3d1f343ee86b03269056f58b8"
      }
     },
     "a51fe3262b504ceab734775e0ede6ea6": {
      "model_module": "@jupyter-widgets/base",
      "model_module_version": "1.1.0",
      "model_name": "LayoutModel",
      "state": {
       "justify_content": "center"
      }
     },
     "a52f5f95b25644e391dcea758311745d": {
      "model_module": "@jupyter-widgets/base",
      "model_module_version": "1.1.0",
      "model_name": "LayoutModel",
      "state": {}
     },
     "a54b28ebab8b4551995a969725296622": {
      "model_module": "@jupyter-widgets/controls",
      "model_module_version": "1.4.0",
      "model_name": "VBoxModel",
      "state": {
       "children": [
        "IPY_MODEL_35810ee6dc524a9db00ca42405ad7b43",
        "IPY_MODEL_5cac2c04347e466e8ca1733a913c410a",
        "IPY_MODEL_55e0fd1477964271839acc59eee952cf",
        "IPY_MODEL_0e730ff9a73a4a3cb43f734fe14b5bcb"
       ],
       "layout": "IPY_MODEL_01d90e4b027e4d52a9675b52f5ce3e76"
      }
     },
     "a56d0435dcdd4469a0c7eddaa455f3c5": {
      "model_module": "@jupyter-widgets/controls",
      "model_module_version": "1.4.0",
      "model_name": "ButtonModel",
      "state": {
       "description": "Die Summe aller Regelwahrscheinlichkeiten innerhalb einer Grammatik ist 1.",
       "layout": "IPY_MODEL_1600b5369aa545d0adda2fd549c60740",
       "style": "IPY_MODEL_8c17ecfe7a7e443da992d84734223867"
      }
     },
     "a5abbc8d7b0d48c1b466866affcf8f81": {
      "model_module": "@jupyter-widgets/controls",
      "model_module_version": "1.4.0",
      "model_name": "VBoxModel",
      "state": {
       "children": [
        "IPY_MODEL_db97859576cc4ebc94add0bf529c6485",
        "IPY_MODEL_0d9b4396d2fa432782b2c583940ca31d",
        "IPY_MODEL_65eca1542a13424ab30f644895bb7c1d",
        "IPY_MODEL_acb254313bfe48d298d5cb6d1e4a6701"
       ],
       "layout": "IPY_MODEL_b63ae3bbb5824129bf587945e3e70eef"
      }
     },
     "a5acea8b4fe44f0f9e45f099b38bb418": {
      "model_module": "@jupyter-widgets/controls",
      "model_module_version": "1.4.0",
      "model_name": "HTMLModel",
      "state": {
       "layout": "IPY_MODEL_58de2359fca44e38b8c12bf547b0ed1a",
       "style": "IPY_MODEL_5bfeb05ebc7541cf8b97ab1b84ec7ac6",
       "value": "<h4 style=\"font-size:14px;\">Was ist die Aufgabe des Viterbi-Algorithmus?</h4>"
      }
     },
     "a5bfea6a97404a8496bde6aca951d826": {
      "model_module": "@jupyter-widgets/controls",
      "model_module_version": "1.4.0",
      "model_name": "DescriptionStyleModel",
      "state": {
       "description_width": ""
      }
     },
     "a5d65bb028c3439f9ea8ee4edaf77f3f": {
      "model_module": "@jupyter-widgets/controls",
      "model_module_version": "1.4.0",
      "model_name": "ButtonModel",
      "state": {
       "description": "OK",
       "layout": "IPY_MODEL_daf5c5c8389347ac9983d5bd652a67ac",
       "style": "IPY_MODEL_872df9a9e3ee433d847fcdb5a2e16098"
      }
     },
     "a6502dc737dc40aebc077317b753880d": {
      "model_module": "@jupyter-widgets/base",
      "model_module_version": "1.1.0",
      "model_name": "LayoutModel",
      "state": {
       "width": "600px"
      }
     },
     "a652a389826f4fa4a94954b710417cc7": {
      "model_module": "@jupyter-widgets/base",
      "model_module_version": "1.1.0",
      "model_name": "LayoutModel",
      "state": {}
     },
     "a676c87c4bea4c49b507cdf3c30dfa6d": {
      "model_module": "@jupyter-widgets/controls",
      "model_module_version": "1.4.0",
      "model_name": "ButtonModel",
      "state": {
       "description": "Koordinationsambiguität",
       "layout": "IPY_MODEL_e51d12a7f3ca47de8682ec3469934823",
       "style": "IPY_MODEL_ce1f87e19dca47edbfed19cf1e435ec5"
      }
     },
     "a6a06dda5ad0480e829080efbb48230b": {
      "model_module": "@jupyter-widgets/controls",
      "model_module_version": "1.4.0",
      "model_name": "DescriptionStyleModel",
      "state": {
       "description_width": "initial"
      }
     },
     "a6e79a7be2a5462f908884a6aa663c84": {
      "model_module": "@jupyter-widgets/controls",
      "model_module_version": "1.4.0",
      "model_name": "DescriptionStyleModel",
      "state": {
       "description_width": "initial"
      }
     },
     "a6e9d716c6ed4839854fb0b25689ba88": {
      "model_module": "@jupyter-widgets/controls",
      "model_module_version": "1.4.0",
      "model_name": "ButtonModel",
      "state": {
       "description": "InsideChartParser mit beam-size",
       "layout": "IPY_MODEL_f08b84cc79c14b329c3e03eade4e4948",
       "style": "IPY_MODEL_7dfb484118654f9286f82f64c4fed25b"
      }
     },
     "a6ef089cff924324b67ceec9de3b8f45": {
      "model_module": "@jupyter-widgets/base",
      "model_module_version": "1.1.0",
      "model_name": "LayoutModel",
      "state": {
       "width": "600px"
      }
     },
     "a6f470c3888e4aebbea0621c74737e30": {
      "model_module": "@jupyter-widgets/controls",
      "model_module_version": "1.4.0",
      "model_name": "DescriptionStyleModel",
      "state": {
       "description_width": ""
      }
     },
     "a71d37795fbe42f8b5852b3c66faccc0": {
      "model_module": "@jupyter-widgets/controls",
      "model_module_version": "1.4.0",
      "model_name": "ButtonModel",
      "state": {
       "description": "nach der Wahrscheinlichkeit",
       "layout": "IPY_MODEL_077020f48ec34d66b160ecf4f03a4dba",
       "style": "IPY_MODEL_50e110a2fd104d95b18c276d123a9132"
      }
     },
     "a748a51d354c40e6ab54a5dd6be5e741": {
      "model_module": "@jupyter-widgets/controls",
      "model_module_version": "1.4.0",
      "model_name": "ButtonStyleModel",
      "state": {}
     },
     "a757017761c048a8ae14e3d832b14936": {
      "model_module": "@jupyter-widgets/controls",
      "model_module_version": "1.4.0",
      "model_name": "HTMLModel",
      "state": {
       "layout": "IPY_MODEL_9b75d14bd8ee4cdbb81b6b303dd39b04",
       "style": "IPY_MODEL_9a8dc71eabe84c4ba766616d99fe2ef6",
       "value": "<i>Geben Sie die korrekte Antwort ein: </i>"
      }
     },
     "a782b322acdf4b83b6059a03456a7881": {
      "model_module": "@jupyter-widgets/base",
      "model_module_version": "1.1.0",
      "model_name": "LayoutModel",
      "state": {
       "justify_content": "center"
      }
     },
     "a79c798e516d495696a3c667b0b4b9fb": {
      "model_module": "@jupyter-widgets/base",
      "model_module_version": "1.1.0",
      "model_name": "LayoutModel",
      "state": {
       "width": "250px"
      }
     },
     "a7b47836c7d743f4832b982957681339": {
      "model_module": "@jupyter-widgets/controls",
      "model_module_version": "1.4.0",
      "model_name": "HBoxModel",
      "state": {
       "children": [
        "IPY_MODEL_2411ee1481694110a3b7248acc6d094a",
        "IPY_MODEL_3e479a95c03b48bf8fc9b8d442a8e902"
       ],
       "layout": "IPY_MODEL_04bee141af8d4c6dbe18e35439cdffc6"
      }
     },
     "a7b66c9cdf554a368767745b9994ee98": {
      "model_module": "@jupyter-widgets/base",
      "model_module_version": "1.1.0",
      "model_name": "LayoutModel",
      "state": {
       "justify_content": "center"
      }
     },
     "a7ebf4e971e44e1e9b70608ce31f59f8": {
      "model_module": "@jupyter-widgets/controls",
      "model_module_version": "1.4.0",
      "model_name": "ButtonModel",
      "state": {
       "description": "InsideChartParser",
       "layout": "IPY_MODEL_1c9836e8a359437c9a36adf19e0071c2",
       "style": "IPY_MODEL_c373928c2a464bbe9da7b291fe197360"
      }
     },
     "a80b10f139034011a7c6b1f1bcaae36b": {
      "model_module": "@jupyter-widgets/controls",
      "model_module_version": "1.4.0",
      "model_name": "DescriptionStyleModel",
      "state": {
       "description_width": ""
      }
     },
     "a854446af36648c5bd2a4684f55006bf": {
      "model_module": "@jupyter-widgets/base",
      "model_module_version": "1.1.0",
      "model_name": "LayoutModel",
      "state": {}
     },
     "a85aedf2893d4c988841ede114fc0620": {
      "model_module": "@jupyter-widgets/controls",
      "model_module_version": "1.4.0",
      "model_name": "DescriptionStyleModel",
      "state": {
       "description_width": "initial"
      }
     },
     "a865ea44238a472e9bf275b4b5e986cc": {
      "model_module": "@jupyter-widgets/base",
      "model_module_version": "1.1.0",
      "model_name": "LayoutModel",
      "state": {}
     },
     "a87ff22a34e74c58a98f0d437a0ddad5": {
      "model_module": "@jupyter-widgets/controls",
      "model_module_version": "1.4.0",
      "model_name": "VBoxModel",
      "state": {
       "children": [
        "IPY_MODEL_8ec8f0574dc24a7286c39b4edfd515a6",
        "IPY_MODEL_b85b1252f33841a38c8f7ea0a96fc1e1",
        "IPY_MODEL_a4da37c8df404ed19039d3d2ef7bc8e7",
        "IPY_MODEL_f6bc4395db624a728970ed429857fd29"
       ],
       "layout": "IPY_MODEL_2335441e0e27416fba390ba4672732ec"
      }
     },
     "a8a73897747d426ea38eb92017820136": {
      "model_module": "@jupyter-widgets/controls",
      "model_module_version": "1.4.0",
      "model_name": "DescriptionStyleModel",
      "state": {
       "description_width": ""
      }
     },
     "a9016fb338bc4391bd7b62e2c8201e65": {
      "model_module": "@jupyter-widgets/base",
      "model_module_version": "1.1.0",
      "model_name": "LayoutModel",
      "state": {}
     },
     "a92d8f5b011f4317aae4ea2e903e6cb2": {
      "model_module": "@jupyter-widgets/controls",
      "model_module_version": "1.4.0",
      "model_name": "HTMLModel",
      "state": {
       "layout": "IPY_MODEL_2faacef9dad74222b33c3552e9864db1",
       "style": "IPY_MODEL_6aa5280c9f46456d923f5bb6518adc7b",
       "value": "<h4 style=\"font-size:14px;\">Nach welchem Kriterium wird beim Parsen mit dem InsideChartParser (= <i>Lowest-Cost-First</i>-Strategie) die <i>edge queue</i> sortiert?</h4>"
      }
     },
     "a934ba7d45fe468ba6f77bdfdc85393f": {
      "model_module": "@jupyter-widgets/base",
      "model_module_version": "1.1.0",
      "model_name": "LayoutModel",
      "state": {
       "justify_content": "center"
      }
     },
     "a9569f25d83044a3993f73219d3f3418": {
      "model_module": "@jupyter-widgets/base",
      "model_module_version": "1.1.0",
      "model_name": "LayoutModel",
      "state": {}
     },
     "a9847f8d19e1473994bbce927f5ba0b2": {
      "model_module": "@jupyter-widgets/base",
      "model_module_version": "1.1.0",
      "model_name": "LayoutModel",
      "state": {
       "width": "250px"
      }
     },
     "a9856c176c3e427b90c345af23721642": {
      "model_module": "@jupyter-widgets/base",
      "model_module_version": "1.1.0",
      "model_name": "LayoutModel",
      "state": {}
     },
     "a985823f122549d5bd9e1172f24b0637": {
      "model_module": "@jupyter-widgets/base",
      "model_module_version": "1.1.0",
      "model_name": "LayoutModel",
      "state": {
       "width": "600px"
      }
     },
     "a991f83b9bb94840b205b61054f1e386": {
      "model_module": "@jupyter-widgets/controls",
      "model_module_version": "1.4.0",
      "model_name": "VBoxModel",
      "state": {
       "children": [
        "IPY_MODEL_f429d0dfdf7c4a8aa6e079e3a42594f2",
        "IPY_MODEL_73f05f9c2e064d6d809cb0869078c9f2",
        "IPY_MODEL_bfb723be133147bfa3655ad1184ccfae",
        "IPY_MODEL_188f611bf8b14a1bbace95cd2401fe7e"
       ],
       "layout": "IPY_MODEL_bdc9a9eb1b9242f18367c691e4608c8f"
      }
     },
     "a996802e4cf04bafa3e30a2c288a042e": {
      "model_module": "@jupyter-widgets/controls",
      "model_module_version": "1.4.0",
      "model_name": "DescriptionStyleModel",
      "state": {
       "description_width": "initial"
      }
     },
     "a9dda5463937411b9eb45bfe4536719a": {
      "model_module": "@jupyter-widgets/base",
      "model_module_version": "1.1.0",
      "model_name": "LayoutModel",
      "state": {
       "width": "250px"
      }
     },
     "aa10f720e80847b8bd75f17211b0a368": {
      "model_module": "@jupyter-widgets/base",
      "model_module_version": "1.1.0",
      "model_name": "LayoutModel",
      "state": {
       "width": "250px"
      }
     },
     "aa1b74eb6ce044b99e4c721e4256915f": {
      "model_module": "@jupyter-widgets/controls",
      "model_module_version": "1.4.0",
      "model_name": "ButtonStyleModel",
      "state": {
       "button_color": "lightgreen"
      }
     },
     "aa66084456084b9890e197b5127640a7": {
      "model_module": "@jupyter-widgets/controls",
      "model_module_version": "1.4.0",
      "model_name": "HBoxModel",
      "state": {
       "children": [
        "IPY_MODEL_c7ce7f95dc4c410e96883f82800a5647",
        "IPY_MODEL_70c0cb53ae20499fb6aa09a10831353b"
       ],
       "layout": "IPY_MODEL_560e404b0d8145a88474b44ee04a46fd"
      }
     },
     "aa87792dd2ac4e55966c1314c011366d": {
      "model_module": "@jupyter-widgets/controls",
      "model_module_version": "1.4.0",
      "model_name": "ButtonModel",
      "state": {
       "description": "Lösung zeigen",
       "layout": "IPY_MODEL_13f70d5d21ac4ffc93a1efda0ec0d8e9",
       "style": "IPY_MODEL_df29f2d37677491aaa2c09520a6ad379"
      }
     },
     "aab40b3b94af427d8ac33a9d2fd2feef": {
      "model_module": "@jupyter-widgets/controls",
      "model_module_version": "1.4.0",
      "model_name": "ButtonStyleModel",
      "state": {
       "button_color": "lightgreen"
      }
     },
     "aabc1150054640cfae67ffa3f52247ed": {
      "model_module": "@jupyter-widgets/controls",
      "model_module_version": "1.4.0",
      "model_name": "ButtonModel",
      "state": {
       "description": "nach der Wahrscheinlichkeit",
       "layout": "IPY_MODEL_0e1302f5a5a54151b4cc00043d3d974e",
       "style": "IPY_MODEL_0e7140c654bc4c73867bb0d1f0eb6a8a"
      }
     },
     "aaf17b48996449d29d95879a4a7f5b87": {
      "model_module": "@jupyter-widgets/base",
      "model_module_version": "1.1.0",
      "model_name": "LayoutModel",
      "state": {
       "justify_content": "center"
      }
     },
     "ab24c980a6394b4da17557daee130bd5": {
      "model_module": "@jupyter-widgets/controls",
      "model_module_version": "1.4.0",
      "model_name": "DescriptionStyleModel",
      "state": {
       "description_width": ""
      }
     },
     "ab4c06f7e36a42b482d79a05442afafa": {
      "model_module": "@jupyter-widgets/base",
      "model_module_version": "1.1.0",
      "model_name": "LayoutModel",
      "state": {}
     },
     "abc2890e8c834fea915a4c559c5e652b": {
      "model_module": "@jupyter-widgets/base",
      "model_module_version": "1.1.0",
      "model_name": "LayoutModel",
      "state": {
       "justify_content": "center"
      }
     },
     "abcf382851054ccf8afb4f27170b4426": {
      "model_module": "@jupyter-widgets/controls",
      "model_module_version": "1.4.0",
      "model_name": "HBoxModel",
      "state": {
       "children": [
        "IPY_MODEL_6ae7c671065d4cac8e3637e6b0945f89"
       ],
       "layout": "IPY_MODEL_0e441ea7a49b497faf8f48b9b824c6cb"
      }
     },
     "abd1c00983fb43d0913dd5305289c7bf": {
      "model_module": "@jupyter-widgets/controls",
      "model_module_version": "1.4.0",
      "model_name": "ButtonStyleModel",
      "state": {}
     },
     "abf4b46f2f514ae4aade586f9ba43cc9": {
      "model_module": "@jupyter-widgets/base",
      "model_module_version": "1.1.0",
      "model_name": "LayoutModel",
      "state": {}
     },
     "abfae0d10bc443188ded659e64a85b6d": {
      "model_module": "@jupyter-widgets/base",
      "model_module_version": "1.1.0",
      "model_name": "LayoutModel",
      "state": {
       "width": "250px"
      }
     },
     "ac2a43f644034e88b2a152c567f61dbb": {
      "model_module": "@jupyter-widgets/controls",
      "model_module_version": "1.4.0",
      "model_name": "HTMLModel",
      "state": {
       "layout": "IPY_MODEL_4d48da6e42b74e3da4db1726b852bae6",
       "style": "IPY_MODEL_22791d93b54f424484b43cb6babf4829",
       "value": "<h4 style=\"font-size:14px;\">Nach welchem Kriterium wird beim Parsen mit dem InsideChartParser (= <i>Lowest-Cost-First</i>-Strategie) die <i>edge queue</i> sortiert?</h4>"
      }
     },
     "ac96da4d5ea947cb9a429a735bdeb5a1": {
      "model_module": "@jupyter-widgets/base",
      "model_module_version": "1.1.0",
      "model_name": "LayoutModel",
      "state": {}
     },
     "acb254313bfe48d298d5cb6d1e4a6701": {
      "model_module": "@jupyter-widgets/controls",
      "model_module_version": "1.4.0",
      "model_name": "HBoxModel",
      "state": {
       "children": [
        "IPY_MODEL_11f895f9e2a14eaf9d2e0d4372850f02",
        "IPY_MODEL_76b14aa4783944cc841b60b4bfc2efd6"
       ],
       "layout": "IPY_MODEL_14381eec7a7446a9a16683abe55aec9c"
      }
     },
     "acd451cc0aa74ed598ec4441690a8684": {
      "model_module": "@jupyter-widgets/controls",
      "model_module_version": "1.4.0",
      "model_name": "ButtonStyleModel",
      "state": {}
     },
     "acdb95f7e99e4fa895a745d9a2589c4e": {
      "model_module": "@jupyter-widgets/controls",
      "model_module_version": "1.4.0",
      "model_name": "ButtonStyleModel",
      "state": {}
     },
     "ad06daa86b5547c5b17579a1a322147f": {
      "model_module": "@jupyter-widgets/controls",
      "model_module_version": "1.4.0",
      "model_name": "VBoxModel",
      "state": {
       "children": [
        "IPY_MODEL_1ee46cea37db41b69a26083bf34d4495",
        "IPY_MODEL_fd7fbc7c43454fd4bd77cf9034c4d4fb",
        "IPY_MODEL_6abbde6c08094f46a390bac2ef26e788"
       ],
       "layout": "IPY_MODEL_1db23b4e5d39479da2986cfc166c90fe"
      }
     },
     "ad1c5154ee4d419db23e42bccaac0724": {
      "model_module": "@jupyter-widgets/base",
      "model_module_version": "1.1.0",
      "model_name": "LayoutModel",
      "state": {
       "width": "600px"
      }
     },
     "ad8b6173355d4e0c98f5b3c58c1aa2eb": {
      "model_module": "@jupyter-widgets/base",
      "model_module_version": "1.1.0",
      "model_name": "LayoutModel",
      "state": {
       "width": "250px"
      }
     },
     "ada514b2b9f24bda88e70cda51d71e1f": {
      "model_module": "@jupyter-widgets/base",
      "model_module_version": "1.1.0",
      "model_name": "LayoutModel",
      "state": {
       "width": "250px"
      }
     },
     "ae13c72c739a42039f28c62c19192165": {
      "model_module": "@jupyter-widgets/base",
      "model_module_version": "1.1.0",
      "model_name": "LayoutModel",
      "state": {
       "width": "250px"
      }
     },
     "ae384f860a8349629cfd1faef4a0cb8b": {
      "model_module": "@jupyter-widgets/base",
      "model_module_version": "1.1.0",
      "model_name": "LayoutModel",
      "state": {
       "width": "250px"
      }
     },
     "ae5f58b703ef41b282fce806d2d8a5c2": {
      "model_module": "@jupyter-widgets/controls",
      "model_module_version": "1.4.0",
      "model_name": "ButtonStyleModel",
      "state": {}
     },
     "ae796fd295c94e40b50fb868821458bd": {
      "model_module": "@jupyter-widgets/controls",
      "model_module_version": "1.4.0",
      "model_name": "DescriptionStyleModel",
      "state": {
       "description_width": ""
      }
     },
     "aed1454ad38b48a7a2650e585c044005": {
      "model_module": "@jupyter-widgets/controls",
      "model_module_version": "1.4.0",
      "model_name": "DescriptionStyleModel",
      "state": {
       "description_width": ""
      }
     },
     "aed8b62664434f97b9a03e6d942f2907": {
      "model_module": "@jupyter-widgets/controls",
      "model_module_version": "1.4.0",
      "model_name": "VBoxModel",
      "state": {
       "children": [
        "IPY_MODEL_968c2f8ab61c4e1d879a20cee34412b0",
        "IPY_MODEL_0abd5019d7354b0d93a54f5f9c3cd500",
        "IPY_MODEL_b7595392f2b4468fbe974a4845ac938f",
        "IPY_MODEL_550b02d542974619ad9cf3a0a502c59e"
       ],
       "layout": "IPY_MODEL_5a04f27889c944fa82c7405e42c05d16"
      }
     },
     "aee2a6ed2577443e890defdae4d3095b": {
      "model_module": "@jupyter-widgets/base",
      "model_module_version": "1.1.0",
      "model_name": "LayoutModel",
      "state": {}
     },
     "af00faf0d7514e13aea4607e4d4a560c": {
      "model_module": "@jupyter-widgets/base",
      "model_module_version": "1.1.0",
      "model_name": "LayoutModel",
      "state": {
       "width": "600px"
      }
     },
     "af1b77d0565446918d972935a7250e12": {
      "model_module": "@jupyter-widgets/controls",
      "model_module_version": "1.4.0",
      "model_name": "ButtonModel",
      "state": {
       "description": "OK",
       "layout": "IPY_MODEL_d5954bad248a4164a9f4c87a35913ef4",
       "style": "IPY_MODEL_45c7091177664512a9b9f60d7bfecf77"
      }
     },
     "af438000bf99453e9f13a9dc5527b5d1": {
      "model_module": "@jupyter-widgets/controls",
      "model_module_version": "1.4.0",
      "model_name": "DescriptionStyleModel",
      "state": {
       "description_width": ""
      }
     },
     "af6582f9c80e4c7d8aea3b7690c47453": {
      "model_module": "@jupyter-widgets/base",
      "model_module_version": "1.1.0",
      "model_name": "LayoutModel",
      "state": {}
     },
     "af76635ad7b9432bbcd1eae3aad4f45a": {
      "model_module": "@jupyter-widgets/base",
      "model_module_version": "1.1.0",
      "model_name": "LayoutModel",
      "state": {}
     },
     "af9bc9e1d9884d42b5e143d3c720d95b": {
      "model_module": "@jupyter-widgets/base",
      "model_module_version": "1.1.0",
      "model_name": "LayoutModel",
      "state": {}
     },
     "afc93bd9f6f840fabd0afbf59dbe815c": {
      "model_module": "@jupyter-widgets/base",
      "model_module_version": "1.1.0",
      "model_name": "LayoutModel",
      "state": {
       "width": "250px"
      }
     },
     "aff12dea84c24583847c74a2752063a5": {
      "model_module": "@jupyter-widgets/controls",
      "model_module_version": "1.4.0",
      "model_name": "CheckboxModel",
      "state": {
       "description": "Die Summe aller Regelwahrscheinlichkeiten für jede RHS ist jeweils 1.",
       "disabled": false,
       "layout": "IPY_MODEL_385f6b12e8f6485dbf614ed797c92ad9",
       "style": "IPY_MODEL_73f5655544f843c19252f04846346b04",
       "value": false
      }
     },
     "b0112959ef994e5c8959b41c41c7ceaf": {
      "model_module": "@jupyter-widgets/controls",
      "model_module_version": "1.4.0",
      "model_name": "HTMLModel",
      "state": {
       "layout": "IPY_MODEL_32b25cf012234ffab8d092e07cd16441",
       "style": "IPY_MODEL_ae796fd295c94e40b50fb868821458bd",
       "value": "<h4 style=\"font-size:14px;\">Um welche Art der Ambiguität handelt es sich bei den beiden gefundenen Ableitungen?</h4>"
      }
     },
     "b022a2a11d21411bbbe57b78bc2cee7c": {
      "model_module": "@jupyter-widgets/controls",
      "model_module_version": "1.4.0",
      "model_name": "DescriptionStyleModel",
      "state": {
       "description_width": ""
      }
     },
     "b034b0b41375482b9c12575e42f01829": {
      "model_module": "@jupyter-widgets/base",
      "model_module_version": "1.1.0",
      "model_name": "LayoutModel",
      "state": {
       "justify_content": "center"
      }
     },
     "b035d50c804a49f7a6aae117f3de69ec": {
      "model_module": "@jupyter-widgets/controls",
      "model_module_version": "1.4.0",
      "model_name": "HBoxModel",
      "state": {
       "children": [
        "IPY_MODEL_1546f5017b6441bab7d83f51645c56e6"
       ],
       "layout": "IPY_MODEL_4a1e0ddd8de54144b7e73b5377a9d230"
      }
     },
     "b0526eaf2a7044599cb2881b4f2e3263": {
      "model_module": "@jupyter-widgets/base",
      "model_module_version": "1.1.0",
      "model_name": "LayoutModel",
      "state": {}
     },
     "b0641f0124824b5caefd0431a937c505": {
      "model_module": "@jupyter-widgets/controls",
      "model_module_version": "1.4.0",
      "model_name": "HTMLModel",
      "state": {
       "layout": "IPY_MODEL_b15bd28e95fa48f2b7c70f99224b7c53",
       "style": "IPY_MODEL_f2adea5104af459c8e95ab9f90b62829",
       "value": "<i>Wählen Sie die <ins>eine</ins> korrekte Antwort aus: </i>"
      }
     },
     "b08874947810421e9a434fc426c1156b": {
      "model_module": "@jupyter-widgets/base",
      "model_module_version": "1.1.0",
      "model_name": "LayoutModel",
      "state": {
       "width": "600px"
      }
     },
     "b0b63ce670064796a3307bf31559f6a2": {
      "model_module": "@jupyter-widgets/base",
      "model_module_version": "1.1.0",
      "model_name": "LayoutModel",
      "state": {
       "width": "600px"
      }
     },
     "b0c5e7da53af447dbace9087aee960e5": {
      "model_module": "@jupyter-widgets/base",
      "model_module_version": "1.1.0",
      "model_name": "LayoutModel",
      "state": {}
     },
     "b0d9dc70cc3841e3b0830e0466a8d4e9": {
      "model_module": "@jupyter-widgets/controls",
      "model_module_version": "1.4.0",
      "model_name": "DescriptionStyleModel",
      "state": {
       "description_width": ""
      }
     },
     "b0e0bddae47d45c2bea443f65f98398e": {
      "model_module": "@jupyter-widgets/controls",
      "model_module_version": "1.4.0",
      "model_name": "ButtonStyleModel",
      "state": {}
     },
     "b11d563991a249ff899eedcdf13e0cf8": {
      "model_module": "@jupyter-widgets/controls",
      "model_module_version": "1.4.0",
      "model_name": "VBoxModel",
      "state": {
       "children": [
        "IPY_MODEL_f4de6fe237864893ba4d3a07f0f726d5",
        "IPY_MODEL_45378476865048a9a0f78f3abb4b2954",
        "IPY_MODEL_cf09543d99754c3e92fa9045bbbd46fc"
       ],
       "layout": "IPY_MODEL_1776ee5ca20b468da0e0bc1b8ee1e619"
      }
     },
     "b15bd28e95fa48f2b7c70f99224b7c53": {
      "model_module": "@jupyter-widgets/base",
      "model_module_version": "1.1.0",
      "model_name": "LayoutModel",
      "state": {
       "justify_content": "center"
      }
     },
     "b191d551104a4bceaf9b45ab9c209090": {
      "model_module": "@jupyter-widgets/controls",
      "model_module_version": "1.4.0",
      "model_name": "CheckboxModel",
      "state": {
       "description": "Finden aller Konstituenten",
       "disabled": false,
       "layout": "IPY_MODEL_b9d77961c40f48e9804fd5affa9404b2",
       "style": "IPY_MODEL_50ca206898354e099db789d0a065ba9a",
       "value": false
      }
     },
     "b1c2cc8e18464945b0e5fd06f2d1de4e": {
      "model_module": "@jupyter-widgets/controls",
      "model_module_version": "1.4.0",
      "model_name": "ButtonModel",
      "state": {
       "description": "Lösung zeigen",
       "layout": "IPY_MODEL_45a2dfd46397461bbe6ae2e3aa0a29a9",
       "style": "IPY_MODEL_e2b7ec9e833949ab9715eee777de6d00"
      }
     },
     "b1c6b8d2092448be9ad78cc8617e531b": {
      "model_module": "@jupyter-widgets/controls",
      "model_module_version": "1.4.0",
      "model_name": "ButtonModel",
      "state": {
       "description": "InsideChartParser",
       "layout": "IPY_MODEL_5575fad6687044b5890c6f42ff5ddf60",
       "style": "IPY_MODEL_3dd044ae602f4f1cb2ecb2e216eb3aed"
      }
     },
     "b218a688dd8b463d863cdd2a26cb81fd": {
      "model_module": "@jupyter-widgets/controls",
      "model_module_version": "1.4.0",
      "model_name": "CheckboxModel",
      "state": {
       "description": "Die Summe aller Regelwahrscheinlichkeiten innerhalb einer Grammatik ist 1.",
       "disabled": false,
       "layout": "IPY_MODEL_d10e3a3fd0c34389bf726bb12c5fe170",
       "style": "IPY_MODEL_d58d976eb09b4511bd39d0a2e2ba39b1",
       "value": false
      }
     },
     "b23a0a09637d45e8813b4743f8718465": {
      "model_module": "@jupyter-widgets/base",
      "model_module_version": "1.1.0",
      "model_name": "LayoutModel",
      "state": {}
     },
     "b289247a04914fe9bb2f9166c889cdc7": {
      "model_module": "@jupyter-widgets/base",
      "model_module_version": "1.1.0",
      "model_name": "LayoutModel",
      "state": {}
     },
     "b2996562c0464dd7b413678fc9bcf08d": {
      "model_module": "@jupyter-widgets/base",
      "model_module_version": "1.1.0",
      "model_name": "LayoutModel",
      "state": {}
     },
     "b2d441fe9be34e94a1333ec7bd6294ab": {
      "model_module": "@jupyter-widgets/base",
      "model_module_version": "1.1.0",
      "model_name": "LayoutModel",
      "state": {
       "justify_content": "center"
      }
     },
     "b2d69e378bf5403080a98f596be7434a": {
      "model_module": "@jupyter-widgets/base",
      "model_module_version": "1.1.0",
      "model_name": "LayoutModel",
      "state": {}
     },
     "b31d057637244739a330f640f13617ef": {
      "model_module": "@jupyter-widgets/base",
      "model_module_version": "1.1.0",
      "model_name": "LayoutModel",
      "state": {}
     },
     "b3684d6e3a634e7cabb5995bcbb1dd46": {
      "model_module": "@jupyter-widgets/base",
      "model_module_version": "1.1.0",
      "model_name": "LayoutModel",
      "state": {}
     },
     "b3aefb6cef9d4ae5a7ca567310e8cda1": {
      "model_module": "@jupyter-widgets/base",
      "model_module_version": "1.1.0",
      "model_name": "LayoutModel",
      "state": {
       "width": "600px"
      }
     },
     "b3bded598dc44c6b95998bf4ea46b9cc": {
      "model_module": "@jupyter-widgets/base",
      "model_module_version": "1.1.0",
      "model_name": "LayoutModel",
      "state": {}
     },
     "b41b30f9f78e40a9a0cb1a044f3a45eb": {
      "model_module": "@jupyter-widgets/controls",
      "model_module_version": "1.4.0",
      "model_name": "DescriptionStyleModel",
      "state": {
       "description_width": ""
      }
     },
     "b41be79b4cb5451a994e902cffb26535": {
      "model_module": "@jupyter-widgets/controls",
      "model_module_version": "1.4.0",
      "model_name": "ButtonStyleModel",
      "state": {}
     },
     "b462b28efd804782bdc6e1ad702da3ae": {
      "model_module": "@jupyter-widgets/controls",
      "model_module_version": "1.4.0",
      "model_name": "CheckboxModel",
      "state": {
       "description": "Bestimmung der Köpfe und Dependenzrelationen",
       "disabled": false,
       "layout": "IPY_MODEL_1cc7817fb8904ebf9dccf12328f311c5",
       "style": "IPY_MODEL_dec9b22bc1654ce88f250d36781f95e2",
       "value": false
      }
     },
     "b4651da42b204e84a89874a8d56cf7a6": {
      "model_module": "@jupyter-widgets/base",
      "model_module_version": "1.1.0",
      "model_name": "LayoutModel",
      "state": {}
     },
     "b467d95118da477db072e46c089f3e84": {
      "model_module": "@jupyter-widgets/controls",
      "model_module_version": "1.4.0",
      "model_name": "VBoxModel",
      "state": {
       "children": [
        "IPY_MODEL_73bdbb0aa6e341c197614890f1dfefa5",
        "IPY_MODEL_606a144f0f414f6186f0099ba6812b60",
        "IPY_MODEL_cc5c524b977a48acb135c0d2b4e4bc68",
        "IPY_MODEL_754d4668cac740708e8290bfaa60baab"
       ],
       "layout": "IPY_MODEL_bcf3481532ba4af68f404594497a8b7d"
      }
     },
     "b4ab65052fd74063be143e7c630d85ab": {
      "model_module": "@jupyter-widgets/controls",
      "model_module_version": "1.4.0",
      "model_name": "HBoxModel",
      "state": {
       "children": [
        "IPY_MODEL_e87817c0349d45e588e665831c1a990b"
       ],
       "layout": "IPY_MODEL_094ba89df7874ffe9c61e8658e69300c"
      }
     },
     "b4b5fd07c694437e8c962df22f9fce9e": {
      "model_module": "@jupyter-widgets/controls",
      "model_module_version": "1.4.0",
      "model_name": "HTMLModel",
      "state": {
       "layout": "IPY_MODEL_2d6bad6630ad474a886488c9bf5773f2",
       "style": "IPY_MODEL_143a35f115ba40dc89017baf6fa9f4bc",
       "value": "<h4 style=\"font-size:14px;\">Um welche Art der Ambiguität handelt es sich bei den beiden gefundenen Ableitungen?</h4>"
      }
     },
     "b4d244131a724083a939b7f57c7ef577": {
      "model_module": "@jupyter-widgets/controls",
      "model_module_version": "1.4.0",
      "model_name": "DescriptionStyleModel",
      "state": {
       "description_width": ""
      }
     },
     "b50d0203bd3b4d108e8517fa28823c77": {
      "model_module": "@jupyter-widgets/base",
      "model_module_version": "1.1.0",
      "model_name": "LayoutModel",
      "state": {}
     },
     "b5165ea14c004f4c8d91d94e58bbfd7a": {
      "model_module": "@jupyter-widgets/controls",
      "model_module_version": "1.4.0",
      "model_name": "HTMLModel",
      "state": {
       "layout": "IPY_MODEL_12befbc3018c4726baa0d21ca7529eeb",
       "style": "IPY_MODEL_3ef38b0821c946f583113295c9f5136f",
       "value": "<h4 style=\"font-size:14px;\">Um welche Art der Ambiguität handelt es sich hier?</h4>"
      }
     },
     "b5f8153232c745e18bea6f59257db012": {
      "model_module": "@jupyter-widgets/controls",
      "model_module_version": "1.4.0",
      "model_name": "ButtonStyleModel",
      "state": {}
     },
     "b60304dce7e846deac83eb39ff776372": {
      "model_module": "@jupyter-widgets/base",
      "model_module_version": "1.1.0",
      "model_name": "LayoutModel",
      "state": {}
     },
     "b603874ac93742c1857455d8a67a983f": {
      "model_module": "@jupyter-widgets/controls",
      "model_module_version": "1.4.0",
      "model_name": "ButtonStyleModel",
      "state": {}
     },
     "b60f914215b74b40a21dfd68162d047e": {
      "model_module": "@jupyter-widgets/controls",
      "model_module_version": "1.4.0",
      "model_name": "DescriptionStyleModel",
      "state": {
       "description_width": "initial"
      }
     },
     "b63289311a3041dd9ab4df402df6852a": {
      "model_module": "@jupyter-widgets/base",
      "model_module_version": "1.1.0",
      "model_name": "LayoutModel",
      "state": {}
     },
     "b63ae3bbb5824129bf587945e3e70eef": {
      "model_module": "@jupyter-widgets/base",
      "model_module_version": "1.1.0",
      "model_name": "LayoutModel",
      "state": {}
     },
     "b67ecf713dbd4a77abd69d5857d5aa3f": {
      "model_module": "@jupyter-widgets/controls",
      "model_module_version": "1.4.0",
      "model_name": "HTMLModel",
      "state": {
       "layout": "IPY_MODEL_d7fb9238aea04c858d454ff0e1a7dadb",
       "style": "IPY_MODEL_298c74aff0494ad794862bae2d052d96",
       "value": "<h4 style=\"font-size:14px;\">Um welchen Parser kann es sich nicht handeln?</h4>"
      }
     },
     "b692da844e374d2ca98dd48df5a3c8d8": {
      "model_module": "@jupyter-widgets/controls",
      "model_module_version": "1.4.0",
      "model_name": "ButtonModel",
      "state": {
       "description": "OK",
       "layout": "IPY_MODEL_270e2d392cbd46738351cf9ba5c5d781",
       "style": "IPY_MODEL_e779a0c56907499f9d29de5c908abc1a"
      }
     },
     "b69db299c80e4c4e805762ecba6ebe97": {
      "model_module": "@jupyter-widgets/controls",
      "model_module_version": "1.4.0",
      "model_name": "DescriptionStyleModel",
      "state": {
       "description_width": ""
      }
     },
     "b6dc6d6d0e9b40e9b3dab413cabc21dd": {
      "model_module": "@jupyter-widgets/controls",
      "model_module_version": "1.4.0",
      "model_name": "ButtonModel",
      "state": {
       "description": "Korrekt?",
       "layout": "IPY_MODEL_05b71e392488485597a5dcc5dc4a2cc5",
       "style": "IPY_MODEL_e7a97f9e851a47668a1482d7e47ba5d6"
      }
     },
     "b7002cd754a54f8197bc74121d160a0d": {
      "model_module": "@jupyter-widgets/base",
      "model_module_version": "1.1.0",
      "model_name": "LayoutModel",
      "state": {
       "border": "2px solid lightgreen"
      }
     },
     "b7059a56bf58434981fbab1f9431254f": {
      "model_module": "@jupyter-widgets/controls",
      "model_module_version": "1.4.0",
      "model_name": "VBoxModel",
      "state": {
       "children": [
        "IPY_MODEL_05945f03ee134f2696889abff6a3af9d",
        "IPY_MODEL_27e092aabf3544478b56497508b93aab",
        "IPY_MODEL_56515f5478bf4a5bbb66b2659fe7e045",
        "IPY_MODEL_0669878f92324028b370101672d228b5"
       ],
       "layout": "IPY_MODEL_fa2976d62d804d9aa55db3b254b51936"
      }
     },
     "b720efefae1942dfaa22cc7d5b2130ba": {
      "model_module": "@jupyter-widgets/controls",
      "model_module_version": "1.4.0",
      "model_name": "HBoxModel",
      "state": {
       "children": [
        "IPY_MODEL_2b8ebcf824d940708123d8df4e6088a1"
       ],
       "layout": "IPY_MODEL_6beaf3f106d24354845f172fce97e85a"
      }
     },
     "b749f85cf847499da4f643298b3fb679": {
      "model_module": "@jupyter-widgets/controls",
      "model_module_version": "1.4.0",
      "model_name": "CheckboxModel",
      "state": {
       "description": "Die Analysen sind mit der gegebenen Grammatik nicht möglich.",
       "disabled": false,
       "layout": "IPY_MODEL_3adb6bd2b4d046f6b629a558ccc78370",
       "style": "IPY_MODEL_d4e300f8546746a5b8b5dcfe281faa8a",
       "value": false
      }
     },
     "b7595392f2b4468fbe974a4845ac938f": {
      "model_module": "@jupyter-widgets/controls",
      "model_module_version": "1.4.0",
      "model_name": "CheckboxModel",
      "state": {
       "description": "Ihre Wahrscheinlichkeiten sind zu gering.",
       "disabled": false,
       "layout": "IPY_MODEL_e18bc13e70d24194ac7a4b5013486e75",
       "style": "IPY_MODEL_b848bfd1cba04e899d8ed247b0c57584",
       "value": false
      }
     },
     "b75b52669ac4492db4699ed89ce2f89d": {
      "model_module": "@jupyter-widgets/base",
      "model_module_version": "1.1.0",
      "model_name": "LayoutModel",
      "state": {
       "width": "600px"
      }
     },
     "b7affe77248e436e8ca3a6455a1e84c6": {
      "model_module": "@jupyter-widgets/controls",
      "model_module_version": "1.4.0",
      "model_name": "CheckboxModel",
      "state": {
       "description": "Die Summe aller Regelwahrscheinlichkeiten für jede RHS ist jeweils 1.",
       "disabled": false,
       "layout": "IPY_MODEL_2306da2910c6472280febca30e39fdc2",
       "style": "IPY_MODEL_d73c5ea00651482680ba0adfaf26dcca",
       "value": false
      }
     },
     "b7cc75ce11bc4a6da11b4bd8edd43951": {
      "model_module": "@jupyter-widgets/controls",
      "model_module_version": "1.4.0",
      "model_name": "TextModel",
      "state": {
       "disabled": true,
       "layout": "IPY_MODEL_0cf20bfbcfa04a48a3e88f73706a732b",
       "style": "IPY_MODEL_a80b10f139034011a7c6b1f1bcaae36b",
       "value": "0.000864"
      }
     },
     "b7cdc5e365cf4eeb8800ae42b34f850c": {
      "model_module": "@jupyter-widgets/base",
      "model_module_version": "1.1.0",
      "model_name": "LayoutModel",
      "state": {
       "width": "250px"
      }
     },
     "b7e837ab26854053bb6c165e4dfac4d7": {
      "model_module": "@jupyter-widgets/controls",
      "model_module_version": "1.4.0",
      "model_name": "DescriptionStyleModel",
      "state": {
       "description_width": ""
      }
     },
     "b7f822b3189d432c982607a63913fdff": {
      "model_module": "@jupyter-widgets/base",
      "model_module_version": "1.1.0",
      "model_name": "LayoutModel",
      "state": {}
     },
     "b80b39636a7c46beade1e63398d7a6a8": {
      "model_module": "@jupyter-widgets/controls",
      "model_module_version": "1.4.0",
      "model_name": "DescriptionStyleModel",
      "state": {
       "description_width": ""
      }
     },
     "b80eb0adf9264f628cff3945105e85f9": {
      "model_module": "@jupyter-widgets/base",
      "model_module_version": "1.1.0",
      "model_name": "LayoutModel",
      "state": {
       "width": "250px"
      }
     },
     "b819b8e343d240c8adbe20c24448dcb2": {
      "model_module": "@jupyter-widgets/controls",
      "model_module_version": "1.4.0",
      "model_name": "ButtonModel",
      "state": {
       "description": "Koordinationsambiguität",
       "layout": "IPY_MODEL_df0ca4345000438ea64c1b8ea4b34f1d",
       "style": "IPY_MODEL_3a419b9252cd412896f9ab313175fbee"
      }
     },
     "b848bfd1cba04e899d8ed247b0c57584": {
      "model_module": "@jupyter-widgets/controls",
      "model_module_version": "1.4.0",
      "model_name": "DescriptionStyleModel",
      "state": {
       "description_width": "initial"
      }
     },
     "b85b1252f33841a38c8f7ea0a96fc1e1": {
      "model_module": "@jupyter-widgets/controls",
      "model_module_version": "1.4.0",
      "model_name": "HTMLModel",
      "state": {
       "layout": "IPY_MODEL_60dc2163370542ef85a9942181d649a8",
       "style": "IPY_MODEL_edf662420f574d3a8840377c79e6ecba",
       "value": "<i>Wählen Sie die <ins>eine</ins> korrekte Antwort aus: </i>"
      }
     },
     "b86bca533be244259df4c3a6d6374557": {
      "model_module": "@jupyter-widgets/base",
      "model_module_version": "1.1.0",
      "model_name": "LayoutModel",
      "state": {}
     },
     "b87ca162c2bc484c8192936c4cdea955": {
      "model_module": "@jupyter-widgets/controls",
      "model_module_version": "1.4.0",
      "model_name": "DescriptionStyleModel",
      "state": {
       "description_width": ""
      }
     },
     "b87cf455e4bd4678857422199fc36851": {
      "model_module": "@jupyter-widgets/controls",
      "model_module_version": "1.4.0",
      "model_name": "DescriptionStyleModel",
      "state": {
       "description_width": "initial"
      }
     },
     "b8933da2afb540dfb376a311e7a78242": {
      "model_module": "@jupyter-widgets/controls",
      "model_module_version": "1.4.0",
      "model_name": "HTMLModel",
      "state": {
       "layout": "IPY_MODEL_224f82dc87704566a2f928471e06cb34",
       "style": "IPY_MODEL_3cc93837ebea45918f291783b217f51d",
       "value": "<h4 style=\"font-size:14px;\">Wie viele Ableitungen für die NP 'big cats and dogs' kann z. B. der InsideChartParser finden?</h4>"
      }
     },
     "b893f4a2e2bc4fd1b27121ba05904f30": {
      "model_module": "@jupyter-widgets/controls",
      "model_module_version": "1.4.0",
      "model_name": "VBoxModel",
      "state": {
       "children": [
        "IPY_MODEL_74bf2c89719740af9a1c204f5aad4ae2",
        "IPY_MODEL_6382d2dc6ab54b259fbbeaeac14cd9a2",
        "IPY_MODEL_0df048796cca432985403a98624efb66",
        "IPY_MODEL_4463dfe350df4278964e74e3ce6088ab"
       ],
       "layout": "IPY_MODEL_a865ea44238a472e9bf275b4b5e986cc"
      }
     },
     "b8ab706527b3423b96e3c8b5ffb01d0e": {
      "model_module": "@jupyter-widgets/base",
      "model_module_version": "1.1.0",
      "model_name": "LayoutModel",
      "state": {}
     },
     "b8b03fa5a86b4a878f80a5eedd268ede": {
      "model_module": "@jupyter-widgets/controls",
      "model_module_version": "1.4.0",
      "model_name": "HBoxModel",
      "state": {
       "children": [
        "IPY_MODEL_a7ebf4e971e44e1e9b70608ce31f59f8",
        "IPY_MODEL_b933a50ed46f40ebb2f40ed85a6245bb"
       ],
       "layout": "IPY_MODEL_282f92902c3543e0985dc87f424478ba"
      }
     },
     "b8be3dbb9567431cb1cad9da36279783": {
      "model_module": "@jupyter-widgets/base",
      "model_module_version": "1.1.0",
      "model_name": "LayoutModel",
      "state": {
       "width": "250px"
      }
     },
     "b8c323e6237c430cb1371dd3b1607d78": {
      "model_module": "@jupyter-widgets/controls",
      "model_module_version": "1.4.0",
      "model_name": "ButtonModel",
      "state": {
       "description": "nach der Wahrscheinlichkeit",
       "layout": "IPY_MODEL_312e806c20f2406c8b80fa02e0765495",
       "style": "IPY_MODEL_24169003440741669e304c508382a6fb"
      }
     },
     "b8e7b5b1c096485692df011de3a897e4": {
      "model_module": "@jupyter-widgets/controls",
      "model_module_version": "1.4.0",
      "model_name": "ButtonStyleModel",
      "state": {}
     },
     "b8f8a3f77f3f4424ae2cade9e5a1e322": {
      "model_module": "@jupyter-widgets/controls",
      "model_module_version": "1.4.0",
      "model_name": "VBoxModel",
      "state": {
       "children": [
        "IPY_MODEL_de417afc20144f6386f38c8737002376",
        "IPY_MODEL_a18ead1268214482b7c471c13a27f99e",
        "IPY_MODEL_feb5eb4deb1c41688358cb7dfab3caea",
        "IPY_MODEL_444f8528297942829a9c625c3c191b46"
       ],
       "layout": "IPY_MODEL_28748896123c4e709a7afe3111611fd2"
      }
     },
     "b933a50ed46f40ebb2f40ed85a6245bb": {
      "model_module": "@jupyter-widgets/controls",
      "model_module_version": "1.4.0",
      "model_name": "ButtonModel",
      "state": {
       "description": "InsideChartParser mit beam-size",
       "layout": "IPY_MODEL_f885167bd53649a68ac4cb39a90e1b8b",
       "style": "IPY_MODEL_e8c9e9bf8f1641729485c4d8460fb355"
      }
     },
     "b9d77961c40f48e9804fd5affa9404b2": {
      "model_module": "@jupyter-widgets/base",
      "model_module_version": "1.1.0",
      "model_name": "LayoutModel",
      "state": {
       "width": "600px"
      }
     },
     "b9d9c6f5c2c94c6d98234062f1d9d1da": {
      "model_module": "@jupyter-widgets/controls",
      "model_module_version": "1.4.0",
      "model_name": "CheckboxModel",
      "state": {
       "description": "Die Analysen sind mit der gegebenen Grammatik nicht möglich.",
       "disabled": false,
       "layout": "IPY_MODEL_733cfa3bf11d43b583210d483f0bff59",
       "style": "IPY_MODEL_7cf3e8f8cf224c12a5f0a583cfd4b764",
       "value": false
      }
     },
     "ba108aa45f8b444c9f75fe80b10e9f4d": {
      "model_module": "@jupyter-widgets/controls",
      "model_module_version": "1.4.0",
      "model_name": "VBoxModel",
      "state": {
       "children": [
        "IPY_MODEL_6998168d65c547b2a6ae762f9506a6fe",
        "IPY_MODEL_f63623b694cb447aa1acca65095c3dc3",
        "IPY_MODEL_849490e472734497b503e8fb88fcfce3",
        "IPY_MODEL_54cf8f27a39c4572bae750138a62dfa0"
       ],
       "layout": "IPY_MODEL_9780385c9d034cca9fd4e698ea266004"
      }
     },
     "ba1923b0ce4145e1a27c19296ee21016": {
      "model_module": "@jupyter-widgets/controls",
      "model_module_version": "1.4.0",
      "model_name": "DescriptionStyleModel",
      "state": {
       "description_width": ""
      }
     },
     "ba1e650f30024965926a328d6659ba88": {
      "model_module": "@jupyter-widgets/base",
      "model_module_version": "1.1.0",
      "model_name": "LayoutModel",
      "state": {
       "width": "600px"
      }
     },
     "ba2d316f9c55409cb5e8417ac778177c": {
      "model_module": "@jupyter-widgets/controls",
      "model_module_version": "1.4.0",
      "model_name": "VBoxModel",
      "state": {
       "children": [
        "IPY_MODEL_56698ee70cee48fea23cf42616f8d21c",
        "IPY_MODEL_d7273b1dada44cc8932f4b4c4527ee8e",
        "IPY_MODEL_e35a5fda7cca4194b95b00f2a567db93",
        "IPY_MODEL_a31544d2024d47b48b2e4239e551688f"
       ],
       "layout": "IPY_MODEL_e7afe789ca7745ce84e11e5e05f92b42"
      }
     },
     "ba47a227330e4f79b6ffaf986be39545": {
      "model_module": "@jupyter-widgets/controls",
      "model_module_version": "1.4.0",
      "model_name": "DescriptionStyleModel",
      "state": {
       "description_width": "initial"
      }
     },
     "ba81562feade431488c754128c10348b": {
      "model_module": "@jupyter-widgets/controls",
      "model_module_version": "1.4.0",
      "model_name": "CheckboxModel",
      "state": {
       "description": "Die Summe aller Regelwahrscheinlichkeiten für jede RHS ist jeweils 1.",
       "disabled": false,
       "layout": "IPY_MODEL_e7577a2121bf4df287adcc610bf82353",
       "style": "IPY_MODEL_241e539cebbc4722bd585f6be5dc8e9c",
       "value": false
      }
     },
     "ba9972d6cbb74e0fb68ba5b67ec95b92": {
      "model_module": "@jupyter-widgets/controls",
      "model_module_version": "1.4.0",
      "model_name": "DescriptionStyleModel",
      "state": {
       "description_width": ""
      }
     },
     "bad79caaee0c4fdca69b56583c5e5fa1": {
      "model_module": "@jupyter-widgets/base",
      "model_module_version": "1.1.0",
      "model_name": "LayoutModel",
      "state": {}
     },
     "badf0d2d31b142b69f2fca85a257d9c9": {
      "model_module": "@jupyter-widgets/controls",
      "model_module_version": "1.4.0",
      "model_name": "DescriptionStyleModel",
      "state": {
       "description_width": ""
      }
     },
     "bb2bb11cecb64e71916b41545284404b": {
      "model_module": "@jupyter-widgets/controls",
      "model_module_version": "1.4.0",
      "model_name": "ButtonModel",
      "state": {
       "description": "nach der beam-size",
       "layout": "IPY_MODEL_2e49f2792e1b4180b79c2d6747c55e58",
       "style": "IPY_MODEL_b603874ac93742c1857455d8a67a983f"
      }
     },
     "bb4126316cc640eabed27f415d47dfbe": {
      "model_module": "@jupyter-widgets/controls",
      "model_module_version": "1.4.0",
      "model_name": "HTMLModel",
      "state": {
       "layout": "IPY_MODEL_5d435152e00b4eb49eb183075b1ca8d5",
       "style": "IPY_MODEL_145e095008fd41afae99554ca6d01b54",
       "value": "<h4 style=\"font-size:14px;\">Wie viele Ableitungen für die NP 'big cats and dogs' kann z. B. der `InsideChartParser` finden?</h4>"
      }
     },
     "bb6842d5074445f88254114c6a3e9db2": {
      "model_module": "@jupyter-widgets/base",
      "model_module_version": "1.1.0",
      "model_name": "LayoutModel",
      "state": {}
     },
     "bbbc7b4b5b6e4abb9dafc02560bcbaf3": {
      "model_module": "@jupyter-widgets/controls",
      "model_module_version": "1.4.0",
      "model_name": "ButtonModel",
      "state": {
       "description": "Temporale Ambiguität",
       "layout": "IPY_MODEL_8df606392940424592605773151f5e3a",
       "style": "IPY_MODEL_4c10495b335e477e8000974f7e409fe0"
      }
     },
     "bc22cb8a287f47c794e30b3cd7fc9b94": {
      "model_module": "@jupyter-widgets/controls",
      "model_module_version": "1.4.0",
      "model_name": "HTMLModel",
      "state": {
       "layout": "IPY_MODEL_dcceba5ac92448b6baa3fcdaf2deab46",
       "style": "IPY_MODEL_a0d2b9b40623483b9d51cf954ee6b2c2",
       "value": "<h4 style=\"font-size:14px;\">Welche der folgenden Bedingungen wird an eine PCFG gestellt?</h4>"
      }
     },
     "bc32b2a5b37344d8bc27dea62b8e8b56": {
      "model_module": "@jupyter-widgets/base",
      "model_module_version": "1.1.0",
      "model_name": "LayoutModel",
      "state": {
       "width": "250px"
      }
     },
     "bc489b6e76724b6a959722251a156e69": {
      "model_module": "@jupyter-widgets/controls",
      "model_module_version": "1.4.0",
      "model_name": "ButtonStyleModel",
      "state": {}
     },
     "bc555328714d4e24bc5fe8a388353d79": {
      "model_module": "@jupyter-widgets/controls",
      "model_module_version": "1.4.0",
      "model_name": "ButtonStyleModel",
      "state": {}
     },
     "bcd075c5da3f4cf78e5aee2826fb7ea6": {
      "model_module": "@jupyter-widgets/base",
      "model_module_version": "1.1.0",
      "model_name": "LayoutModel",
      "state": {
       "width": "600px"
      }
     },
     "bcf3481532ba4af68f404594497a8b7d": {
      "model_module": "@jupyter-widgets/base",
      "model_module_version": "1.1.0",
      "model_name": "LayoutModel",
      "state": {}
     },
     "bd0a884f4c6f4bb5967805c96844b0ea": {
      "model_module": "@jupyter-widgets/controls",
      "model_module_version": "1.4.0",
      "model_name": "DescriptionStyleModel",
      "state": {
       "description_width": "initial"
      }
     },
     "bd19f9e55f1546a9a3cb98343ac7aac4": {
      "model_module": "@jupyter-widgets/base",
      "model_module_version": "1.1.0",
      "model_name": "LayoutModel",
      "state": {}
     },
     "bd21021079454674ac00a5ac2218cd58": {
      "model_module": "@jupyter-widgets/base",
      "model_module_version": "1.1.0",
      "model_name": "LayoutModel",
      "state": {
       "width": "600px"
      }
     },
     "bd8777d697804133a6733a3891417fea": {
      "model_module": "@jupyter-widgets/controls",
      "model_module_version": "1.4.0",
      "model_name": "TextModel",
      "state": {
       "layout": "IPY_MODEL_c6030a6c0f8e458e93247d5d3d07e574",
       "style": "IPY_MODEL_43fec4a52b9b45728a3d0190626f8d90"
      }
     },
     "bdbad94c40744483a622a2a6f386b7ef": {
      "model_module": "@jupyter-widgets/controls",
      "model_module_version": "1.4.0",
      "model_name": "ButtonStyleModel",
      "state": {}
     },
     "bdc9a9eb1b9242f18367c691e4608c8f": {
      "model_module": "@jupyter-widgets/base",
      "model_module_version": "1.1.0",
      "model_name": "LayoutModel",
      "state": {}
     },
     "bdcb43472d514813b8a73aec097673a3": {
      "model_module": "@jupyter-widgets/base",
      "model_module_version": "1.1.0",
      "model_name": "LayoutModel",
      "state": {}
     },
     "be31e543da8e4c1e8d04456add89b633": {
      "model_module": "@jupyter-widgets/controls",
      "model_module_version": "1.4.0",
      "model_name": "ButtonModel",
      "state": {
       "description": "nach der Länge der Ableitung",
       "layout": "IPY_MODEL_28d257c2bc784d858fd0373d2ca73b34",
       "style": "IPY_MODEL_fbb55d5eb81449248bba75f38c338e35"
      }
     },
     "be6001b060a24a02a7c333f25db9cbaa": {
      "model_module": "@jupyter-widgets/base",
      "model_module_version": "1.1.0",
      "model_name": "LayoutModel",
      "state": {}
     },
     "be86d8ce4d94481d9e7e4c7b84d941bd": {
      "model_module": "@jupyter-widgets/base",
      "model_module_version": "1.1.0",
      "model_name": "LayoutModel",
      "state": {
       "width": "600px"
      }
     },
     "becbce86d8b143f5bd2f78083f0fb34d": {
      "model_module": "@jupyter-widgets/controls",
      "model_module_version": "1.4.0",
      "model_name": "VBoxModel",
      "state": {
       "children": [
        "IPY_MODEL_2932f01345724647b836193ca0f3e1da",
        "IPY_MODEL_f117a0198e564052a5854fb35340fd2a",
        "IPY_MODEL_f6bc55fbd0df44968c7f4b44df9b3c93",
        "IPY_MODEL_f10c5fd27c99400094289870de16ff5d"
       ],
       "layout": "IPY_MODEL_c813ce918a444ba5888fe715bf34c89b"
      }
     },
     "bedaada240d243c097c5fddcf6fbad4a": {
      "model_module": "@jupyter-widgets/controls",
      "model_module_version": "1.4.0",
      "model_name": "DescriptionStyleModel",
      "state": {
       "description_width": ""
      }
     },
     "bedcc3711d184bf8b0e9b248f41a3f4e": {
      "model_module": "@jupyter-widgets/controls",
      "model_module_version": "1.4.0",
      "model_name": "ButtonModel",
      "state": {
       "description": "ViterbiParser",
       "layout": "IPY_MODEL_0773207b8fc44f2ebc4925ec17668f69",
       "style": "IPY_MODEL_445a55fab1e64aed9863ea6b4aa9ea8e"
      }
     },
     "beee1d9f6582426fbe9423aa1edf236a": {
      "model_module": "@jupyter-widgets/base",
      "model_module_version": "1.1.0",
      "model_name": "LayoutModel",
      "state": {
       "width": "250px"
      }
     },
     "bf146748e39f4e829722d63a9f2f5d60": {
      "model_module": "@jupyter-widgets/base",
      "model_module_version": "1.1.0",
      "model_name": "LayoutModel",
      "state": {}
     },
     "bf54ba2657e743c18f3bbfe89ac15799": {
      "model_module": "@jupyter-widgets/base",
      "model_module_version": "1.1.0",
      "model_name": "LayoutModel",
      "state": {
       "width": "250px"
      }
     },
     "bf55bceaaad9438284b59b0e106c1103": {
      "model_module": "@jupyter-widgets/controls",
      "model_module_version": "1.4.0",
      "model_name": "DescriptionStyleModel",
      "state": {
       "description_width": ""
      }
     },
     "bfb723be133147bfa3655ad1184ccfae": {
      "model_module": "@jupyter-widgets/controls",
      "model_module_version": "1.4.0",
      "model_name": "VBoxModel",
      "state": {
       "children": [
        "IPY_MODEL_a2bcee1f60574e46a7756e70345d32f3",
        "IPY_MODEL_2dfbd8b7e3ae4c48b5a1f6564dc35ad4",
        "IPY_MODEL_6f89c637af8449fe913a7aeda2954466"
       ],
       "layout": "IPY_MODEL_b63289311a3041dd9ab4df402df6852a"
      }
     },
     "bfba32a962a24440a98b18e571c2e2b4": {
      "model_module": "@jupyter-widgets/controls",
      "model_module_version": "1.4.0",
      "model_name": "HBoxModel",
      "state": {
       "children": [
        "IPY_MODEL_5d532a6563ed4197bd24dea4301c56e1"
       ],
       "layout": "IPY_MODEL_3f4d60b010264f72999b40949ebf8fb6"
      }
     },
     "c04d3fcf83044efb8e05d10b2da49ead": {
      "model_module": "@jupyter-widgets/base",
      "model_module_version": "1.1.0",
      "model_name": "LayoutModel",
      "state": {}
     },
     "c062713b88ba4c678cbd25b49dd888ba": {
      "model_module": "@jupyter-widgets/base",
      "model_module_version": "1.1.0",
      "model_name": "LayoutModel",
      "state": {}
     },
     "c06dc825e2ec4c32881e2e34a6ed5c64": {
      "model_module": "@jupyter-widgets/controls",
      "model_module_version": "1.4.0",
      "model_name": "HTMLModel",
      "state": {
       "layout": "IPY_MODEL_60fe474ac35144e88fc963defba0894a",
       "style": "IPY_MODEL_37e544d24d234224a35a937dc56ff301",
       "value": "<h4 style=\"font-size:14px;\">Was ist die Aufgabe des Viterbi-Algorithmus?</h4>"
      }
     },
     "c097199cb54848a3a183429472277299": {
      "model_module": "@jupyter-widgets/controls",
      "model_module_version": "1.4.0",
      "model_name": "HTMLModel",
      "state": {
       "layout": "IPY_MODEL_e0ce7df68cc44e499bb256e4696cbb75",
       "style": "IPY_MODEL_f7ff9b5400a947c581a646fd5e0ea45d",
       "value": "<h4 style=\"font-size:14px;\">Um welche Art der Ambiguität handelt es sich hier?</h4>"
      }
     },
     "c09f1693ea054e97bf4ae091ada851df": {
      "model_module": "@jupyter-widgets/base",
      "model_module_version": "1.1.0",
      "model_name": "LayoutModel",
      "state": {}
     },
     "c0a405f7f6904617b0e30a8d909e12d2": {
      "model_module": "@jupyter-widgets/controls",
      "model_module_version": "1.4.0",
      "model_name": "ButtonStyleModel",
      "state": {}
     },
     "c12a12d0d4544aebb462aa3ae6326fa0": {
      "model_module": "@jupyter-widgets/controls",
      "model_module_version": "1.4.0",
      "model_name": "DescriptionStyleModel",
      "state": {
       "description_width": ""
      }
     },
     "c135fcacff9c422fb5da91149081a577": {
      "model_module": "@jupyter-widgets/controls",
      "model_module_version": "1.4.0",
      "model_name": "DescriptionStyleModel",
      "state": {
       "description_width": "initial"
      }
     },
     "c15e17656dde4db8ae362334bc4655dc": {
      "model_module": "@jupyter-widgets/base",
      "model_module_version": "1.1.0",
      "model_name": "LayoutModel",
      "state": {}
     },
     "c1748e44dddd4426bf813899b3d53f58": {
      "model_module": "@jupyter-widgets/base",
      "model_module_version": "1.1.0",
      "model_name": "LayoutModel",
      "state": {}
     },
     "c17e3387bdda4fd389c3748ecd7e2b0b": {
      "model_module": "@jupyter-widgets/base",
      "model_module_version": "1.1.0",
      "model_name": "LayoutModel",
      "state": {
       "width": "600px"
      }
     },
     "c1847032aa3d47149723f63cddcada14": {
      "model_module": "@jupyter-widgets/controls",
      "model_module_version": "1.4.0",
      "model_name": "DescriptionStyleModel",
      "state": {
       "description_width": "initial"
      }
     },
     "c1be67421ed7498b89373eda1062218a": {
      "model_module": "@jupyter-widgets/base",
      "model_module_version": "1.1.0",
      "model_name": "LayoutModel",
      "state": {
       "width": "250px"
      }
     },
     "c1ebc56c9f164e3bb1b4cfb09a924e0d": {
      "model_module": "@jupyter-widgets/controls",
      "model_module_version": "1.4.0",
      "model_name": "HTMLModel",
      "state": {
       "layout": "IPY_MODEL_aaf17b48996449d29d95879a4a7f5b87",
       "style": "IPY_MODEL_e1f15fd4452747e9ba3e6e8d9189ecf3",
       "value": "<h4 style=\"font-size:14px;\">Um welche Art der Ambiguität handelt es sich bei den beiden gefundenen Ableitungen?</h4>"
      }
     },
     "c22288352d2d4b81b6896953220a901a": {
      "model_module": "@jupyter-widgets/controls",
      "model_module_version": "1.4.0",
      "model_name": "HTMLModel",
      "state": {
       "layout": "IPY_MODEL_ddd2c8cfe2854090835cb505802f789c",
       "style": "IPY_MODEL_ed731c4a51424a7784943f81ae594ff7",
       "value": "<i>Wählen Sie die <ins>eine</ins> korrekte Antwort aus: </i>"
      }
     },
     "c230cafb84454bbb93f8c2c96d961c64": {
      "model_module": "@jupyter-widgets/base",
      "model_module_version": "1.1.0",
      "model_name": "LayoutModel",
      "state": {
       "width": "250px"
      }
     },
     "c23a9ca3f58b4b569204ab2688cf8129": {
      "model_module": "@jupyter-widgets/controls",
      "model_module_version": "1.4.0",
      "model_name": "ButtonModel",
      "state": {
       "description": "Lösung zeigen",
       "layout": "IPY_MODEL_dc0aa178d2a14208ac88871e6318457e",
       "style": "IPY_MODEL_40a0c8df78524df3bdae340a2205cc6b"
      }
     },
     "c25319a83b89499dab369ca985efc31e": {
      "model_module": "@jupyter-widgets/base",
      "model_module_version": "1.1.0",
      "model_name": "LayoutModel",
      "state": {}
     },
     "c27427b65bbd4797b8406a36533b8bc1": {
      "model_module": "@jupyter-widgets/controls",
      "model_module_version": "1.4.0",
      "model_name": "VBoxModel",
      "state": {
       "children": [
        "IPY_MODEL_6b8968abcf0d4feeb119fe15dc4da730",
        "IPY_MODEL_1ac77f40978245038ac035f7de056374",
        "IPY_MODEL_a3491777c4374994b75476da99704bde",
        "IPY_MODEL_fd2e87a9135a4588a3d47b90d366f2c3"
       ],
       "layout": "IPY_MODEL_880b3527cc3f481da53f71db1fe9d212"
      }
     },
     "c2b9afb930e848db9bb0407ff71d9473": {
      "model_module": "@jupyter-widgets/controls",
      "model_module_version": "1.4.0",
      "model_name": "CheckboxModel",
      "state": {
       "description": "Die Summe aller Regelwahrscheinlichkeiten innerhalb einer Grammatik ist 1.",
       "disabled": false,
       "layout": "IPY_MODEL_d6854c133da141f29465c7334dcb024f",
       "style": "IPY_MODEL_4d6379c0a859417196d465375427053f",
       "value": false
      }
     },
     "c2e074c56d52471692f0c58c09d6ec13": {
      "model_module": "@jupyter-widgets/base",
      "model_module_version": "1.1.0",
      "model_name": "LayoutModel",
      "state": {
       "width": "600px"
      }
     },
     "c2e7a989bfb546669d861efa229b7439": {
      "model_module": "@jupyter-widgets/controls",
      "model_module_version": "1.4.0",
      "model_name": "DescriptionStyleModel",
      "state": {
       "description_width": "initial"
      }
     },
     "c3076b4f455a4e67b2552d2110ec717d": {
      "model_module": "@jupyter-widgets/base",
      "model_module_version": "1.1.0",
      "model_name": "LayoutModel",
      "state": {}
     },
     "c30a1f52c42a46eca96c7bda78f0c48d": {
      "model_module": "@jupyter-widgets/base",
      "model_module_version": "1.1.0",
      "model_name": "LayoutModel",
      "state": {
       "justify_content": "center"
      }
     },
     "c36e08ba6edb4cf7af6158164cd0c346": {
      "model_module": "@jupyter-widgets/controls",
      "model_module_version": "1.4.0",
      "model_name": "VBoxModel",
      "state": {
       "children": [
        "IPY_MODEL_db2872c2cddc42f39d69ffd275780a87",
        "IPY_MODEL_0dfde4ff4b3a4f6c8263114f8fd636cc",
        "IPY_MODEL_d52c5accd249439b99ac2021a4c25ef6"
       ],
       "layout": "IPY_MODEL_2b06f5c37353479e9c9ee0a6f482e66c"
      }
     },
     "c373928c2a464bbe9da7b291fe197360": {
      "model_module": "@jupyter-widgets/controls",
      "model_module_version": "1.4.0",
      "model_name": "ButtonStyleModel",
      "state": {}
     },
     "c37afeaafe4343a89c8040c5aae4cc90": {
      "model_module": "@jupyter-widgets/base",
      "model_module_version": "1.1.0",
      "model_name": "LayoutModel",
      "state": {
       "width": "250px"
      }
     },
     "c389252e767240e5b2538163cd70db6a": {
      "model_module": "@jupyter-widgets/base",
      "model_module_version": "1.1.0",
      "model_name": "LayoutModel",
      "state": {
       "justify_content": "center"
      }
     },
     "c3a7f75602d8453d8ce6ae6df6444cae": {
      "model_module": "@jupyter-widgets/controls",
      "model_module_version": "1.4.0",
      "model_name": "HTMLModel",
      "state": {
       "layout": "IPY_MODEL_e81aed89da5043b7b1b7790bdcf39379",
       "style": "IPY_MODEL_e15d124c363d4506ad65cb6a70b85935",
       "value": "<i>Wählen Sie die <ins>eine</ins> korrekte Antwort aus: </i>"
      }
     },
     "c3aeaf2530304898b16d809feaf8c329": {
      "model_module": "@jupyter-widgets/controls",
      "model_module_version": "1.4.0",
      "model_name": "ButtonStyleModel",
      "state": {}
     },
     "c3cd8ff2357a49ec8511b32b21abbd29": {
      "model_module": "@jupyter-widgets/base",
      "model_module_version": "1.1.0",
      "model_name": "LayoutModel",
      "state": {
       "width": "250px"
      }
     },
     "c410c0f0ff1b4fcc9d8d57f9abcf7d45": {
      "model_module": "@jupyter-widgets/controls",
      "model_module_version": "1.4.0",
      "model_name": "DescriptionStyleModel",
      "state": {
       "description_width": "initial"
      }
     },
     "c418603462e74f548ba7a0e405195b2c": {
      "model_module": "@jupyter-widgets/controls",
      "model_module_version": "1.4.0",
      "model_name": "ButtonStyleModel",
      "state": {}
     },
     "c469dc7134744403a30890a2677c0863": {
      "model_module": "@jupyter-widgets/controls",
      "model_module_version": "1.4.0",
      "model_name": "HTMLModel",
      "state": {
       "layout": "IPY_MODEL_6d8497e43da24c45942581a10bdfd317",
       "style": "IPY_MODEL_833d7b324ce84811b7c79c3bdf151014",
       "value": "<i>Geben Sie die korrekte Antwort ein: </i>"
      }
     },
     "c46cfff651594044b105a1d2ed534f94": {
      "model_module": "@jupyter-widgets/controls",
      "model_module_version": "1.4.0",
      "model_name": "HTMLModel",
      "state": {
       "layout": "IPY_MODEL_d11e10bda382471e96ffd7747d13ce49",
       "style": "IPY_MODEL_90ae2dda9f6b4ab4af448f8bf5f14497",
       "value": "<h4 style=\"font-size:14px;\">Um welche Art der Ambiguität handelt es sich bei den beiden gefundenen Ableitungen?</h4>"
      }
     },
     "c47326bec8e047ccbd20ec83b99026d5": {
      "model_module": "@jupyter-widgets/controls",
      "model_module_version": "1.4.0",
      "model_name": "VBoxModel",
      "state": {
       "children": [
        "IPY_MODEL_7e31b89c16584b668a457534facfe050",
        "IPY_MODEL_e92b2c4dc2f84477aca6af3756b1c8f7",
        "IPY_MODEL_d55a4191f4c644a8889954de4b9721bb",
        "IPY_MODEL_242aefe5a2b14a2e8af5fa02361abe09"
       ],
       "layout": "IPY_MODEL_d9b2973fb4ff4aa18a2d65a62f5dc21f"
      }
     },
     "c474b9c1e80c4119a4a057476a51e542": {
      "model_module": "@jupyter-widgets/base",
      "model_module_version": "1.1.0",
      "model_name": "LayoutModel",
      "state": {}
     },
     "c4bc9a68de584124bb4ee99e27df03ad": {
      "model_module": "@jupyter-widgets/controls",
      "model_module_version": "1.4.0",
      "model_name": "ButtonStyleModel",
      "state": {}
     },
     "c50889a6c1344febbe2f659fd56e2e59": {
      "model_module": "@jupyter-widgets/controls",
      "model_module_version": "1.4.0",
      "model_name": "DescriptionStyleModel",
      "state": {
       "description_width": ""
      }
     },
     "c56747037daf48bb82c85621c398ae83": {
      "model_module": "@jupyter-widgets/controls",
      "model_module_version": "1.4.0",
      "model_name": "ButtonModel",
      "state": {
       "description": "LongestChartParser",
       "layout": "IPY_MODEL_251b3cdae266476fa77eec4e6b14fb77",
       "style": "IPY_MODEL_5d7d08f3209f42b8980b3c221e2794c6"
      }
     },
     "c5d3fe93477e464fa02df4db59245fab": {
      "model_module": "@jupyter-widgets/base",
      "model_module_version": "1.1.0",
      "model_name": "LayoutModel",
      "state": {}
     },
     "c6030a6c0f8e458e93247d5d3d07e574": {
      "model_module": "@jupyter-widgets/base",
      "model_module_version": "1.1.0",
      "model_name": "LayoutModel",
      "state": {}
     },
     "c61aa23614254938b9af43b903c93741": {
      "model_module": "@jupyter-widgets/controls",
      "model_module_version": "1.4.0",
      "model_name": "HBoxModel",
      "state": {
       "children": [
        "IPY_MODEL_2e1a528c7da04ea8af5bb0f17d50c748",
        "IPY_MODEL_539301d8806b47e6b51dcaec278f1e32"
       ],
       "layout": "IPY_MODEL_fe07ab56ff8d49219af346646b6d119f"
      }
     },
     "c6343fd0e6374a128d90bd7883c6e6aa": {
      "model_module": "@jupyter-widgets/controls",
      "model_module_version": "1.4.0",
      "model_name": "VBoxModel",
      "state": {
       "children": [
        "IPY_MODEL_a92d8f5b011f4317aae4ea2e903e6cb2",
        "IPY_MODEL_799df88ca8774d2681ee1f68f17a9f72",
        "IPY_MODEL_318488a34de945339015bff8c51a0bcf",
        "IPY_MODEL_e7fe43fc9754463dbe0f27e57dfd78e8"
       ],
       "layout": "IPY_MODEL_48151eaaff5142ab9e2739f9cc87d1a1"
      }
     },
     "c66930f8ca1a4cc89c2e013fab1d4252": {
      "model_module": "@jupyter-widgets/controls",
      "model_module_version": "1.4.0",
      "model_name": "HTMLModel",
      "state": {
       "layout": "IPY_MODEL_300766038dcb400fbddc678463014d42",
       "style": "IPY_MODEL_d9fb624cf773406e9387bb67e558fb09",
       "value": "<h4 style=\"font-size:14px;\">Um welchen Parser kann es sich nicht handeln?</h4>"
      }
     },
     "c6730a020a674117942e5c4151c4690b": {
      "model_module": "@jupyter-widgets/base",
      "model_module_version": "1.1.0",
      "model_name": "LayoutModel",
      "state": {
       "width": "250px"
      }
     },
     "c6893239a5b944c980fdf82a581e3191": {
      "model_module": "@jupyter-widgets/controls",
      "model_module_version": "1.4.0",
      "model_name": "ButtonStyleModel",
      "state": {}
     },
     "c693c507a4d7437da46941dce72d66bd": {
      "model_module": "@jupyter-widgets/controls",
      "model_module_version": "1.4.0",
      "model_name": "DescriptionStyleModel",
      "state": {
       "description_width": "initial"
      }
     },
     "c6c559cdb92645c096da363b967709b1": {
      "model_module": "@jupyter-widgets/controls",
      "model_module_version": "1.4.0",
      "model_name": "HTMLModel",
      "state": {
       "layout": "IPY_MODEL_4c89d706c60b46adb94ddd3b73b6fd21",
       "style": "IPY_MODEL_b69db299c80e4c4e805762ecba6ebe97",
       "value": "<i>Wählen Sie die <ins>eine</ins> korrekte Antwort aus: </i>"
      }
     },
     "c6e541e6048248148de3214e539e94d3": {
      "model_module": "@jupyter-widgets/controls",
      "model_module_version": "1.4.0",
      "model_name": "ButtonStyleModel",
      "state": {}
     },
     "c6e55cee3fd04e6ab88064a72f76e71f": {
      "model_module": "@jupyter-widgets/controls",
      "model_module_version": "1.4.0",
      "model_name": "ButtonModel",
      "state": {
       "description": "Temporale Ambiguität",
       "layout": "IPY_MODEL_965a61b2b2bd4699a6a39cd2306e7d18",
       "style": "IPY_MODEL_c3aeaf2530304898b16d809feaf8c329"
      }
     },
     "c6eaaf5cd9cd46a2a33239080af36e37": {
      "model_module": "@jupyter-widgets/controls",
      "model_module_version": "1.4.0",
      "model_name": "HTMLModel",
      "state": {
       "layout": "IPY_MODEL_b50d0203bd3b4d108e8517fa28823c77",
       "style": "IPY_MODEL_979d874661fd4b00bbd7b94b4e24e92d",
       "value": "<h4 style=\"font-size:14px;\">Welche der folgenden Bedingungen wird an eine PCFG gestellt?</h4>"
      }
     },
     "c6ef0efe9dc24cd69ea68c436b91d0c7": {
      "model_module": "@jupyter-widgets/controls",
      "model_module_version": "1.4.0",
      "model_name": "VBoxModel",
      "state": {
       "children": [
        "IPY_MODEL_2be58c8bc01e4902be4fc1cdea4de38a",
        "IPY_MODEL_5bd53cc41620495db0d8c2c252bc54af",
        "IPY_MODEL_d714f6fbc65f4ae8bd352092941544d5",
        "IPY_MODEL_151a2b5fe48c44d3b260bdb4249176d2"
       ],
       "layout": "IPY_MODEL_f88b6803156c44008c1373737a909abe"
      }
     },
     "c705ab0d52df46b8b572c8d5dc88b7eb": {
      "model_module": "@jupyter-widgets/controls",
      "model_module_version": "1.4.0",
      "model_name": "HBoxModel",
      "state": {
       "children": [
        "IPY_MODEL_fe000ac8ac9842ff8210f196b741a357",
        "IPY_MODEL_49bc016679444a3a9d64f11f7cb662dc"
       ],
       "layout": "IPY_MODEL_b0526eaf2a7044599cb2881b4f2e3263"
      }
     },
     "c7337bd522b14ef7b1c021298cde9bf4": {
      "model_module": "@jupyter-widgets/controls",
      "model_module_version": "1.4.0",
      "model_name": "CheckboxModel",
      "state": {
       "description": "Die Summe aller Regelwahrscheinlichkeiten innerhalb einer Grammatik ist 1.",
       "disabled": false,
       "layout": "IPY_MODEL_155a824685894ba1b898afb86dcb3b78",
       "style": "IPY_MODEL_e6280d5856084fb9ad9e87e57bd9c50b",
       "value": false
      }
     },
     "c7561def813b4785986b35f68d71b671": {
      "model_module": "@jupyter-widgets/base",
      "model_module_version": "1.1.0",
      "model_name": "LayoutModel",
      "state": {
       "justify_content": "center"
      }
     },
     "c7992d914df24e3b805e489dc9bbf9ff": {
      "model_module": "@jupyter-widgets/base",
      "model_module_version": "1.1.0",
      "model_name": "LayoutModel",
      "state": {}
     },
     "c7a88387e8dc417da341b7ffb0f5a80a": {
      "model_module": "@jupyter-widgets/controls",
      "model_module_version": "1.4.0",
      "model_name": "ButtonStyleModel",
      "state": {}
     },
     "c7ce7f95dc4c410e96883f82800a5647": {
      "model_module": "@jupyter-widgets/controls",
      "model_module_version": "1.4.0",
      "model_name": "ButtonModel",
      "state": {
       "description": "Ihre Wahrscheinlichkeiten sind zu gering.",
       "layout": "IPY_MODEL_e50df84612d248dc812787070c96c08d",
       "style": "IPY_MODEL_c7a88387e8dc417da341b7ffb0f5a80a"
      }
     },
     "c7d0bb51e3324a219e5a17e0221a16ac": {
      "model_module": "@jupyter-widgets/controls",
      "model_module_version": "1.4.0",
      "model_name": "DescriptionStyleModel",
      "state": {
       "description_width": "initial"
      }
     },
     "c7dba6deb1e9432a9ae4c7aeacd1edea": {
      "model_module": "@jupyter-widgets/base",
      "model_module_version": "1.1.0",
      "model_name": "LayoutModel",
      "state": {
       "justify_content": "center"
      }
     },
     "c80dce5a3bd04f5da877cb273dfecbe4": {
      "model_module": "@jupyter-widgets/controls",
      "model_module_version": "1.4.0",
      "model_name": "TextModel",
      "state": {
       "layout": "IPY_MODEL_7695541ceba54486b3b818dcdb96c69a",
       "style": "IPY_MODEL_040719a9afd8467dbaf4902d7f2902f9",
       "value": "2"
      }
     },
     "c813ce918a444ba5888fe715bf34c89b": {
      "model_module": "@jupyter-widgets/base",
      "model_module_version": "1.1.0",
      "model_name": "LayoutModel",
      "state": {}
     },
     "c84d7710999f4134915bd0411a4f1bda": {
      "model_module": "@jupyter-widgets/base",
      "model_module_version": "1.1.0",
      "model_name": "LayoutModel",
      "state": {}
     },
     "c88214ce7cdf439982dfd808a89e9c12": {
      "model_module": "@jupyter-widgets/base",
      "model_module_version": "1.1.0",
      "model_name": "LayoutModel",
      "state": {
       "justify_content": "center"
      }
     },
     "c8b10ad09cda44509163e71307f48b69": {
      "model_module": "@jupyter-widgets/controls",
      "model_module_version": "1.4.0",
      "model_name": "HBoxModel",
      "state": {
       "children": [
        "IPY_MODEL_1015ede035fd4580ac00608ddded9047"
       ],
       "layout": "IPY_MODEL_138da94950174292a223e35eca3039b7"
      }
     },
     "c8d748f93b2e4de88090d72ac598013c": {
      "model_module": "@jupyter-widgets/base",
      "model_module_version": "1.1.0",
      "model_name": "LayoutModel",
      "state": {
       "width": "600px"
      }
     },
     "c8dcdadb40e9426f8854ea0f864e9bcf": {
      "model_module": "@jupyter-widgets/base",
      "model_module_version": "1.1.0",
      "model_name": "LayoutModel",
      "state": {}
     },
     "c8f79aa6319949b08c9a97e7a7d3458a": {
      "model_module": "@jupyter-widgets/controls",
      "model_module_version": "1.4.0",
      "model_name": "ButtonModel",
      "state": {
       "description": "InsideChartParser",
       "layout": "IPY_MODEL_551fc6caca1f4688baa650d631441c9a",
       "style": "IPY_MODEL_834b58022f444ecc8a62009f7160ecd0"
      }
     },
     "c9080e85646945c6a0edfcd25ae1e34c": {
      "model_module": "@jupyter-widgets/controls",
      "model_module_version": "1.4.0",
      "model_name": "HBoxModel",
      "state": {
       "children": [
        "IPY_MODEL_dde1c20c2f754c6e9c29018f2f125bca",
        "IPY_MODEL_fd5c78f3cd914d0b9261cea0f624adc2"
       ],
       "layout": "IPY_MODEL_d9a9a961b5734512aa56ab677509f783"
      }
     },
     "c956c790ceef48ea9738dd9dea33763c": {
      "model_module": "@jupyter-widgets/base",
      "model_module_version": "1.1.0",
      "model_name": "LayoutModel",
      "state": {
       "justify_content": "center"
      }
     },
     "c95fb126836d4b4da1f6a68ad8acf464": {
      "model_module": "@jupyter-widgets/controls",
      "model_module_version": "1.4.0",
      "model_name": "HTMLModel",
      "state": {
       "layout": "IPY_MODEL_119ab56fb631449188714b6aba2abdf1",
       "style": "IPY_MODEL_ab24c980a6394b4da17557daee130bd5",
       "value": "<h4 style=\"font-size:14px;\">Berechnen Sie die Wahrscheinlichkeit für die Ableitung in der letzten Zeile.</h4>"
      }
     },
     "c9a11db4f742478bb5218522dfba6eb8": {
      "model_module": "@jupyter-widgets/base",
      "model_module_version": "1.1.0",
      "model_name": "LayoutModel",
      "state": {
       "justify_content": "center"
      }
     },
     "c9bd9875531d4b05bae3233a3af23551": {
      "model_module": "@jupyter-widgets/base",
      "model_module_version": "1.1.0",
      "model_name": "LayoutModel",
      "state": {
       "width": "600px"
      }
     },
     "c9c2e08be1bf4969a3f7db657b49f72a": {
      "model_module": "@jupyter-widgets/controls",
      "model_module_version": "1.4.0",
      "model_name": "DescriptionStyleModel",
      "state": {
       "description_width": "initial"
      }
     },
     "c9c88b3fb1ff4fbeaec89eea2d35d18e": {
      "model_module": "@jupyter-widgets/base",
      "model_module_version": "1.1.0",
      "model_name": "LayoutModel",
      "state": {}
     },
     "c9f0b790abc34fdd897179603d642c5e": {
      "model_module": "@jupyter-widgets/controls",
      "model_module_version": "1.4.0",
      "model_name": "VBoxModel",
      "state": {
       "children": [
        "IPY_MODEL_bc22cb8a287f47c794e30b3cd7fc9b94",
        "IPY_MODEL_d319b717ab114d4998ffc6f6505d3820",
        "IPY_MODEL_5fcb6e75d647445e9aa7f1ad7a6514ba",
        "IPY_MODEL_64873a1eba7c40958496b9242f0b38fe"
       ],
       "layout": "IPY_MODEL_99b8e81a070b497894baaef74aeb8853"
      }
     },
     "ca0273c5f74b45a8947ae32afb6be464": {
      "model_module": "@jupyter-widgets/base",
      "model_module_version": "1.1.0",
      "model_name": "LayoutModel",
      "state": {}
     },
     "ca4b0879d6d240a7afbdba284f7e7c79": {
      "model_module": "@jupyter-widgets/controls",
      "model_module_version": "1.4.0",
      "model_name": "ButtonModel",
      "state": {
       "description": "InsideChartParser",
       "layout": "IPY_MODEL_10a66ee811f74b0896716001be8dece2",
       "style": "IPY_MODEL_4c42c73e766e4a61935811bc25246512"
      }
     },
     "ca60c5eb5b734e5491ecf84d49180444": {
      "model_module": "@jupyter-widgets/base",
      "model_module_version": "1.1.0",
      "model_name": "LayoutModel",
      "state": {
       "justify_content": "center"
      }
     },
     "caf10228c7f348e1b9f50a48c30b72d6": {
      "model_module": "@jupyter-widgets/controls",
      "model_module_version": "1.4.0",
      "model_name": "VBoxModel",
      "state": {
       "children": [
        "IPY_MODEL_b67ecf713dbd4a77abd69d5857d5aa3f",
        "IPY_MODEL_9348ec92527b4733ae3ac6198a2444c7",
        "IPY_MODEL_cb3790bb359645edb67c072373f21fca",
        "IPY_MODEL_e38ddd61b35442ec9822f63b82c423cf"
       ],
       "layout": "IPY_MODEL_2b9e9dbb785d4d248dcfd1a9f0fde7d5"
      }
     },
     "caf88d01674a44428b33fe2ea14fb3b6": {
      "model_module": "@jupyter-widgets/base",
      "model_module_version": "1.1.0",
      "model_name": "LayoutModel",
      "state": {
       "width": "250px"
      }
     },
     "cb32754d69204a839d19a7ff34ea820e": {
      "model_module": "@jupyter-widgets/controls",
      "model_module_version": "1.4.0",
      "model_name": "CheckboxModel",
      "state": {
       "description": "Das Verwerfen verhindert eine Endlosrekursion.",
       "disabled": false,
       "layout": "IPY_MODEL_9a1e7db9aa994ab68f2fe5f098605a5f",
       "style": "IPY_MODEL_b60f914215b74b40a21dfd68162d047e",
       "value": false
      }
     },
     "cb3790bb359645edb67c072373f21fca": {
      "model_module": "@jupyter-widgets/controls",
      "model_module_version": "1.4.0",
      "model_name": "HBoxModel",
      "state": {
       "children": [
        "IPY_MODEL_4625eb33fd0249dd895e70e7ca78dfbf",
        "IPY_MODEL_f9d782dc2f7948d6a529d07d2646f460"
       ],
       "layout": "IPY_MODEL_123f4cc7f47e48d4a652f4115ebbde76"
      }
     },
     "cb38789522504b15bfc495c54cbbb2c2": {
      "model_module": "@jupyter-widgets/controls",
      "model_module_version": "1.4.0",
      "model_name": "VBoxModel",
      "state": {
       "children": [
        "IPY_MODEL_7565defd145e4ddeaea46aec7440143a",
        "IPY_MODEL_965987e70b2648a785ee8286de468110",
        "IPY_MODEL_d89cefe14dcb4507820007cab1062b64",
        "IPY_MODEL_60d0eedf1a2e44e2a1009c1e773b8936"
       ],
       "layout": "IPY_MODEL_20f957080aa346ceba39851f70251c52"
      }
     },
     "cb3b0ce4e7da4348a2f5c60cacd16371": {
      "model_module": "@jupyter-widgets/controls",
      "model_module_version": "1.4.0",
      "model_name": "ButtonStyleModel",
      "state": {}
     },
     "cbda5bc6324d4c8288610d1ee340f799": {
      "model_module": "@jupyter-widgets/controls",
      "model_module_version": "1.4.0",
      "model_name": "ButtonStyleModel",
      "state": {}
     },
     "cc1df07b5baf4ef1a87652cc1fc5a5cf": {
      "model_module": "@jupyter-widgets/controls",
      "model_module_version": "1.4.0",
      "model_name": "DescriptionStyleModel",
      "state": {
       "description_width": ""
      }
     },
     "cc5c4a15f5f24e8287a3ae25ada584f3": {
      "model_module": "@jupyter-widgets/controls",
      "model_module_version": "1.4.0",
      "model_name": "ButtonModel",
      "state": {
       "description": "ViterbiParser",
       "layout": "IPY_MODEL_caf88d01674a44428b33fe2ea14fb3b6",
       "style": "IPY_MODEL_e51fbe7dd3dd414ba88bbdced558c0ee"
      }
     },
     "cc5c524b977a48acb135c0d2b4e4bc68": {
      "model_module": "@jupyter-widgets/controls",
      "model_module_version": "1.4.0",
      "model_name": "TextModel",
      "state": {
       "layout": "IPY_MODEL_8f80644433234c669640d6e9cf844e51",
       "style": "IPY_MODEL_16a4176e88fc4a7baa9b2362dd34d49a"
      }
     },
     "cc62b3c39f4b4604a7f5968b204b9c83": {
      "model_module": "@jupyter-widgets/controls",
      "model_module_version": "1.4.0",
      "model_name": "DescriptionStyleModel",
      "state": {
       "description_width": ""
      }
     },
     "cc680dcd1fdc438db72996a03c82d77f": {
      "model_module": "@jupyter-widgets/base",
      "model_module_version": "1.1.0",
      "model_name": "LayoutModel",
      "state": {}
     },
     "cc822c13b5694bf2b9a0621b0b7355ee": {
      "model_module": "@jupyter-widgets/controls",
      "model_module_version": "1.4.0",
      "model_name": "ButtonModel",
      "state": {
       "description": "OK",
       "layout": "IPY_MODEL_29caeff48784496a86e2d8583cbd3918",
       "style": "IPY_MODEL_2a0287c97c8b4e79bc361b01399da9ed"
      }
     },
     "ccb8faf03b8c488595f5937d36a101ab": {
      "model_module": "@jupyter-widgets/base",
      "model_module_version": "1.1.0",
      "model_name": "LayoutModel",
      "state": {}
     },
     "cccffacc8eb4416f8574b3bf2d5de1b4": {
      "model_module": "@jupyter-widgets/controls",
      "model_module_version": "1.4.0",
      "model_name": "DescriptionStyleModel",
      "state": {
       "description_width": ""
      }
     },
     "ccefd4837c7c4c4ea97602347e078d3c": {
      "model_module": "@jupyter-widgets/base",
      "model_module_version": "1.1.0",
      "model_name": "LayoutModel",
      "state": {}
     },
     "cd33c50bd88249a4870b488a45c69e33": {
      "model_module": "@jupyter-widgets/controls",
      "model_module_version": "1.4.0",
      "model_name": "DescriptionStyleModel",
      "state": {
       "description_width": ""
      }
     },
     "cd4ee6a9eb5d4bc899301f32a83f11f2": {
      "model_module": "@jupyter-widgets/controls",
      "model_module_version": "1.4.0",
      "model_name": "ButtonStyleModel",
      "state": {
       "button_color": "lightgreen"
      }
     },
     "cd5fbe9a79614d40b90ccf975371a0ec": {
      "model_module": "@jupyter-widgets/controls",
      "model_module_version": "1.4.0",
      "model_name": "DescriptionStyleModel",
      "state": {
       "description_width": "initial"
      }
     },
     "cd79b51caf884a848cdc344d347a18e2": {
      "model_module": "@jupyter-widgets/controls",
      "model_module_version": "1.4.0",
      "model_name": "HTMLModel",
      "state": {
       "layout": "IPY_MODEL_a9016fb338bc4391bd7b62e2c8201e65",
       "style": "IPY_MODEL_810566e8d2c647e4beda3e12f3879897",
       "value": "<i>Geben Sie die korrekte Antwort ein: </i>"
      }
     },
     "cdc949b70bfe40c0b9f87b662591a352": {
      "model_module": "@jupyter-widgets/base",
      "model_module_version": "1.1.0",
      "model_name": "LayoutModel",
      "state": {}
     },
     "cddc7b9e43d74e2e81868ffdbb8e50bf": {
      "model_module": "@jupyter-widgets/controls",
      "model_module_version": "1.4.0",
      "model_name": "ButtonStyleModel",
      "state": {}
     },
     "cdf73cec37df4a30b967d0f1288f5eba": {
      "model_module": "@jupyter-widgets/base",
      "model_module_version": "1.1.0",
      "model_name": "LayoutModel",
      "state": {
       "width": "600px"
      }
     },
     "ce1f87e19dca47edbfed19cf1e435ec5": {
      "model_module": "@jupyter-widgets/controls",
      "model_module_version": "1.4.0",
      "model_name": "ButtonStyleModel",
      "state": {}
     },
     "ce2517586e4145c099a0f1d33265f74e": {
      "model_module": "@jupyter-widgets/base",
      "model_module_version": "1.1.0",
      "model_name": "LayoutModel",
      "state": {
       "width": "600px"
      }
     },
     "ce2c1a693de44347ac0bf3fecffefcd8": {
      "model_module": "@jupyter-widgets/base",
      "model_module_version": "1.1.0",
      "model_name": "LayoutModel",
      "state": {}
     },
     "ce83044d743b4282b2ce6715c7ab778f": {
      "model_module": "@jupyter-widgets/controls",
      "model_module_version": "1.4.0",
      "model_name": "VBoxModel",
      "state": {
       "children": [
        "IPY_MODEL_e2f7125923c047ea8e8748c070c69116",
        "IPY_MODEL_53f363a9f06741efa195bd8634687829",
        "IPY_MODEL_702bd58f4e8c415e8f90bbf4ef9e2224",
        "IPY_MODEL_97728be845b6444ca9cf0695f1821f47"
       ],
       "layout": "IPY_MODEL_868d8e28de074fabba24a24f5dad8ab3"
      }
     },
     "cebf6f76453d45618b36a70c9711fe89": {
      "model_module": "@jupyter-widgets/controls",
      "model_module_version": "1.4.0",
      "model_name": "CheckboxModel",
      "state": {
       "description": "Die Summe aller Regelwahrscheinlichkeiten innerhalb einer Grammatik ist 1.",
       "disabled": false,
       "layout": "IPY_MODEL_38231e3b5ccf429a92f7034b62589e00",
       "style": "IPY_MODEL_120711841a104dcda2c73c6940d66c15",
       "value": false
      }
     },
     "cf09543d99754c3e92fa9045bbbd46fc": {
      "model_module": "@jupyter-widgets/controls",
      "model_module_version": "1.4.0",
      "model_name": "CheckboxModel",
      "state": {
       "description": "Finden aller Konstituenten",
       "disabled": false,
       "layout": "IPY_MODEL_f9b8cc247bd74a4d9e7f5ce2c8afcc75",
       "style": "IPY_MODEL_0df6d848ab004b2995437867a93b5235",
       "value": false
      }
     },
     "cf208bb41dba429a8b16cf4678d69a1a": {
      "model_module": "@jupyter-widgets/controls",
      "model_module_version": "1.4.0",
      "model_name": "DescriptionStyleModel",
      "state": {
       "description_width": ""
      }
     },
     "cf54969d158e4139a3353300d2a52d6c": {
      "model_module": "@jupyter-widgets/controls",
      "model_module_version": "1.4.0",
      "model_name": "VBoxModel",
      "state": {
       "children": [
        "IPY_MODEL_9e33e576ad514579b04fd566766648bd",
        "IPY_MODEL_5737e4d0a3ac4ff8ae5201b82ce934bf",
        "IPY_MODEL_e72505e72f2145348b09de1a0b9c4f5e"
       ],
       "layout": "IPY_MODEL_f38dfcc45d96422faf2c57ddfd684c8e"
      }
     },
     "cf70c23461ff408cba42c74cbc339949": {
      "model_module": "@jupyter-widgets/base",
      "model_module_version": "1.1.0",
      "model_name": "LayoutModel",
      "state": {}
     },
     "d01d91612c8d4461aa4bb14e2d8b21a7": {
      "model_module": "@jupyter-widgets/controls",
      "model_module_version": "1.4.0",
      "model_name": "VBoxModel",
      "state": {
       "children": [
        "IPY_MODEL_39fc949f33af46b7a8281dc491aa2968",
        "IPY_MODEL_c3a7f75602d8453d8ce6ae6df6444cae",
        "IPY_MODEL_fcde866e357b48dead1fc00d7c3f2da4",
        "IPY_MODEL_4f49d960a3344460952b83d396d41b5c"
       ],
       "layout": "IPY_MODEL_5b3335881ae941c4bd6690ea555fd3ae"
      }
     },
     "d05be214023d415ba6fcaac6d072c93b": {
      "model_module": "@jupyter-widgets/controls",
      "model_module_version": "1.4.0",
      "model_name": "ButtonModel",
      "state": {
       "description": "PP-Attachment-Ambiguität",
       "layout": "IPY_MODEL_91044d5ad2c542d28fcf1d47fb0db598",
       "style": "IPY_MODEL_7c0e67767559446282f1f7bc8f02942b"
      }
     },
     "d0905ed7acf0482a95749ce58ca00b88": {
      "model_module": "@jupyter-widgets/base",
      "model_module_version": "1.1.0",
      "model_name": "LayoutModel",
      "state": {
       "width": "250px"
      }
     },
     "d098c509bed94312afcd7e341dc139a5": {
      "model_module": "@jupyter-widgets/controls",
      "model_module_version": "1.4.0",
      "model_name": "VBoxModel",
      "state": {
       "children": [
        "IPY_MODEL_d61fd7c017d24a5bbb431cd847c2bc78",
        "IPY_MODEL_cd79b51caf884a848cdc344d347a18e2",
        "IPY_MODEL_bd8777d697804133a6733a3891417fea",
        "IPY_MODEL_fcbd0dc7ae9648b78f366416aa3d7f9c"
       ],
       "layout": "IPY_MODEL_63c41955c67b41b387dacfb1b959cb29"
      }
     },
     "d0cfb8dbd35b4096b8a069f9882822c0": {
      "model_module": "@jupyter-widgets/controls",
      "model_module_version": "1.4.0",
      "model_name": "VBoxModel",
      "state": {
       "children": [
        "IPY_MODEL_7da9a30fd32045ea9004655b9fffc057",
        "IPY_MODEL_3905f7e9f2934a76ac58a5241b310e81",
        "IPY_MODEL_6db64a141e2f4d4da77761592b1e0683",
        "IPY_MODEL_542571e87f87442f97fecebf2aad93f4"
       ],
       "layout": "IPY_MODEL_27a80364d090471782b03dfa30062a16"
      }
     },
     "d0ef26d1d1df4f498e890485b0fa5cf1": {
      "model_module": "@jupyter-widgets/controls",
      "model_module_version": "1.4.0",
      "model_name": "VBoxModel",
      "state": {
       "children": [
        "IPY_MODEL_78feee1228e4439daf4a8c26f25f05c3",
        "IPY_MODEL_580fd79dddd946edac6290877c2cb41d",
        "IPY_MODEL_cf54969d158e4139a3353300d2a52d6c",
        "IPY_MODEL_92f44bde2ee44e418abcc2c02667a7c8"
       ],
       "layout": "IPY_MODEL_5cb34fce43224d9f96a69ce24135bbb8"
      }
     },
     "d10e3a3fd0c34389bf726bb12c5fe170": {
      "model_module": "@jupyter-widgets/base",
      "model_module_version": "1.1.0",
      "model_name": "LayoutModel",
      "state": {
       "width": "600px"
      }
     },
     "d11e10bda382471e96ffd7747d13ce49": {
      "model_module": "@jupyter-widgets/base",
      "model_module_version": "1.1.0",
      "model_name": "LayoutModel",
      "state": {
       "justify_content": "center"
      }
     },
     "d1334992d3304c568c4a7204ffdb8073": {
      "model_module": "@jupyter-widgets/controls",
      "model_module_version": "1.4.0",
      "model_name": "VBoxModel",
      "state": {
       "children": [
        "IPY_MODEL_ac2a43f644034e88b2a152c567f61dbb",
        "IPY_MODEL_53d1d748e3674f179f5c1694dd88bd2a",
        "IPY_MODEL_a7b47836c7d743f4832b982957681339",
        "IPY_MODEL_851a30cec50049be975f19560cd72cac"
       ],
       "layout": "IPY_MODEL_194b5d297fb84e0f89064ede8a5252c0"
      }
     },
     "d13591434d3a42e6bdc5cf124d743caa": {
      "model_module": "@jupyter-widgets/controls",
      "model_module_version": "1.4.0",
      "model_name": "DescriptionStyleModel",
      "state": {
       "description_width": ""
      }
     },
     "d1508e5870d142a086d49ed491906c5c": {
      "model_module": "@jupyter-widgets/base",
      "model_module_version": "1.1.0",
      "model_name": "LayoutModel",
      "state": {
       "width": "600px"
      }
     },
     "d1995b0ff6b7457eac187bf3fc6711c5": {
      "model_module": "@jupyter-widgets/base",
      "model_module_version": "1.1.0",
      "model_name": "LayoutModel",
      "state": {
       "justify_content": "center"
      }
     },
     "d1d4979d2a974ef89caa7f605ab3fe37": {
      "model_module": "@jupyter-widgets/controls",
      "model_module_version": "1.4.0",
      "model_name": "DescriptionStyleModel",
      "state": {
       "description_width": ""
      }
     },
     "d1f0e7e6f0e04093a09a587e243f53ea": {
      "model_module": "@jupyter-widgets/controls",
      "model_module_version": "1.4.0",
      "model_name": "DescriptionStyleModel",
      "state": {
       "description_width": ""
      }
     },
     "d209b9e098ba4bdb82c7b68b5a2481ea": {
      "model_module": "@jupyter-widgets/base",
      "model_module_version": "1.1.0",
      "model_name": "LayoutModel",
      "state": {}
     },
     "d26d69832c6a417197d4c8efbbd89cbf": {
      "model_module": "@jupyter-widgets/controls",
      "model_module_version": "1.4.0",
      "model_name": "ButtonStyleModel",
      "state": {}
     },
     "d2b2f1475dcd4d26bc8fc8b13b45e9a2": {
      "model_module": "@jupyter-widgets/controls",
      "model_module_version": "1.4.0",
      "model_name": "HBoxModel",
      "state": {
       "children": [
        "IPY_MODEL_476f8cb8f3b8404894453b386f4f66c2",
        "IPY_MODEL_a71d37795fbe42f8b5852b3c66faccc0"
       ],
       "layout": "IPY_MODEL_08e1182b04394dc4a810463db7fa13a2"
      }
     },
     "d2f65b257c9c45cca801030d9d63bdad": {
      "model_module": "@jupyter-widgets/base",
      "model_module_version": "1.1.0",
      "model_name": "LayoutModel",
      "state": {}
     },
     "d30303ff2d64412a94c6822f8238e229": {
      "model_module": "@jupyter-widgets/base",
      "model_module_version": "1.1.0",
      "model_name": "LayoutModel",
      "state": {}
     },
     "d30ce61a590a432ca0a22dc5b62c5598": {
      "model_module": "@jupyter-widgets/controls",
      "model_module_version": "1.4.0",
      "model_name": "ButtonStyleModel",
      "state": {}
     },
     "d319b717ab114d4998ffc6f6505d3820": {
      "model_module": "@jupyter-widgets/controls",
      "model_module_version": "1.4.0",
      "model_name": "HTMLModel",
      "state": {
       "layout": "IPY_MODEL_4fd9621dc6e24aa394f5ae8d9cd62d5d",
       "style": "IPY_MODEL_f80932bbfff0417b98785a6f95acf25d",
       "value": "<i>Wählen Sie die <ins>eine</ins> korrekte Antwort aus: </i>"
      }
     },
     "d362e8a843d744e3970f899b491da435": {
      "model_module": "@jupyter-widgets/base",
      "model_module_version": "1.1.0",
      "model_name": "LayoutModel",
      "state": {
       "width": "250px"
      }
     },
     "d37f65409b7548678531d40869f3f95b": {
      "model_module": "@jupyter-widgets/controls",
      "model_module_version": "1.4.0",
      "model_name": "DescriptionStyleModel",
      "state": {
       "description_width": ""
      }
     },
     "d39469dbb9544591804b5c2159653840": {
      "model_module": "@jupyter-widgets/controls",
      "model_module_version": "1.4.0",
      "model_name": "ButtonModel",
      "state": {
       "description": "Lösung zeigen",
       "layout": "IPY_MODEL_4a80d589146149f38f5b191aa8453f25",
       "style": "IPY_MODEL_acdb95f7e99e4fa895a745d9a2589c4e"
      }
     },
     "d3d3c18882384d8db4cb10bd8be37700": {
      "model_module": "@jupyter-widgets/controls",
      "model_module_version": "1.4.0",
      "model_name": "VBoxModel",
      "state": {
       "children": [
        "IPY_MODEL_57dfb5c7c9794307b8250968c23969fd",
        "IPY_MODEL_f8ed91d99ec1470e9303fe07af7c7a14",
        "IPY_MODEL_2346a03bdf1c479db7ba65f96695ef23",
        "IPY_MODEL_7934123356a54d6f9a365192380415dd"
       ],
       "layout": "IPY_MODEL_83fa6b6009994c46a871f9c3907687e7"
      }
     },
     "d3d977df932a43b1a5690f62ebb8f11e": {
      "model_module": "@jupyter-widgets/base",
      "model_module_version": "1.1.0",
      "model_name": "LayoutModel",
      "state": {}
     },
     "d3e7a4d6c21242219a4e2e065a85f19b": {
      "model_module": "@jupyter-widgets/controls",
      "model_module_version": "1.4.0",
      "model_name": "HTMLModel",
      "state": {
       "layout": "IPY_MODEL_e21222fcb88c4356af8884829b7ec403",
       "style": "IPY_MODEL_679c4f72d4de4bcc88a9c646f52e7bf2",
       "value": "<h4 style=\"font-size:14px;\">Warum werden die Analysen in den Discard-Zeilen verworfen?</h4>"
      }
     },
     "d4cd6511da374bd193f710dd9c9bb66f": {
      "model_module": "@jupyter-widgets/controls",
      "model_module_version": "1.4.0",
      "model_name": "ButtonModel",
      "state": {
       "description": "Koordinationsambiguität",
       "layout": "IPY_MODEL_3df8bf18dc904b74a616c14e7d77479a",
       "style": "IPY_MODEL_5563211d2e694f2daaff8bedd020dcf5"
      }
     },
     "d4d941870ae6486fb7c97f1e0192ccc0": {
      "model_module": "@jupyter-widgets/controls",
      "model_module_version": "1.4.0",
      "model_name": "DescriptionStyleModel",
      "state": {
       "description_width": ""
      }
     },
     "d4e300f8546746a5b8b5dcfe281faa8a": {
      "model_module": "@jupyter-widgets/controls",
      "model_module_version": "1.4.0",
      "model_name": "DescriptionStyleModel",
      "state": {
       "description_width": "initial"
      }
     },
     "d52c5accd249439b99ac2021a4c25ef6": {
      "model_module": "@jupyter-widgets/controls",
      "model_module_version": "1.4.0",
      "model_name": "CheckboxModel",
      "state": {
       "description": "Die Summe aller Regelwahrscheinlichkeiten innerhalb einer Grammatik ist 1.",
       "disabled": false,
       "layout": "IPY_MODEL_6671ff4ba2bf4e7191632769b6b26b38",
       "style": "IPY_MODEL_35da2ecbaade42e0926076fd943e62da",
       "value": false
      }
     },
     "d54faaf0d7e846f89b4ca5dd498d8ba0": {
      "model_module": "@jupyter-widgets/controls",
      "model_module_version": "1.4.0",
      "model_name": "DescriptionStyleModel",
      "state": {
       "description_width": "initial"
      }
     },
     "d55a33dbdad24564bb4b2b98c2433898": {
      "model_module": "@jupyter-widgets/controls",
      "model_module_version": "1.4.0",
      "model_name": "DescriptionStyleModel",
      "state": {
       "description_width": "initial"
      }
     },
     "d55a4191f4c644a8889954de4b9721bb": {
      "model_module": "@jupyter-widgets/controls",
      "model_module_version": "1.4.0",
      "model_name": "CheckboxModel",
      "state": {
       "description": "Ihre Wahrscheinlichkeiten sind zu gering.",
       "disabled": false,
       "layout": "IPY_MODEL_b0b63ce670064796a3307bf31559f6a2",
       "style": "IPY_MODEL_0402793fadc643fa9db1a2939f647b6e",
       "value": false
      }
     },
     "d58d976eb09b4511bd39d0a2e2ba39b1": {
      "model_module": "@jupyter-widgets/controls",
      "model_module_version": "1.4.0",
      "model_name": "DescriptionStyleModel",
      "state": {
       "description_width": "initial"
      }
     },
     "d5954bad248a4164a9f4c87a35913ef4": {
      "model_module": "@jupyter-widgets/base",
      "model_module_version": "1.1.0",
      "model_name": "LayoutModel",
      "state": {}
     },
     "d5d8c87ce87c457cb7580d5e286e6ba5": {
      "model_module": "@jupyter-widgets/controls",
      "model_module_version": "1.4.0",
      "model_name": "HTMLModel",
      "state": {
       "layout": "IPY_MODEL_7eddde469d29457cb3a0060f00d3bc9f",
       "style": "IPY_MODEL_dac33dd47f244240ad76c4977b08fe32",
       "value": "<h4 style=\"font-size:14px;\">Nach welchem Kriterium wird beim Parsen mit dem InsideChartParser (= <i>Lowest-Cost-First</i>-Strategie) die <i>edge queue</i> sortiert?</h4>"
      }
     },
     "d600ebb1b1b243cd99bf48c38273b0ad": {
      "model_module": "@jupyter-widgets/controls",
      "model_module_version": "1.4.0",
      "model_name": "ButtonModel",
      "state": {
       "description": "ViterbiParser",
       "layout": "IPY_MODEL_abfae0d10bc443188ded659e64a85b6d",
       "style": "IPY_MODEL_fe21bddc7f974bc9ba5dab432340e471"
      }
     },
     "d61fd7c017d24a5bbb431cd847c2bc78": {
      "model_module": "@jupyter-widgets/controls",
      "model_module_version": "1.4.0",
      "model_name": "HTMLModel",
      "state": {
       "layout": "IPY_MODEL_95b89369d5064691935e847ed2534ec3",
       "style": "IPY_MODEL_6219bc3d9f8e430f91315eeb0e4db6ab",
       "value": "<h4 style=\"font-size:14px;\">Wie viele Ableitungen für die NP 'big cats and dogs' kann z. B. der InsideChartParser finden?</h4>"
      }
     },
     "d65b2161ca2240d89097bd4141c16f07": {
      "model_module": "@jupyter-widgets/controls",
      "model_module_version": "1.4.0",
      "model_name": "VBoxModel",
      "state": {
       "children": [
        "IPY_MODEL_97760a2bba1547fbaaf706d399522d9f",
        "IPY_MODEL_33a8b8538c2e4e6594cd9496bf13d10d",
        "IPY_MODEL_68719923aac04084876c8f04f06bb7a8",
        "IPY_MODEL_396a1f6c092347c4804f892f5b550409"
       ],
       "layout": "IPY_MODEL_2a3a03e3f90344c0ba5c1dfff74acf47"
      }
     },
     "d65f4727d25a40dba07a1e78baddbc20": {
      "model_module": "@jupyter-widgets/base",
      "model_module_version": "1.1.0",
      "model_name": "LayoutModel",
      "state": {
       "justify_content": "center"
      }
     },
     "d6854c133da141f29465c7334dcb024f": {
      "model_module": "@jupyter-widgets/base",
      "model_module_version": "1.1.0",
      "model_name": "LayoutModel",
      "state": {
       "width": "600px"
      }
     },
     "d6b3b2cb81da44f8b2a75046e7ed9128": {
      "model_module": "@jupyter-widgets/controls",
      "model_module_version": "1.4.0",
      "model_name": "ButtonModel",
      "state": {
       "description": "Lösung zeigen",
       "layout": "IPY_MODEL_c7992d914df24e3b805e489dc9bbf9ff",
       "style": "IPY_MODEL_7ac5711ddb734502a3a233f64645486e"
      }
     },
     "d6c0ac6a9ceb4f08b44c6e1e711e7930": {
      "model_module": "@jupyter-widgets/controls",
      "model_module_version": "1.4.0",
      "model_name": "HTMLModel",
      "state": {
       "layout": "IPY_MODEL_a0ed5fa046664da89f342ecb8982af33",
       "style": "IPY_MODEL_af438000bf99453e9f13a9dc5527b5d1",
       "value": "<h4 style=\"font-size:14px;\">Welche der folgenden Bedingungen wird an eine PCFG gestellt?</h4>"
      }
     },
     "d6d8282545514b3688e24c2782f44754": {
      "model_module": "@jupyter-widgets/controls",
      "model_module_version": "1.4.0",
      "model_name": "HTMLModel",
      "state": {
       "layout": "IPY_MODEL_4f3e81218e4940a68d7ad3f72b546de2",
       "style": "IPY_MODEL_86d59b89cd054d4296e024d2af66e2ed",
       "value": "<i>Geben Sie die korrekte Antwort ein: </i>"
      }
     },
     "d6ec56e103ee465cacac3f245294d836": {
      "model_module": "@jupyter-widgets/controls",
      "model_module_version": "1.4.0",
      "model_name": "ButtonModel",
      "state": {
       "description": "Korrekt?",
       "layout": "IPY_MODEL_db4acddfb4324e189543a59becf586e6",
       "style": "IPY_MODEL_f26b282299434ca9945b432d0565151a"
      }
     },
     "d7001ab3560c4076ac1eb19f2b9dea07": {
      "model_module": "@jupyter-widgets/controls",
      "model_module_version": "1.4.0",
      "model_name": "DescriptionStyleModel",
      "state": {
       "description_width": ""
      }
     },
     "d714f6fbc65f4ae8bd352092941544d5": {
      "model_module": "@jupyter-widgets/controls",
      "model_module_version": "1.4.0",
      "model_name": "TextModel",
      "state": {
       "disabled": true,
       "layout": "IPY_MODEL_41e028e30ff442a38193513b2bf5c1a6",
       "style": "IPY_MODEL_570e98334b264b37a03ccd1b8a573ca8",
       "value": "0.000864"
      }
     },
     "d71b103c3add4fe499fd2f0a92004738": {
      "model_module": "@jupyter-widgets/base",
      "model_module_version": "1.1.0",
      "model_name": "LayoutModel",
      "state": {
       "width": "600px"
      }
     },
     "d7273b1dada44cc8932f4b4c4527ee8e": {
      "model_module": "@jupyter-widgets/controls",
      "model_module_version": "1.4.0",
      "model_name": "CheckboxModel",
      "state": {
       "description": "Die Analysen sind mit der gegebenen Grammatik nicht möglich.",
       "disabled": false,
       "layout": "IPY_MODEL_e1058d2eb7974ff3996889a730e119af",
       "style": "IPY_MODEL_fb1e7083abeb4ff6bca260a39480f8bc",
       "value": false
      }
     },
     "d7319e72c39a4d888aa96b1f572e532c": {
      "model_module": "@jupyter-widgets/controls",
      "model_module_version": "1.4.0",
      "model_name": "CheckboxModel",
      "state": {
       "description": "Finden aller Konstituenten",
       "disabled": false,
       "layout": "IPY_MODEL_d871e9d67b214dfebf829bd41a5d923e",
       "style": "IPY_MODEL_f22b5e91f58b40cebd16d01daa2c0135",
       "value": false
      }
     },
     "d73c5ea00651482680ba0adfaf26dcca": {
      "model_module": "@jupyter-widgets/controls",
      "model_module_version": "1.4.0",
      "model_name": "DescriptionStyleModel",
      "state": {
       "description_width": "initial"
      }
     },
     "d75318c00efc45278c5d511a3c9bd8a7": {
      "model_module": "@jupyter-widgets/base",
      "model_module_version": "1.1.0",
      "model_name": "LayoutModel",
      "state": {}
     },
     "d7c325151df241abbe39c5824ad8a896": {
      "model_module": "@jupyter-widgets/base",
      "model_module_version": "1.1.0",
      "model_name": "LayoutModel",
      "state": {
       "width": "600px"
      }
     },
     "d7fb9238aea04c858d454ff0e1a7dadb": {
      "model_module": "@jupyter-widgets/base",
      "model_module_version": "1.1.0",
      "model_name": "LayoutModel",
      "state": {
       "justify_content": "center"
      }
     },
     "d8286ec7b27f4c46959ab863f9abb299": {
      "model_module": "@jupyter-widgets/base",
      "model_module_version": "1.1.0",
      "model_name": "LayoutModel",
      "state": {}
     },
     "d838658e7beb4a43b7ba34ba4f0b2c6e": {
      "model_module": "@jupyter-widgets/controls",
      "model_module_version": "1.4.0",
      "model_name": "VBoxModel",
      "state": {
       "children": [
        "IPY_MODEL_ffa0698fd53f4cbfabf73678e25bc4b4",
        "IPY_MODEL_7a22f40d01f047329501dc4beca73b80",
        "IPY_MODEL_ef9cf0bd62a142c79e5c1abab75da7a8",
        "IPY_MODEL_920760135b0c43c98788077be8fcb301"
       ],
       "layout": "IPY_MODEL_738797205aea4971a09d3d207a1b19bc"
      }
     },
     "d8528e3900234795bb41b364798ae947": {
      "model_module": "@jupyter-widgets/controls",
      "model_module_version": "1.4.0",
      "model_name": "VBoxModel",
      "state": {
       "children": [
        "IPY_MODEL_d8f794ee257f48b4904dc375093c6164",
        "IPY_MODEL_98627a0126214decbacfd685e31111c1",
        "IPY_MODEL_99126bdd0acb4a6bb00b5fe07054c6e2"
       ],
       "layout": "IPY_MODEL_31b201a19263451f881bb8ae76bb521d"
      }
     },
     "d871e9d67b214dfebf829bd41a5d923e": {
      "model_module": "@jupyter-widgets/base",
      "model_module_version": "1.1.0",
      "model_name": "LayoutModel",
      "state": {
       "width": "600px"
      }
     },
     "d8933efa5daa429ea939b6a83a9b3c84": {
      "model_module": "@jupyter-widgets/base",
      "model_module_version": "1.1.0",
      "model_name": "LayoutModel",
      "state": {}
     },
     "d89cefe14dcb4507820007cab1062b64": {
      "model_module": "@jupyter-widgets/controls",
      "model_module_version": "1.4.0",
      "model_name": "VBoxModel",
      "state": {
       "children": [
        "IPY_MODEL_04b3af0740ea419b86685521873c5784",
        "IPY_MODEL_f8b2e7a70b574e48964711b3be54c3fe",
        "IPY_MODEL_0228318c9e004fcd83fda9083abca8a7"
       ],
       "layout": "IPY_MODEL_75805ce4e0d74ae3a0f9fced32cbca43"
      }
     },
     "d8c0d812a1b2414aa09327a9f996931d": {
      "model_module": "@jupyter-widgets/controls",
      "model_module_version": "1.4.0",
      "model_name": "DescriptionStyleModel",
      "state": {
       "description_width": "initial"
      }
     },
     "d8f794ee257f48b4904dc375093c6164": {
      "model_module": "@jupyter-widgets/controls",
      "model_module_version": "1.4.0",
      "model_name": "CheckboxModel",
      "state": {
       "description": "Die Summe aller Regelwahrscheinlichkeiten für jede LHS ist jeweils 1.",
       "disabled": false,
       "layout": "IPY_MODEL_eceb1f38cf63454bae2196c8fe801e46",
       "style": "IPY_MODEL_d55a33dbdad24564bb4b2b98c2433898",
       "value": false
      }
     },
     "d925efa5a4ba478ba289820ae9bc93ed": {
      "model_module": "@jupyter-widgets/controls",
      "model_module_version": "1.4.0",
      "model_name": "ButtonModel",
      "state": {
       "description": "OK",
       "layout": "IPY_MODEL_a47b790e3b504e53a7cfa5bb322a745e",
       "style": "IPY_MODEL_4295a4eac8ae4e948e52ed458906a7ce"
      }
     },
     "d961599a146e401598715e7f6309cab3": {
      "model_module": "@jupyter-widgets/controls",
      "model_module_version": "1.4.0",
      "model_name": "ButtonStyleModel",
      "state": {}
     },
     "d9615f5672bd415fbd58e40002ed10e7": {
      "model_module": "@jupyter-widgets/controls",
      "model_module_version": "1.4.0",
      "model_name": "HBoxModel",
      "state": {
       "children": [
        "IPY_MODEL_6340ecee47c04a78b54102902b5eabb4"
       ],
       "layout": "IPY_MODEL_ee02fd3f090049ee9f08425a628c474b"
      }
     },
     "d9847e888c9a495ba25cf24a849ea6de": {
      "model_module": "@jupyter-widgets/controls",
      "model_module_version": "1.4.0",
      "model_name": "ButtonModel",
      "state": {
       "description": "Temporale Ambiguität",
       "layout": "IPY_MODEL_ea1eb690ddba441ab3a183c5525435a0",
       "style": "IPY_MODEL_f139c01a37c84e4ca3140811c06e30c2"
      }
     },
     "d9a9a961b5734512aa56ab677509f783": {
      "model_module": "@jupyter-widgets/base",
      "model_module_version": "1.1.0",
      "model_name": "LayoutModel",
      "state": {}
     },
     "d9b2973fb4ff4aa18a2d65a62f5dc21f": {
      "model_module": "@jupyter-widgets/base",
      "model_module_version": "1.1.0",
      "model_name": "LayoutModel",
      "state": {}
     },
     "d9fb624cf773406e9387bb67e558fb09": {
      "model_module": "@jupyter-widgets/controls",
      "model_module_version": "1.4.0",
      "model_name": "DescriptionStyleModel",
      "state": {
       "description_width": ""
      }
     },
     "da2dfa54c52e465680a80d4ce3a50d49": {
      "model_module": "@jupyter-widgets/controls",
      "model_module_version": "1.4.0",
      "model_name": "HTMLModel",
      "state": {
       "layout": "IPY_MODEL_48006421d9e44dfeb1c13b110bc29f7c",
       "style": "IPY_MODEL_a6f470c3888e4aebbea0621c74737e30",
       "value": "<h4 style=\"font-size:14px;\">Was ist die Aufgabe des Viterbi-Algorithmus?</h4>"
      }
     },
     "da508c9c00a046a9b491833472ffa208": {
      "model_module": "@jupyter-widgets/base",
      "model_module_version": "1.1.0",
      "model_name": "LayoutModel",
      "state": {
       "justify_content": "center"
      }
     },
     "da64e9d6fdd640dfb1193ec2ac89f224": {
      "model_module": "@jupyter-widgets/base",
      "model_module_version": "1.1.0",
      "model_name": "LayoutModel",
      "state": {}
     },
     "daa8832602ed43a2a204488a0a93dd41": {
      "model_module": "@jupyter-widgets/base",
      "model_module_version": "1.1.0",
      "model_name": "LayoutModel",
      "state": {
       "width": "250px"
      }
     },
     "dac33dd47f244240ad76c4977b08fe32": {
      "model_module": "@jupyter-widgets/controls",
      "model_module_version": "1.4.0",
      "model_name": "DescriptionStyleModel",
      "state": {
       "description_width": ""
      }
     },
     "dae74d7bd10b4882bdbfbcd578c5edc4": {
      "model_module": "@jupyter-widgets/controls",
      "model_module_version": "1.4.0",
      "model_name": "HTMLModel",
      "state": {
       "layout": "IPY_MODEL_7096b6ec8d824e3db7f02e6cb8b51c2e",
       "style": "IPY_MODEL_f44e1f9506a34c14a91903311b239eae",
       "value": "<i>Geben Sie die korrekte Antwort ein: </i>"
      }
     },
     "daf34638b6e94e428d6e4037cbbefad3": {
      "model_module": "@jupyter-widgets/controls",
      "model_module_version": "1.4.0",
      "model_name": "CheckboxModel",
      "state": {
       "description": "Die Summe aller Regelwahrscheinlichkeiten für jede RHS ist jeweils 1.",
       "disabled": false,
       "layout": "IPY_MODEL_3d170b8c395248d6a5d1f4e79f7f1ec9",
       "style": "IPY_MODEL_2f76f9f748494911b72f02fa0910de85",
       "value": false
      }
     },
     "daf5c5c8389347ac9983d5bd652a67ac": {
      "model_module": "@jupyter-widgets/base",
      "model_module_version": "1.1.0",
      "model_name": "LayoutModel",
      "state": {}
     },
     "db0ce25d7a384174af1dbd487f8cb7a4": {
      "model_module": "@jupyter-widgets/controls",
      "model_module_version": "1.4.0",
      "model_name": "ButtonStyleModel",
      "state": {
       "button_color": "lightgreen"
      }
     },
     "db2872c2cddc42f39d69ffd275780a87": {
      "model_module": "@jupyter-widgets/controls",
      "model_module_version": "1.4.0",
      "model_name": "CheckboxModel",
      "state": {
       "description": "Die Summe aller Regelwahrscheinlichkeiten für jede LHS ist jeweils 1.",
       "disabled": false,
       "layout": "IPY_MODEL_5615f6b7711f43158ec872ddc392314c",
       "style": "IPY_MODEL_991b75499d3d4e9b93f85c9358f2dc5d",
       "value": false
      }
     },
     "db4acddfb4324e189543a59becf586e6": {
      "model_module": "@jupyter-widgets/base",
      "model_module_version": "1.1.0",
      "model_name": "LayoutModel",
      "state": {
       "width": "250px"
      }
     },
     "db7a02569a3a4c0d9e49f1c325333185": {
      "model_module": "@jupyter-widgets/base",
      "model_module_version": "1.1.0",
      "model_name": "LayoutModel",
      "state": {}
     },
     "db89a54545274e04a8cf6646c80e8eeb": {
      "model_module": "@jupyter-widgets/controls",
      "model_module_version": "1.4.0",
      "model_name": "VBoxModel",
      "state": {
       "children": [
        "IPY_MODEL_d6c0ac6a9ceb4f08b44c6e1e711e7930",
        "IPY_MODEL_912a843070524305a81d35e1aeaf9852",
        "IPY_MODEL_c61aa23614254938b9af43b903c93741",
        "IPY_MODEL_44d71df3445449daa24888ead4ea9284"
       ],
       "layout": "IPY_MODEL_d2f65b257c9c45cca801030d9d63bdad"
      }
     },
     "db97859576cc4ebc94add0bf529c6485": {
      "model_module": "@jupyter-widgets/controls",
      "model_module_version": "1.4.0",
      "model_name": "HTMLModel",
      "state": {
       "layout": "IPY_MODEL_22318e26f4d7485db6ee7c5f134f0b61",
       "style": "IPY_MODEL_1d922f31e8ab43e7a9ca3c5324d1de64",
       "value": "<h4 style=\"font-size:14px;\">Um welchen Parser kann es sich nicht handeln?</h4>"
      }
     },
     "db9febcf62a6429584f4dd4272152af9": {
      "model_module": "@jupyter-widgets/controls",
      "model_module_version": "1.4.0",
      "model_name": "DescriptionStyleModel",
      "state": {
       "description_width": ""
      }
     },
     "dbc4533065484ccc8ccd9eb7bf9c75ce": {
      "model_module": "@jupyter-widgets/controls",
      "model_module_version": "1.4.0",
      "model_name": "HBoxModel",
      "state": {
       "children": [
        "IPY_MODEL_34fe6e20f0c34af4b293362b6ce72347",
        "IPY_MODEL_e0e08724efcf40c99cbd5bd1d180b816"
       ],
       "layout": "IPY_MODEL_270b59f37e414d52b7f827cf740495db"
      }
     },
     "dbdb474f808645739b83b09f66a4e0fe": {
      "model_module": "@jupyter-widgets/base",
      "model_module_version": "1.1.0",
      "model_name": "LayoutModel",
      "state": {
       "width": "600px"
      }
     },
     "dc0aa178d2a14208ac88871e6318457e": {
      "model_module": "@jupyter-widgets/base",
      "model_module_version": "1.1.0",
      "model_name": "LayoutModel",
      "state": {}
     },
     "dc254f2efeca43cebecdd2425ff99532": {
      "model_module": "@jupyter-widgets/base",
      "model_module_version": "1.1.0",
      "model_name": "LayoutModel",
      "state": {
       "justify_content": "center"
      }
     },
     "dc3e9cf77d434359bef2a56ae008c036": {
      "model_module": "@jupyter-widgets/base",
      "model_module_version": "1.1.0",
      "model_name": "LayoutModel",
      "state": {
       "justify_content": "center"
      }
     },
     "dcbac422b6754d45a26cc464e31ee2ef": {
      "model_module": "@jupyter-widgets/controls",
      "model_module_version": "1.4.0",
      "model_name": "DescriptionStyleModel",
      "state": {
       "description_width": "initial"
      }
     },
     "dcceba5ac92448b6baa3fcdaf2deab46": {
      "model_module": "@jupyter-widgets/base",
      "model_module_version": "1.1.0",
      "model_name": "LayoutModel",
      "state": {}
     },
     "dcdeae615d8f480b86de2ceed514a56d": {
      "model_module": "@jupyter-widgets/base",
      "model_module_version": "1.1.0",
      "model_name": "LayoutModel",
      "state": {
       "width": "250px"
      }
     },
     "dce92028c9a042869d2a4c9a492471c6": {
      "model_module": "@jupyter-widgets/base",
      "model_module_version": "1.1.0",
      "model_name": "LayoutModel",
      "state": {
       "width": "600px"
      }
     },
     "dd0dda04c61e4e48b6c90486827010b6": {
      "model_module": "@jupyter-widgets/controls",
      "model_module_version": "1.4.0",
      "model_name": "VBoxModel",
      "state": {
       "children": [
        "IPY_MODEL_4a24ca59b82d4779ab13c7954e5100b5",
        "IPY_MODEL_7d03210ab08f40fab32e6d4985270fc1",
        "IPY_MODEL_4eb486fbb09b4af6a414353012349231",
        "IPY_MODEL_890024efffee4dbfb520de4d1c2ab790"
       ],
       "layout": "IPY_MODEL_c25319a83b89499dab369ca985efc31e"
      }
     },
     "dd277814b704457f9c14acc43912411d": {
      "model_module": "@jupyter-widgets/controls",
      "model_module_version": "1.4.0",
      "model_name": "ButtonStyleModel",
      "state": {}
     },
     "dd4237e7330f4183b90fe8219659efd7": {
      "model_module": "@jupyter-widgets/controls",
      "model_module_version": "1.4.0",
      "model_name": "DescriptionStyleModel",
      "state": {
       "description_width": ""
      }
     },
     "dd4bbb61a44246a49ac4d2ab36537fd1": {
      "model_module": "@jupyter-widgets/controls",
      "model_module_version": "1.4.0",
      "model_name": "VBoxModel",
      "state": {
       "children": [
        "IPY_MODEL_f0c1028bb1f549678868947144ba5f2b",
        "IPY_MODEL_c6c559cdb92645c096da363b967709b1",
        "IPY_MODEL_664bdab2e1c149fd90e0d891e9e8ec0e",
        "IPY_MODEL_5ea6379765514a72833540aca100faf2"
       ],
       "layout": "IPY_MODEL_46092427bc1543cea308ac0156ec991b"
      }
     },
     "dd8323c7d9a64d0e81c13a470708c19e": {
      "model_module": "@jupyter-widgets/controls",
      "model_module_version": "1.4.0",
      "model_name": "ButtonModel",
      "state": {
       "description": "Korrekt?",
       "layout": "IPY_MODEL_897acb06242348979dc2a2edb9dbbe3b",
       "style": "IPY_MODEL_8260837052cf49e68ed0aa1a94b3eea3"
      }
     },
     "ddbe14d3e851433aa92146749bc59553": {
      "model_module": "@jupyter-widgets/controls",
      "model_module_version": "1.4.0",
      "model_name": "ButtonModel",
      "state": {
       "description": "nach der beam-size",
       "layout": "IPY_MODEL_12017169daad4f44b57460be89c06adc",
       "style": "IPY_MODEL_8ca5e8ea4c5c41849e061cc9fbd93281"
      }
     },
     "ddd2c8cfe2854090835cb505802f789c": {
      "model_module": "@jupyter-widgets/base",
      "model_module_version": "1.1.0",
      "model_name": "LayoutModel",
      "state": {
       "justify_content": "center"
      }
     },
     "ddd4d086b2fd42908550e5c5d18e0c23": {
      "model_module": "@jupyter-widgets/base",
      "model_module_version": "1.1.0",
      "model_name": "LayoutModel",
      "state": {
       "width": "250px"
      }
     },
     "dde1c20c2f754c6e9c29018f2f125bca": {
      "model_module": "@jupyter-widgets/controls",
      "model_module_version": "1.4.0",
      "model_name": "ButtonModel",
      "state": {
       "description": "Bestimmung der Köpfe und Dependenzrelationen",
       "layout": "IPY_MODEL_c3cd8ff2357a49ec8511b32b21abbd29",
       "style": "IPY_MODEL_d961599a146e401598715e7f6309cab3"
      }
     },
     "de05d3807f8e44e1a83057302077f814": {
      "model_module": "@jupyter-widgets/base",
      "model_module_version": "1.1.0",
      "model_name": "LayoutModel",
      "state": {}
     },
     "de17c6483fee408bbda5eca763d92f7d": {
      "model_module": "@jupyter-widgets/base",
      "model_module_version": "1.1.0",
      "model_name": "LayoutModel",
      "state": {}
     },
     "de26f3bb920d46e88854184c61ca2109": {
      "model_module": "@jupyter-widgets/controls",
      "model_module_version": "1.4.0",
      "model_name": "VBoxModel",
      "state": {
       "children": [
        "IPY_MODEL_f558396b569946998bbec5c837fdfb54",
        "IPY_MODEL_9454c0515b434628a5681dd2245b4a8b",
        "IPY_MODEL_e7f05f3ab90845f081bd418a3373730e",
        "IPY_MODEL_4a7609ba95124407a6f80a76d90715a8"
       ],
       "layout": "IPY_MODEL_cc680dcd1fdc438db72996a03c82d77f"
      }
     },
     "de417afc20144f6386f38c8737002376": {
      "model_module": "@jupyter-widgets/controls",
      "model_module_version": "1.4.0",
      "model_name": "HTMLModel",
      "state": {
       "layout": "IPY_MODEL_9815d440b15e472797367aa7c6ffb080",
       "style": "IPY_MODEL_80376e2518634bc5b791e8faa679c6b7",
       "value": "<h4 style=\"font-size:14px;\">Um welchen Parser kann es sich nicht handeln?</h4>"
      }
     },
     "deb1e5cc68d6411597677ea21f178d0e": {
      "model_module": "@jupyter-widgets/base",
      "model_module_version": "1.1.0",
      "model_name": "LayoutModel",
      "state": {}
     },
     "dec9b22bc1654ce88f250d36781f95e2": {
      "model_module": "@jupyter-widgets/controls",
      "model_module_version": "1.4.0",
      "model_name": "DescriptionStyleModel",
      "state": {
       "description_width": "initial"
      }
     },
     "dee389f500b446e687c92e15c3765e20": {
      "model_module": "@jupyter-widgets/controls",
      "model_module_version": "1.4.0",
      "model_name": "DescriptionStyleModel",
      "state": {
       "description_width": "initial"
      }
     },
     "dee5e41a77ab47d9928f64ca46d9af54": {
      "model_module": "@jupyter-widgets/base",
      "model_module_version": "1.1.0",
      "model_name": "LayoutModel",
      "state": {}
     },
     "dee6b4db21ec455fbc8ac888b052e5ec": {
      "model_module": "@jupyter-widgets/base",
      "model_module_version": "1.1.0",
      "model_name": "LayoutModel",
      "state": {}
     },
     "def0bc9c09ad4d8bb2c7b747972bee08": {
      "model_module": "@jupyter-widgets/controls",
      "model_module_version": "1.4.0",
      "model_name": "ButtonStyleModel",
      "state": {}
     },
     "df0a5af4f3bb44c290eb5c9cbdab1022": {
      "model_module": "@jupyter-widgets/controls",
      "model_module_version": "1.4.0",
      "model_name": "CheckboxModel",
      "state": {
       "description": "Die Summe aller Regelwahrscheinlichkeiten innerhalb einer Grammatik ist 1.",
       "disabled": false,
       "layout": "IPY_MODEL_130dbfd558dd4cfd9eb94e86e9c6c5c7",
       "style": "IPY_MODEL_3c95f96508b7445d8449fa711f9adbab",
       "value": false
      }
     },
     "df0ca4345000438ea64c1b8ea4b34f1d": {
      "model_module": "@jupyter-widgets/base",
      "model_module_version": "1.1.0",
      "model_name": "LayoutModel",
      "state": {
       "width": "250px"
      }
     },
     "df1d78efae86481c93bfe90efc83e482": {
      "model_module": "@jupyter-widgets/base",
      "model_module_version": "1.1.0",
      "model_name": "LayoutModel",
      "state": {
       "width": "600px"
      }
     },
     "df29f2d37677491aaa2c09520a6ad379": {
      "model_module": "@jupyter-widgets/controls",
      "model_module_version": "1.4.0",
      "model_name": "ButtonStyleModel",
      "state": {}
     },
     "df42b3e36c404aa0b0c9957d455b3388": {
      "model_module": "@jupyter-widgets/controls",
      "model_module_version": "1.4.0",
      "model_name": "DescriptionStyleModel",
      "state": {
       "description_width": ""
      }
     },
     "df7fef06fda745e28e8cfe706bdee104": {
      "model_module": "@jupyter-widgets/controls",
      "model_module_version": "1.4.0",
      "model_name": "DescriptionStyleModel",
      "state": {
       "description_width": ""
      }
     },
     "dfff7b5f22c04c18a1f0c5a52fe7c4b1": {
      "model_module": "@jupyter-widgets/controls",
      "model_module_version": "1.4.0",
      "model_name": "CheckboxModel",
      "state": {
       "description": "Finden aller Konstituenten",
       "disabled": false,
       "layout": "IPY_MODEL_4cfde9892c56481494eebfcc74494e39",
       "style": "IPY_MODEL_840e424c74f14fa0af56f4e0c2435e11",
       "value": false
      }
     },
     "e02352d2d6504404873aa9ec023aca2e": {
      "model_module": "@jupyter-widgets/base",
      "model_module_version": "1.1.0",
      "model_name": "LayoutModel",
      "state": {
       "width": "600px"
      }
     },
     "e03331a6cb144df58407bf56da795872": {
      "model_module": "@jupyter-widgets/controls",
      "model_module_version": "1.4.0",
      "model_name": "ButtonModel",
      "state": {
       "description": "nach der Länge der Ableitung",
       "layout": "IPY_MODEL_a455f61992fc42d69df22c944801aaec",
       "style": "IPY_MODEL_783fb226462c47e69b19060f1e1200c3"
      }
     },
     "e03a067a42c844a7a5f7f2a3987023bd": {
      "model_module": "@jupyter-widgets/controls",
      "model_module_version": "1.4.0",
      "model_name": "ButtonModel",
      "state": {
       "description": "ViterbiParser",
       "layout": "IPY_MODEL_38ec576f81f54022a771531e03676944",
       "style": "IPY_MODEL_8233e624e8b24ddbaed2385b72e86fb6"
      }
     },
     "e044df67f2444d5ab6f84464537a48f6": {
      "model_module": "@jupyter-widgets/controls",
      "model_module_version": "1.4.0",
      "model_name": "HTMLModel",
      "state": {
       "layout": "IPY_MODEL_5fac3634b9594c5198aff6c1f2a7ba23",
       "style": "IPY_MODEL_e3119e1b71f34e96b406b124f583a518",
       "value": "<i>Wählen Sie die <ins>eine</ins> korrekte Antwort aus: </i>"
      }
     },
     "e09bfb9f1dae48848193ac5e33096dd7": {
      "model_module": "@jupyter-widgets/base",
      "model_module_version": "1.1.0",
      "model_name": "LayoutModel",
      "state": {
       "border": "2px solid lightgreen"
      }
     },
     "e0a7d6eebf66417397bcffb1f5f53e88": {
      "model_module": "@jupyter-widgets/base",
      "model_module_version": "1.1.0",
      "model_name": "LayoutModel",
      "state": {
       "justify_content": "center"
      }
     },
     "e0ce7df68cc44e499bb256e4696cbb75": {
      "model_module": "@jupyter-widgets/base",
      "model_module_version": "1.1.0",
      "model_name": "LayoutModel",
      "state": {
       "justify_content": "center"
      }
     },
     "e0e08724efcf40c99cbd5bd1d180b816": {
      "model_module": "@jupyter-widgets/controls",
      "model_module_version": "1.4.0",
      "model_name": "ButtonModel",
      "state": {
       "description": "Lösung zeigen",
       "layout": "IPY_MODEL_d209b9e098ba4bdb82c7b68b5a2481ea",
       "style": "IPY_MODEL_9ffd009dfb454af4a2dfd928ac69d686"
      }
     },
     "e1058d2eb7974ff3996889a730e119af": {
      "model_module": "@jupyter-widgets/base",
      "model_module_version": "1.1.0",
      "model_name": "LayoutModel",
      "state": {
       "width": "600px"
      }
     },
     "e14f628034a54c15a99b41bd44d977e2": {
      "model_module": "@jupyter-widgets/base",
      "model_module_version": "1.1.0",
      "model_name": "LayoutModel",
      "state": {
       "width": "250px"
      }
     },
     "e15d124c363d4506ad65cb6a70b85935": {
      "model_module": "@jupyter-widgets/controls",
      "model_module_version": "1.4.0",
      "model_name": "DescriptionStyleModel",
      "state": {
       "description_width": ""
      }
     },
     "e1871404411c4301aee1f21311bcabad": {
      "model_module": "@jupyter-widgets/controls",
      "model_module_version": "1.4.0",
      "model_name": "HBoxModel",
      "state": {
       "children": [
        "IPY_MODEL_8ac8d36f8144409fa577b98b2573cef2",
        "IPY_MODEL_23a911e2ee794a7193ee9e13ea2d36b4"
       ],
       "layout": "IPY_MODEL_dee5e41a77ab47d9928f64ca46d9af54"
      }
     },
     "e18bc13e70d24194ac7a4b5013486e75": {
      "model_module": "@jupyter-widgets/base",
      "model_module_version": "1.1.0",
      "model_name": "LayoutModel",
      "state": {
       "width": "600px"
      }
     },
     "e1a775dfc2ae4e10b75e24087e062df2": {
      "model_module": "@jupyter-widgets/base",
      "model_module_version": "1.1.0",
      "model_name": "LayoutModel",
      "state": {}
     },
     "e1a861598581438cbf8224952bec433f": {
      "model_module": "@jupyter-widgets/controls",
      "model_module_version": "1.4.0",
      "model_name": "HBoxModel",
      "state": {
       "children": [
        "IPY_MODEL_f4e84a05ed5d486a85a1f4b67dda76cc",
        "IPY_MODEL_b8c323e6237c430cb1371dd3b1607d78"
       ],
       "layout": "IPY_MODEL_eaf7f6b3b8264dd280f6850ae6640e3b"
      }
     },
     "e1ee931aa84a4004b93a8157cf9cd09b": {
      "model_module": "@jupyter-widgets/controls",
      "model_module_version": "1.4.0",
      "model_name": "HTMLModel",
      "state": {
       "layout": "IPY_MODEL_fc5ad1f1b61241c58e947a913d351a6a",
       "style": "IPY_MODEL_5c98cecf99364b21885318cff798ce17",
       "value": "<i>Wählen Sie die <ins>eine</ins> korrekte Antwort aus: </i>"
      }
     },
     "e1f15fd4452747e9ba3e6e8d9189ecf3": {
      "model_module": "@jupyter-widgets/controls",
      "model_module_version": "1.4.0",
      "model_name": "DescriptionStyleModel",
      "state": {
       "description_width": ""
      }
     },
     "e21222fcb88c4356af8884829b7ec403": {
      "model_module": "@jupyter-widgets/base",
      "model_module_version": "1.1.0",
      "model_name": "LayoutModel",
      "state": {}
     },
     "e218e90edd4f401c86105dd8ba481ce6": {
      "model_module": "@jupyter-widgets/controls",
      "model_module_version": "1.4.0",
      "model_name": "TextModel",
      "state": {
       "layout": "IPY_MODEL_deb1e5cc68d6411597677ea21f178d0e",
       "style": "IPY_MODEL_8b73465546064791abcdb10414df124f"
      }
     },
     "e22362abf640486aa8975bcd495310f7": {
      "model_module": "@jupyter-widgets/controls",
      "model_module_version": "1.4.0",
      "model_name": "DescriptionStyleModel",
      "state": {
       "description_width": "initial"
      }
     },
     "e23b241027e743ce9573dc0e60b290b5": {
      "model_module": "@jupyter-widgets/controls",
      "model_module_version": "1.4.0",
      "model_name": "ButtonStyleModel",
      "state": {}
     },
     "e265bec3f8b44b0db7c50c1c56286268": {
      "model_module": "@jupyter-widgets/controls",
      "model_module_version": "1.4.0",
      "model_name": "HTMLModel",
      "state": {
       "layout": "IPY_MODEL_6a181ceb470b43eaab61ffb79aed19a4",
       "style": "IPY_MODEL_b0d9dc70cc3841e3b0830e0466a8d4e9",
       "value": "<h4 style=\"font-size:14px;\">Warum werden die Analysen in den Discard-Zeilen verworfen?</h4>"
      }
     },
     "e26d4f812f6d4fbf97045f1e038710b8": {
      "model_module": "@jupyter-widgets/controls",
      "model_module_version": "1.4.0",
      "model_name": "HTMLModel",
      "state": {
       "layout": "IPY_MODEL_c956c790ceef48ea9738dd9dea33763c",
       "style": "IPY_MODEL_31f38b8574db468789af669c78702d1e",
       "value": "<i>Wählen Sie die <ins>eine</ins> korrekte Antwort aus: </i>"
      }
     },
     "e29289c143ec4c9ab22ae09329303618": {
      "model_module": "@jupyter-widgets/base",
      "model_module_version": "1.1.0",
      "model_name": "LayoutModel",
      "state": {
       "width": "250px"
      }
     },
     "e2b7ec9e833949ab9715eee777de6d00": {
      "model_module": "@jupyter-widgets/controls",
      "model_module_version": "1.4.0",
      "model_name": "ButtonStyleModel",
      "state": {}
     },
     "e2f7125923c047ea8e8748c070c69116": {
      "model_module": "@jupyter-widgets/controls",
      "model_module_version": "1.4.0",
      "model_name": "HTMLModel",
      "state": {
       "layout": "IPY_MODEL_9c749fbcad54487b9aa2ae86752a0026",
       "style": "IPY_MODEL_9126516233e148f98133593cc09ad427",
       "value": "<h4 style=\"font-size:14px;\">Welche der folgenden Bedingungen wird an eine PCFG gestellt?</h4>"
      }
     },
     "e3119e1b71f34e96b406b124f583a518": {
      "model_module": "@jupyter-widgets/controls",
      "model_module_version": "1.4.0",
      "model_name": "DescriptionStyleModel",
      "state": {
       "description_width": ""
      }
     },
     "e316013109bc4c8ebc08502a1c307797": {
      "model_module": "@jupyter-widgets/controls",
      "model_module_version": "1.4.0",
      "model_name": "ButtonStyleModel",
      "state": {}
     },
     "e3318e9bb47d4b2e8c87a14b504c07d4": {
      "model_module": "@jupyter-widgets/controls",
      "model_module_version": "1.4.0",
      "model_name": "DescriptionStyleModel",
      "state": {
       "description_width": ""
      }
     },
     "e34396411fcf4fbcad9094c448dfd8d0": {
      "model_module": "@jupyter-widgets/controls",
      "model_module_version": "1.4.0",
      "model_name": "DescriptionStyleModel",
      "state": {
       "description_width": ""
      }
     },
     "e35627bc36dd4825958c0621c8a30333": {
      "model_module": "@jupyter-widgets/controls",
      "model_module_version": "1.4.0",
      "model_name": "ButtonModel",
      "state": {
       "description": "nach der beam-size",
       "layout": "IPY_MODEL_f41b725112ee475abb73987bf6bbc81e",
       "style": "IPY_MODEL_20934acb49424a9193988d5fa23ec59e"
      }
     },
     "e35a5fda7cca4194b95b00f2a567db93": {
      "model_module": "@jupyter-widgets/controls",
      "model_module_version": "1.4.0",
      "model_name": "CheckboxModel",
      "state": {
       "description": "Ihre Wahrscheinlichkeiten sind zu gering.",
       "disabled": false,
       "layout": "IPY_MODEL_09206c542aae4903905a528d904f2da3",
       "style": "IPY_MODEL_c135fcacff9c422fb5da91149081a577",
       "value": false
      }
     },
     "e38ddd61b35442ec9822f63b82c423cf": {
      "model_module": "@jupyter-widgets/controls",
      "model_module_version": "1.4.0",
      "model_name": "HBoxModel",
      "state": {
       "children": [
        "IPY_MODEL_1fb7702337a14257a8a26257b607aea2",
        "IPY_MODEL_e03a067a42c844a7a5f7f2a3987023bd"
       ],
       "layout": "IPY_MODEL_be6001b060a24a02a7c333f25db9cbaa"
      }
     },
     "e3b0aed735b2436e9ecdd16805394faa": {
      "model_module": "@jupyter-widgets/controls",
      "model_module_version": "1.4.0",
      "model_name": "DescriptionStyleModel",
      "state": {
       "description_width": "initial"
      }
     },
     "e3bbaec2db7d4fbfb8115fc329190408": {
      "model_module": "@jupyter-widgets/controls",
      "model_module_version": "1.4.0",
      "model_name": "HTMLModel",
      "state": {
       "layout": "IPY_MODEL_a934ba7d45fe468ba6f77bdfdc85393f",
       "style": "IPY_MODEL_6c8d0f3aa6c2456db10e39a73058bc28",
       "value": "<i>Wählen Sie die <ins>eine</ins> korrekte Antwort aus: </i>"
      }
     },
     "e439011b3e1d459f893cfc05a6d5f38a": {
      "model_module": "@jupyter-widgets/controls",
      "model_module_version": "1.4.0",
      "model_name": "DescriptionStyleModel",
      "state": {
       "description_width": "initial"
      }
     },
     "e45e9dc06cbc4e1e9f178ba703897c0b": {
      "model_module": "@jupyter-widgets/base",
      "model_module_version": "1.1.0",
      "model_name": "LayoutModel",
      "state": {
       "width": "250px"
      }
     },
     "e46a530fe43a4a43accd1d7affb9735d": {
      "model_module": "@jupyter-widgets/base",
      "model_module_version": "1.1.0",
      "model_name": "LayoutModel",
      "state": {}
     },
     "e50071fe95d24e189b63a6fe30899e78": {
      "model_module": "@jupyter-widgets/base",
      "model_module_version": "1.1.0",
      "model_name": "LayoutModel",
      "state": {
       "width": "600px"
      }
     },
     "e5021f0bd6ab421884d0798e9a31f1e3": {
      "model_module": "@jupyter-widgets/controls",
      "model_module_version": "1.4.0",
      "model_name": "DescriptionStyleModel",
      "state": {
       "description_width": ""
      }
     },
     "e502593211ae454fb0b96e7103f958e8": {
      "model_module": "@jupyter-widgets/controls",
      "model_module_version": "1.4.0",
      "model_name": "HTMLModel",
      "state": {
       "layout": "IPY_MODEL_d1995b0ff6b7457eac187bf3fc6711c5",
       "style": "IPY_MODEL_21fc3b6f631e4888bcf02a07d78eaf87",
       "value": "<i>Wählen Sie die <ins>eine</ins> korrekte Antwort aus: </i>"
      }
     },
     "e50df84612d248dc812787070c96c08d": {
      "model_module": "@jupyter-widgets/base",
      "model_module_version": "1.1.0",
      "model_name": "LayoutModel",
      "state": {
       "width": "250px"
      }
     },
     "e5183d43ee3f49baa2ef05370822ab98": {
      "model_module": "@jupyter-widgets/base",
      "model_module_version": "1.1.0",
      "model_name": "LayoutModel",
      "state": {}
     },
     "e51d12a7f3ca47de8682ec3469934823": {
      "model_module": "@jupyter-widgets/base",
      "model_module_version": "1.1.0",
      "model_name": "LayoutModel",
      "state": {
       "width": "250px"
      }
     },
     "e51fbe7dd3dd414ba88bbdced558c0ee": {
      "model_module": "@jupyter-widgets/controls",
      "model_module_version": "1.4.0",
      "model_name": "ButtonStyleModel",
      "state": {}
     },
     "e52def90ac1d457192469a628597b226": {
      "model_module": "@jupyter-widgets/controls",
      "model_module_version": "1.4.0",
      "model_name": "VBoxModel",
      "state": {
       "children": [
        "IPY_MODEL_bb4126316cc640eabed27f415d47dfbe",
        "IPY_MODEL_43a97d25d7444e9680b8d39d8d7afbf6",
        "IPY_MODEL_e218e90edd4f401c86105dd8ba481ce6",
        "IPY_MODEL_286d466fee5b477f8d0ab54b5a7e613f"
       ],
       "layout": "IPY_MODEL_5385dc6aebd540eb913f0a4cfe5c882a"
      }
     },
     "e56832345b49420ea479fe8885116554": {
      "model_module": "@jupyter-widgets/controls",
      "model_module_version": "1.4.0",
      "model_name": "ButtonStyleModel",
      "state": {
       "button_color": "lightgreen"
      }
     },
     "e56a31e4a35f4e8f863756f591e2bf6e": {
      "model_module": "@jupyter-widgets/controls",
      "model_module_version": "1.4.0",
      "model_name": "VBoxModel",
      "state": {
       "children": [
        "IPY_MODEL_c1ebc56c9f164e3bb1b4cfb09a924e0d",
        "IPY_MODEL_e3bbaec2db7d4fbfb8115fc329190408",
        "IPY_MODEL_07e5622257ab4a6099a3e9ab3cd11202",
        "IPY_MODEL_0cb3efbff9cd4f16851365e6ef1ceaed"
       ],
       "layout": "IPY_MODEL_72fa540803e34e5192db630b08780d84"
      }
     },
     "e585d19d60af4a8cbd2be969a6411265": {
      "model_module": "@jupyter-widgets/controls",
      "model_module_version": "1.4.0",
      "model_name": "ButtonStyleModel",
      "state": {}
     },
     "e5a9a41bd61c4b859c6b1ea6aa38b443": {
      "model_module": "@jupyter-widgets/controls",
      "model_module_version": "1.4.0",
      "model_name": "ButtonStyleModel",
      "state": {
       "button_color": "lightgreen"
      }
     },
     "e5c23bba834842e4b83ca81fc720aac5": {
      "model_module": "@jupyter-widgets/controls",
      "model_module_version": "1.4.0",
      "model_name": "CheckboxModel",
      "state": {
       "description": "Ihre Wahrscheinlichkeiten sind zu gering.",
       "disabled": false,
       "layout": "IPY_MODEL_710c7ae70f984771a029a78a45f3c49d",
       "style": "IPY_MODEL_3a480ceb4b7042e4bd3d7dcc5565af18",
       "value": true
      }
     },
     "e5d02430f36f4f148c7430ea663d88f3": {
      "model_module": "@jupyter-widgets/base",
      "model_module_version": "1.1.0",
      "model_name": "LayoutModel",
      "state": {}
     },
     "e61118389db744b58ca35d6f0000ce70": {
      "model_module": "@jupyter-widgets/controls",
      "model_module_version": "1.4.0",
      "model_name": "CheckboxModel",
      "state": {
       "description": "Die Summe aller Regelwahrscheinlichkeiten für jede LHS ist jeweils 1.",
       "disabled": false,
       "layout": "IPY_MODEL_8746a304ec9b4c9ea39b87eabe723ca6",
       "style": "IPY_MODEL_377e6757d2794b808e37e2d721f4bef0",
       "value": true
      }
     },
     "e616319d5bc643f7a5cc7c002b541a45": {
      "model_module": "@jupyter-widgets/controls",
      "model_module_version": "1.4.0",
      "model_name": "DescriptionStyleModel",
      "state": {
       "description_width": "initial"
      }
     },
     "e6280d5856084fb9ad9e87e57bd9c50b": {
      "model_module": "@jupyter-widgets/controls",
      "model_module_version": "1.4.0",
      "model_name": "DescriptionStyleModel",
      "state": {
       "description_width": "initial"
      }
     },
     "e68ebaeae409409e99413cc67fc9df0e": {
      "model_module": "@jupyter-widgets/controls",
      "model_module_version": "1.4.0",
      "model_name": "ButtonModel",
      "state": {
       "description": "Koordinationsambiguität",
       "layout": "IPY_MODEL_8b9c8e863a214794910f1b001d5b2bb5",
       "style": "IPY_MODEL_06b8d5faa2e443cebc614f371af13920"
      }
     },
     "e69f4d5c17aa44858bdc16172710766f": {
      "model_module": "@jupyter-widgets/controls",
      "model_module_version": "1.4.0",
      "model_name": "ButtonStyleModel",
      "state": {}
     },
     "e6f92c5ec2194fcbb72594e08ea2fd3e": {
      "model_module": "@jupyter-widgets/controls",
      "model_module_version": "1.4.0",
      "model_name": "DescriptionStyleModel",
      "state": {
       "description_width": "initial"
      }
     },
     "e72505e72f2145348b09de1a0b9c4f5e": {
      "model_module": "@jupyter-widgets/controls",
      "model_module_version": "1.4.0",
      "model_name": "CheckboxModel",
      "state": {
       "description": "Finden aller Konstituenten",
       "disabled": false,
       "layout": "IPY_MODEL_ad1c5154ee4d419db23e42bccaac0724",
       "style": "IPY_MODEL_e753148553e84642a1448ad22b1466d2",
       "value": false
      }
     },
     "e728bbfd699048b1bf7c26752f74f9b9": {
      "model_module": "@jupyter-widgets/controls",
      "model_module_version": "1.4.0",
      "model_name": "HTMLModel",
      "state": {
       "layout": "IPY_MODEL_edd3817d957547e4a46da7833475d2ed",
       "style": "IPY_MODEL_df42b3e36c404aa0b0c9957d455b3388",
       "value": "<h4 style=\"font-size:14px;\">Berechnen Sie die Wahrscheinlichkeit für die Ableitung in der letzten Zeile.</h4>"
      }
     },
     "e74fab6aa53f4ac882c5c05e7aed2daf": {
      "model_module": "@jupyter-widgets/base",
      "model_module_version": "1.1.0",
      "model_name": "LayoutModel",
      "state": {
       "justify_content": "center"
      }
     },
     "e753148553e84642a1448ad22b1466d2": {
      "model_module": "@jupyter-widgets/controls",
      "model_module_version": "1.4.0",
      "model_name": "DescriptionStyleModel",
      "state": {
       "description_width": "initial"
      }
     },
     "e7577a2121bf4df287adcc610bf82353": {
      "model_module": "@jupyter-widgets/base",
      "model_module_version": "1.1.0",
      "model_name": "LayoutModel",
      "state": {
       "width": "600px"
      }
     },
     "e779a0c56907499f9d29de5c908abc1a": {
      "model_module": "@jupyter-widgets/controls",
      "model_module_version": "1.4.0",
      "model_name": "ButtonStyleModel",
      "state": {}
     },
     "e77f876d6f61412f92eaa5040dcd6c37": {
      "model_module": "@jupyter-widgets/controls",
      "model_module_version": "1.4.0",
      "model_name": "DescriptionStyleModel",
      "state": {
       "description_width": ""
      }
     },
     "e7a97f9e851a47668a1482d7e47ba5d6": {
      "model_module": "@jupyter-widgets/controls",
      "model_module_version": "1.4.0",
      "model_name": "ButtonStyleModel",
      "state": {
       "button_color": "lightgreen"
      }
     },
     "e7afe789ca7745ce84e11e5e05f92b42": {
      "model_module": "@jupyter-widgets/base",
      "model_module_version": "1.1.0",
      "model_name": "LayoutModel",
      "state": {}
     },
     "e7b6e30cc5cb4349915cd0d3ad369da1": {
      "model_module": "@jupyter-widgets/base",
      "model_module_version": "1.1.0",
      "model_name": "LayoutModel",
      "state": {
       "width": "600px"
      }
     },
     "e7d033f540014298bb29f5d73eb2864c": {
      "model_module": "@jupyter-widgets/controls",
      "model_module_version": "1.4.0",
      "model_name": "ButtonModel",
      "state": {
       "description": "Koordinationsambiguität",
       "layout": "IPY_MODEL_158fc1c8280e44a5841daad3fae8e774",
       "style": "IPY_MODEL_86764382cade4469a704b861a04a7f44"
      }
     },
     "e7f05f3ab90845f081bd418a3373730e": {
      "model_module": "@jupyter-widgets/controls",
      "model_module_version": "1.4.0",
      "model_name": "VBoxModel",
      "state": {
       "children": [
        "IPY_MODEL_5e879be9519042ba850cd5f751645196",
        "IPY_MODEL_a3851592308b46c1814adc62aa2f9ff8",
        "IPY_MODEL_995b7fe8d76f4d2fb23117786c9ddef7",
        "IPY_MODEL_21b6459ff61f47b3a743913061ae9e02"
       ],
       "layout": "IPY_MODEL_8cfcff47c6c4446ab520ad4ca5b43fdf"
      }
     },
     "e7fe43fc9754463dbe0f27e57dfd78e8": {
      "model_module": "@jupyter-widgets/controls",
      "model_module_version": "1.4.0",
      "model_name": "HBoxModel",
      "state": {
       "children": [
        "IPY_MODEL_e940087f9704451681483bb04de01b3c"
       ],
       "layout": "IPY_MODEL_d8286ec7b27f4c46959ab863f9abb299"
      }
     },
     "e80ab966e66c4463a5f357716299868d": {
      "model_module": "@jupyter-widgets/controls",
      "model_module_version": "1.4.0",
      "model_name": "CheckboxModel",
      "state": {
       "description": "Finden aller Konstituenten",
       "disabled": false,
       "layout": "IPY_MODEL_1b1baccab94a4c2ebd729bc6f57f781d",
       "style": "IPY_MODEL_0c9f5b874fc447bb9959a9264a8e51fb",
       "value": false
      }
     },
     "e81aed89da5043b7b1b7790bdcf39379": {
      "model_module": "@jupyter-widgets/base",
      "model_module_version": "1.1.0",
      "model_name": "LayoutModel",
      "state": {
       "justify_content": "center"
      }
     },
     "e87817c0349d45e588e665831c1a990b": {
      "model_module": "@jupyter-widgets/controls",
      "model_module_version": "1.4.0",
      "model_name": "ButtonModel",
      "state": {
       "description": "Temporale Ambiguität",
       "layout": "IPY_MODEL_c1be67421ed7498b89373eda1062218a",
       "style": "IPY_MODEL_a2907b9e70a84cd5a883eaadecd76458"
      }
     },
     "e8c9e9bf8f1641729485c4d8460fb355": {
      "model_module": "@jupyter-widgets/controls",
      "model_module_version": "1.4.0",
      "model_name": "ButtonStyleModel",
      "state": {}
     },
     "e8fc54de73cc479ea9a4857f25a27243": {
      "model_module": "@jupyter-widgets/controls",
      "model_module_version": "1.4.0",
      "model_name": "DescriptionStyleModel",
      "state": {
       "description_width": "initial"
      }
     },
     "e91f9fc7894b4076b72684745b1d0f0b": {
      "model_module": "@jupyter-widgets/controls",
      "model_module_version": "1.4.0",
      "model_name": "ButtonModel",
      "state": {
       "description": "Lösung zeigen",
       "layout": "IPY_MODEL_c9c88b3fb1ff4fbeaec89eea2d35d18e",
       "style": "IPY_MODEL_48855eecd1b44aa9b10cb9f6567471fe"
      }
     },
     "e92b2c4dc2f84477aca6af3756b1c8f7": {
      "model_module": "@jupyter-widgets/controls",
      "model_module_version": "1.4.0",
      "model_name": "CheckboxModel",
      "state": {
       "description": "Die Analysen sind mit der gegebenen Grammatik nicht möglich.",
       "disabled": false,
       "layout": "IPY_MODEL_5f41c5bc4ab54af6b6a25fb8854bdc6c",
       "style": "IPY_MODEL_e22362abf640486aa8975bcd495310f7",
       "value": false
      }
     },
     "e93045ad23714daea36ccb20044c12da": {
      "model_module": "@jupyter-widgets/controls",
      "model_module_version": "1.4.0",
      "model_name": "DescriptionStyleModel",
      "state": {
       "description_width": "initial"
      }
     },
     "e940087f9704451681483bb04de01b3c": {
      "model_module": "@jupyter-widgets/controls",
      "model_module_version": "1.4.0",
      "model_name": "ButtonModel",
      "state": {
       "description": "nach der beam-size",
       "layout": "IPY_MODEL_d362e8a843d744e3970f899b491da435",
       "style": "IPY_MODEL_e23b241027e743ce9573dc0e60b290b5"
      }
     },
     "e95d8ccb2e70425ab5d3403cabad0756": {
      "model_module": "@jupyter-widgets/controls",
      "model_module_version": "1.4.0",
      "model_name": "ButtonStyleModel",
      "state": {}
     },
     "e9ee1d5719dc4ccfa42cf1a903da8fcf": {
      "model_module": "@jupyter-widgets/controls",
      "model_module_version": "1.4.0",
      "model_name": "ButtonStyleModel",
      "state": {
       "button_color": "lightgreen"
      }
     },
     "ea1eb690ddba441ab3a183c5525435a0": {
      "model_module": "@jupyter-widgets/base",
      "model_module_version": "1.1.0",
      "model_name": "LayoutModel",
      "state": {
       "width": "250px"
      }
     },
     "ea42e4c9151345f4ad6367eae2ecef28": {
      "model_module": "@jupyter-widgets/base",
      "model_module_version": "1.1.0",
      "model_name": "LayoutModel",
      "state": {
       "width": "250px"
      }
     },
     "ea9b5d96f1cb438bb4aea1ffd51080d9": {
      "model_module": "@jupyter-widgets/controls",
      "model_module_version": "1.4.0",
      "model_name": "DescriptionStyleModel",
      "state": {
       "description_width": ""
      }
     },
     "eaa6043f88f84c9e90f68de4f96103cc": {
      "model_module": "@jupyter-widgets/controls",
      "model_module_version": "1.4.0",
      "model_name": "DescriptionStyleModel",
      "state": {
       "description_width": ""
      }
     },
     "eaab5595c201404295837f34dfe84754": {
      "model_module": "@jupyter-widgets/controls",
      "model_module_version": "1.4.0",
      "model_name": "VBoxModel",
      "state": {
       "children": [
        "IPY_MODEL_e265bec3f8b44b0db7c50c1c56286268",
        "IPY_MODEL_c22288352d2d4b81b6896953220a901a",
        "IPY_MODEL_ebfc9d82aaf34bc4aa4c254702d9b279",
        "IPY_MODEL_0fbe0c9c0f0942e1bd66d15e9bef050c"
       ],
       "layout": "IPY_MODEL_63b53f4180d14504be174637f0855752"
      }
     },
     "eab40416b1f246b6bc08876fd145222a": {
      "model_module": "@jupyter-widgets/controls",
      "model_module_version": "1.4.0",
      "model_name": "DescriptionStyleModel",
      "state": {
       "description_width": ""
      }
     },
     "eaf7f6b3b8264dd280f6850ae6640e3b": {
      "model_module": "@jupyter-widgets/base",
      "model_module_version": "1.1.0",
      "model_name": "LayoutModel",
      "state": {}
     },
     "eb50ec54ca7f467dbd9ef5089e138aac": {
      "model_module": "@jupyter-widgets/base",
      "model_module_version": "1.1.0",
      "model_name": "LayoutModel",
      "state": {
       "justify_content": "center"
      }
     },
     "eb58d16c4e2d41f1acc9e43fd94748d3": {
      "model_module": "@jupyter-widgets/base",
      "model_module_version": "1.1.0",
      "model_name": "LayoutModel",
      "state": {
       "justify_content": "center"
      }
     },
     "ebb173e170a54403abf12e08174d19bf": {
      "model_module": "@jupyter-widgets/base",
      "model_module_version": "1.1.0",
      "model_name": "LayoutModel",
      "state": {
       "justify_content": "center"
      }
     },
     "ebb6e016e2d344df92f2463d401498ac": {
      "model_module": "@jupyter-widgets/controls",
      "model_module_version": "1.4.0",
      "model_name": "DescriptionStyleModel",
      "state": {
       "description_width": ""
      }
     },
     "ebc391e7ec1b45189116bf19b31bc8c8": {
      "model_module": "@jupyter-widgets/controls",
      "model_module_version": "1.4.0",
      "model_name": "CheckboxModel",
      "state": {
       "description": "Die Summe aller Regelwahrscheinlichkeiten innerhalb einer Grammatik ist 1.",
       "disabled": false,
       "layout": "IPY_MODEL_28dc22ff4ae24a0ea49a4b9db551e662",
       "style": "IPY_MODEL_d54faaf0d7e846f89b4ca5dd498d8ba0",
       "value": false
      }
     },
     "ebfc9d82aaf34bc4aa4c254702d9b279": {
      "model_module": "@jupyter-widgets/controls",
      "model_module_version": "1.4.0",
      "model_name": "VBoxModel",
      "state": {
       "children": [
        "IPY_MODEL_883a177137c54da99e944ea02f748170",
        "IPY_MODEL_b9d9c6f5c2c94c6d98234062f1d9d1da",
        "IPY_MODEL_182758a433e5460eaeba77a1734200db",
        "IPY_MODEL_1e5b3ee50c8a408082512b55ff11092c"
       ],
       "layout": "IPY_MODEL_86faa20c55994bb0ac837bc1f8b91b64"
      }
     },
     "ec138bacc4bf4da8bc78baf55a3eef0b": {
      "model_module": "@jupyter-widgets/controls",
      "model_module_version": "1.4.0",
      "model_name": "HTMLModel",
      "state": {
       "layout": "IPY_MODEL_abc2890e8c834fea915a4c559c5e652b",
       "style": "IPY_MODEL_e34396411fcf4fbcad9094c448dfd8d0",
       "value": "<i>Wählen Sie die <ins>eine</ins> korrekte Antwort aus: </i>"
      }
     },
     "ec410ee8ef8045fa8b3cd6b7ef1779f2": {
      "model_module": "@jupyter-widgets/controls",
      "model_module_version": "1.4.0",
      "model_name": "DescriptionStyleModel",
      "state": {
       "description_width": ""
      }
     },
     "ec8bd8072e6f4039950c697a19a3b747": {
      "model_module": "@jupyter-widgets/controls",
      "model_module_version": "1.4.0",
      "model_name": "VBoxModel",
      "state": {
       "children": [
        "IPY_MODEL_6219015d0c884e8c9e822550e346f6bc",
        "IPY_MODEL_f4387c4c36104f929bb9abfcf7501f02",
        "IPY_MODEL_e80ab966e66c4463a5f357716299868d"
       ],
       "layout": "IPY_MODEL_ee480eeefff0451db3c2a1785d04d285"
      }
     },
     "eceb1f38cf63454bae2196c8fe801e46": {
      "model_module": "@jupyter-widgets/base",
      "model_module_version": "1.1.0",
      "model_name": "LayoutModel",
      "state": {
       "width": "600px"
      }
     },
     "ed3acc233c0d4635918e14ffb94d7b40": {
      "model_module": "@jupyter-widgets/controls",
      "model_module_version": "1.4.0",
      "model_name": "DescriptionStyleModel",
      "state": {
       "description_width": "initial"
      }
     },
     "ed731c4a51424a7784943f81ae594ff7": {
      "model_module": "@jupyter-widgets/controls",
      "model_module_version": "1.4.0",
      "model_name": "DescriptionStyleModel",
      "state": {
       "description_width": ""
      }
     },
     "ed7f84304d054a3c89f7dd085e18a35a": {
      "model_module": "@jupyter-widgets/controls",
      "model_module_version": "1.4.0",
      "model_name": "HTMLModel",
      "state": {
       "layout": "IPY_MODEL_64c6bed352204477a25b4063fae7348e",
       "style": "IPY_MODEL_1644ecba1e894f2da0d68380692a471e",
       "value": "<h4 style=\"font-size:14px;\">Berechnen Sie die Wahrscheinlichkeit für die Ableitung in der letzten Zeile.</h4>"
      }
     },
     "eda0972f54694883b7bcf17ad522f841": {
      "model_module": "@jupyter-widgets/controls",
      "model_module_version": "1.4.0",
      "model_name": "DescriptionStyleModel",
      "state": {
       "description_width": "initial"
      }
     },
     "edb114d8e17644989da2b26c0377aa1f": {
      "model_module": "@jupyter-widgets/controls",
      "model_module_version": "1.4.0",
      "model_name": "DescriptionStyleModel",
      "state": {
       "description_width": ""
      }
     },
     "edb3ea99e10e4834b900bef750736bb8": {
      "model_module": "@jupyter-widgets/base",
      "model_module_version": "1.1.0",
      "model_name": "LayoutModel",
      "state": {
       "width": "250px"
      }
     },
     "edd3817d957547e4a46da7833475d2ed": {
      "model_module": "@jupyter-widgets/base",
      "model_module_version": "1.1.0",
      "model_name": "LayoutModel",
      "state": {}
     },
     "edeffdba9bb440f4bb406d731c713ea4": {
      "model_module": "@jupyter-widgets/base",
      "model_module_version": "1.1.0",
      "model_name": "LayoutModel",
      "state": {}
     },
     "edf662420f574d3a8840377c79e6ecba": {
      "model_module": "@jupyter-widgets/controls",
      "model_module_version": "1.4.0",
      "model_name": "DescriptionStyleModel",
      "state": {
       "description_width": ""
      }
     },
     "ee02fd3f090049ee9f08425a628c474b": {
      "model_module": "@jupyter-widgets/base",
      "model_module_version": "1.1.0",
      "model_name": "LayoutModel",
      "state": {}
     },
     "ee038277d1b44aa588985fc8d887a28b": {
      "model_module": "@jupyter-widgets/base",
      "model_module_version": "1.1.0",
      "model_name": "LayoutModel",
      "state": {
       "width": "600px"
      }
     },
     "ee480eeefff0451db3c2a1785d04d285": {
      "model_module": "@jupyter-widgets/base",
      "model_module_version": "1.1.0",
      "model_name": "LayoutModel",
      "state": {}
     },
     "ee4dd60bda854ac48fa0697a946a3f24": {
      "model_module": "@jupyter-widgets/controls",
      "model_module_version": "1.4.0",
      "model_name": "VBoxModel",
      "state": {
       "children": [
        "IPY_MODEL_c097199cb54848a3a183429472277299",
        "IPY_MODEL_fde505aeed7246f58050b99b18b4d401",
        "IPY_MODEL_10ab2abec65e458fa5c7106f6c597574",
        "IPY_MODEL_b4ab65052fd74063be143e7c630d85ab"
       ],
       "layout": "IPY_MODEL_80bcd5a139824572b168a3d753a7121a"
      }
     },
     "ee57b356964244d89113362337522a7f": {
      "model_module": "@jupyter-widgets/controls",
      "model_module_version": "1.4.0",
      "model_name": "CheckboxModel",
      "state": {
       "description": "Bestimmung der Köpfe und Dependenzrelationen",
       "disabled": false,
       "layout": "IPY_MODEL_5c9c5f0175884b9da550befc1e6b047b",
       "style": "IPY_MODEL_e439011b3e1d459f893cfc05a6d5f38a",
       "value": false
      }
     },
     "eec0423597be460bb5b91a5b55af88ea": {
      "model_module": "@jupyter-widgets/controls",
      "model_module_version": "1.4.0",
      "model_name": "HBoxModel",
      "state": {
       "children": [
        "IPY_MODEL_6f71d16515474a4cba65e58022917670",
        "IPY_MODEL_0d11fa5204fd46b38140bafd345d8108"
       ],
       "layout": "IPY_MODEL_1fc9d78bb5de4266aca578a47a25d3f2"
      }
     },
     "ef2b1501cda641b697d8e7403471b4b0": {
      "model_module": "@jupyter-widgets/base",
      "model_module_version": "1.1.0",
      "model_name": "LayoutModel",
      "state": {
       "width": "600px"
      }
     },
     "ef2c3b21a464466a940c511e40e9c015": {
      "model_module": "@jupyter-widgets/controls",
      "model_module_version": "1.4.0",
      "model_name": "DescriptionStyleModel",
      "state": {
       "description_width": "initial"
      }
     },
     "ef886867a98c483cae3382921cc3528e": {
      "model_module": "@jupyter-widgets/controls",
      "model_module_version": "1.4.0",
      "model_name": "DescriptionStyleModel",
      "state": {
       "description_width": ""
      }
     },
     "ef9cf0bd62a142c79e5c1abab75da7a8": {
      "model_module": "@jupyter-widgets/controls",
      "model_module_version": "1.4.0",
      "model_name": "VBoxModel",
      "state": {
       "children": [
        "IPY_MODEL_2e998e519cb74b62af57829e9dfafef6",
        "IPY_MODEL_1ac51bc1f5e344b293582cd23fea593e",
        "IPY_MODEL_61fcb100d554496183d5a2deab44333f"
       ],
       "layout": "IPY_MODEL_1a57dd1ddc584dc1aba49877ac452574"
      }
     },
     "efacb270cc0545548bd06a75809a5948": {
      "model_module": "@jupyter-widgets/controls",
      "model_module_version": "1.4.0",
      "model_name": "DescriptionStyleModel",
      "state": {
       "description_width": ""
      }
     },
     "eff5ff49f0014ef18c18a718b94ec382": {
      "model_module": "@jupyter-widgets/base",
      "model_module_version": "1.1.0",
      "model_name": "LayoutModel",
      "state": {}
     },
     "f056619c91be40b89801bb2821738503": {
      "model_module": "@jupyter-widgets/base",
      "model_module_version": "1.1.0",
      "model_name": "LayoutModel",
      "state": {
       "width": "250px"
      }
     },
     "f07d1e77249d4c1398fb73e2f6ae2e2d": {
      "model_module": "@jupyter-widgets/controls",
      "model_module_version": "1.4.0",
      "model_name": "ButtonStyleModel",
      "state": {}
     },
     "f08b84cc79c14b329c3e03eade4e4948": {
      "model_module": "@jupyter-widgets/base",
      "model_module_version": "1.1.0",
      "model_name": "LayoutModel",
      "state": {
       "width": "250px"
      }
     },
     "f0951b8bc9804c9ea62a03d043fb4805": {
      "model_module": "@jupyter-widgets/controls",
      "model_module_version": "1.4.0",
      "model_name": "ButtonStyleModel",
      "state": {
       "button_color": "lightgreen"
      }
     },
     "f0c1028bb1f549678868947144ba5f2b": {
      "model_module": "@jupyter-widgets/controls",
      "model_module_version": "1.4.0",
      "model_name": "HTMLModel",
      "state": {
       "layout": "IPY_MODEL_3b453ae361624a168b0cb44aa0783fad",
       "style": "IPY_MODEL_8d8cd90a057f4a3e98841d24c6bda189",
       "value": "<h4 style=\"font-size:14px;\">Welche der folgenden Bedingungen wird an eine PCFG gestellt?</h4>"
      }
     },
     "f0fb3405d130459cb259601a1352eb81": {
      "model_module": "@jupyter-widgets/controls",
      "model_module_version": "1.4.0",
      "model_name": "VBoxModel",
      "state": {
       "children": [
        "IPY_MODEL_ee57b356964244d89113362337522a7f",
        "IPY_MODEL_7cbc832dc8554bd4b24675367ca6d8ea",
        "IPY_MODEL_2d8b23ca71284bf7bbffebf8d8fc83d8"
       ],
       "layout": "IPY_MODEL_f570466b53bb45f694c9dd3673efadc2"
      }
     },
     "f0fc3053869443e29e2d1998f3e897cd": {
      "model_module": "@jupyter-widgets/base",
      "model_module_version": "1.1.0",
      "model_name": "LayoutModel",
      "state": {
       "width": "250px"
      }
     },
     "f0fea2d0e4474f148e80a033ecd94225": {
      "model_module": "@jupyter-widgets/base",
      "model_module_version": "1.1.0",
      "model_name": "LayoutModel",
      "state": {
       "width": "250px"
      }
     },
     "f10c5fd27c99400094289870de16ff5d": {
      "model_module": "@jupyter-widgets/controls",
      "model_module_version": "1.4.0",
      "model_name": "ButtonModel",
      "state": {
       "description": "Korrekt?",
       "layout": "IPY_MODEL_ada514b2b9f24bda88e70cda51d71e1f",
       "style": "IPY_MODEL_86adde51703f4909a2bd08aedba9dfa8"
      }
     },
     "f117a0198e564052a5854fb35340fd2a": {
      "model_module": "@jupyter-widgets/controls",
      "model_module_version": "1.4.0",
      "model_name": "HTMLModel",
      "state": {
       "layout": "IPY_MODEL_900efb6c9fd942d4a4077ef75ae1561c",
       "style": "IPY_MODEL_5406d508d648402a8066ec0bb73a2158",
       "value": "<i>Wählen Sie die <ins>eine</ins> korrekte Antwort aus: </i>"
      }
     },
     "f139c01a37c84e4ca3140811c06e30c2": {
      "model_module": "@jupyter-widgets/controls",
      "model_module_version": "1.4.0",
      "model_name": "ButtonStyleModel",
      "state": {}
     },
     "f150d26355764e32b8dd46797f0199ae": {
      "model_module": "@jupyter-widgets/base",
      "model_module_version": "1.1.0",
      "model_name": "LayoutModel",
      "state": {
       "width": "600px"
      }
     },
     "f1791b61fff14b9d998fa367c2a655e3": {
      "model_module": "@jupyter-widgets/base",
      "model_module_version": "1.1.0",
      "model_name": "LayoutModel",
      "state": {
       "width": "250px"
      }
     },
     "f1cc85bd6caf46f19a248e2cadb6b299": {
      "model_module": "@jupyter-widgets/controls",
      "model_module_version": "1.4.0",
      "model_name": "CheckboxModel",
      "state": {
       "description": "Sie analysieren die Eingabesequenz nicht komplett.",
       "disabled": false,
       "layout": "IPY_MODEL_dce92028c9a042869d2a4c9a492471c6",
       "style": "IPY_MODEL_c9c2e08be1bf4969a3f7db657b49f72a",
       "value": false
      }
     },
     "f1e05685f4a44efa9e176a82c68006ae": {
      "model_module": "@jupyter-widgets/controls",
      "model_module_version": "1.4.0",
      "model_name": "VBoxModel",
      "state": {
       "children": [
        "IPY_MODEL_c66930f8ca1a4cc89c2e013fab1d4252",
        "IPY_MODEL_886fc224495d4c7cb8d55f7a45f9dfc1",
        "IPY_MODEL_1ad4410a334f478aab848c667a804dc2",
        "IPY_MODEL_57a3c061bc674783b12ed2cbd930e12b"
       ],
       "layout": "IPY_MODEL_088df3b5b8b347b08bd9779722b7b053"
      }
     },
     "f1fb5098d15e4323a99ee70e314657b0": {
      "model_module": "@jupyter-widgets/base",
      "model_module_version": "1.1.0",
      "model_name": "LayoutModel",
      "state": {
       "justify_content": "center"
      }
     },
     "f2266e63bd754f2db8ec9addff9cf69b": {
      "model_module": "@jupyter-widgets/base",
      "model_module_version": "1.1.0",
      "model_name": "LayoutModel",
      "state": {
       "border": "2px solid lightgreen"
      }
     },
     "f22b5e91f58b40cebd16d01daa2c0135": {
      "model_module": "@jupyter-widgets/controls",
      "model_module_version": "1.4.0",
      "model_name": "DescriptionStyleModel",
      "state": {
       "description_width": "initial"
      }
     },
     "f26b282299434ca9945b432d0565151a": {
      "model_module": "@jupyter-widgets/controls",
      "model_module_version": "1.4.0",
      "model_name": "ButtonStyleModel",
      "state": {
       "button_color": "lightgreen"
      }
     },
     "f28467c78caa4c8fa695efc8dfb5ca72": {
      "model_module": "@jupyter-widgets/controls",
      "model_module_version": "1.4.0",
      "model_name": "CheckboxModel",
      "state": {
       "description": "Bestimmung der Köpfe und Dependenzrelationen",
       "disabled": false,
       "layout": "IPY_MODEL_8e129909e76d463ea0ac3c66232f97d3",
       "style": "IPY_MODEL_8b4cef9dfacd4e31b1be60ef94f4a9f6",
       "value": false
      }
     },
     "f2adea5104af459c8e95ab9f90b62829": {
      "model_module": "@jupyter-widgets/controls",
      "model_module_version": "1.4.0",
      "model_name": "DescriptionStyleModel",
      "state": {
       "description_width": ""
      }
     },
     "f2f9417396fd4d24920d5a0d2f2a08c9": {
      "model_module": "@jupyter-widgets/base",
      "model_module_version": "1.1.0",
      "model_name": "LayoutModel",
      "state": {}
     },
     "f3248081de49450695c138171c3e089e": {
      "model_module": "@jupyter-widgets/controls",
      "model_module_version": "1.4.0",
      "model_name": "ButtonModel",
      "state": {
       "description": "nach der Wahrscheinlichkeit",
       "layout": "IPY_MODEL_268a9d7b17eb499fae2a4083a8128b4c",
       "style": "IPY_MODEL_c0a405f7f6904617b0e30a8d909e12d2"
      }
     },
     "f324acf721ac49b7950e9728455761e3": {
      "model_module": "@jupyter-widgets/controls",
      "model_module_version": "1.4.0",
      "model_name": "DescriptionStyleModel",
      "state": {
       "description_width": ""
      }
     },
     "f38dfcc45d96422faf2c57ddfd684c8e": {
      "model_module": "@jupyter-widgets/base",
      "model_module_version": "1.1.0",
      "model_name": "LayoutModel",
      "state": {}
     },
     "f3901591cc8a4f6883ce3109f4878d28": {
      "model_module": "@jupyter-widgets/controls",
      "model_module_version": "1.4.0",
      "model_name": "ButtonStyleModel",
      "state": {}
     },
     "f3b4f1d9edc74f42ae38cc769920677b": {
      "model_module": "@jupyter-widgets/base",
      "model_module_version": "1.1.0",
      "model_name": "LayoutModel",
      "state": {}
     },
     "f3d7dc9d85064b07a02fa544fe00bb39": {
      "model_module": "@jupyter-widgets/base",
      "model_module_version": "1.1.0",
      "model_name": "LayoutModel",
      "state": {}
     },
     "f3ddf46d19c244daa288cdc4bfab7787": {
      "model_module": "@jupyter-widgets/base",
      "model_module_version": "1.1.0",
      "model_name": "LayoutModel",
      "state": {}
     },
     "f3f9baec82e94651a6e4366a95a49dd3": {
      "model_module": "@jupyter-widgets/controls",
      "model_module_version": "1.4.0",
      "model_name": "DescriptionStyleModel",
      "state": {
       "description_width": ""
      }
     },
     "f40e52a5fa884d369916a304ceccf3fd": {
      "model_module": "@jupyter-widgets/controls",
      "model_module_version": "1.4.0",
      "model_name": "ButtonModel",
      "state": {
       "description": "InsideChartParser mit beam-size",
       "layout": "IPY_MODEL_a9dda5463937411b9eb45bfe4536719a",
       "style": "IPY_MODEL_ff676867cfba4f93b25b17e0472f040f"
      }
     },
     "f41b725112ee475abb73987bf6bbc81e": {
      "model_module": "@jupyter-widgets/base",
      "model_module_version": "1.1.0",
      "model_name": "LayoutModel",
      "state": {
       "width": "250px"
      }
     },
     "f429d0dfdf7c4a8aa6e079e3a42594f2": {
      "model_module": "@jupyter-widgets/controls",
      "model_module_version": "1.4.0",
      "model_name": "HTMLModel",
      "state": {
       "layout": "IPY_MODEL_ff7038936f514d968f413f239d451979",
       "style": "IPY_MODEL_fb56583dd67d49dd9f4658aee9909a0d",
       "value": "<h4 style=\"font-size:14px;\">Was ist die Aufgabe des Viterbi-Algorithmus?</h4>"
      }
     },
     "f4387c4c36104f929bb9abfcf7501f02": {
      "model_module": "@jupyter-widgets/controls",
      "model_module_version": "1.4.0",
      "model_name": "CheckboxModel",
      "state": {
       "description": "Bestimmung des wahrscheinlichsten Syntaxbaums",
       "disabled": false,
       "layout": "IPY_MODEL_cdf73cec37df4a30b967d0f1288f5eba",
       "style": "IPY_MODEL_90ca170f3df6496ab4a93c33b032cae8",
       "value": true
      }
     },
     "f44541442d2f4443859794b5c1ae11b0": {
      "model_module": "@jupyter-widgets/base",
      "model_module_version": "1.1.0",
      "model_name": "LayoutModel",
      "state": {
       "justify_content": "center"
      }
     },
     "f44e1f9506a34c14a91903311b239eae": {
      "model_module": "@jupyter-widgets/controls",
      "model_module_version": "1.4.0",
      "model_name": "DescriptionStyleModel",
      "state": {
       "description_width": ""
      }
     },
     "f46d7821a9014f6ab3175b3ef8680be6": {
      "model_module": "@jupyter-widgets/base",
      "model_module_version": "1.1.0",
      "model_name": "LayoutModel",
      "state": {}
     },
     "f4c9bc71da274d6198f5fdb7dab4c0f1": {
      "model_module": "@jupyter-widgets/base",
      "model_module_version": "1.1.0",
      "model_name": "LayoutModel",
      "state": {
       "width": "250px"
      }
     },
     "f4cbdc9144fc4ea98c6b9713f1857892": {
      "model_module": "@jupyter-widgets/controls",
      "model_module_version": "1.4.0",
      "model_name": "CheckboxModel",
      "state": {
       "description": "Die Summe aller Regelwahrscheinlichkeiten für jede LHS ist jeweils 1.",
       "disabled": false,
       "layout": "IPY_MODEL_7ac06d92fd1a4901ace3b9925035a791",
       "style": "IPY_MODEL_d8c0d812a1b2414aa09327a9f996931d",
       "value": true
      }
     },
     "f4d87cce3469464c9f97f886cef41472": {
      "model_module": "@jupyter-widgets/controls",
      "model_module_version": "1.4.0",
      "model_name": "TextModel",
      "state": {
       "layout": "IPY_MODEL_1066d0f5a0034d3b8fd87c0af2a52f61",
       "style": "IPY_MODEL_f324acf721ac49b7950e9728455761e3"
      }
     },
     "f4de6fe237864893ba4d3a07f0f726d5": {
      "model_module": "@jupyter-widgets/controls",
      "model_module_version": "1.4.0",
      "model_name": "CheckboxModel",
      "state": {
       "description": "Bestimmung der Köpfe und Dependenzrelationen",
       "disabled": false,
       "layout": "IPY_MODEL_36e06c240bf64ca9a5d058fb892526f2",
       "style": "IPY_MODEL_e6f92c5ec2194fcbb72594e08ea2fd3e",
       "value": false
      }
     },
     "f4e84a05ed5d486a85a1f4b67dda76cc": {
      "model_module": "@jupyter-widgets/controls",
      "model_module_version": "1.4.0",
      "model_name": "ButtonModel",
      "state": {
       "description": "nach der Länge der Ableitung",
       "layout": "IPY_MODEL_f056619c91be40b89801bb2821738503",
       "style": "IPY_MODEL_163c032219ff4d05a7dca74ddb5a336d"
      }
     },
     "f53fd7b2aa0e40c09bc60361c7a52cc4": {
      "model_module": "@jupyter-widgets/base",
      "model_module_version": "1.1.0",
      "model_name": "LayoutModel",
      "state": {
       "width": "250px"
      }
     },
     "f558396b569946998bbec5c837fdfb54": {
      "model_module": "@jupyter-widgets/controls",
      "model_module_version": "1.4.0",
      "model_name": "HTMLModel",
      "state": {
       "layout": "IPY_MODEL_1fd8d719d3fd43058a9b4e5d39fffdc3",
       "style": "IPY_MODEL_b022a2a11d21411bbbe57b78bc2cee7c",
       "value": "<h4 style=\"font-size:14px;\">Warum werden die Analysen in den Discard-Zeilen verworfen?</h4>"
      }
     },
     "f56678f273ca4a7b9d4b094cd81d3d69": {
      "model_module": "@jupyter-widgets/controls",
      "model_module_version": "1.4.0",
      "model_name": "HBoxModel",
      "state": {
       "children": [
        "IPY_MODEL_27bdf55c2f034540b394672d3e3010fc"
       ],
       "layout": "IPY_MODEL_2259d3a67f3544c09ae8ac025e564c9f"
      }
     },
     "f570466b53bb45f694c9dd3673efadc2": {
      "model_module": "@jupyter-widgets/base",
      "model_module_version": "1.1.0",
      "model_name": "LayoutModel",
      "state": {}
     },
     "f63623b694cb447aa1acca65095c3dc3": {
      "model_module": "@jupyter-widgets/controls",
      "model_module_version": "1.4.0",
      "model_name": "HTMLModel",
      "state": {
       "layout": "IPY_MODEL_760e10b5b2f94fd8b33980bec30f85a8",
       "style": "IPY_MODEL_9c9ad9370e1349d1b01929c5f9ad8252",
       "value": "<i>Wählen Sie die <ins>eine</ins> korrekte Antwort aus: </i>"
      }
     },
     "f6617a9d91c644d2aa642c0ddae38841": {
      "model_module": "@jupyter-widgets/controls",
      "model_module_version": "1.4.0",
      "model_name": "CheckboxModel",
      "state": {
       "description": "Die Summe aller Regelwahrscheinlichkeiten für jede LHS ist jeweils 1.",
       "disabled": false,
       "layout": "IPY_MODEL_be86d8ce4d94481d9e7e4c7b84d941bd",
       "style": "IPY_MODEL_b87cf455e4bd4678857422199fc36851",
       "value": true
      }
     },
     "f66f8cd19c6844578c69c22d7f87def3": {
      "model_module": "@jupyter-widgets/controls",
      "model_module_version": "1.4.0",
      "model_name": "CheckboxModel",
      "state": {
       "description": "Bestimmung der Köpfe und Dependenzrelationen",
       "disabled": false,
       "layout": "IPY_MODEL_bd21021079454674ac00a5ac2218cd58",
       "style": "IPY_MODEL_2db8ff29e42a481da92197ed71d2ec61",
       "value": false
      }
     },
     "f6b7f9c61e184799806442bb7a242ee7": {
      "model_module": "@jupyter-widgets/base",
      "model_module_version": "1.1.0",
      "model_name": "LayoutModel",
      "state": {
       "width": "250px"
      }
     },
     "f6bbab6028b64a2e9df48bb2d33b6264": {
      "model_module": "@jupyter-widgets/base",
      "model_module_version": "1.1.0",
      "model_name": "LayoutModel",
      "state": {
       "width": "250px"
      }
     },
     "f6bc4395db624a728970ed429857fd29": {
      "model_module": "@jupyter-widgets/controls",
      "model_module_version": "1.4.0",
      "model_name": "HBoxModel",
      "state": {
       "children": [
        "IPY_MODEL_314bf33882254d92ac478a2b4b0f4416"
       ],
       "layout": "IPY_MODEL_178f22b3d5b74e5e94b4c3e88e295192"
      }
     },
     "f6bc55fbd0df44968c7f4b44df9b3c93": {
      "model_module": "@jupyter-widgets/controls",
      "model_module_version": "1.4.0",
      "model_name": "VBoxModel",
      "state": {
       "children": [
        "IPY_MODEL_f66f8cd19c6844578c69c22d7f87def3",
        "IPY_MODEL_2f9a5997fb1e4ae0970a7424506f0498",
        "IPY_MODEL_4b81da43323048c2afa5aeed279e4cf3"
       ],
       "layout": "IPY_MODEL_722964953701437e83e240f12a77d495"
      }
     },
     "f717f2a282d34fc3b184cfd2ea7f2aeb": {
      "model_module": "@jupyter-widgets/base",
      "model_module_version": "1.1.0",
      "model_name": "LayoutModel",
      "state": {}
     },
     "f738337da4394850a0e89e5281e7c10a": {
      "model_module": "@jupyter-widgets/controls",
      "model_module_version": "1.4.0",
      "model_name": "ButtonModel",
      "state": {
       "description": "Lösung zeigen",
       "layout": "IPY_MODEL_7d558379ba1d4f8f8d584189271d32bd",
       "style": "IPY_MODEL_f07d1e77249d4c1398fb73e2f6ae2e2d"
      }
     },
     "f7450a782d1346598944bb2fb239922d": {
      "model_module": "@jupyter-widgets/controls",
      "model_module_version": "1.4.0",
      "model_name": "CheckboxModel",
      "state": {
       "description": "Die Summe aller Regelwahrscheinlichkeiten innerhalb einer Grammatik ist 1.",
       "disabled": false,
       "layout": "IPY_MODEL_a1390ec10eda44548567dd72299a6d1f",
       "style": "IPY_MODEL_62872f0248d74a7691aa50d07e427737",
       "value": false
      }
     },
     "f755f4f7a3d5417087d716d69dc00614": {
      "model_module": "@jupyter-widgets/base",
      "model_module_version": "1.1.0",
      "model_name": "LayoutModel",
      "state": {
       "justify_content": "center"
      }
     },
     "f767459a3abd49b98faa394a5fec6e01": {
      "model_module": "@jupyter-widgets/base",
      "model_module_version": "1.1.0",
      "model_name": "LayoutModel",
      "state": {}
     },
     "f78912919c4248b8bb981a98b9c10e0a": {
      "model_module": "@jupyter-widgets/controls",
      "model_module_version": "1.4.0",
      "model_name": "ButtonStyleModel",
      "state": {
       "button_color": "lightgreen"
      }
     },
     "f7ff9b5400a947c581a646fd5e0ea45d": {
      "model_module": "@jupyter-widgets/controls",
      "model_module_version": "1.4.0",
      "model_name": "DescriptionStyleModel",
      "state": {
       "description_width": ""
      }
     },
     "f80932bbfff0417b98785a6f95acf25d": {
      "model_module": "@jupyter-widgets/controls",
      "model_module_version": "1.4.0",
      "model_name": "DescriptionStyleModel",
      "state": {
       "description_width": ""
      }
     },
     "f85a4079de2d47c48f05bfcd5b8fdb47": {
      "model_module": "@jupyter-widgets/base",
      "model_module_version": "1.1.0",
      "model_name": "LayoutModel",
      "state": {}
     },
     "f885167bd53649a68ac4cb39a90e1b8b": {
      "model_module": "@jupyter-widgets/base",
      "model_module_version": "1.1.0",
      "model_name": "LayoutModel",
      "state": {
       "width": "250px"
      }
     },
     "f88b6803156c44008c1373737a909abe": {
      "model_module": "@jupyter-widgets/base",
      "model_module_version": "1.1.0",
      "model_name": "LayoutModel",
      "state": {}
     },
     "f8a1eeb58fc64feea62fb91b5bc8e297": {
      "model_module": "@jupyter-widgets/controls",
      "model_module_version": "1.4.0",
      "model_name": "DescriptionStyleModel",
      "state": {
       "description_width": "initial"
      }
     },
     "f8b2e7a70b574e48964711b3be54c3fe": {
      "model_module": "@jupyter-widgets/controls",
      "model_module_version": "1.4.0",
      "model_name": "CheckboxModel",
      "state": {
       "description": "Die Summe aller Regelwahrscheinlichkeiten für jede RHS ist jeweils 1.",
       "disabled": false,
       "layout": "IPY_MODEL_fa5dcdf355794489943e529c2b02abc8",
       "style": "IPY_MODEL_1c86584731da4679b54434075c8f4e56",
       "value": false
      }
     },
     "f8ed91d99ec1470e9303fe07af7c7a14": {
      "model_module": "@jupyter-widgets/controls",
      "model_module_version": "1.4.0",
      "model_name": "HTMLModel",
      "state": {
       "layout": "IPY_MODEL_5a14123ab54246988f776276fa479761",
       "style": "IPY_MODEL_57f5bc8229a44bdbbd458b26464c9c53",
       "value": "<i>None</i>"
      }
     },
     "f97e59140d4348168e8cd7f72af0c07a": {
      "model_module": "@jupyter-widgets/controls",
      "model_module_version": "1.4.0",
      "model_name": "HTMLModel",
      "state": {
       "layout": "IPY_MODEL_4c8ff64010384e44b59db10c77749750",
       "style": "IPY_MODEL_ba1923b0ce4145e1a27c19296ee21016",
       "value": "<i>Wählen Sie die <ins>eine</ins> korrekte Antwort aus: </i>"
      }
     },
     "f9a73bfd358c4bb38e364b17044c1874": {
      "model_module": "@jupyter-widgets/controls",
      "model_module_version": "1.4.0",
      "model_name": "HTMLModel",
      "state": {
       "layout": "IPY_MODEL_64acc212243246e4a0a145854bb1f523",
       "style": "IPY_MODEL_a8a73897747d426ea38eb92017820136",
       "value": "<i>Geben Sie die korrekte Antwort ein: </i>"
      }
     },
     "f9b8cc247bd74a4d9e7f5ce2c8afcc75": {
      "model_module": "@jupyter-widgets/base",
      "model_module_version": "1.1.0",
      "model_name": "LayoutModel",
      "state": {
       "width": "600px"
      }
     },
     "f9c6d98e1cb647a0a961859cec243977": {
      "model_module": "@jupyter-widgets/controls",
      "model_module_version": "1.4.0",
      "model_name": "ButtonModel",
      "state": {
       "description": "Korrekt?",
       "layout": "IPY_MODEL_3647a5cfcbbb433db73a28bd755004e9",
       "style": "IPY_MODEL_40d98fb942ab4468855a1599ee802d93"
      }
     },
     "f9d782dc2f7948d6a529d07d2646f460": {
      "model_module": "@jupyter-widgets/controls",
      "model_module_version": "1.4.0",
      "model_name": "ButtonModel",
      "state": {
       "description": "InsideChartParser mit beam-size (Pruning)",
       "layout": "IPY_MODEL_bf54ba2657e743c18f3bbfe89ac15799",
       "style": "IPY_MODEL_5b81c2bcaf0f4c0bab0d8bd6a6c4dc65"
      }
     },
     "f9f250ea2ed14df69874dbbc426b258b": {
      "model_module": "@jupyter-widgets/base",
      "model_module_version": "1.1.0",
      "model_name": "LayoutModel",
      "state": {}
     },
     "f9f6b69714684b2b89b29676d34cb561": {
      "model_module": "@jupyter-widgets/controls",
      "model_module_version": "1.4.0",
      "model_name": "ButtonModel",
      "state": {
       "description": "OK",
       "layout": "IPY_MODEL_b86bca533be244259df4c3a6d6374557",
       "style": "IPY_MODEL_c418603462e74f548ba7a0e405195b2c"
      }
     },
     "fa275a949258450c9f6fcb1ce040f865": {
      "model_module": "@jupyter-widgets/controls",
      "model_module_version": "1.4.0",
      "model_name": "ButtonModel",
      "state": {
       "description": "Lösung zeigen",
       "layout": "IPY_MODEL_c84d7710999f4134915bd0411a4f1bda",
       "style": "IPY_MODEL_b0e0bddae47d45c2bea443f65f98398e"
      }
     },
     "fa2976d62d804d9aa55db3b254b51936": {
      "model_module": "@jupyter-widgets/base",
      "model_module_version": "1.1.0",
      "model_name": "LayoutModel",
      "state": {}
     },
     "fa3f2dd94d504528b73ad86f0d4b823c": {
      "model_module": "@jupyter-widgets/base",
      "model_module_version": "1.1.0",
      "model_name": "LayoutModel",
      "state": {
       "width": "250px"
      }
     },
     "fa5dcdf355794489943e529c2b02abc8": {
      "model_module": "@jupyter-widgets/base",
      "model_module_version": "1.1.0",
      "model_name": "LayoutModel",
      "state": {
       "width": "600px"
      }
     },
     "fa64e58247a54718aee521ebb0ae8ca1": {
      "model_module": "@jupyter-widgets/controls",
      "model_module_version": "1.4.0",
      "model_name": "CheckboxModel",
      "state": {
       "description": "Die Analysen sind mit der gegebenen Grammatik nicht möglich.",
       "disabled": false,
       "layout": "IPY_MODEL_80aa527cde994a3cba1a8543dcbfc23c",
       "style": "IPY_MODEL_f8a1eeb58fc64feea62fb91b5bc8e297",
       "value": false
      }
     },
     "fa6cc8fb71754c869e8210babaf2a059": {
      "model_module": "@jupyter-widgets/controls",
      "model_module_version": "1.4.0",
      "model_name": "TextModel",
      "state": {
       "layout": "IPY_MODEL_de17c6483fee408bbda5eca763d92f7d",
       "style": "IPY_MODEL_27c19ff724d740c888be2b98dce548aa"
      }
     },
     "fa7f701386f343f7ba9a717ed302221f": {
      "model_module": "@jupyter-widgets/controls",
      "model_module_version": "1.4.0",
      "model_name": "HTMLModel",
      "state": {
       "layout": "IPY_MODEL_98c97d3db18847568a0733047eaaac99",
       "style": "IPY_MODEL_82b3fd5330ef438ebf45ef182663be54",
       "value": "<h4 style=\"font-size:14px;\">Warum werden die Analysen in den Discard-Zeilen verworfen?</h4>"
      }
     },
     "fab3d383fde7439eb549f0efa6f64bc6": {
      "model_module": "@jupyter-widgets/base",
      "model_module_version": "1.1.0",
      "model_name": "LayoutModel",
      "state": {
       "justify_content": "center"
      }
     },
     "fae6ad9b2b0440299af5a19d9f9c0821": {
      "model_module": "@jupyter-widgets/controls",
      "model_module_version": "1.4.0",
      "model_name": "DescriptionStyleModel",
      "state": {
       "description_width": ""
      }
     },
     "fb178677ccb64932a8c860f2f8ee53cb": {
      "model_module": "@jupyter-widgets/base",
      "model_module_version": "1.1.0",
      "model_name": "LayoutModel",
      "state": {
       "width": "250px"
      }
     },
     "fb1e7083abeb4ff6bca260a39480f8bc": {
      "model_module": "@jupyter-widgets/controls",
      "model_module_version": "1.4.0",
      "model_name": "DescriptionStyleModel",
      "state": {
       "description_width": "initial"
      }
     },
     "fb56583dd67d49dd9f4658aee9909a0d": {
      "model_module": "@jupyter-widgets/controls",
      "model_module_version": "1.4.0",
      "model_name": "DescriptionStyleModel",
      "state": {
       "description_width": ""
      }
     },
     "fb93ed6a7bf24d40b9d05d3405e8d70d": {
      "model_module": "@jupyter-widgets/controls",
      "model_module_version": "1.4.0",
      "model_name": "ButtonStyleModel",
      "state": {}
     },
     "fbb55d5eb81449248bba75f38c338e35": {
      "model_module": "@jupyter-widgets/controls",
      "model_module_version": "1.4.0",
      "model_name": "ButtonStyleModel",
      "state": {}
     },
     "fc25e2779eee4fc4b371c4c74150b264": {
      "model_module": "@jupyter-widgets/controls",
      "model_module_version": "1.4.0",
      "model_name": "DescriptionStyleModel",
      "state": {
       "description_width": "initial"
      }
     },
     "fc409d3950a94b6ba75bb6e189f672a5": {
      "model_module": "@jupyter-widgets/base",
      "model_module_version": "1.1.0",
      "model_name": "LayoutModel",
      "state": {}
     },
     "fc5ad1f1b61241c58e947a913d351a6a": {
      "model_module": "@jupyter-widgets/base",
      "model_module_version": "1.1.0",
      "model_name": "LayoutModel",
      "state": {
       "justify_content": "center"
      }
     },
     "fcbd0dc7ae9648b78f366416aa3d7f9c": {
      "model_module": "@jupyter-widgets/controls",
      "model_module_version": "1.4.0",
      "model_name": "HBoxModel",
      "state": {
       "children": [
        "IPY_MODEL_060a0045a00044f5bdf078dbe3e155c9",
        "IPY_MODEL_f738337da4394850a0e89e5281e7c10a"
       ],
       "layout": "IPY_MODEL_bdcb43472d514813b8a73aec097673a3"
      }
     },
     "fcbe6ec8a73a403d9f7d33abdfed6eab": {
      "model_module": "@jupyter-widgets/controls",
      "model_module_version": "1.4.0",
      "model_name": "CheckboxModel",
      "state": {
       "description": "Das Verwerfen verhindert eine Endlosrekursion.",
       "disabled": false,
       "layout": "IPY_MODEL_5f3a8677d61e49fd9f0740d65f93b548",
       "style": "IPY_MODEL_809ddd2936b74762816719f859112887",
       "value": false
      }
     },
     "fcde866e357b48dead1fc00d7c3f2da4": {
      "model_module": "@jupyter-widgets/controls",
      "model_module_version": "1.4.0",
      "model_name": "HBoxModel",
      "state": {
       "children": [
        "IPY_MODEL_40f0a5483da64ed4aa2c574c31f690f8",
        "IPY_MODEL_aabc1150054640cfae67ffa3f52247ed"
       ],
       "layout": "IPY_MODEL_af6582f9c80e4c7d8aea3b7690c47453"
      }
     },
     "fd057b9593b940a0952924a1283e12b8": {
      "model_module": "@jupyter-widgets/base",
      "model_module_version": "1.1.0",
      "model_name": "LayoutModel",
      "state": {}
     },
     "fd2e87a9135a4588a3d47b90d366f2c3": {
      "model_module": "@jupyter-widgets/controls",
      "model_module_version": "1.4.0",
      "model_name": "HBoxModel",
      "state": {
       "children": [
        "IPY_MODEL_d925efa5a4ba478ba289820ae9bc93ed",
        "IPY_MODEL_d39469dbb9544591804b5c2159653840"
       ],
       "layout": "IPY_MODEL_76999f89e99c440383d7dc75e6a33ed4"
      }
     },
     "fd387b1bfc984719875e0ca025d56d2c": {
      "model_module": "@jupyter-widgets/controls",
      "model_module_version": "1.4.0",
      "model_name": "VBoxModel",
      "state": {
       "children": [
        "IPY_MODEL_e728bbfd699048b1bf7c26752f74f9b9",
        "IPY_MODEL_9ba6a91db21a43a49ac808e978ec5f55",
        "IPY_MODEL_27c7ae01cb0f40e08b5655f4a79ab4ed",
        "IPY_MODEL_dbc4533065484ccc8ccd9eb7bf9c75ce"
       ],
       "layout": "IPY_MODEL_9b94dbd35f914bbaa92f6a365b00f31b"
      }
     },
     "fd510eb0897149a889c0e6a74479f91b": {
      "model_module": "@jupyter-widgets/controls",
      "model_module_version": "1.4.0",
      "model_name": "HTMLModel",
      "state": {
       "layout": "IPY_MODEL_b034b0b41375482b9c12575e42f01829",
       "style": "IPY_MODEL_9f394491f05f49a8bdfe6378667547c6",
       "value": "<i>Wählen Sie die <ins>eine</ins> korrekte Antwort aus: </i>"
      }
     },
     "fd5c78f3cd914d0b9261cea0f624adc2": {
      "model_module": "@jupyter-widgets/controls",
      "model_module_version": "1.4.0",
      "model_name": "ButtonModel",
      "state": {
       "description": "Bestimmung des wahrscheinlichsten Syntaxbaums",
       "layout": "IPY_MODEL_ae384f860a8349629cfd1faef4a0cb8b",
       "style": "IPY_MODEL_66f9bd722e394d35aba52891491b7fa9"
      }
     },
     "fd7fbc7c43454fd4bd77cf9034c4d4fb": {
      "model_module": "@jupyter-widgets/controls",
      "model_module_version": "1.4.0",
      "model_name": "CheckboxModel",
      "state": {
       "description": "Die Summe aller Regelwahrscheinlichkeiten für jede RHS ist jeweils 1.",
       "disabled": false,
       "layout": "IPY_MODEL_a6ef089cff924324b67ceec9de3b8f45",
       "style": "IPY_MODEL_0d853d316dc54dc48b9cf42801b9d0cb",
       "value": false
      }
     },
     "fde505aeed7246f58050b99b18b4d401": {
      "model_module": "@jupyter-widgets/controls",
      "model_module_version": "1.4.0",
      "model_name": "HTMLModel",
      "state": {
       "layout": "IPY_MODEL_15ab93d9c13d4be3a9337a8b02f0f44a",
       "style": "IPY_MODEL_2701178623784947a433077ec299b82a",
       "value": "<i>Wählen Sie die <ins>eine</ins> korrekte Antwort aus: </i>"
      }
     },
     "fe000ac8ac9842ff8210f196b741a357": {
      "model_module": "@jupyter-widgets/controls",
      "model_module_version": "1.4.0",
      "model_name": "ButtonModel",
      "state": {
       "description": "Koordinationsambiguität",
       "layout": "IPY_MODEL_9b3aff48cee843ee9885bd90db773d6b",
       "style": "IPY_MODEL_67827d69ffed43e1a9ab358c2447ef9f"
      }
     },
     "fe07ab56ff8d49219af346646b6d119f": {
      "model_module": "@jupyter-widgets/base",
      "model_module_version": "1.1.0",
      "model_name": "LayoutModel",
      "state": {}
     },
     "fe2121f07cba4414b2f982087fc33baa": {
      "model_module": "@jupyter-widgets/base",
      "model_module_version": "1.1.0",
      "model_name": "LayoutModel",
      "state": {
       "width": "250px"
      }
     },
     "fe21bddc7f974bc9ba5dab432340e471": {
      "model_module": "@jupyter-widgets/controls",
      "model_module_version": "1.4.0",
      "model_name": "ButtonStyleModel",
      "state": {}
     },
     "fe291408d86f4c02b8ad81c0cf3e2e80": {
      "model_module": "@jupyter-widgets/controls",
      "model_module_version": "1.4.0",
      "model_name": "ButtonModel",
      "state": {
       "description": "OK",
       "layout": "IPY_MODEL_446ae8777aff406e896c8b380606ad6d",
       "style": "IPY_MODEL_028b8dcce6af4429828504656a6b3db2"
      }
     },
     "fe3b27f0c1804f5c806fa4b632226889": {
      "model_module": "@jupyter-widgets/controls",
      "model_module_version": "1.4.0",
      "model_name": "DescriptionStyleModel",
      "state": {
       "description_width": ""
      }
     },
     "fe81d9f4571342288fb8d57be9efb5c0": {
      "model_module": "@jupyter-widgets/controls",
      "model_module_version": "1.4.0",
      "model_name": "VBoxModel",
      "state": {
       "children": [
        "IPY_MODEL_3d42c528c5a94bbea31800610c9407f2",
        "IPY_MODEL_8c5b9cd17b7b49418441fe342fdbb119",
        "IPY_MODEL_76e6010b87c74f55bc09a6092fb20cfb",
        "IPY_MODEL_709c2adccba24f96b96da7099152544e"
       ],
       "layout": "IPY_MODEL_1859d49e514945a6980d66bf6cc39dea"
      }
     },
     "fe880b3eab9d4dd6acf3b5f47f893ba8": {
      "model_module": "@jupyter-widgets/controls",
      "model_module_version": "1.4.0",
      "model_name": "VBoxModel",
      "state": {
       "children": [
        "IPY_MODEL_9047e0232db94162b15e3b571c09df0d",
        "IPY_MODEL_8ee5f5b51e7b4502b69d681f7a153f57",
        "IPY_MODEL_406ac7cc181242a99e60c24c51fc834e"
       ],
       "layout": "IPY_MODEL_d75318c00efc45278c5d511a3c9bd8a7"
      }
     },
     "feb5eb4deb1c41688358cb7dfab3caea": {
      "model_module": "@jupyter-widgets/controls",
      "model_module_version": "1.4.0",
      "model_name": "HBoxModel",
      "state": {
       "children": [
        "IPY_MODEL_105fd1b07e244e62a63946816226bc0c",
        "IPY_MODEL_1e7d3b60b5d3452aaa7c6b623eb0b826"
       ],
       "layout": "IPY_MODEL_a42be05929034147904a08984bfba587"
      }
     },
     "fec65733025f4972a1ae50522c45fed4": {
      "model_module": "@jupyter-widgets/controls",
      "model_module_version": "1.4.0",
      "model_name": "DescriptionStyleModel",
      "state": {
       "description_width": "initial"
      }
     },
     "ff2da75441d845fe98b53ba81feabf6b": {
      "model_module": "@jupyter-widgets/base",
      "model_module_version": "1.1.0",
      "model_name": "LayoutModel",
      "state": {
       "width": "600px"
      }
     },
     "ff676867cfba4f93b25b17e0472f040f": {
      "model_module": "@jupyter-widgets/controls",
      "model_module_version": "1.4.0",
      "model_name": "ButtonStyleModel",
      "state": {}
     },
     "ff7038936f514d968f413f239d451979": {
      "model_module": "@jupyter-widgets/base",
      "model_module_version": "1.1.0",
      "model_name": "LayoutModel",
      "state": {}
     },
     "ff8ac564443046e5b1b4f053ad6dfcd6": {
      "model_module": "@jupyter-widgets/controls",
      "model_module_version": "1.4.0",
      "model_name": "ButtonStyleModel",
      "state": {
       "button_color": "lightgreen"
      }
     },
     "ffa0698fd53f4cbfabf73678e25bc4b4": {
      "model_module": "@jupyter-widgets/controls",
      "model_module_version": "1.4.0",
      "model_name": "HTMLModel",
      "state": {
       "layout": "IPY_MODEL_bb6842d5074445f88254114c6a3e9db2",
       "style": "IPY_MODEL_6fb39d03c8544b21a62f1d42fba268bf",
       "value": "<h4 style=\"font-size:14px;\">Was ist die Aufgabe des Viterbi-Algorithmus?</h4>"
      }
     },
     "ffac0126ade64cd0a614d5b42c453f05": {
      "model_module": "@jupyter-widgets/controls",
      "model_module_version": "1.4.0",
      "model_name": "HTMLModel",
      "state": {
       "layout": "IPY_MODEL_58945a5a23984322978f84a108712080",
       "style": "IPY_MODEL_32effacb158e4211809d4c1d4c7258e0",
       "value": "<i>Wählen Sie die <ins>eine</ins> korrekte Antwort aus: </i>"
      }
     },
     "ffe2024cbe6e4d74a172a5a70bb4b155": {
      "model_module": "@jupyter-widgets/base",
      "model_module_version": "1.1.0",
      "model_name": "LayoutModel",
      "state": {
       "width": "600px"
      }
     }
    },
    "version_major": 2,
    "version_minor": 0
   }
  }
 },
 "nbformat": 4,
 "nbformat_minor": 2
}
